{
 "cells": [
  {
   "cell_type": "code",
   "execution_count": 1,
   "id": "02c142ce-e8e1-4bd5-bc82-6c2b1649783c",
   "metadata": {},
   "outputs": [],
   "source": [
    "# Modify the file 00_setup.py to define input/output file paths on your system\n",
    "# The information in 00_setup.py will be used across notebooks\n",
    "from importlib.machinery import SourceFileLoader\n",
    "setup = SourceFileLoader(\"setup\", \"./00_setup.py\").load_module()"
   ]
  },
  {
   "cell_type": "markdown",
   "id": "73fba715-9dc4-42ea-b4d3-3e9fadf4adbe",
   "metadata": {},
   "source": [
    "## Performance Summaries\n",
    "Get metrics from different runs and combine"
   ]
  },
  {
   "cell_type": "code",
   "execution_count": 2,
   "id": "ebd8e9d9-30c0-4579-9bb0-29c64f97b404",
   "metadata": {},
   "outputs": [],
   "source": [
    "import numpy as np\n",
    "import pandas as pd\n",
    "import importlib"
   ]
  },
  {
   "cell_type": "code",
   "execution_count": 3,
   "id": "7463ea3b-0e94-47d2-9f96-64c697bf56b2",
   "metadata": {},
   "outputs": [],
   "source": [
    "from pathlib import Path"
   ]
  },
  {
   "cell_type": "code",
   "execution_count": 4,
   "id": "a184dd8d-ef74-4aac-9a56-1016cd5c8884",
   "metadata": {},
   "outputs": [],
   "source": [
    "import matplotlib.pyplot as plt\n",
    "import matplotlib.ticker as ticker"
   ]
  },
  {
   "cell_type": "code",
   "execution_count": 5,
   "id": "322cf9b1-5a3b-4673-b58b-6ffabbc754ab",
   "metadata": {},
   "outputs": [],
   "source": [
    "from sba_nn.sba_nn import sbnn_plot\n",
    "sbnn_plot.plot_defaults(style='seaborn-colorblind')"
   ]
  },
  {
   "cell_type": "markdown",
   "id": "0c427500-5775-4afc-8c99-8290885fa39c",
   "metadata": {},
   "source": [
    "## File Dictionaries"
   ]
  },
  {
   "cell_type": "markdown",
   "id": "ead8da18-941d-4955-b9df-c4f9cb326fcc",
   "metadata": {},
   "source": [
    "##### Initial embedding tests"
   ]
  },
  {
   "cell_type": "code",
   "execution_count": 6,
   "id": "10bae3a6-1f84-45da-973e-5fc733cfdf70",
   "metadata": {},
   "outputs": [],
   "source": [
    "dict_1_tests = {\n",
    "    'base': Path(setup.temp_path).joinpath('02_'),\n",
    "    'naics':  Path(setup.temp_path).joinpath('03_'),\n",
    "    'naics+hier':  Path(setup.temp_path).joinpath('04_'),\n",
    "    'naics data rand':  Path(setup.temp_path).joinpath('05_'),\n",
    "    'naics+hier data rand':  Path(setup.temp_path).joinpath('06_'),\n",
    "    'naics cust test': Path(setup.temp_path).joinpath('10_'),\n",
    "    'naics data gen': Path(setup.temp_path).joinpath('11_'),\n",
    "    'naics+hier data gen': Path(setup.temp_path).joinpath('12_')\n",
    "}"
   ]
  },
  {
   "cell_type": "markdown",
   "id": "8d3b691b-9403-429b-8196-82d24713c869",
   "metadata": {},
   "source": [
    "##### Loops over injection rate"
   ]
  },
  {
   "cell_type": "code",
   "execution_count": 7,
   "id": "34521235-afbf-4602-8fa0-e75dd391ccf4",
   "metadata": {},
   "outputs": [],
   "source": [
    "dict_2_rate_loop = {\n",
    "    'irloop naics+hier data gen': Path(setup.temp_path).joinpath('13_'),\n",
    "    'irloop naics data gen':  Path(setup.temp_path).joinpath('14_'),  \n",
    "    'ds irloop naics+hier data gen': Path(setup.temp_path).joinpath('26_'),\n",
    "    'ds irloop naics data gen':  Path(setup.temp_path).joinpath('27_'),  \n",
    "}"
   ]
  },
  {
   "cell_type": "markdown",
   "id": "9b7dd98f-262c-4130-a3a6-29c84bc8cf62",
   "metadata": {},
   "source": [
    "##### Downsample tests"
   ]
  },
  {
   "cell_type": "code",
   "execution_count": 8,
   "id": "87196dc1-d5cc-4712-92aa-bab2f36accd4",
   "metadata": {},
   "outputs": [],
   "source": [
    "dict_3_ds_tests = {\n",
    "    'ds naics': Path(setup.temp_path).joinpath('20_'),\n",
    "    'ds naics data rand':  Path(setup.temp_path).joinpath('21_'),\n",
    "    'ds naics data gen':  Path(setup.temp_path).joinpath('22_'),\n",
    "    'ds naics+hier':  Path(setup.temp_path).joinpath('23_'),\n",
    "    'ds naics+hier data rand':  Path(setup.temp_path).joinpath('24_'),\n",
    "    'ds naics+hier data gen': Path(setup.temp_path).joinpath('25_')\n",
    "}"
   ]
  },
  {
   "cell_type": "markdown",
   "id": "921ff3e7-bf77-4e39-860c-963f4c7d9747",
   "metadata": {},
   "source": [
    "##### Loops over downsample fractions"
   ]
  },
  {
   "cell_type": "code",
   "execution_count": 9,
   "id": "904f2d1f-c104-4b2a-b02b-6ad1cb81f12e",
   "metadata": {},
   "outputs": [],
   "source": [
    "dict_4_ds_loop = {\n",
    "    'dsloop naics': Path(setup.temp_path).joinpath('30_'),\n",
    "    'dsloop naics+hier':  Path(setup.temp_path).joinpath('31_'),\n",
    "    'dsloop naics data rand':  Path(setup.temp_path).joinpath('32_'),\n",
    "    'dsloop naics+hier data rand':  Path(setup.temp_path).joinpath('33_'),\n",
    "    'dsloop naics data gen':  Path(setup.temp_path).joinpath('34_'),\n",
    "    'dsloop naics+hier data gen': Path(setup.temp_path).joinpath('35_')\n",
    "}"
   ]
  },
  {
   "cell_type": "markdown",
   "id": "b703f0ed-4f7b-4e87-b66e-aac95b6fd5d4",
   "metadata": {},
   "source": [
    "## Metrics"
   ]
  },
  {
   "cell_type": "markdown",
   "id": "ea74a6ac-9a4b-4d2b-9a48-4e58c375682c",
   "metadata": {},
   "source": [
    "##### Test metrics (regular, downsampled)"
   ]
  },
  {
   "cell_type": "code",
   "execution_count": 10,
   "id": "80b66444-1629-4ec8-b593-149d389984cd",
   "metadata": {},
   "outputs": [],
   "source": [
    "test_dict_list = [dict_1_tests, dict_3_ds_tests]\n",
    "test_dict_all = {k: v for d in test_dict_list for k, v in d.items()}"
   ]
  },
  {
   "cell_type": "code",
   "execution_count": 11,
   "id": "0373bb3f-6c55-4794-91af-ef16241c615e",
   "metadata": {},
   "outputs": [],
   "source": [
    "test_dict_all_metrics= {k:v.parent / (v.name + 'REPORT_metrics.csv') for k, v in test_dict_all.items()}"
   ]
  },
  {
   "cell_type": "code",
   "execution_count": 12,
   "id": "d7b014b1-1e28-47a8-bc08-e61f945b4630",
   "metadata": {},
   "outputs": [],
   "source": [
    "test_set_metrics = pd.concat([pd.read_csv(v) for k, v in test_dict_all_metrics.items()],\n",
    "                        keys = test_dict_all_metrics.keys()) \\\n",
    "    .reset_index(level=0) \\\n",
    "    .drop(columns=['Unnamed: 0'], errors='ignore') \\\n",
    "    .rename(columns={'level_0':'model'})"
   ]
  },
  {
   "cell_type": "code",
   "execution_count": 13,
   "id": "76096108-bdef-4602-942f-887b58d2394e",
   "metadata": {},
   "outputs": [],
   "source": [
    "test_set_metrics.to_csv(Path(setup.temp_path).joinpath('40_REPORT_metrics_nonloop.csv'), index=False)\n",
    "test_set_metrics[(test_set_metrics['dset'] == 'test') &\n",
    "                (~(test_set_metrics['dset_naics_holdout'].isna()))] \\\n",
    "    .to_csv(Path(setup.temp_path).joinpath('40_REPORT_metrics_nonloop_test.csv'), index=False)"
   ]
  },
  {
   "cell_type": "code",
   "execution_count": 14,
   "id": "e1b32349-0892-4be6-8a0a-b9809d601cdd",
   "metadata": {},
   "outputs": [
    {
     "data": {
      "text/html": [
       "<div>\n",
       "<style scoped>\n",
       "    .dataframe tbody tr th:only-of-type {\n",
       "        vertical-align: middle;\n",
       "    }\n",
       "\n",
       "    .dataframe tbody tr th {\n",
       "        vertical-align: top;\n",
       "    }\n",
       "\n",
       "    .dataframe thead th {\n",
       "        text-align: right;\n",
       "    }\n",
       "</style>\n",
       "<table border=\"1\" class=\"dataframe\">\n",
       "  <thead>\n",
       "    <tr style=\"text-align: right;\">\n",
       "      <th></th>\n",
       "      <th>model</th>\n",
       "      <th>dset</th>\n",
       "      <th>accuracy_score</th>\n",
       "      <th>f1_score</th>\n",
       "      <th>precision_score</th>\n",
       "      <th>recall_score</th>\n",
       "      <th>average_precision_score</th>\n",
       "      <th>roc_auc_score</th>\n",
       "      <th>dset_naics_holdout</th>\n",
       "    </tr>\n",
       "  </thead>\n",
       "  <tbody>\n",
       "    <tr>\n",
       "      <th>4</th>\n",
       "      <td>naics+hier data gen</td>\n",
       "      <td>test</td>\n",
       "      <td>0.667965</td>\n",
       "      <td>0.454397</td>\n",
       "      <td>0.337824</td>\n",
       "      <td>0.693812</td>\n",
       "      <td>0.385357</td>\n",
       "      <td>0.739736</td>\n",
       "      <td>1.0</td>\n",
       "    </tr>\n",
       "    <tr>\n",
       "      <th>4</th>\n",
       "      <td>naics+hier data rand</td>\n",
       "      <td>test</td>\n",
       "      <td>0.666348</td>\n",
       "      <td>0.456108</td>\n",
       "      <td>0.337785</td>\n",
       "      <td>0.702016</td>\n",
       "      <td>0.381281</td>\n",
       "      <td>0.738753</td>\n",
       "      <td>1.0</td>\n",
       "    </tr>\n",
       "    <tr>\n",
       "      <th>4</th>\n",
       "      <td>naics+hier</td>\n",
       "      <td>test</td>\n",
       "      <td>0.548938</td>\n",
       "      <td>0.430542</td>\n",
       "      <td>0.287638</td>\n",
       "      <td>0.855634</td>\n",
       "      <td>0.363896</td>\n",
       "      <td>0.727930</td>\n",
       "      <td>1.0</td>\n",
       "    </tr>\n",
       "    <tr>\n",
       "      <th>4</th>\n",
       "      <td>base</td>\n",
       "      <td>test</td>\n",
       "      <td>0.621576</td>\n",
       "      <td>0.437015</td>\n",
       "      <td>0.310590</td>\n",
       "      <td>0.737017</td>\n",
       "      <td>0.353046</td>\n",
       "      <td>0.721018</td>\n",
       "      <td>1.0</td>\n",
       "    </tr>\n",
       "    <tr>\n",
       "      <th>4</th>\n",
       "      <td>naics data rand</td>\n",
       "      <td>test</td>\n",
       "      <td>0.659355</td>\n",
       "      <td>0.433432</td>\n",
       "      <td>0.324159</td>\n",
       "      <td>0.653836</td>\n",
       "      <td>0.352953</td>\n",
       "      <td>0.718785</td>\n",
       "      <td>1.0</td>\n",
       "    </tr>\n",
       "    <tr>\n",
       "      <th>4</th>\n",
       "      <td>naics data gen</td>\n",
       "      <td>test</td>\n",
       "      <td>0.607956</td>\n",
       "      <td>0.437327</td>\n",
       "      <td>0.306259</td>\n",
       "      <td>0.764511</td>\n",
       "      <td>0.352904</td>\n",
       "      <td>0.720349</td>\n",
       "      <td>1.0</td>\n",
       "    </tr>\n",
       "    <tr>\n",
       "      <th>4</th>\n",
       "      <td>naics cust test</td>\n",
       "      <td>test</td>\n",
       "      <td>0.537649</td>\n",
       "      <td>0.424242</td>\n",
       "      <td>0.282138</td>\n",
       "      <td>0.854761</td>\n",
       "      <td>0.349626</td>\n",
       "      <td>0.718901</td>\n",
       "      <td>1.0</td>\n",
       "    </tr>\n",
       "    <tr>\n",
       "      <th>4</th>\n",
       "      <td>naics</td>\n",
       "      <td>test</td>\n",
       "      <td>0.540746</td>\n",
       "      <td>0.426159</td>\n",
       "      <td>0.283730</td>\n",
       "      <td>0.855721</td>\n",
       "      <td>0.346411</td>\n",
       "      <td>0.718357</td>\n",
       "      <td>1.0</td>\n",
       "    </tr>\n",
       "  </tbody>\n",
       "</table>\n",
       "</div>"
      ],
      "text/plain": [
       "                  model  dset  accuracy_score  f1_score  precision_score  \\\n",
       "4   naics+hier data gen  test        0.667965  0.454397         0.337824   \n",
       "4  naics+hier data rand  test        0.666348  0.456108         0.337785   \n",
       "4            naics+hier  test        0.548938  0.430542         0.287638   \n",
       "4                  base  test        0.621576  0.437015         0.310590   \n",
       "4       naics data rand  test        0.659355  0.433432         0.324159   \n",
       "4        naics data gen  test        0.607956  0.437327         0.306259   \n",
       "4       naics cust test  test        0.537649  0.424242         0.282138   \n",
       "4                 naics  test        0.540746  0.426159         0.283730   \n",
       "\n",
       "   recall_score  average_precision_score  roc_auc_score  dset_naics_holdout  \n",
       "4      0.693812                 0.385357       0.739736                 1.0  \n",
       "4      0.702016                 0.381281       0.738753                 1.0  \n",
       "4      0.855634                 0.363896       0.727930                 1.0  \n",
       "4      0.737017                 0.353046       0.721018                 1.0  \n",
       "4      0.653836                 0.352953       0.718785                 1.0  \n",
       "4      0.764511                 0.352904       0.720349                 1.0  \n",
       "4      0.854761                 0.349626       0.718901                 1.0  \n",
       "4      0.855721                 0.346411       0.718357                 1.0  "
      ]
     },
     "execution_count": 14,
     "metadata": {},
     "output_type": "execute_result"
    }
   ],
   "source": [
    "test_set_metrics.to_csv(Path(setup.temp_path).joinpath('40_REPORT_metrics_nonloop.csv'), index=False)\n",
    "test_set_metrics[(test_set_metrics['dset'] == 'test') &\n",
    "                (test_set_metrics['dset_naics_holdout'] == 1) &\n",
    "                (~test_set_metrics['model'].str.startswith('ds '))] \\\n",
    "    .sort_values('average_precision_score', ascending=False)"
   ]
  },
  {
   "cell_type": "code",
   "execution_count": 15,
   "id": "14840b3e-e1db-4937-a535-ab3121c5d1b8",
   "metadata": {},
   "outputs": [
    {
     "data": {
      "text/html": [
       "<div>\n",
       "<style scoped>\n",
       "    .dataframe tbody tr th:only-of-type {\n",
       "        vertical-align: middle;\n",
       "    }\n",
       "\n",
       "    .dataframe tbody tr th {\n",
       "        vertical-align: top;\n",
       "    }\n",
       "\n",
       "    .dataframe thead th {\n",
       "        text-align: right;\n",
       "    }\n",
       "</style>\n",
       "<table border=\"1\" class=\"dataframe\">\n",
       "  <thead>\n",
       "    <tr style=\"text-align: right;\">\n",
       "      <th></th>\n",
       "      <th>model</th>\n",
       "      <th>dset</th>\n",
       "      <th>accuracy_score</th>\n",
       "      <th>f1_score</th>\n",
       "      <th>precision_score</th>\n",
       "      <th>recall_score</th>\n",
       "      <th>average_precision_score</th>\n",
       "      <th>roc_auc_score</th>\n",
       "      <th>dset_naics_holdout</th>\n",
       "    </tr>\n",
       "  </thead>\n",
       "  <tbody>\n",
       "    <tr>\n",
       "      <th>3</th>\n",
       "      <td>naics data gen</td>\n",
       "      <td>test</td>\n",
       "      <td>0.645615</td>\n",
       "      <td>0.447497</td>\n",
       "      <td>0.327483</td>\n",
       "      <td>0.706361</td>\n",
       "      <td>0.380296</td>\n",
       "      <td>0.727207</td>\n",
       "      <td>0.0</td>\n",
       "    </tr>\n",
       "    <tr>\n",
       "      <th>3</th>\n",
       "      <td>naics+hier</td>\n",
       "      <td>test</td>\n",
       "      <td>0.663918</td>\n",
       "      <td>0.446207</td>\n",
       "      <td>0.335390</td>\n",
       "      <td>0.666392</td>\n",
       "      <td>0.380095</td>\n",
       "      <td>0.726571</td>\n",
       "      <td>0.0</td>\n",
       "    </tr>\n",
       "    <tr>\n",
       "      <th>3</th>\n",
       "      <td>naics+hier data gen</td>\n",
       "      <td>test</td>\n",
       "      <td>0.657880</td>\n",
       "      <td>0.448441</td>\n",
       "      <td>0.333442</td>\n",
       "      <td>0.684522</td>\n",
       "      <td>0.379818</td>\n",
       "      <td>0.726954</td>\n",
       "      <td>0.0</td>\n",
       "    </tr>\n",
       "    <tr>\n",
       "      <th>3</th>\n",
       "      <td>naics+hier data rand</td>\n",
       "      <td>test</td>\n",
       "      <td>0.667152</td>\n",
       "      <td>0.446197</td>\n",
       "      <td>0.337033</td>\n",
       "      <td>0.659954</td>\n",
       "      <td>0.379570</td>\n",
       "      <td>0.726183</td>\n",
       "      <td>0.0</td>\n",
       "    </tr>\n",
       "    <tr>\n",
       "      <th>3</th>\n",
       "      <td>naics</td>\n",
       "      <td>test</td>\n",
       "      <td>0.658246</td>\n",
       "      <td>0.447250</td>\n",
       "      <td>0.333081</td>\n",
       "      <td>0.680505</td>\n",
       "      <td>0.379322</td>\n",
       "      <td>0.726497</td>\n",
       "      <td>0.0</td>\n",
       "    </tr>\n",
       "    <tr>\n",
       "      <th>3</th>\n",
       "      <td>naics data rand</td>\n",
       "      <td>test</td>\n",
       "      <td>0.665686</td>\n",
       "      <td>0.445767</td>\n",
       "      <td>0.336089</td>\n",
       "      <td>0.661705</td>\n",
       "      <td>0.378818</td>\n",
       "      <td>0.726329</td>\n",
       "      <td>0.0</td>\n",
       "    </tr>\n",
       "    <tr>\n",
       "      <th>3</th>\n",
       "      <td>naics cust test</td>\n",
       "      <td>test</td>\n",
       "      <td>0.652406</td>\n",
       "      <td>0.448357</td>\n",
       "      <td>0.330866</td>\n",
       "      <td>0.695236</td>\n",
       "      <td>0.378482</td>\n",
       "      <td>0.726526</td>\n",
       "      <td>0.0</td>\n",
       "    </tr>\n",
       "    <tr>\n",
       "      <th>3</th>\n",
       "      <td>base</td>\n",
       "      <td>test</td>\n",
       "      <td>0.600835</td>\n",
       "      <td>0.425687</td>\n",
       "      <td>0.300766</td>\n",
       "      <td>0.728097</td>\n",
       "      <td>0.338248</td>\n",
       "      <td>0.697015</td>\n",
       "      <td>0.0</td>\n",
       "    </tr>\n",
       "  </tbody>\n",
       "</table>\n",
       "</div>"
      ],
      "text/plain": [
       "                  model  dset  accuracy_score  f1_score  precision_score  \\\n",
       "3        naics data gen  test        0.645615  0.447497         0.327483   \n",
       "3            naics+hier  test        0.663918  0.446207         0.335390   \n",
       "3   naics+hier data gen  test        0.657880  0.448441         0.333442   \n",
       "3  naics+hier data rand  test        0.667152  0.446197         0.337033   \n",
       "3                 naics  test        0.658246  0.447250         0.333081   \n",
       "3       naics data rand  test        0.665686  0.445767         0.336089   \n",
       "3       naics cust test  test        0.652406  0.448357         0.330866   \n",
       "3                  base  test        0.600835  0.425687         0.300766   \n",
       "\n",
       "   recall_score  average_precision_score  roc_auc_score  dset_naics_holdout  \n",
       "3      0.706361                 0.380296       0.727207                 0.0  \n",
       "3      0.666392                 0.380095       0.726571                 0.0  \n",
       "3      0.684522                 0.379818       0.726954                 0.0  \n",
       "3      0.659954                 0.379570       0.726183                 0.0  \n",
       "3      0.680505                 0.379322       0.726497                 0.0  \n",
       "3      0.661705                 0.378818       0.726329                 0.0  \n",
       "3      0.695236                 0.378482       0.726526                 0.0  \n",
       "3      0.728097                 0.338248       0.697015                 0.0  "
      ]
     },
     "execution_count": 15,
     "metadata": {},
     "output_type": "execute_result"
    }
   ],
   "source": [
    "test_set_metrics.to_csv(Path(setup.temp_path).joinpath('40_REPORT_metrics_nonloop.csv'), index=False)\n",
    "test_set_metrics[(test_set_metrics['dset'] == 'test') &\n",
    "                (test_set_metrics['dset_naics_holdout'] == 0) &\n",
    "                (~test_set_metrics['model'].str.startswith('ds '))] \\\n",
    "    .sort_values('average_precision_score', ascending=False)"
   ]
  },
  {
   "cell_type": "code",
   "execution_count": 16,
   "id": "26fb4cce-a3ca-42f8-8b0c-94d5099ff098",
   "metadata": {},
   "outputs": [
    {
     "data": {
      "text/html": [
       "<div>\n",
       "<style scoped>\n",
       "    .dataframe tbody tr th:only-of-type {\n",
       "        vertical-align: middle;\n",
       "    }\n",
       "\n",
       "    .dataframe tbody tr th {\n",
       "        vertical-align: top;\n",
       "    }\n",
       "\n",
       "    .dataframe thead th {\n",
       "        text-align: right;\n",
       "    }\n",
       "</style>\n",
       "<table border=\"1\" class=\"dataframe\">\n",
       "  <thead>\n",
       "    <tr style=\"text-align: right;\">\n",
       "      <th></th>\n",
       "      <th>model</th>\n",
       "      <th>dset</th>\n",
       "      <th>accuracy_score</th>\n",
       "      <th>f1_score</th>\n",
       "      <th>precision_score</th>\n",
       "      <th>recall_score</th>\n",
       "      <th>average_precision_score</th>\n",
       "      <th>roc_auc_score</th>\n",
       "      <th>dset_naics_holdout</th>\n",
       "    </tr>\n",
       "  </thead>\n",
       "  <tbody>\n",
       "    <tr>\n",
       "      <th>4</th>\n",
       "      <td>ds naics+hier data gen</td>\n",
       "      <td>test</td>\n",
       "      <td>0.656572</td>\n",
       "      <td>0.448060</td>\n",
       "      <td>0.329591</td>\n",
       "      <td>0.699485</td>\n",
       "      <td>0.365265</td>\n",
       "      <td>0.727972</td>\n",
       "      <td>1.0</td>\n",
       "    </tr>\n",
       "    <tr>\n",
       "      <th>4</th>\n",
       "      <td>ds naics+hier data rand</td>\n",
       "      <td>test</td>\n",
       "      <td>0.645440</td>\n",
       "      <td>0.449289</td>\n",
       "      <td>0.325351</td>\n",
       "      <td>0.725757</td>\n",
       "      <td>0.363327</td>\n",
       "      <td>0.726720</td>\n",
       "      <td>1.0</td>\n",
       "    </tr>\n",
       "    <tr>\n",
       "      <th>4</th>\n",
       "      <td>ds naics+hier</td>\n",
       "      <td>test</td>\n",
       "      <td>0.596180</td>\n",
       "      <td>0.442513</td>\n",
       "      <td>0.305231</td>\n",
       "      <td>0.804224</td>\n",
       "      <td>0.348779</td>\n",
       "      <td>0.719503</td>\n",
       "      <td>1.0</td>\n",
       "    </tr>\n",
       "    <tr>\n",
       "      <th>4</th>\n",
       "      <td>ds naics data gen</td>\n",
       "      <td>test</td>\n",
       "      <td>0.615227</td>\n",
       "      <td>0.430971</td>\n",
       "      <td>0.305529</td>\n",
       "      <td>0.731169</td>\n",
       "      <td>0.339131</td>\n",
       "      <td>0.710802</td>\n",
       "      <td>1.0</td>\n",
       "    </tr>\n",
       "    <tr>\n",
       "      <th>4</th>\n",
       "      <td>ds naics data rand</td>\n",
       "      <td>test</td>\n",
       "      <td>0.587188</td>\n",
       "      <td>0.430768</td>\n",
       "      <td>0.296997</td>\n",
       "      <td>0.783800</td>\n",
       "      <td>0.332818</td>\n",
       "      <td>0.706708</td>\n",
       "      <td>1.0</td>\n",
       "    </tr>\n",
       "    <tr>\n",
       "      <th>4</th>\n",
       "      <td>ds naics</td>\n",
       "      <td>test</td>\n",
       "      <td>0.525769</td>\n",
       "      <td>0.420679</td>\n",
       "      <td>0.278023</td>\n",
       "      <td>0.864013</td>\n",
       "      <td>0.328941</td>\n",
       "      <td>0.706302</td>\n",
       "      <td>1.0</td>\n",
       "    </tr>\n",
       "  </tbody>\n",
       "</table>\n",
       "</div>"
      ],
      "text/plain": [
       "                     model  dset  accuracy_score  f1_score  precision_score  \\\n",
       "4   ds naics+hier data gen  test        0.656572  0.448060         0.329591   \n",
       "4  ds naics+hier data rand  test        0.645440  0.449289         0.325351   \n",
       "4            ds naics+hier  test        0.596180  0.442513         0.305231   \n",
       "4        ds naics data gen  test        0.615227  0.430971         0.305529   \n",
       "4       ds naics data rand  test        0.587188  0.430768         0.296997   \n",
       "4                 ds naics  test        0.525769  0.420679         0.278023   \n",
       "\n",
       "   recall_score  average_precision_score  roc_auc_score  dset_naics_holdout  \n",
       "4      0.699485                 0.365265       0.727972                 1.0  \n",
       "4      0.725757                 0.363327       0.726720                 1.0  \n",
       "4      0.804224                 0.348779       0.719503                 1.0  \n",
       "4      0.731169                 0.339131       0.710802                 1.0  \n",
       "4      0.783800                 0.332818       0.706708                 1.0  \n",
       "4      0.864013                 0.328941       0.706302                 1.0  "
      ]
     },
     "execution_count": 16,
     "metadata": {},
     "output_type": "execute_result"
    }
   ],
   "source": [
    "test_set_metrics.to_csv(Path(setup.temp_path).joinpath('40_REPORT_metrics_nonloop.csv'), index=False)\n",
    "test_set_metrics[(test_set_metrics['dset'] == 'test') &\n",
    "                (test_set_metrics['dset_naics_holdout'] == 1) &\n",
    "                (test_set_metrics['model'].str.startswith('ds '))] \\\n",
    "    .sort_values('average_precision_score', ascending=False)"
   ]
  },
  {
   "cell_type": "markdown",
   "id": "aea845cc-2496-4a5f-bb6e-1938983e7a78",
   "metadata": {},
   "source": [
    "## Downsample Loop\n",
    "Plot.   2 rows - NAICS only, NAICS+hier.  2 columns - test and holdout.   3 lines per plot (unmodified data, fixed rand, generator rand).  "
   ]
  },
  {
   "cell_type": "code",
   "execution_count": 17,
   "id": "98621c37-224c-4a05-b6b6-3cb89b28ee94",
   "metadata": {},
   "outputs": [],
   "source": [
    "ds_metrics_dict = {k:v.parent / (v.name + 'REPORT_loop_metrics.csv') for k, v in dict_4_ds_loop.items()}"
   ]
  },
  {
   "cell_type": "code",
   "execution_count": 18,
   "id": "54ef5722-8523-46e8-9ffe-4c86dc7ed480",
   "metadata": {},
   "outputs": [],
   "source": [
    "ds_metrics = pd.concat([pd.read_csv(v) for k, v in ds_metrics_dict.items()],\n",
    "                        keys = ds_metrics_dict.keys()) \\\n",
    "    .reset_index(level=0) \\\n",
    "    .drop(columns=['Unnamed: 0'], errors='ignore') \\\n",
    "    .rename(columns={'level_0':'model'})"
   ]
  },
  {
   "cell_type": "code",
   "execution_count": 19,
   "id": "c6b66bb3-c7df-432c-9228-63ab73cf08b1",
   "metadata": {},
   "outputs": [
    {
     "data": {
      "text/plain": [
       "model\n",
       "dsloop naics                   45\n",
       "dsloop naics+hier              45\n",
       "dsloop naics data rand         45\n",
       "dsloop naics+hier data rand    45\n",
       "dsloop naics data gen          45\n",
       "dsloop naics+hier data gen     45\n",
       "Name: count, dtype: int64"
      ]
     },
     "execution_count": 19,
     "metadata": {},
     "output_type": "execute_result"
    }
   ],
   "source": [
    "ds_metrics['model'].value_counts()"
   ]
  },
  {
   "cell_type": "code",
   "execution_count": 20,
   "id": "f23c515a-0f49-4a40-8a50-9748a3f5394c",
   "metadata": {},
   "outputs": [],
   "source": [
    "# Feature - data treatment\n",
    "cond = [ds_metrics['model'].str.contains('data rand'),\n",
    "        ds_metrics['model'].str.contains('data gen')]\n",
    "choice = ['fixed randomization', 'shuffle randomization']\n",
    "ds_metrics['data_treatment'] = np.select(cond, choice, 'unmodified data')"
   ]
  },
  {
   "cell_type": "code",
   "execution_count": 21,
   "id": "cdda121e-23d9-4999-97d1-f203a7f43ed7",
   "metadata": {},
   "outputs": [
    {
     "data": {
      "text/html": [
       "<div>\n",
       "<style scoped>\n",
       "    .dataframe tbody tr th:only-of-type {\n",
       "        vertical-align: middle;\n",
       "    }\n",
       "\n",
       "    .dataframe tbody tr th {\n",
       "        vertical-align: top;\n",
       "    }\n",
       "\n",
       "    .dataframe thead th {\n",
       "        text-align: right;\n",
       "    }\n",
       "</style>\n",
       "<table border=\"1\" class=\"dataframe\">\n",
       "  <thead>\n",
       "    <tr style=\"text-align: right;\">\n",
       "      <th>data_treatment</th>\n",
       "      <th>fixed randomization</th>\n",
       "      <th>shuffle randomization</th>\n",
       "      <th>unmodified data</th>\n",
       "    </tr>\n",
       "    <tr>\n",
       "      <th>model</th>\n",
       "      <th></th>\n",
       "      <th></th>\n",
       "      <th></th>\n",
       "    </tr>\n",
       "  </thead>\n",
       "  <tbody>\n",
       "    <tr>\n",
       "      <th>dsloop naics</th>\n",
       "      <td>0</td>\n",
       "      <td>0</td>\n",
       "      <td>45</td>\n",
       "    </tr>\n",
       "    <tr>\n",
       "      <th>dsloop naics data gen</th>\n",
       "      <td>0</td>\n",
       "      <td>45</td>\n",
       "      <td>0</td>\n",
       "    </tr>\n",
       "    <tr>\n",
       "      <th>dsloop naics data rand</th>\n",
       "      <td>45</td>\n",
       "      <td>0</td>\n",
       "      <td>0</td>\n",
       "    </tr>\n",
       "    <tr>\n",
       "      <th>dsloop naics+hier</th>\n",
       "      <td>0</td>\n",
       "      <td>0</td>\n",
       "      <td>45</td>\n",
       "    </tr>\n",
       "    <tr>\n",
       "      <th>dsloop naics+hier data gen</th>\n",
       "      <td>0</td>\n",
       "      <td>45</td>\n",
       "      <td>0</td>\n",
       "    </tr>\n",
       "    <tr>\n",
       "      <th>dsloop naics+hier data rand</th>\n",
       "      <td>45</td>\n",
       "      <td>0</td>\n",
       "      <td>0</td>\n",
       "    </tr>\n",
       "  </tbody>\n",
       "</table>\n",
       "</div>"
      ],
      "text/plain": [
       "data_treatment               fixed randomization  shuffle randomization  \\\n",
       "model                                                                     \n",
       "dsloop naics                                   0                      0   \n",
       "dsloop naics data gen                          0                     45   \n",
       "dsloop naics data rand                        45                      0   \n",
       "dsloop naics+hier                              0                      0   \n",
       "dsloop naics+hier data gen                     0                     45   \n",
       "dsloop naics+hier data rand                   45                      0   \n",
       "\n",
       "data_treatment               unmodified data  \n",
       "model                                         \n",
       "dsloop naics                              45  \n",
       "dsloop naics data gen                      0  \n",
       "dsloop naics data rand                     0  \n",
       "dsloop naics+hier                         45  \n",
       "dsloop naics+hier data gen                 0  \n",
       "dsloop naics+hier data rand                0  "
      ]
     },
     "execution_count": 21,
     "metadata": {},
     "output_type": "execute_result"
    }
   ],
   "source": [
    "pd.crosstab(ds_metrics['model'], ds_metrics['data_treatment'])"
   ]
  },
  {
   "cell_type": "code",
   "execution_count": 22,
   "id": "d1f42c17-fc94-4025-9df8-268635e499b5",
   "metadata": {},
   "outputs": [],
   "source": [
    "# Feature - NAICS only vs NAICS+hieararchy\n",
    "ds_metrics['hier_flag'] = np.where(ds_metrics['model'].str.contains('hier'), 1, 0)"
   ]
  },
  {
   "cell_type": "code",
   "execution_count": 23,
   "id": "cbc1fcd4-647e-44e0-87d5-fd0f8218ef31",
   "metadata": {},
   "outputs": [
    {
     "data": {
      "text/html": [
       "<div>\n",
       "<style scoped>\n",
       "    .dataframe tbody tr th:only-of-type {\n",
       "        vertical-align: middle;\n",
       "    }\n",
       "\n",
       "    .dataframe tbody tr th {\n",
       "        vertical-align: top;\n",
       "    }\n",
       "\n",
       "    .dataframe thead th {\n",
       "        text-align: right;\n",
       "    }\n",
       "</style>\n",
       "<table border=\"1\" class=\"dataframe\">\n",
       "  <thead>\n",
       "    <tr style=\"text-align: right;\">\n",
       "      <th>hier_flag</th>\n",
       "      <th>0</th>\n",
       "      <th>1</th>\n",
       "    </tr>\n",
       "    <tr>\n",
       "      <th>model</th>\n",
       "      <th></th>\n",
       "      <th></th>\n",
       "    </tr>\n",
       "  </thead>\n",
       "  <tbody>\n",
       "    <tr>\n",
       "      <th>dsloop naics</th>\n",
       "      <td>45</td>\n",
       "      <td>0</td>\n",
       "    </tr>\n",
       "    <tr>\n",
       "      <th>dsloop naics data gen</th>\n",
       "      <td>45</td>\n",
       "      <td>0</td>\n",
       "    </tr>\n",
       "    <tr>\n",
       "      <th>dsloop naics data rand</th>\n",
       "      <td>45</td>\n",
       "      <td>0</td>\n",
       "    </tr>\n",
       "    <tr>\n",
       "      <th>dsloop naics+hier</th>\n",
       "      <td>0</td>\n",
       "      <td>45</td>\n",
       "    </tr>\n",
       "    <tr>\n",
       "      <th>dsloop naics+hier data gen</th>\n",
       "      <td>0</td>\n",
       "      <td>45</td>\n",
       "    </tr>\n",
       "    <tr>\n",
       "      <th>dsloop naics+hier data rand</th>\n",
       "      <td>0</td>\n",
       "      <td>45</td>\n",
       "    </tr>\n",
       "  </tbody>\n",
       "</table>\n",
       "</div>"
      ],
      "text/plain": [
       "hier_flag                     0   1\n",
       "model                              \n",
       "dsloop naics                 45   0\n",
       "dsloop naics data gen        45   0\n",
       "dsloop naics data rand       45   0\n",
       "dsloop naics+hier             0  45\n",
       "dsloop naics+hier data gen    0  45\n",
       "dsloop naics+hier data rand   0  45"
      ]
     },
     "execution_count": 23,
     "metadata": {},
     "output_type": "execute_result"
    }
   ],
   "source": [
    "pd.crosstab(ds_metrics['model'], ds_metrics['hier_flag'])"
   ]
  },
  {
   "cell_type": "code",
   "execution_count": 24,
   "id": "07612ffe-fa9c-487f-b85c-9fa763d7855c",
   "metadata": {},
   "outputs": [],
   "source": [
    "ds_metrics.to_csv(Path(setup.temp_path).joinpath('40_REPORT_metrics_loop_downsample.csv'), index=False)"
   ]
  },
  {
   "cell_type": "markdown",
   "id": "f251b557-39b8-41b4-bf84-5b12741751f5",
   "metadata": {},
   "source": [
    "##### Plot\n",
    "I didn't record the sizes for all tests but they should all be the same (or very similar)"
   ]
  },
  {
   "cell_type": "code",
   "execution_count": 25,
   "id": "0d46aa3f-31c4-4e1c-a48b-fb57641fa4cc",
   "metadata": {},
   "outputs": [],
   "source": [
    "ds_metrics_test = ds_metrics[~ds_metrics['dset_naics_holdout'].isna()]"
   ]
  },
  {
   "cell_type": "code",
   "execution_count": 26,
   "id": "8ae60fbd-4500-4266-8bf9-aaaebd98121e",
   "metadata": {},
   "outputs": [
    {
     "data": {
      "text/html": [
       "<div>\n",
       "<style scoped>\n",
       "    .dataframe tbody tr th:only-of-type {\n",
       "        vertical-align: middle;\n",
       "    }\n",
       "\n",
       "    .dataframe tbody tr th {\n",
       "        vertical-align: top;\n",
       "    }\n",
       "\n",
       "    .dataframe thead th {\n",
       "        text-align: right;\n",
       "    }\n",
       "</style>\n",
       "<table border=\"1\" class=\"dataframe\">\n",
       "  <thead>\n",
       "    <tr style=\"text-align: right;\">\n",
       "      <th></th>\n",
       "      <th>model</th>\n",
       "      <th>average_precision_score</th>\n",
       "      <th>dset_naics_holdout</th>\n",
       "      <th>hier_flag</th>\n",
       "      <th>data_treatment</th>\n",
       "    </tr>\n",
       "  </thead>\n",
       "  <tbody>\n",
       "    <tr>\n",
       "      <th>38</th>\n",
       "      <td>dsloop naics</td>\n",
       "      <td>0.377062</td>\n",
       "      <td>0.0</td>\n",
       "      <td>0</td>\n",
       "      <td>unmodified data</td>\n",
       "    </tr>\n",
       "    <tr>\n",
       "      <th>38</th>\n",
       "      <td>dsloop naics data rand</td>\n",
       "      <td>0.378691</td>\n",
       "      <td>0.0</td>\n",
       "      <td>0</td>\n",
       "      <td>fixed randomization</td>\n",
       "    </tr>\n",
       "    <tr>\n",
       "      <th>38</th>\n",
       "      <td>dsloop naics data gen</td>\n",
       "      <td>0.380609</td>\n",
       "      <td>0.0</td>\n",
       "      <td>0</td>\n",
       "      <td>shuffle randomization</td>\n",
       "    </tr>\n",
       "    <tr>\n",
       "      <th>38</th>\n",
       "      <td>dsloop naics+hier</td>\n",
       "      <td>0.380598</td>\n",
       "      <td>0.0</td>\n",
       "      <td>1</td>\n",
       "      <td>unmodified data</td>\n",
       "    </tr>\n",
       "    <tr>\n",
       "      <th>38</th>\n",
       "      <td>dsloop naics+hier data rand</td>\n",
       "      <td>0.378425</td>\n",
       "      <td>0.0</td>\n",
       "      <td>1</td>\n",
       "      <td>fixed randomization</td>\n",
       "    </tr>\n",
       "    <tr>\n",
       "      <th>38</th>\n",
       "      <td>dsloop naics+hier data gen</td>\n",
       "      <td>0.381015</td>\n",
       "      <td>0.0</td>\n",
       "      <td>1</td>\n",
       "      <td>shuffle randomization</td>\n",
       "    </tr>\n",
       "    <tr>\n",
       "      <th>39</th>\n",
       "      <td>dsloop naics</td>\n",
       "      <td>0.348513</td>\n",
       "      <td>1.0</td>\n",
       "      <td>0</td>\n",
       "      <td>unmodified data</td>\n",
       "    </tr>\n",
       "    <tr>\n",
       "      <th>39</th>\n",
       "      <td>dsloop naics data rand</td>\n",
       "      <td>0.348434</td>\n",
       "      <td>1.0</td>\n",
       "      <td>0</td>\n",
       "      <td>fixed randomization</td>\n",
       "    </tr>\n",
       "    <tr>\n",
       "      <th>39</th>\n",
       "      <td>dsloop naics data gen</td>\n",
       "      <td>0.353664</td>\n",
       "      <td>1.0</td>\n",
       "      <td>0</td>\n",
       "      <td>shuffle randomization</td>\n",
       "    </tr>\n",
       "    <tr>\n",
       "      <th>39</th>\n",
       "      <td>dsloop naics+hier</td>\n",
       "      <td>0.373376</td>\n",
       "      <td>1.0</td>\n",
       "      <td>1</td>\n",
       "      <td>unmodified data</td>\n",
       "    </tr>\n",
       "    <tr>\n",
       "      <th>39</th>\n",
       "      <td>dsloop naics+hier data rand</td>\n",
       "      <td>0.382847</td>\n",
       "      <td>1.0</td>\n",
       "      <td>1</td>\n",
       "      <td>fixed randomization</td>\n",
       "    </tr>\n",
       "    <tr>\n",
       "      <th>39</th>\n",
       "      <td>dsloop naics+hier data gen</td>\n",
       "      <td>0.384249</td>\n",
       "      <td>1.0</td>\n",
       "      <td>1</td>\n",
       "      <td>shuffle randomization</td>\n",
       "    </tr>\n",
       "  </tbody>\n",
       "</table>\n",
       "</div>"
      ],
      "text/plain": [
       "                          model  average_precision_score  dset_naics_holdout  \\\n",
       "38                 dsloop naics                 0.377062                 0.0   \n",
       "38       dsloop naics data rand                 0.378691                 0.0   \n",
       "38        dsloop naics data gen                 0.380609                 0.0   \n",
       "38            dsloop naics+hier                 0.380598                 0.0   \n",
       "38  dsloop naics+hier data rand                 0.378425                 0.0   \n",
       "38   dsloop naics+hier data gen                 0.381015                 0.0   \n",
       "39                 dsloop naics                 0.348513                 1.0   \n",
       "39       dsloop naics data rand                 0.348434                 1.0   \n",
       "39        dsloop naics data gen                 0.353664                 1.0   \n",
       "39            dsloop naics+hier                 0.373376                 1.0   \n",
       "39  dsloop naics+hier data rand                 0.382847                 1.0   \n",
       "39   dsloop naics+hier data gen                 0.384249                 1.0   \n",
       "\n",
       "    hier_flag         data_treatment  \n",
       "38          0        unmodified data  \n",
       "38          0    fixed randomization  \n",
       "38          0  shuffle randomization  \n",
       "38          1        unmodified data  \n",
       "38          1    fixed randomization  \n",
       "38          1  shuffle randomization  \n",
       "39          0        unmodified data  \n",
       "39          0    fixed randomization  \n",
       "39          0  shuffle randomization  \n",
       "39          1        unmodified data  \n",
       "39          1    fixed randomization  \n",
       "39          1  shuffle randomization  "
      ]
     },
     "execution_count": 26,
     "metadata": {},
     "output_type": "execute_result"
    }
   ],
   "source": [
    "ds_metrics_test[ds_metrics_test['rate'] == 0.95][['model', 'average_precision_score', 'dset_naics_holdout',\n",
    "                                                  'hier_flag', 'data_treatment']] \\\n",
    "    .sort_values(['dset_naics_holdout', 'hier_flag'])"
   ]
  },
  {
   "cell_type": "code",
   "execution_count": 27,
   "id": "5283ec73-5564-450e-b550-4fc2467566cb",
   "metadata": {},
   "outputs": [
    {
     "data": {
      "text/html": [
       "<div>\n",
       "<style scoped>\n",
       "    .dataframe tbody tr th:only-of-type {\n",
       "        vertical-align: middle;\n",
       "    }\n",
       "\n",
       "    .dataframe tbody tr th {\n",
       "        vertical-align: top;\n",
       "    }\n",
       "\n",
       "    .dataframe thead th {\n",
       "        text-align: right;\n",
       "    }\n",
       "</style>\n",
       "<table border=\"1\" class=\"dataframe\">\n",
       "  <thead>\n",
       "    <tr style=\"text-align: right;\">\n",
       "      <th>model</th>\n",
       "      <th>dsloop naics</th>\n",
       "      <th>dsloop naics data gen</th>\n",
       "      <th>dsloop naics data rand</th>\n",
       "      <th>dsloop naics+hier</th>\n",
       "      <th>dsloop naics+hier data gen</th>\n",
       "      <th>dsloop naics+hier data rand</th>\n",
       "    </tr>\n",
       "    <tr>\n",
       "      <th>rate</th>\n",
       "      <th></th>\n",
       "      <th></th>\n",
       "      <th></th>\n",
       "      <th></th>\n",
       "      <th></th>\n",
       "      <th></th>\n",
       "    </tr>\n",
       "  </thead>\n",
       "  <tbody>\n",
       "    <tr>\n",
       "      <th>0.01</th>\n",
       "      <td>4468.0</td>\n",
       "      <td>4468.0</td>\n",
       "      <td>NaN</td>\n",
       "      <td>NaN</td>\n",
       "      <td>4468.0</td>\n",
       "      <td>NaN</td>\n",
       "    </tr>\n",
       "    <tr>\n",
       "      <th>0.05</th>\n",
       "      <td>22342.0</td>\n",
       "      <td>22342.0</td>\n",
       "      <td>NaN</td>\n",
       "      <td>NaN</td>\n",
       "      <td>22342.0</td>\n",
       "      <td>NaN</td>\n",
       "    </tr>\n",
       "    <tr>\n",
       "      <th>0.10</th>\n",
       "      <td>44684.0</td>\n",
       "      <td>44684.0</td>\n",
       "      <td>NaN</td>\n",
       "      <td>NaN</td>\n",
       "      <td>44684.0</td>\n",
       "      <td>NaN</td>\n",
       "    </tr>\n",
       "    <tr>\n",
       "      <th>0.20</th>\n",
       "      <td>89369.0</td>\n",
       "      <td>89369.0</td>\n",
       "      <td>NaN</td>\n",
       "      <td>NaN</td>\n",
       "      <td>89369.0</td>\n",
       "      <td>NaN</td>\n",
       "    </tr>\n",
       "    <tr>\n",
       "      <th>0.40</th>\n",
       "      <td>178739.0</td>\n",
       "      <td>178739.0</td>\n",
       "      <td>NaN</td>\n",
       "      <td>NaN</td>\n",
       "      <td>178739.0</td>\n",
       "      <td>NaN</td>\n",
       "    </tr>\n",
       "    <tr>\n",
       "      <th>0.70</th>\n",
       "      <td>312793.0</td>\n",
       "      <td>312793.0</td>\n",
       "      <td>NaN</td>\n",
       "      <td>NaN</td>\n",
       "      <td>312793.0</td>\n",
       "      <td>NaN</td>\n",
       "    </tr>\n",
       "    <tr>\n",
       "      <th>0.90</th>\n",
       "      <td>402163.0</td>\n",
       "      <td>402163.0</td>\n",
       "      <td>NaN</td>\n",
       "      <td>NaN</td>\n",
       "      <td>402163.0</td>\n",
       "      <td>NaN</td>\n",
       "    </tr>\n",
       "    <tr>\n",
       "      <th>0.95</th>\n",
       "      <td>424505.0</td>\n",
       "      <td>424505.0</td>\n",
       "      <td>NaN</td>\n",
       "      <td>NaN</td>\n",
       "      <td>424505.0</td>\n",
       "      <td>NaN</td>\n",
       "    </tr>\n",
       "    <tr>\n",
       "      <th>0.99</th>\n",
       "      <td>442379.0</td>\n",
       "      <td>442379.0</td>\n",
       "      <td>NaN</td>\n",
       "      <td>NaN</td>\n",
       "      <td>442379.0</td>\n",
       "      <td>NaN</td>\n",
       "    </tr>\n",
       "  </tbody>\n",
       "</table>\n",
       "</div>"
      ],
      "text/plain": [
       "model  dsloop naics  dsloop naics data gen  dsloop naics data rand  \\\n",
       "rate                                                                 \n",
       "0.01         4468.0                 4468.0                     NaN   \n",
       "0.05        22342.0                22342.0                     NaN   \n",
       "0.10        44684.0                44684.0                     NaN   \n",
       "0.20        89369.0                89369.0                     NaN   \n",
       "0.40       178739.0               178739.0                     NaN   \n",
       "0.70       312793.0               312793.0                     NaN   \n",
       "0.90       402163.0               402163.0                     NaN   \n",
       "0.95       424505.0               424505.0                     NaN   \n",
       "0.99       442379.0               442379.0                     NaN   \n",
       "\n",
       "model  dsloop naics+hier  dsloop naics+hier data gen  \\\n",
       "rate                                                   \n",
       "0.01                 NaN                      4468.0   \n",
       "0.05                 NaN                     22342.0   \n",
       "0.10                 NaN                     44684.0   \n",
       "0.20                 NaN                     89369.0   \n",
       "0.40                 NaN                    178739.0   \n",
       "0.70                 NaN                    312793.0   \n",
       "0.90                 NaN                    402163.0   \n",
       "0.95                 NaN                    424505.0   \n",
       "0.99                 NaN                    442379.0   \n",
       "\n",
       "model  dsloop naics+hier data rand  \n",
       "rate                                \n",
       "0.01                           NaN  \n",
       "0.05                           NaN  \n",
       "0.10                           NaN  \n",
       "0.20                           NaN  \n",
       "0.40                           NaN  \n",
       "0.70                           NaN  \n",
       "0.90                           NaN  \n",
       "0.95                           NaN  \n",
       "0.99                           NaN  "
      ]
     },
     "execution_count": 27,
     "metadata": {},
     "output_type": "execute_result"
    }
   ],
   "source": [
    "ds_metrics_test[['rate', 'train_size', 'model']].drop_duplicates() \\\n",
    "    .pivot(index='rate', columns='model', values='train_size')"
   ]
  },
  {
   "cell_type": "code",
   "execution_count": 28,
   "id": "79a2048a-b1e0-4d0e-ba2d-e2e54e912095",
   "metadata": {},
   "outputs": [],
   "source": [
    "ds_sizes = ds_metrics_test[~ds_metrics_test['train_size'].isna()] \\\n",
    "    [['rate', 'train_size']] \\\n",
    "    .drop_duplicates('rate')"
   ]
  },
  {
   "cell_type": "code",
   "execution_count": 29,
   "id": "d93e8973-72a9-4f9b-8740-a1935595d699",
   "metadata": {},
   "outputs": [],
   "source": [
    "ds_metrics_test = ds_metrics_test.drop(columns='train_size') \\\n",
    "    .merge(ds_sizes, on='rate')"
   ]
  },
  {
   "cell_type": "code",
   "execution_count": 30,
   "id": "1ac52220-9b2f-414b-8245-a76e42751e78",
   "metadata": {},
   "outputs": [],
   "source": [
    "ds_metrics_test_pivot = ds_metrics_test \\\n",
    "    .pivot(index=['train_size', 'hier_flag', 'dset_naics_holdout'], \n",
    "           columns='data_treatment', values='average_precision_score') "
   ]
  },
  {
   "cell_type": "code",
   "execution_count": 31,
   "id": "71d995e9-9e60-4116-9fec-3220cd40b9b4",
   "metadata": {},
   "outputs": [],
   "source": [
    "ds_metrics_test_pivot = ds_metrics_test_pivot[['unmodified data', 'fixed randomization', 'shuffle randomization']]"
   ]
  },
  {
   "cell_type": "code",
   "execution_count": 32,
   "id": "d4706f3f-4f15-4df7-b21d-5982195990ed",
   "metadata": {},
   "outputs": [],
   "source": [
    "ds_metrics_test_pivot.reset_index(level=[1,2], inplace=True)"
   ]
  },
  {
   "cell_type": "code",
   "execution_count": 33,
   "id": "171c81c2-2227-4aa2-94b5-c943897e2ead",
   "metadata": {},
   "outputs": [],
   "source": [
    "groups = ds_metrics_test_pivot.groupby(['hier_flag', 'dset_naics_holdout'])"
   ]
  },
  {
   "cell_type": "code",
   "execution_count": 55,
   "id": "cf0ea7fe-dcdc-4dee-b1f1-96ae0634ea94",
   "metadata": {},
   "outputs": [
    {
     "data": {
      "image/png": "[encoded data removed]",
      "text/plain": [
       "<Figure size 1100x600 with 4 Axes>"
      ]
     },
     "metadata": {},
     "output_type": "display_data"
    }
   ],
   "source": [
    "fig, ax = plt.subplots(2, 2, sharex=True, sharey=True, figsize=(11,6))\n",
    "for n, g in groups:\n",
    "    g[['unmodified data', 'fixed randomization', 'shuffle randomization']].plot(ax=ax[int(n[0]), int(n[1])])\n",
    "    ax[int(n[0]), int(n[1])].legend().set_visible(False)\n",
    "    ax[int(n[0]), int(n[1])].set_xlabel(None)\n",
    "    \n",
    "ax[0, 0].set_ylim(0.32, 0.39)\n",
    "ax[0, 0].margins(tight=True)\n",
    "#ax[0, 0].set_ymargin(0)\n",
    "ax[0,0].set_title('test dataset')\n",
    "ax[0,1].set_title('holdout dataset')\n",
    "ax[0,0].set_ylabel('NAICS only'\n",
    "                  )\n",
    "ax[1,0].set_ylabel('NAICS+hierarchy')\n",
    "fig.supxlabel('training case count')\n",
    "fig.supylabel('PR-AUC')\n",
    "ax[0,0].legend(title=None).set_visible(True)\n",
    "plt.subplots_adjust(wspace=0.05, hspace=0.17, bottom=0.1, left=0.12)\n",
    "ticks_x = ticker.FuncFormatter(lambda x, pos: '{0:g} k'.format(x/1000))\n",
    "ax[0,0].xaxis.set_major_formatter(ticks_x)\n",
    "fig.savefig(Path(setup.temp_path).joinpath('40_PLOT_downsample_comparison.png'),\n",
    "        bbox_inches='tight')"
   ]
  },
  {
   "cell_type": "markdown",
   "id": "f8c87e96-8d0d-40ee-ad9f-0b8a597b6d53",
   "metadata": {},
   "source": [
    "##### Count max results"
   ]
  },
  {
   "cell_type": "code",
   "execution_count": 35,
   "id": "0d04300b-523f-42e4-8f3f-56aaa7534a9c",
   "metadata": {},
   "outputs": [],
   "source": [
    "winners_df = ds_metrics_test \\\n",
    "    .sort_values(['hier_flag', 'dset_naics_holdout', 'rate', 'average_precision_score'],\n",
    "                ascending=[True, True, True, False]) \\\n",
    "    .groupby(['hier_flag', 'dset_naics_holdout', 'rate']) \\\n",
    "    .head(1) "
   ]
  },
  {
   "cell_type": "code",
   "execution_count": 36,
   "id": "497df71d-8f0e-46d3-823f-7cb88a2cde7a",
   "metadata": {},
   "outputs": [
    {
     "data": {
      "text/plain": [
       "data_treatment\n",
       "shuffle randomization    24\n",
       "unmodified data           7\n",
       "fixed randomization       5\n",
       "Name: count, dtype: int64"
      ]
     },
     "execution_count": 36,
     "metadata": {},
     "output_type": "execute_result"
    }
   ],
   "source": [
    "count_winners = winners_df['data_treatment'].value_counts()\n",
    "count_winners"
   ]
  },
  {
   "cell_type": "code",
   "execution_count": 37,
   "id": "35ad2b77-ea6d-44fa-ad7b-ab3591418302",
   "metadata": {},
   "outputs": [
    {
     "data": {
      "text/plain": [
       "data_treatment\n",
       "shuffle randomization    25\n",
       "unmodified data           6\n",
       "fixed randomization       5\n",
       "Name: count, dtype: int64"
      ]
     },
     "execution_count": 37,
     "metadata": {},
     "output_type": "execute_result"
    }
   ],
   "source": [
    "# Quick roc score\n",
    "ds_metrics_test \\\n",
    "    .sort_values(['hier_flag', 'dset_naics_holdout', 'rate', 'roc_auc_score'],\n",
    "                ascending=[True, True, True, False]) \\\n",
    "    .groupby(['hier_flag', 'dset_naics_holdout', 'rate']) \\\n",
    "    .head(1) \\\n",
    "    ['data_treatment'] \\\n",
    "    .value_counts()"
   ]
  },
  {
   "cell_type": "code",
   "execution_count": 38,
   "id": "14188765-9c6a-4497-b45c-07efbf176ba2",
   "metadata": {},
   "outputs": [],
   "source": [
    "count_winners.to_frame() \\\n",
    "    .to_csv(Path(setup.temp_path).joinpath('40_REPORT_downsample_winners.csv'))"
   ]
  },
  {
   "cell_type": "code",
   "execution_count": 39,
   "id": "b586ac63-e867-415d-af70-03de13443262",
   "metadata": {},
   "outputs": [
    {
     "data": {
      "text/html": [
       "<div>\n",
       "<style scoped>\n",
       "    .dataframe tbody tr th:only-of-type {\n",
       "        vertical-align: middle;\n",
       "    }\n",
       "\n",
       "    .dataframe tbody tr th {\n",
       "        vertical-align: top;\n",
       "    }\n",
       "\n",
       "    .dataframe thead th {\n",
       "        text-align: right;\n",
       "    }\n",
       "</style>\n",
       "<table border=\"1\" class=\"dataframe\">\n",
       "  <thead>\n",
       "    <tr style=\"text-align: right;\">\n",
       "      <th>rate</th>\n",
       "      <th>0.01</th>\n",
       "      <th>0.05</th>\n",
       "      <th>0.10</th>\n",
       "      <th>0.20</th>\n",
       "      <th>0.40</th>\n",
       "      <th>0.70</th>\n",
       "      <th>0.90</th>\n",
       "      <th>0.95</th>\n",
       "      <th>0.99</th>\n",
       "    </tr>\n",
       "    <tr>\n",
       "      <th>data_treatment</th>\n",
       "      <th></th>\n",
       "      <th></th>\n",
       "      <th></th>\n",
       "      <th></th>\n",
       "      <th></th>\n",
       "      <th></th>\n",
       "      <th></th>\n",
       "      <th></th>\n",
       "      <th></th>\n",
       "    </tr>\n",
       "  </thead>\n",
       "  <tbody>\n",
       "    <tr>\n",
       "      <th>fixed randomization</th>\n",
       "      <td>0</td>\n",
       "      <td>1</td>\n",
       "      <td>1</td>\n",
       "      <td>1</td>\n",
       "      <td>0</td>\n",
       "      <td>1</td>\n",
       "      <td>1</td>\n",
       "      <td>0</td>\n",
       "      <td>0</td>\n",
       "    </tr>\n",
       "    <tr>\n",
       "      <th>shuffle randomization</th>\n",
       "      <td>2</td>\n",
       "      <td>1</td>\n",
       "      <td>3</td>\n",
       "      <td>3</td>\n",
       "      <td>4</td>\n",
       "      <td>2</td>\n",
       "      <td>2</td>\n",
       "      <td>4</td>\n",
       "      <td>3</td>\n",
       "    </tr>\n",
       "    <tr>\n",
       "      <th>unmodified data</th>\n",
       "      <td>2</td>\n",
       "      <td>2</td>\n",
       "      <td>0</td>\n",
       "      <td>0</td>\n",
       "      <td>0</td>\n",
       "      <td>1</td>\n",
       "      <td>1</td>\n",
       "      <td>0</td>\n",
       "      <td>1</td>\n",
       "    </tr>\n",
       "  </tbody>\n",
       "</table>\n",
       "</div>"
      ],
      "text/plain": [
       "rate                   0.01  0.05  0.10  0.20  0.40  0.70  0.90  0.95  0.99\n",
       "data_treatment                                                             \n",
       "fixed randomization       0     1     1     1     0     1     1     0     0\n",
       "shuffle randomization     2     1     3     3     4     2     2     4     3\n",
       "unmodified data           2     2     0     0     0     1     1     0     1"
      ]
     },
     "execution_count": 39,
     "metadata": {},
     "output_type": "execute_result"
    }
   ],
   "source": [
    "pd.crosstab(winners_df['data_treatment'], winners_df['rate'])"
   ]
  },
  {
   "cell_type": "code",
   "execution_count": 56,
   "id": "3109c73d-b936-4c1d-b2fb-bfcd50759f38",
   "metadata": {},
   "outputs": [
    {
     "data": {
      "text/html": [
       "<div>\n",
       "<style scoped>\n",
       "    .dataframe tbody tr th:only-of-type {\n",
       "        vertical-align: middle;\n",
       "    }\n",
       "\n",
       "    .dataframe tbody tr th {\n",
       "        vertical-align: top;\n",
       "    }\n",
       "\n",
       "    .dataframe thead th {\n",
       "        text-align: right;\n",
       "    }\n",
       "</style>\n",
       "<table border=\"1\" class=\"dataframe\">\n",
       "  <thead>\n",
       "    <tr style=\"text-align: right;\">\n",
       "      <th>dset_naics_holdout</th>\n",
       "      <th>0.0</th>\n",
       "      <th>1.0</th>\n",
       "    </tr>\n",
       "    <tr>\n",
       "      <th>data_treatment</th>\n",
       "      <th></th>\n",
       "      <th></th>\n",
       "    </tr>\n",
       "  </thead>\n",
       "  <tbody>\n",
       "    <tr>\n",
       "      <th>fixed randomization</th>\n",
       "      <td>1</td>\n",
       "      <td>4</td>\n",
       "    </tr>\n",
       "    <tr>\n",
       "      <th>shuffle randomization</th>\n",
       "      <td>12</td>\n",
       "      <td>12</td>\n",
       "    </tr>\n",
       "    <tr>\n",
       "      <th>unmodified data</th>\n",
       "      <td>5</td>\n",
       "      <td>2</td>\n",
       "    </tr>\n",
       "  </tbody>\n",
       "</table>\n",
       "</div>"
      ],
      "text/plain": [
       "dset_naics_holdout     0.0  1.0\n",
       "data_treatment                 \n",
       "fixed randomization      1    4\n",
       "shuffle randomization   12   12\n",
       "unmodified data          5    2"
      ]
     },
     "execution_count": 56,
     "metadata": {},
     "output_type": "execute_result"
    }
   ],
   "source": [
    "test_xtab = pd.crosstab(winners_df['data_treatment'], winners_df['dset_naics_holdout'])\n",
    "test_xtab.to_csv(Path(setup.temp_path).joinpath('40_REPORT_downsample_winners_by_ho.csv'))\n",
    "test_xtab"
   ]
  },
  {
   "cell_type": "code",
   "execution_count": 41,
   "id": "ba40c945-da55-4647-8e2c-c0e0d2b70366",
   "metadata": {},
   "outputs": [
    {
     "data": {
      "text/html": [
       "<div>\n",
       "<style scoped>\n",
       "    .dataframe tbody tr th:only-of-type {\n",
       "        vertical-align: middle;\n",
       "    }\n",
       "\n",
       "    .dataframe tbody tr th {\n",
       "        vertical-align: top;\n",
       "    }\n",
       "\n",
       "    .dataframe thead th {\n",
       "        text-align: right;\n",
       "    }\n",
       "</style>\n",
       "<table border=\"1\" class=\"dataframe\">\n",
       "  <thead>\n",
       "    <tr style=\"text-align: right;\">\n",
       "      <th>hier_flag</th>\n",
       "      <th>0</th>\n",
       "      <th>1</th>\n",
       "    </tr>\n",
       "    <tr>\n",
       "      <th>data_treatment</th>\n",
       "      <th></th>\n",
       "      <th></th>\n",
       "    </tr>\n",
       "  </thead>\n",
       "  <tbody>\n",
       "    <tr>\n",
       "      <th>fixed randomization</th>\n",
       "      <td>4</td>\n",
       "      <td>1</td>\n",
       "    </tr>\n",
       "    <tr>\n",
       "      <th>shuffle randomization</th>\n",
       "      <td>10</td>\n",
       "      <td>14</td>\n",
       "    </tr>\n",
       "    <tr>\n",
       "      <th>unmodified data</th>\n",
       "      <td>4</td>\n",
       "      <td>3</td>\n",
       "    </tr>\n",
       "  </tbody>\n",
       "</table>\n",
       "</div>"
      ],
      "text/plain": [
       "hier_flag               0   1\n",
       "data_treatment               \n",
       "fixed randomization     4   1\n",
       "shuffle randomization  10  14\n",
       "unmodified data         4   3"
      ]
     },
     "execution_count": 41,
     "metadata": {},
     "output_type": "execute_result"
    }
   ],
   "source": [
    "pd.crosstab(winners_df['data_treatment'], winners_df['hier_flag'])"
   ]
  },
  {
   "cell_type": "markdown",
   "id": "bf7342b7-1331-493b-ba4d-9936a31d4e4e",
   "metadata": {},
   "source": [
    "## Injection Rate Loop\n",
    "Make plots"
   ]
  },
  {
   "cell_type": "code",
   "execution_count": 42,
   "id": "896753d1-56a3-40dc-9f62-b7e06e3487c5",
   "metadata": {},
   "outputs": [],
   "source": [
    "inj_loop_metrics_dict = {k:v.parent / (v.name + 'REPORT_loop_metrics.csv') for k, v in dict_2_rate_loop.items()}"
   ]
  },
  {
   "cell_type": "code",
   "execution_count": 43,
   "id": "acda7ddc-2c35-400c-b9a9-4c11bffba2b6",
   "metadata": {},
   "outputs": [],
   "source": [
    "inj_metrics = pd.concat([pd.read_csv(v) for k, v in inj_loop_metrics_dict.items()],\n",
    "                        keys = inj_loop_metrics_dict.keys()) \\\n",
    "    .reset_index(level=0) \\\n",
    "    .drop(columns=['Unnamed: 0'], errors='ignore') \\\n",
    "    .rename(columns={'level_0':'model'})"
   ]
  },
  {
   "cell_type": "code",
   "execution_count": 44,
   "id": "137c4503-e410-4ff9-98f6-2479147a7693",
   "metadata": {},
   "outputs": [
    {
     "data": {
      "text/plain": [
       "model\n",
       "irloop naics+hier data gen       70\n",
       "irloop naics data gen            70\n",
       "ds irloop naics+hier data gen    60\n",
       "ds irloop naics data gen         60\n",
       "Name: count, dtype: int64"
      ]
     },
     "execution_count": 44,
     "metadata": {},
     "output_type": "execute_result"
    }
   ],
   "source": [
    "inj_metrics['model'].value_counts()"
   ]
  },
  {
   "cell_type": "code",
   "execution_count": 45,
   "id": "dce1ff35-4414-4806-b0e7-15172deb565d",
   "metadata": {},
   "outputs": [],
   "source": [
    "inj_metrics.to_csv(Path(setup.temp_path).joinpath('40_REPORT_metrics_loop_inj_rate.csv'), index=False)"
   ]
  },
  {
   "cell_type": "markdown",
   "id": "d73333cf-d3dd-4230-a463-6023f0daa20c",
   "metadata": {},
   "source": [
    "##### Comparison plot - regular"
   ]
  },
  {
   "cell_type": "code",
   "execution_count": 46,
   "id": "77d2d4aa-4c07-4a77-a2dd-64a3146eb3d1",
   "metadata": {},
   "outputs": [],
   "source": [
    "# Non-downsampled tests, also test cases only\n",
    "inj_metrics_reg = inj_metrics[(~inj_metrics['model'].str.startswith('ds ')) &\n",
    "                             (~inj_metrics['dset_naics_holdout'].isna())]"
   ]
  },
  {
   "cell_type": "code",
   "execution_count": 47,
   "id": "1e6bded7-e7fc-4068-a325-ebde3577608e",
   "metadata": {},
   "outputs": [
    {
     "data": {
      "text/plain": [
       "model\n",
       "irloop naics+hier data gen    28\n",
       "irloop naics data gen         28\n",
       "Name: count, dtype: int64"
      ]
     },
     "execution_count": 47,
     "metadata": {},
     "output_type": "execute_result"
    }
   ],
   "source": [
    "inj_metrics_reg['model'].value_counts()"
   ]
  },
  {
   "cell_type": "code",
   "execution_count": 48,
   "id": "dfbd2a44-a1a3-48f1-bbfa-18e1ed4e15cf",
   "metadata": {},
   "outputs": [
    {
     "data": {
      "text/plain": [
       "<module 'sba_nn.sba_nn.sbnn_plot' from '/Users/valeriecarey/Documents/projects/2024_05_blog_nn_rand/code/sba_nn/sba_nn/sbnn_plot.py'>"
      ]
     },
     "execution_count": 48,
     "metadata": {},
     "output_type": "execute_result"
    }
   ],
   "source": [
    "importlib.reload(sbnn_plot)"
   ]
  },
  {
   "cell_type": "code",
   "execution_count": 49,
   "id": "62e7e997-e606-485c-a085-ae6e39a94cdc",
   "metadata": {},
   "outputs": [
    {
     "data": {
      "image/png": "[encoded data removed]",
      "text/plain": [
       "<Figure size 1200x400 with 2 Axes>"
      ]
     },
     "metadata": {},
     "output_type": "display_data"
    }
   ],
   "source": [
    "fig, ax = plt.subplots(1,2, figsize=(12,4), sharey=True, sharex=True)\n",
    "sbnn_plot.plot_metric_dependence(inj_metrics_reg[inj_metrics_reg['model'] == 'irloop naics data gen'],\n",
    "                                 xformatter = ticker.PercentFormatter(1),\n",
    "                                 ylabel='PR-AUC',\n",
    "                                 title='NAICS only',\n",
    "                                 xlabel='injection rate', ax=ax[0],\n",
    "                                marker='.')\n",
    "sbnn_plot.plot_metric_dependence(inj_metrics_reg[inj_metrics_reg['model'] == 'irloop naics+hier data gen'],\n",
    "                                 xformatter = ticker.PercentFormatter(1),\n",
    "                                 ylabel='PR-AUC',\n",
    "                                 title='NAICS+Hierarchy',\n",
    "                                 xlabel='injection rate', ax=ax[1],\n",
    "                                marker='.')\n",
    "ax[0].legend().set_visible(False)\n",
    "plt.subplots_adjust(hspace=0.001, wspace=0.05, bottom=0.1)\n",
    "fig.savefig(Path(setup.temp_path).joinpath('40_PLOT_injection_rate_comparison.png'),\n",
    "        bbox_inches='tight')"
   ]
  },
  {
   "cell_type": "markdown",
   "id": "382f9e15-c2d6-4cb2-8853-eb1642c03331",
   "metadata": {},
   "source": [
    "##### Comparison plot - downsampled"
   ]
  },
  {
   "cell_type": "code",
   "execution_count": 50,
   "id": "2a7e04ec-1d77-40c5-b6f5-169a021d69b0",
   "metadata": {},
   "outputs": [],
   "source": [
    "# Non-downsampled tests, also test cases only\n",
    "inj_metrics_ds = inj_metrics[(inj_metrics['model'].str.startswith('ds ')) &\n",
    "                             (~inj_metrics['dset_naics_holdout'].isna())]"
   ]
  },
  {
   "cell_type": "code",
   "execution_count": 51,
   "id": "7d332f0f-0e82-4657-988d-3e1a2dae9edd",
   "metadata": {},
   "outputs": [
    {
     "data": {
      "text/plain": [
       "model\n",
       "ds irloop naics+hier data gen    24\n",
       "ds irloop naics data gen         24\n",
       "Name: count, dtype: int64"
      ]
     },
     "execution_count": 51,
     "metadata": {},
     "output_type": "execute_result"
    }
   ],
   "source": [
    "inj_metrics_ds['model'].value_counts()"
   ]
  },
  {
   "cell_type": "code",
   "execution_count": 52,
   "id": "2f49324a-4883-4238-868a-d11706465bff",
   "metadata": {},
   "outputs": [
    {
     "data": {
      "image/png": "[encoded data removed]",
      "text/plain": [
       "<Figure size 1200x400 with 2 Axes>"
      ]
     },
     "metadata": {},
     "output_type": "display_data"
    }
   ],
   "source": [
    "fig, ax = plt.subplots(1,2, figsize=(12,4), sharey=True, sharex=True)\n",
    "sbnn_plot.plot_metric_dependence(inj_metrics_ds[inj_metrics_ds['model'] == 'ds irloop naics data gen'],\n",
    "                                 xformatter = ticker.PercentFormatter(1),\n",
    "                                 ylabel='PR-AUC',\n",
    "                                 title='NAICS only',\n",
    "                                 xlabel='injection rate', ax=ax[0],\n",
    "                                marker='.')\n",
    "sbnn_plot.plot_metric_dependence(inj_metrics_ds[inj_metrics_ds['model'] == 'ds irloop naics+hier data gen'],\n",
    "                                 xformatter = ticker.PercentFormatter(1),\n",
    "                                 ylabel='PR-AUC',\n",
    "                                 title='NAICS+Hierarchy',\n",
    "                                 xlabel='injection rate', ax=ax[1],\n",
    "                                marker='.')\n",
    "ax[0].legend().set_visible(False)\n",
    "plt.subplots_adjust(wspace=0.05, bottom=0.1)\n",
    "fig.suptitle('Downsampled Data')\n",
    "fig.savefig(Path(setup.temp_path).joinpath('40_PLOT_injection_rate_comparison_ds.png'),\n",
    "        bbox_inches='tight')"
   ]
  },
  {
   "cell_type": "code",
   "execution_count": null,
   "id": "a2a595fd-87ae-4fed-a892-8d13835b3043",
   "metadata": {},
   "outputs": [],
   "source": []
  },
  {
   "cell_type": "code",
   "execution_count": null,
   "id": "8e629f33-0ba8-41e6-9567-64a4fface6eb",
   "metadata": {},
   "outputs": [],
   "source": []
  }
 ],
 "metadata": {
  "kernelspec": {
   "display_name": "tf_p39",
   "language": "python",
   "name": "tf_p39"
  },
  "language_info": {
   "codemirror_mode": {
    "name": "ipython",
    "version": 3
   },
   "file_extension": ".py",
   "mimetype": "text/x-python",
   "name": "python",
   "nbconvert_exporter": "python",
   "pygments_lexer": "ipython3",
   "version": "3.8.18"
  }
 },
 "nbformat": 4,
 "nbformat_minor": 5
}
