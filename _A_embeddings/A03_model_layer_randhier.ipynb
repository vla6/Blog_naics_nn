{
 "cells": [
  {
   "cell_type": "code",
   "execution_count": 1,
   "id": "34e38774-3faa-463e-8a5b-40ef59c0da96",
   "metadata": {},
   "outputs": [],
   "source": [
    "# Modify the file A00_setup.  Note the working directory is changed\n",
    "import os\n",
    "os.chdir(os.getcwd().rsplit(os.path.sep + 'code')[0] + os.path.sep + 'code')\n",
    "from importlib.machinery import SourceFileLoader\n",
    "setup = SourceFileLoader(\"setup\", \"./_A_embeddings/A00_setup.py\").load_module()"
   ]
  },
  {
   "cell_type": "markdown",
   "id": "35f9251b-a0d4-4a4f-a5fc-e996b8945809",
   "metadata": {},
   "source": [
    "## Neural Network With NAICS Random Hierarchy , Intermediate Embedding Layer\n",
    "Use the custom data generator to inject unseen codes into the data during training (with shuffle).  Add a layer in the network to combine all NAICS-hierarchy inputs.  Use a random hierarchy"
   ]
  },
  {
   "cell_type": "markdown",
   "id": "b47edfb7-935c-4d72-8336-a90237174bde",
   "metadata": {},
   "source": [
    "Similar to \"41\" in the parent folder, but add an additional layer in the neural network"
   ]
  },
  {
   "cell_type": "markdown",
   "id": "3513f2bf-0ee5-40ab-a561-b658360a0023",
   "metadata": {},
   "source": [
    "Use the dataset with no missing values. "
   ]
  },
  {
   "cell_type": "markdown",
   "id": "e157992d-20c2-419f-bfea-40b7066159e1",
   "metadata": {},
   "source": [
    "*This script takes about 2 hours on my MacBook Air*"
   ]
  },
  {
   "cell_type": "code",
   "execution_count": 2,
   "id": "dfa8629e-f3fd-4b4a-8520-c976ce9109ad",
   "metadata": {},
   "outputs": [],
   "source": [
    "import numpy as np\n",
    "import pandas as pd\n",
    "import tensorflow as tf"
   ]
  },
  {
   "cell_type": "code",
   "execution_count": 3,
   "id": "904ba6e7-9841-4755-b20e-cd8da83c4623",
   "metadata": {},
   "outputs": [],
   "source": [
    "from pathlib import Path\n",
    "import importlib, pickle\n",
    "from sklearn import model_selection"
   ]
  },
  {
   "cell_type": "code",
   "execution_count": 4,
   "id": "a8d081ac-9b04-45a7-92eb-50640ca33ce6",
   "metadata": {},
   "outputs": [],
   "source": [
    "import pandas as pd\n",
    "import os\n",
    "import re\n",
    "\n",
    "import tensorflow.keras as keras\n",
    "from tensorflow.keras import layers, optimizers, losses, metrics, Model\n",
    "from sklearn import preprocessing, feature_extraction, model_selection\n",
    "from IPython.display import display, HTML\n",
    "import matplotlib.pyplot as plt\n",
    "%matplotlib inline"
   ]
  },
  {
   "cell_type": "code",
   "execution_count": 5,
   "id": "8bb1bf8d-6f10-432f-86d7-e066dbbc4e30",
   "metadata": {},
   "outputs": [],
   "source": [
    "from sba_nn.sba_nn import sbnn_metrics, sbnn_model\n",
    "from sba_nn.sba_nn.sbnn_model import CatInjectGenerator"
   ]
  },
  {
   "cell_type": "markdown",
   "id": "3efa2439-b656-4c21-aecc-dc1b6a7dcda6",
   "metadata": {},
   "source": [
    "## Input Data"
   ]
  },
  {
   "cell_type": "code",
   "execution_count": 6,
   "id": "15d21814-589b-43eb-8fed-628f4b2f35cd",
   "metadata": {
    "tags": []
   },
   "outputs": [],
   "source": [
    "sba_loans = pd.read_parquet(Path(setup.parent_path).joinpath('01_DATA_transformed_nomiss.parquet'))"
   ]
  },
  {
   "cell_type": "markdown",
   "id": "effc7286-b7a9-4ae8-bc4d-419fdf958eaf",
   "metadata": {},
   "source": [
    "##### Random hieararchy\n"
   ]
  },
  {
   "cell_type": "code",
   "execution_count": 7,
   "id": "22b8eafc-2a39-4798-af41-09fdc0a2b68d",
   "metadata": {},
   "outputs": [],
   "source": [
    "naics_rand_map = pd.read_parquet(Path(setup.parent_path).joinpath('41_DATA_naics_groups.parquet'))"
   ]
  },
  {
   "cell_type": "code",
   "execution_count": 8,
   "id": "d23927c7-a097-41dc-a644-086421635e0d",
   "metadata": {},
   "outputs": [
    {
     "data": {
      "text/plain": [
       "['rgrp_345', 'rgrp_106', 'rgrp_020']"
      ]
     },
     "execution_count": 8,
     "metadata": {},
     "output_type": "execute_result"
    }
   ],
   "source": [
    "rgrp_cols = [c for c in naics_rand_map.columns if c != 'NAICS_orig']\n",
    "rgrp_cols"
   ]
  },
  {
   "cell_type": "code",
   "execution_count": 9,
   "id": "bcdb3068-1227-4dd6-8d78-0d7abb312290",
   "metadata": {},
   "outputs": [],
   "source": [
    "sba_loans = sba_loans.drop(columns=rgrp_cols, errors='ignore') \\\n",
    "    .merge(naics_rand_map, how='left', on='NAICS_orig')"
   ]
  },
  {
   "cell_type": "code",
   "execution_count": 10,
   "id": "2e675ac9-715a-4fcd-91d0-3044389ce0a7",
   "metadata": {},
   "outputs": [],
   "source": [
    "with open(Path(setup.parent_path).joinpath('01_DATA_features.pkl'), 'rb') as fin:\n",
    "    imputer_features = pickle.load(fin)"
   ]
  },
  {
   "cell_type": "code",
   "execution_count": 11,
   "id": "0cacd5e3-83bf-4242-8ef8-767366f57bdf",
   "metadata": {},
   "outputs": [],
   "source": [
    "with open(Path(setup.parent_path).joinpath('01_DATA_naics_max_encodings.pkl'), 'rb') as fin:\n",
    "    naics_max_levels= pickle.load(fin)"
   ]
  },
  {
   "cell_type": "code",
   "execution_count": 12,
   "id": "4cbf25ca-4ca7-44ee-a0bd-67d251f02e55",
   "metadata": {},
   "outputs": [
    {
     "data": {
      "text/plain": [
       "{'NAICS': 1170, 'rgrp_345': 345, 'rgrp_106': 106, 'rgrp_020': 20}"
      ]
     },
     "execution_count": 12,
     "metadata": {},
     "output_type": "execute_result"
    }
   ],
   "source": [
    "rgrp_max_levels = {c:int(c.split('_')[1]) for c in rgrp_cols}\n",
    "rgrp_max_levels = {**{'NAICS':naics_max_levels['NAICS']}, **rgrp_max_levels}\n",
    "rgrp_max_levels"
   ]
  },
  {
   "cell_type": "code",
   "execution_count": 13,
   "id": "d86896e9-7d68-4f99-aaf8-5e970f0b81d3",
   "metadata": {},
   "outputs": [
    {
     "data": {
      "text/plain": [
       "{'NAICS': 8, 'rgrp_345': 8, 'rgrp_106': 4, 'rgrp_020': 4}"
      ]
     },
     "execution_count": 13,
     "metadata": {},
     "output_type": "execute_result"
    }
   ],
   "source": [
    "size_dict = dict(zip(rgrp_max_levels.keys(),\n",
    "                     setup.nn_naics_embed_size_dict.values()))\n",
    "size_dict"
   ]
  },
  {
   "cell_type": "markdown",
   "id": "992aa910-1bed-432a-b03b-30ca0de26dbe",
   "metadata": {},
   "source": [
    "##### Features"
   ]
  },
  {
   "cell_type": "code",
   "execution_count": 14,
   "id": "f37ada96-5a4b-44dc-94a7-8f5ae32d2bde",
   "metadata": {},
   "outputs": [
    {
     "name": "stdout",
     "output_type": "stream",
     "text": [
      "['NoEmp', 'CreateJob', 'LowDoc', 'DisbursementGross', 'new_business', 'urban_flag', 'franchise_flag', 'missingindicator_LowDoc', 'missingindicator_new_business', 'missingindicator_urban_flag']\n"
     ]
    }
   ],
   "source": [
    "# Numeric features\n",
    "features_numeric = [f for f in imputer_features if 'NAICS' not in f]\n",
    "features_numeric_len = len(features_numeric)\n",
    "print(features_numeric)"
   ]
  },
  {
   "cell_type": "code",
   "execution_count": 15,
   "id": "66b82768-9af4-49dc-8d2b-7f2d433b1fad",
   "metadata": {},
   "outputs": [],
   "source": [
    "# NAICS features - random groups\n",
    "features_naics = ['NAICS'] + rgrp_cols\n",
    "features_naics_max_levels  = [rgrp_max_levels[n] for n in features_naics]\n",
    "features_naics_emb_dim = [size_dict[n] for n in features_naics]"
   ]
  },
  {
   "cell_type": "code",
   "execution_count": 16,
   "id": "46c024d0-e970-47d7-ba2c-0ae4028a8cab",
   "metadata": {},
   "outputs": [
    {
     "name": "stdout",
     "output_type": "stream",
     "text": [
      "[1170, 345, 106, 20]\n",
      "[8, 8, 4, 4]\n"
     ]
    }
   ],
   "source": [
    "print(features_naics_max_levels)\n",
    "print(features_naics_emb_dim)"
   ]
  },
  {
   "cell_type": "markdown",
   "id": "a8a2b498-72c2-46b8-8eb5-3a9230d2dd62",
   "metadata": {},
   "source": [
    "##### Datasets for train, validation"
   ]
  },
  {
   "cell_type": "code",
   "execution_count": 17,
   "id": "f111f005-1b2f-4eba-a328-4b06a4ab43c6",
   "metadata": {},
   "outputs": [],
   "source": [
    "X = sba_loans[['dset', 'LoanNr_ChkDgt'] + features_numeric + features_naics].set_index('LoanNr_ChkDgt').sort_index()"
   ]
  },
  {
   "cell_type": "code",
   "execution_count": 18,
   "id": "e9d81a92-14d7-4ef4-b098-167baf4df96e",
   "metadata": {},
   "outputs": [
    {
     "name": "stdout",
     "output_type": "stream",
     "text": [
      "training X: (446848, 14), y:(446848,)\n"
     ]
    }
   ],
   "source": [
    "X_train = X[X['dset'] == 'train'].drop(columns='dset')\n",
    "y_train = sba_loans[sba_loans['dset'] == 'train'].set_index('LoanNr_ChkDgt').sort_index()['target']\n",
    "print(f'training X: {X_train.shape}, y:{y_train.shape}')"
   ]
  },
  {
   "cell_type": "code",
   "execution_count": 19,
   "id": "e86dbe7d-84bc-4acc-b30a-f6e84c71b1bd",
   "metadata": {},
   "outputs": [
    {
     "name": "stdout",
     "output_type": "stream",
     "text": [
      "val X: (95604, 14), y:(95604,)\n"
     ]
    }
   ],
   "source": [
    "X_val = X[X['dset'] == 'val'].drop(columns='dset')\n",
    "y_val = sba_loans[sba_loans['dset'] == 'val'].set_index('LoanNr_ChkDgt').sort_index()['target']\n",
    "print(f'val X: {X_val.shape}, y:{y_val.shape}')"
   ]
  },
  {
   "cell_type": "code",
   "execution_count": 20,
   "id": "97eb0599-ad07-4784-8a81-bd1a25408f09",
   "metadata": {},
   "outputs": [
    {
     "name": "stdout",
     "output_type": "stream",
     "text": [
      "0.20230592953308507\n"
     ]
    }
   ],
   "source": [
    "base_thresh = y_train.mean()\n",
    "print(base_thresh)"
   ]
  },
  {
   "cell_type": "markdown",
   "id": "de5da47b-c4ed-429f-bbd9-f04d80654ac1",
   "metadata": {},
   "source": [
    "## Create, fit model"
   ]
  },
  {
   "cell_type": "code",
   "execution_count": 21,
   "id": "f4a04b6e-5f6d-48c1-b817-a541bb3c53ce",
   "metadata": {},
   "outputs": [
    {
     "data": {
      "text/plain": [
       "<module 'sba_nn.sba_nn.sbnn_model' from '/Users/valeriecarey/Documents/projects/2024_05_blog_nn_rand/code/sba_nn/sba_nn/sbnn_model.py'>"
      ]
     },
     "execution_count": 21,
     "metadata": {},
     "output_type": "execute_result"
    }
   ],
   "source": [
    "importlib.reload(sbnn_model)"
   ]
  },
  {
   "cell_type": "code",
   "execution_count": 22,
   "id": "be993fc4-c616-4fd2-8aba-4b5a75c8f3b9",
   "metadata": {},
   "outputs": [
    {
     "name": "stderr",
     "output_type": "stream",
     "text": [
      "2024-07-13 06:44:21.770207: I metal_plugin/src/device/metal_device.cc:1154] Metal device set to: Apple M1\n",
      "2024-07-13 06:44:21.770232: I metal_plugin/src/device/metal_device.cc:296] systemMemory: 16.00 GB\n",
      "2024-07-13 06:44:21.770238: I metal_plugin/src/device/metal_device.cc:313] maxCacheSize: 5.33 GB\n",
      "2024-07-13 06:44:21.770276: I tensorflow/core/common_runtime/pluggable_device/pluggable_device_factory.cc:303] Could not identify NUMA node of platform GPU ID 0, defaulting to 0. Your kernel may not have been built with NUMA support.\n",
      "2024-07-13 06:44:21.770298: I tensorflow/core/common_runtime/pluggable_device/pluggable_device_factory.cc:269] Created TensorFlow device (/job:localhost/replica:0/task:0/device:GPU:0 with 0 MB memory) -> physical PluggableDevice (device: 0, name: METAL, pci bus id: <undefined>)\n"
     ]
    }
   ],
   "source": [
    "this_model = \\\n",
    "    sbnn_model.create_emb_model_intermediate(features_numeric_len,\n",
    "                                            features_naics_max_levels,\n",
    "                                            features_naics_emb_dim,\n",
    "                                            naics_embedding_names = features_naics,\n",
    "                                            hidden_size = setup.nn_layer_sizes,\n",
    "                                            activation='tanh',\n",
    "                                            lr=setup.nn_learning_rate,\n",
    "                                            opt_func = setup.nn_optimizer,\n",
    "                                            dropout = setup.nn_dropout)"
   ]
  },
  {
   "cell_type": "code",
   "execution_count": 23,
   "id": "8fa00361-e64a-4919-9e08-cf2844ef7c54",
   "metadata": {},
   "outputs": [
    {
     "name": "stdout",
     "output_type": "stream",
     "text": [
      "Model: \"model\"\n",
      "__________________________________________________________________________________________________\n",
      " Layer (type)                Output Shape                 Param #   Connected to                  \n",
      "==================================================================================================\n",
      " input_naics_00 (InputLayer  [(None, 1)]                  0         []                            \n",
      " )                                                                                                \n",
      "                                                                                                  \n",
      " input_naics_01 (InputLayer  [(None, 1)]                  0         []                            \n",
      " )                                                                                                \n",
      "                                                                                                  \n",
      " input_naics_02 (InputLayer  [(None, 1)]                  0         []                            \n",
      " )                                                                                                \n",
      "                                                                                                  \n",
      " input_naics_03 (InputLayer  [(None, 1)]                  0         []                            \n",
      " )                                                                                                \n",
      "                                                                                                  \n",
      " emb_naics_00 (Embedding)    (None, 1, 8)                 9360      ['input_naics_00[0][0]']      \n",
      "                                                                                                  \n",
      " emb_naics_01 (Embedding)    (None, 1, 8)                 2760      ['input_naics_01[0][0]']      \n",
      "                                                                                                  \n",
      " emb_naics_02 (Embedding)    (None, 1, 4)                 424       ['input_naics_02[0][0]']      \n",
      "                                                                                                  \n",
      " emb_naics_03 (Embedding)    (None, 1, 4)                 80        ['input_naics_03[0][0]']      \n",
      "                                                                                                  \n",
      " NAICS (Flatten)             (None, 8)                    0         ['emb_naics_00[0][0]']        \n",
      "                                                                                                  \n",
      " rgrp_345 (Flatten)          (None, 8)                    0         ['emb_naics_01[0][0]']        \n",
      "                                                                                                  \n",
      " rgrp_106 (Flatten)          (None, 4)                    0         ['emb_naics_02[0][0]']        \n",
      "                                                                                                  \n",
      " rgrp_020 (Flatten)          (None, 4)                    0         ['emb_naics_03[0][0]']        \n",
      "                                                                                                  \n",
      " concatenate (Concatenate)   (None, 24)                   0         ['NAICS[0][0]',               \n",
      "                                                                     'rgrp_345[0][0]',            \n",
      "                                                                     'rgrp_106[0][0]',            \n",
      "                                                                     'rgrp_020[0][0]']            \n",
      "                                                                                                  \n",
      " embedding_int (Dense)       (None, 8)                    200       ['concatenate[0][0]']         \n",
      "                                                                                                  \n",
      " dropout_embedding_int (Dro  (None, 8)                    0         ['embedding_int[0][0]']       \n",
      " pout)                                                                                            \n",
      "                                                                                                  \n",
      " input_numeric (InputLayer)  [(None, 10)]                 0         []                            \n",
      "                                                                                                  \n",
      " input_concat (Concatenate)  (None, 18)                   0         ['dropout_embedding_int[0][0]'\n",
      "                                                                    , 'input_numeric[0][0]']      \n",
      "                                                                                                  \n",
      " layer_00 (Dense)            (None, 128)                  2432      ['input_concat[0][0]']        \n",
      "                                                                                                  \n",
      " dropout_00 (Dropout)        (None, 128)                  0         ['layer_00[0][0]']            \n",
      "                                                                                                  \n",
      " layer_01 (Dense)            (None, 64)                   8256      ['dropout_00[0][0]']          \n",
      "                                                                                                  \n",
      " dropout_01 (Dropout)        (None, 64)                   0         ['layer_01[0][0]']            \n",
      "                                                                                                  \n",
      " output (Dense)              (None, 1)                    65        ['dropout_01[0][0]']          \n",
      "                                                                                                  \n",
      "==================================================================================================\n",
      "Total params: 23577 (92.10 KB)\n",
      "Trainable params: 23577 (92.10 KB)\n",
      "Non-trainable params: 0 (0.00 Byte)\n",
      "__________________________________________________________________________________________________\n"
     ]
    }
   ],
   "source": [
    "this_model.summary()"
   ]
  },
  {
   "cell_type": "markdown",
   "id": "15caefb3-4d02-4245-a697-56892396228d",
   "metadata": {},
   "source": [
    "##### Use data generator to inject 1 values into training data"
   ]
  },
  {
   "cell_type": "code",
   "execution_count": 24,
   "id": "c7f185e1-54e9-4051-afd1-7b0c1f9c5065",
   "metadata": {},
   "outputs": [],
   "source": [
    "generator = CatInjectGenerator(X_train, y_train,\n",
    "                               categorical_columns=features_naics,\n",
    "                               batch_size = setup.nn_batch_size,\n",
    "                               injection_rate = 0.1,\n",
    "                               injection_value = 1)"
   ]
  },
  {
   "cell_type": "code",
   "execution_count": 25,
   "id": "c92b4f60-26ac-44fe-a2d6-e1f2ded8aafb",
   "metadata": {},
   "outputs": [],
   "source": [
    "callback = keras.callbacks.EarlyStopping(patience=3)"
   ]
  },
  {
   "cell_type": "code",
   "execution_count": 26,
   "id": "484ba4ff-a328-487c-b21f-c728772a7e4c",
   "metadata": {},
   "outputs": [
    {
     "name": "stdout",
     "output_type": "stream",
     "text": [
      "Epoch 1/20\n"
     ]
    },
    {
     "name": "stderr",
     "output_type": "stream",
     "text": [
      "2024-07-13 06:44:22.767224: I tensorflow/core/grappler/optimizers/custom_graph_optimizer_registry.cc:114] Plugin optimizer for device_type GPU is enabled.\n"
     ]
    },
    {
     "name": "stdout",
     "output_type": "stream",
     "text": [
      "13963/13964 [============================>.] - ETA: 0s - loss: 0.4645 - auc: 0.3322 - auc_1: 0.6952"
     ]
    },
    {
     "name": "stderr",
     "output_type": "stream",
     "text": [
      "2024-07-13 06:47:09.212816: I tensorflow/core/grappler/optimizers/custom_graph_optimizer_registry.cc:114] Plugin optimizer for device_type GPU is enabled.\n"
     ]
    },
    {
     "name": "stdout",
     "output_type": "stream",
     "text": [
      "13964/13964 [==============================] - 182s 13ms/step - loss: 0.4645 - auc: 0.3322 - auc_1: 0.6952 - val_loss: 0.4560 - val_auc: 0.3702 - val_auc_1: 0.7229\n",
      "Epoch 2/20\n",
      "13964/13964 [==============================] - 175s 13ms/step - loss: 0.4561 - auc: 0.3539 - auc_1: 0.7132 - val_loss: 0.4521 - val_auc: 0.3745 - val_auc_1: 0.7269\n",
      "Epoch 3/20\n",
      "13964/13964 [==============================] - 168s 12ms/step - loss: 0.4543 - auc: 0.3600 - auc_1: 0.7171 - val_loss: 0.4520 - val_auc: 0.3757 - val_auc_1: 0.7261\n",
      "Epoch 4/20\n",
      "13964/13964 [==============================] - 166s 12ms/step - loss: 0.4534 - auc: 0.3637 - auc_1: 0.7191 - val_loss: 0.4506 - val_auc: 0.3813 - val_auc_1: 0.7291\n",
      "Epoch 5/20\n",
      "13964/13964 [==============================] - 166s 12ms/step - loss: 0.4526 - auc: 0.3648 - auc_1: 0.7206 - val_loss: 0.4504 - val_auc: 0.3833 - val_auc_1: 0.7303\n",
      "Epoch 6/20\n",
      "13964/13964 [==============================] - 210s 15ms/step - loss: 0.4521 - auc: 0.3669 - auc_1: 0.7218 - val_loss: 0.4509 - val_auc: 0.3832 - val_auc_1: 0.7304\n",
      "Epoch 7/20\n",
      "13964/13964 [==============================] - 243s 17ms/step - loss: 0.4516 - auc: 0.3686 - auc_1: 0.7226 - val_loss: 0.4500 - val_auc: 0.3842 - val_auc_1: 0.7305\n",
      "Epoch 8/20\n",
      "13964/13964 [==============================] - 239s 17ms/step - loss: 0.4513 - auc: 0.3703 - auc_1: 0.7233 - val_loss: 0.4504 - val_auc: 0.3841 - val_auc_1: 0.7304\n",
      "Epoch 9/20\n",
      "13964/13964 [==============================] - 198s 14ms/step - loss: 0.4511 - auc: 0.3702 - auc_1: 0.7237 - val_loss: 0.4495 - val_auc: 0.3844 - val_auc_1: 0.7310\n",
      "Epoch 10/20\n",
      "13964/13964 [==============================] - 168s 12ms/step - loss: 0.4509 - auc: 0.3714 - auc_1: 0.7239 - val_loss: 0.4498 - val_auc: 0.3845 - val_auc_1: 0.7307\n",
      "Epoch 11/20\n",
      "13964/13964 [==============================] - 166s 12ms/step - loss: 0.4506 - auc: 0.3720 - auc_1: 0.7246 - val_loss: 0.4502 - val_auc: 0.3831 - val_auc_1: 0.7304\n",
      "Epoch 12/20\n",
      "13964/13964 [==============================] - 167s 12ms/step - loss: 0.4505 - auc: 0.3722 - auc_1: 0.7249 - val_loss: 0.4498 - val_auc: 0.3831 - val_auc_1: 0.7306\n"
     ]
    }
   ],
   "source": [
    "this_history = this_model.fit(generator,\n",
    "                              batch_size=setup.nn_batch_size,\n",
    "                              epochs = setup.nn_epochs,\n",
    "                              validation_data=([X_val[features_numeric]] + [X_val[f] for f in features_naics], \n",
    "                                               y_val),\n",
    "                              shuffle=True,\n",
    "                              callbacks=[callback])"
   ]
  },
  {
   "cell_type": "code",
   "execution_count": 27,
   "id": "13034b53-a247-43b8-9323-824b66063e7d",
   "metadata": {},
   "outputs": [],
   "source": [
    "this_history_df = sbnn_model.process_history(this_history)"
   ]
  },
  {
   "cell_type": "code",
   "execution_count": 28,
   "id": "bae73f1d-6403-49f5-9bec-13851e9717b0",
   "metadata": {},
   "outputs": [],
   "source": [
    "this_history_df.to_csv(Path(setup.temp_path).joinpath('A03_REPORT_fit_history.csv'))"
   ]
  },
  {
   "cell_type": "code",
   "execution_count": 29,
   "id": "b238674a-6b2e-46f3-9d3d-7c28f951b6f0",
   "metadata": {},
   "outputs": [
    {
     "data": {
      "text/plain": [
       "<Axes: >"
      ]
     },
     "execution_count": 29,
     "metadata": {},
     "output_type": "execute_result"
    },
    {
     "data": {
      "image/png": "[encoded data removed]",
      "text/plain": [
       "<Figure size 640x480 with 1 Axes>"
      ]
     },
     "metadata": {},
     "output_type": "display_data"
    }
   ],
   "source": [
    "this_history_df[['loss', 'val_loss']].plot()"
   ]
  },
  {
   "cell_type": "code",
   "execution_count": 30,
   "id": "c984990e-0867-4ebc-9eb0-15bac1c8f13f",
   "metadata": {},
   "outputs": [
    {
     "data": {
      "text/plain": [
       "<Axes: >"
      ]
     },
     "execution_count": 30,
     "metadata": {},
     "output_type": "execute_result"
    },
    {
     "data": {
      "image/png": "[encoded data removed]",
      "text/plain": [
       "<Figure size 640x480 with 1 Axes>"
      ]
     },
     "metadata": {},
     "output_type": "display_data"
    }
   ],
   "source": [
    "this_history_df[['auc', 'val_auc']].plot()"
   ]
  },
  {
   "cell_type": "code",
   "execution_count": 31,
   "id": "74abccd0-8bbf-40fa-a92b-538d51ea64b3",
   "metadata": {},
   "outputs": [
    {
     "data": {
      "text/plain": [
       "<Axes: >"
      ]
     },
     "execution_count": 31,
     "metadata": {},
     "output_type": "execute_result"
    },
    {
     "data": {
      "image/png": "[encoded data removed]",
      "text/plain": [
       "<Figure size 640x480 with 1 Axes>"
      ]
     },
     "metadata": {},
     "output_type": "display_data"
    }
   ],
   "source": [
    "this_history_df[['auc_roc', 'val_auc_roc']].plot()"
   ]
  },
  {
   "cell_type": "code",
   "execution_count": 32,
   "id": "7e369329-8774-4961-b4ce-275f7b576265",
   "metadata": {},
   "outputs": [],
   "source": [
    "this_model.save(Path(setup.temp_path).joinpath('A03_DATA_model.keras'),save_format='tf')"
   ]
  },
  {
   "cell_type": "markdown",
   "id": "d1321401-48c2-4b36-ac47-1f21460712dd",
   "metadata": {},
   "source": [
    "## Predictions on all data"
   ]
  },
  {
   "cell_type": "code",
   "execution_count": 33,
   "id": "492a72ab-05f5-4cdd-86c3-3dfaa1f38102",
   "metadata": {},
   "outputs": [
    {
     "name": "stdout",
     "output_type": "stream",
     "text": [
      "   85/21735 [..............................] - ETA: 38s"
     ]
    },
    {
     "name": "stderr",
     "output_type": "stream",
     "text": [
      "2024-07-13 07:21:50.128435: I tensorflow/core/grappler/optimizers/custom_graph_optimizer_registry.cc:114] Plugin optimizer for device_type GPU is enabled.\n"
     ]
    },
    {
     "name": "stdout",
     "output_type": "stream",
     "text": [
      "21735/21735 [==============================] - 51s 2ms/step\n"
     ]
    }
   ],
   "source": [
    "all_predictions = this_model.predict([X[features_numeric]]+ [X[f] for f in features_naics])"
   ]
  },
  {
   "cell_type": "code",
   "execution_count": 34,
   "id": "010c6218-a370-4c45-8a5a-f5d8490f9a7b",
   "metadata": {},
   "outputs": [],
   "source": [
    "all_predictions_df = pd.DataFrame(all_predictions, index=X.index) \\\n",
    "    .set_axis(['predict_prob'], axis=1) \\\n",
    "    .reset_index() \\\n",
    "    .merge(sba_loans[['target', 'LoanNr_ChkDgt', 'dset', 'dset_naics_holdout', 'NAICS']], \n",
    "           on='LoanNr_ChkDgt')"
   ]
  },
  {
   "cell_type": "code",
   "execution_count": 35,
   "id": "0f0d2554-79d0-4b7c-92c9-6de1f2bc8544",
   "metadata": {},
   "outputs": [
    {
     "data": {
      "text/html": [
       "<div>\n",
       "<style scoped>\n",
       "    .dataframe tbody tr th:only-of-type {\n",
       "        vertical-align: middle;\n",
       "    }\n",
       "\n",
       "    .dataframe tbody tr th {\n",
       "        vertical-align: top;\n",
       "    }\n",
       "\n",
       "    .dataframe thead th {\n",
       "        text-align: right;\n",
       "    }\n",
       "</style>\n",
       "<table border=\"1\" class=\"dataframe\">\n",
       "  <thead>\n",
       "    <tr style=\"text-align: right;\">\n",
       "      <th></th>\n",
       "      <th>predict_prob</th>\n",
       "      <th>target</th>\n",
       "    </tr>\n",
       "  </thead>\n",
       "  <tbody>\n",
       "    <tr>\n",
       "      <th>predict_prob</th>\n",
       "      <td>1.000000</td>\n",
       "      <td>0.318157</td>\n",
       "    </tr>\n",
       "    <tr>\n",
       "      <th>target</th>\n",
       "      <td>0.318157</td>\n",
       "      <td>1.000000</td>\n",
       "    </tr>\n",
       "  </tbody>\n",
       "</table>\n",
       "</div>"
      ],
      "text/plain": [
       "              predict_prob    target\n",
       "predict_prob      1.000000  0.318157\n",
       "target            0.318157  1.000000"
      ]
     },
     "execution_count": 35,
     "metadata": {},
     "output_type": "execute_result"
    }
   ],
   "source": [
    "all_predictions_df[['predict_prob', 'target']].corr(method='spearman')"
   ]
  },
  {
   "cell_type": "markdown",
   "id": "7858946a-ee64-43bb-93cd-961d46174455",
   "metadata": {},
   "source": [
    "##### Threshold Tune & Binary Predictions\n",
    "Using training probability predictions"
   ]
  },
  {
   "cell_type": "code",
   "execution_count": 36,
   "id": "8e474071-0df4-46fa-9322-a7f8107aa78c",
   "metadata": {},
   "outputs": [],
   "source": [
    "all_pred_train = all_predictions_df[all_predictions_df['dset'] == 'train']"
   ]
  },
  {
   "cell_type": "code",
   "execution_count": 37,
   "id": "0fcec5cd-0159-4926-ada6-1fa4efc31e68",
   "metadata": {},
   "outputs": [],
   "source": [
    "thresh_tune_data = sbnn_metrics.get_f1_frame(all_pred_train['target'], \n",
    "                                        all_pred_train['predict_prob'])"
   ]
  },
  {
   "cell_type": "code",
   "execution_count": 38,
   "id": "86200fab-12ee-4e54-a57b-cea99438c36b",
   "metadata": {},
   "outputs": [
    {
     "data": {
      "text/html": [
       "<div>\n",
       "<style scoped>\n",
       "    .dataframe tbody tr th:only-of-type {\n",
       "        vertical-align: middle;\n",
       "    }\n",
       "\n",
       "    .dataframe tbody tr th {\n",
       "        vertical-align: top;\n",
       "    }\n",
       "\n",
       "    .dataframe thead th {\n",
       "        text-align: right;\n",
       "    }\n",
       "</style>\n",
       "<table border=\"1\" class=\"dataframe\">\n",
       "  <thead>\n",
       "    <tr style=\"text-align: right;\">\n",
       "      <th></th>\n",
       "      <th>thresh</th>\n",
       "      <th>f1</th>\n",
       "    </tr>\n",
       "  </thead>\n",
       "  <tbody>\n",
       "    <tr>\n",
       "      <th>11</th>\n",
       "      <td>0.22</td>\n",
       "      <td>0.452025</td>\n",
       "    </tr>\n",
       "    <tr>\n",
       "      <th>12</th>\n",
       "      <td>0.24</td>\n",
       "      <td>0.451335</td>\n",
       "    </tr>\n",
       "    <tr>\n",
       "      <th>10</th>\n",
       "      <td>0.20</td>\n",
       "      <td>0.449986</td>\n",
       "    </tr>\n",
       "  </tbody>\n",
       "</table>\n",
       "</div>"
      ],
      "text/plain": [
       "    thresh        f1\n",
       "11    0.22  0.452025\n",
       "12    0.24  0.451335\n",
       "10    0.20  0.449986"
      ]
     },
     "execution_count": 38,
     "metadata": {},
     "output_type": "execute_result"
    }
   ],
   "source": [
    "thresh_tune_data.sort_values('f1', ascending=False, inplace=True)\n",
    "thresh_tune_data.head(3)"
   ]
  },
  {
   "cell_type": "code",
   "execution_count": 39,
   "id": "2555b67f-67d0-442e-a13c-b6d9bc4650fa",
   "metadata": {},
   "outputs": [
    {
     "data": {
      "text/plain": [
       "0.22"
      ]
     },
     "execution_count": 39,
     "metadata": {},
     "output_type": "execute_result"
    }
   ],
   "source": [
    "best_thresh = thresh_tune_data['thresh'].iloc[0]\n",
    "best_thresh"
   ]
  },
  {
   "cell_type": "markdown",
   "id": "25b8c0ed-db3f-4386-858c-18c3bcad78bd",
   "metadata": {},
   "source": [
    "##### Append binary predictions to probability predictions"
   ]
  },
  {
   "cell_type": "code",
   "execution_count": 40,
   "id": "1acdeb75-48c3-4db0-87ac-7515e054155c",
   "metadata": {},
   "outputs": [],
   "source": [
    "all_predictions_df['predict_bin'] = sbnn_metrics.get_binary_predictions(all_predictions_df['predict_prob'], best_thresh)"
   ]
  },
  {
   "cell_type": "code",
   "execution_count": 41,
   "id": "1eb9ce17-2740-41a1-9fc9-5fef4e84ca0f",
   "metadata": {},
   "outputs": [
    {
     "data": {
      "text/plain": [
       "predict_bin\n",
       "0    0.563639\n",
       "1    0.436361\n",
       "Name: proportion, dtype: float64"
      ]
     },
     "execution_count": 41,
     "metadata": {},
     "output_type": "execute_result"
    }
   ],
   "source": [
    "all_predictions_df['predict_bin'].value_counts(normalize=True, dropna=False)"
   ]
  },
  {
   "cell_type": "code",
   "execution_count": 42,
   "id": "f950b4cd-63f7-4439-ad91-fba65f902d27",
   "metadata": {},
   "outputs": [],
   "source": [
    "all_predictions_df.to_parquet(Path(setup.temp_path).joinpath('A03_DATA_predictions.parquet'))"
   ]
  },
  {
   "cell_type": "markdown",
   "id": "5dad9267-8ba8-4b38-b552-0c50a7677375",
   "metadata": {},
   "source": [
    "## Metrics"
   ]
  },
  {
   "cell_type": "code",
   "execution_count": 43,
   "id": "62e0f0d4-c219-40d1-8bf2-924f918fa935",
   "metadata": {},
   "outputs": [
    {
     "data": {
      "text/html": [
       "<div>\n",
       "<style scoped>\n",
       "    .dataframe tbody tr th:only-of-type {\n",
       "        vertical-align: middle;\n",
       "    }\n",
       "\n",
       "    .dataframe tbody tr th {\n",
       "        vertical-align: top;\n",
       "    }\n",
       "\n",
       "    .dataframe thead th {\n",
       "        text-align: right;\n",
       "    }\n",
       "</style>\n",
       "<table border=\"1\" class=\"dataframe\">\n",
       "  <thead>\n",
       "    <tr style=\"text-align: right;\">\n",
       "      <th></th>\n",
       "      <th>dset</th>\n",
       "      <th>accuracy_score</th>\n",
       "      <th>f1_score</th>\n",
       "      <th>precision_score</th>\n",
       "      <th>recall_score</th>\n",
       "      <th>average_precision_score</th>\n",
       "      <th>roc_auc_score</th>\n",
       "      <th>dset_naics_holdout</th>\n",
       "    </tr>\n",
       "  </thead>\n",
       "  <tbody>\n",
       "    <tr>\n",
       "      <th>0</th>\n",
       "      <td>test</td>\n",
       "      <td>0.643471</td>\n",
       "      <td>0.436569</td>\n",
       "      <td>0.320429</td>\n",
       "      <td>0.684763</td>\n",
       "      <td>0.360862</td>\n",
       "      <td>0.716394</td>\n",
       "      <td>NaN</td>\n",
       "    </tr>\n",
       "    <tr>\n",
       "      <th>1</th>\n",
       "      <td>train</td>\n",
       "      <td>0.649234</td>\n",
       "      <td>0.452025</td>\n",
       "      <td>0.330450</td>\n",
       "      <td>0.715122</td>\n",
       "      <td>0.384109</td>\n",
       "      <td>0.732224</td>\n",
       "      <td>NaN</td>\n",
       "    </tr>\n",
       "    <tr>\n",
       "      <th>2</th>\n",
       "      <td>val</td>\n",
       "      <td>0.649021</td>\n",
       "      <td>0.453226</td>\n",
       "      <td>0.332052</td>\n",
       "      <td>0.713655</td>\n",
       "      <td>0.383240</td>\n",
       "      <td>0.730668</td>\n",
       "      <td>NaN</td>\n",
       "    </tr>\n",
       "    <tr>\n",
       "      <th>0</th>\n",
       "      <td>test</td>\n",
       "      <td>0.646672</td>\n",
       "      <td>0.448110</td>\n",
       "      <td>0.328217</td>\n",
       "      <td>0.706001</td>\n",
       "      <td>0.377234</td>\n",
       "      <td>0.725877</td>\n",
       "      <td>0.0</td>\n",
       "    </tr>\n",
       "    <tr>\n",
       "      <th>1</th>\n",
       "      <td>test</td>\n",
       "      <td>0.638152</td>\n",
       "      <td>0.416776</td>\n",
       "      <td>0.306997</td>\n",
       "      <td>0.648774</td>\n",
       "      <td>0.326655</td>\n",
       "      <td>0.699616</td>\n",
       "      <td>1.0</td>\n",
       "    </tr>\n",
       "  </tbody>\n",
       "</table>\n",
       "</div>"
      ],
      "text/plain": [
       "    dset  accuracy_score  f1_score  precision_score  recall_score  \\\n",
       "0   test        0.643471  0.436569         0.320429      0.684763   \n",
       "1  train        0.649234  0.452025         0.330450      0.715122   \n",
       "2    val        0.649021  0.453226         0.332052      0.713655   \n",
       "0   test        0.646672  0.448110         0.328217      0.706001   \n",
       "1   test        0.638152  0.416776         0.306997      0.648774   \n",
       "\n",
       "   average_precision_score  roc_auc_score  dset_naics_holdout  \n",
       "0                 0.360862       0.716394                 NaN  \n",
       "1                 0.384109       0.732224                 NaN  \n",
       "2                 0.383240       0.730668                 NaN  \n",
       "0                 0.377234       0.725877                 0.0  \n",
       "1                 0.326655       0.699616                 1.0  "
      ]
     },
     "execution_count": 43,
     "metadata": {},
     "output_type": "execute_result"
    }
   ],
   "source": [
    "metrics_dset_df = all_predictions_df.groupby('dset') \\\n",
    "    .apply(lambda x: sbnn_metrics.dset_metrics(x.target, x.predict_bin, x.predict_prob)) \\\n",
    "    .reset_index()\n",
    "metrics_test_df = all_predictions_df[all_predictions_df['dset'] == 'test'] \\\n",
    "    .groupby(['dset', 'dset_naics_holdout']) \\\n",
    "    .apply(lambda x: sbnn_metrics.dset_metrics(x.target, x.predict_bin, x.predict_prob)) \\\n",
    "    .reset_index()\n",
    "metrics_df = pd.concat([metrics_dset_df, metrics_test_df])\n",
    "metrics_df.to_csv(Path(setup.temp_path).joinpath('A03_REPORT_metrics.csv'), index=True)\n",
    "metrics_df"
   ]
  },
  {
   "cell_type": "code",
   "execution_count": null,
   "id": "e271fe87-3fd4-4304-aec9-b95e86ffbc5b",
   "metadata": {},
   "outputs": [],
   "source": []
  },
  {
   "cell_type": "code",
   "execution_count": null,
   "id": "90edab9e-5a5c-4810-a8ff-94693f11af27",
   "metadata": {},
   "outputs": [],
   "source": []
  }
 ],
 "metadata": {
  "kernelspec": {
   "display_name": "tf_p39",
   "language": "python",
   "name": "tf_p39"
  },
  "language_info": {
   "codemirror_mode": {
    "name": "ipython",
    "version": 3
   },
   "file_extension": ".py",
   "mimetype": "text/x-python",
   "name": "python",
   "nbconvert_exporter": "python",
   "pygments_lexer": "ipython3",
   "version": "3.8.18"
  }
 },
 "nbformat": 4,
 "nbformat_minor": 5
}
