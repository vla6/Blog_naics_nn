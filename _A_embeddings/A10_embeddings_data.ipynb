{
 "cells": [
  {
   "cell_type": "code",
   "execution_count": 1,
   "id": "2befe819-7e1a-48cb-8d5b-595cba202f5c",
   "metadata": {},
   "outputs": [],
   "source": [
    "# Modify the file A00_setup.  Note the working directory is changed\n",
    "import os\n",
    "os.chdir(os.getcwd().rsplit(os.path.sep + 'code')[0] + os.path.sep + 'code')\n",
    "from importlib.machinery import SourceFileLoader\n",
    "setup = SourceFileLoader(\"setup\", \"./_A_embeddings/A00_setup.py\").load_module()"
   ]
  },
  {
   "cell_type": "markdown",
   "id": "101d7627-8129-4282-9ec3-c1e8d1902745",
   "metadata": {},
   "source": [
    "## Get NAICS embeddings for many models\n",
    "Retrieve embeddings for relevant models (inlcuding parents), for later analysis and visualizations"
   ]
  },
  {
   "cell_type": "markdown",
   "id": "f2b6bda9-5df4-4556-8b48-0abccc443957",
   "metadata": {},
   "source": [
    "Models to embed:\n",
    "  * 03 (parent): NAICS only, no randomization\n",
    "  * 11 (parent): NAICS only, generator randomization\n",
    "  * 04 (parent): NAICS+hieararchy, no randomization\n",
    "  * 12 (parent): NAICS+hieararchy, data generator\n",
    "  * A01: NAICS+hiearchy, data generator, intermediate layer\n",
    "  * A02: NAICS+hiearchy, no randomization, intermediate layer"
   ]
  },
  {
   "cell_type": "code",
   "execution_count": 2,
   "id": "abf077c3-e17b-4f08-a89f-3aa55ce8d16a",
   "metadata": {},
   "outputs": [],
   "source": [
    "import numpy as np\n",
    "import pandas as pd\n",
    "import tensorflow as tf"
   ]
  },
  {
   "cell_type": "code",
   "execution_count": 3,
   "id": "3c5b562e-feb4-4f8a-a00c-a7abae19e213",
   "metadata": {},
   "outputs": [],
   "source": [
    "from pathlib import Path\n",
    "import importlib, pickle"
   ]
  },
  {
   "cell_type": "code",
   "execution_count": 4,
   "id": "743e4c46-87d2-42b8-b6a2-988188492fcd",
   "metadata": {},
   "outputs": [],
   "source": [
    "import os\n",
    "import re\n",
    "\n",
    "import keras\n",
    "from tensorflow.keras import layers, optimizers, losses, metrics, Model\n",
    "from sklearn import preprocessing, feature_extraction, model_selection\n",
    "from IPython.display import display, HTML\n",
    "import matplotlib.pyplot as plt\n",
    "from keras.utils import plot_model\n",
    "%matplotlib inline"
   ]
  },
  {
   "cell_type": "code",
   "execution_count": 5,
   "id": "4b93476c-8f1f-42a0-963f-465088389df3",
   "metadata": {},
   "outputs": [],
   "source": [
    "from sba_nn.sba_nn import sbnn_metrics, sbnn_model"
   ]
  },
  {
   "cell_type": "markdown",
   "id": "3ddc77a2-f1bb-4cf4-b9c2-47a0892069e1",
   "metadata": {},
   "source": [
    "## Input Data"
   ]
  },
  {
   "cell_type": "code",
   "execution_count": 6,
   "id": "78f505d2-1169-43a0-82a7-e58f0e01be16",
   "metadata": {
    "tags": []
   },
   "outputs": [],
   "source": [
    "sba_loans = pd.read_parquet(Path(setup.parent_path).joinpath('01_DATA_transformed_nomiss.parquet'))"
   ]
  },
  {
   "cell_type": "code",
   "execution_count": 7,
   "id": "775c4d14-ed5c-45aa-b8bf-b697cc920760",
   "metadata": {},
   "outputs": [],
   "source": [
    "with open(Path(setup.parent_path).joinpath('01_DATA_features.pkl'), 'rb') as fin:\n",
    "    imputer_features = pickle.load(fin)"
   ]
  },
  {
   "cell_type": "code",
   "execution_count": 8,
   "id": "f37ada96-5a4b-44dc-94a7-8f5ae32d2bde",
   "metadata": {},
   "outputs": [
    {
     "name": "stdout",
     "output_type": "stream",
     "text": [
      "['NoEmp', 'CreateJob', 'LowDoc', 'DisbursementGross', 'new_business', 'urban_flag', 'franchise_flag', 'missingindicator_LowDoc', 'missingindicator_new_business', 'missingindicator_urban_flag']\n"
     ]
    }
   ],
   "source": [
    "# List numeric features features\n",
    "features_numeric = [f for f in imputer_features if 'NAICS' not in f]\n",
    "features_numeric_len = len(features_numeric)\n",
    "print(features_numeric)"
   ]
  },
  {
   "cell_type": "code",
   "execution_count": 9,
   "id": "ba54af60-d235-4ba3-ac37-2df722c3eb81",
   "metadata": {},
   "outputs": [
    {
     "name": "stdout",
     "output_type": "stream",
     "text": [
      "['NoEmp_orig', 'CreateJob_orig', 'LowDoc_orig', 'DisbursementGross_orig', 'new_business_orig', 'urban_flag_orig', 'franchise_flag_orig']\n"
     ]
    }
   ],
   "source": [
    "features_orig = [c + '_orig' for c in features_numeric if c + '_orig' in sba_loans.columns]\n",
    "print(features_orig)"
   ]
  },
  {
   "cell_type": "markdown",
   "id": "0d69ad13-3578-4825-9645-b6fd25ff5215",
   "metadata": {},
   "source": [
    "## NAICS info table"
   ]
  },
  {
   "cell_type": "code",
   "execution_count": 10,
   "id": "29978157-d338-4121-970c-6e1cff3de4b5",
   "metadata": {},
   "outputs": [],
   "source": [
    "naics_unique = sba_loans.drop_duplicates('NAICS_orig')"
   ]
  },
  {
   "cell_type": "code",
   "execution_count": 11,
   "id": "66b82768-9af4-49dc-8d2b-7f2d433b1fad",
   "metadata": {},
   "outputs": [],
   "source": [
    "# NAICS feature \n",
    "features_naics = ['NAICS', 'NAICS_4', 'NAICS_3', 'NAICS_sector']\n",
    "features_naics_orig = [c + '_orig' for c in features_naics]"
   ]
  },
  {
   "cell_type": "code",
   "execution_count": 12,
   "id": "288d6d1f-edf7-4463-89aa-86a75b6f7349",
   "metadata": {},
   "outputs": [],
   "source": [
    "naics_info_1 = sba_loans.groupby('NAICS_orig') \\\n",
    "    .agg({'dset_naics_holdout':'max', 'target':'mean', 'LoanNr_ChkDgt':'count'}) \\\n",
    "    .rename(columns={'LoanNr_ChkDgt':'count'}) \\\n",
    "    .reset_index()\n",
    "naics_info = naics_unique[features_naics_orig].merge(naics_info_1, on='NAICS_orig')"
   ]
  },
  {
   "cell_type": "code",
   "execution_count": 13,
   "id": "92fc5b72-8b2a-4ce2-ab1e-0ea6f68f6fc7",
   "metadata": {},
   "outputs": [
    {
     "data": {
      "text/html": [
       "<div>\n",
       "<style scoped>\n",
       "    .dataframe tbody tr th:only-of-type {\n",
       "        vertical-align: middle;\n",
       "    }\n",
       "\n",
       "    .dataframe tbody tr th {\n",
       "        vertical-align: top;\n",
       "    }\n",
       "\n",
       "    .dataframe thead th {\n",
       "        text-align: right;\n",
       "    }\n",
       "</style>\n",
       "<table border=\"1\" class=\"dataframe\">\n",
       "  <thead>\n",
       "    <tr style=\"text-align: right;\">\n",
       "      <th></th>\n",
       "      <th>NAICS_orig</th>\n",
       "      <th>NAICS_4_orig</th>\n",
       "      <th>NAICS_3_orig</th>\n",
       "      <th>NAICS_sector_orig</th>\n",
       "      <th>dset_naics_holdout</th>\n",
       "      <th>target</th>\n",
       "      <th>count</th>\n",
       "    </tr>\n",
       "  </thead>\n",
       "  <tbody>\n",
       "    <tr>\n",
       "      <th>1261</th>\n",
       "      <td>111336</td>\n",
       "      <td>1113</td>\n",
       "      <td>111</td>\n",
       "      <td>11</td>\n",
       "      <td>0.0</td>\n",
       "      <td>0.000000</td>\n",
       "      <td>1</td>\n",
       "    </tr>\n",
       "    <tr>\n",
       "      <th>624</th>\n",
       "      <td>327332</td>\n",
       "      <td>3273</td>\n",
       "      <td>327</td>\n",
       "      <td>31-33</td>\n",
       "      <td>0.0</td>\n",
       "      <td>0.200000</td>\n",
       "      <td>15</td>\n",
       "    </tr>\n",
       "    <tr>\n",
       "      <th>408</th>\n",
       "      <td>333923</td>\n",
       "      <td>3339</td>\n",
       "      <td>333</td>\n",
       "      <td>31-33</td>\n",
       "      <td>0.0</td>\n",
       "      <td>0.072464</td>\n",
       "      <td>69</td>\n",
       "    </tr>\n",
       "  </tbody>\n",
       "</table>\n",
       "</div>"
      ],
      "text/plain": [
       "     NAICS_orig NAICS_4_orig NAICS_3_orig NAICS_sector_orig  \\\n",
       "1261     111336         1113          111                11   \n",
       "624      327332         3273          327             31-33   \n",
       "408      333923         3339          333             31-33   \n",
       "\n",
       "      dset_naics_holdout    target  count  \n",
       "1261                 0.0  0.000000      1  \n",
       "624                  0.0  0.200000     15  \n",
       "408                  0.0  0.072464     69  "
      ]
     },
     "execution_count": 13,
     "metadata": {},
     "output_type": "execute_result"
    }
   ],
   "source": [
    "naics_info['dset_naics_holdout'] = naics_info['dset_naics_holdout'] \\\n",
    "    .where(naics_info['dset_naics_holdout'] == 1, 0)\n",
    "naics_info.sample(3)"
   ]
  },
  {
   "cell_type": "code",
   "execution_count": 14,
   "id": "11618a88-4e05-46cd-ba04-7be9ad26cffd",
   "metadata": {},
   "outputs": [
    {
     "data": {
      "text/plain": [
       "dset_naics_holdout\n",
       "0.0    1180\n",
       "1.0     131\n",
       "Name: count, dtype: int64"
      ]
     },
     "execution_count": 14,
     "metadata": {},
     "output_type": "execute_result"
    }
   ],
   "source": [
    "naics_info['dset_naics_holdout'].value_counts()"
   ]
  },
  {
   "cell_type": "code",
   "execution_count": 15,
   "id": "47007092-af53-4d8d-9cf4-10c61ae15ef5",
   "metadata": {},
   "outputs": [],
   "source": [
    "naics_info.to_parquet(Path(setup.temp_path).joinpath('A10_DATA_naics_info.parquet'))"
   ]
  },
  {
   "cell_type": "markdown",
   "id": "f1bfc3f5-61e3-4167-88b7-dcc9fb49e24c",
   "metadata": {},
   "source": [
    "##### Append predictor means"
   ]
  },
  {
   "cell_type": "code",
   "execution_count": 16,
   "id": "7f85d2ee-011b-4fa6-bb89-5c50168f7331",
   "metadata": {},
   "outputs": [],
   "source": [
    "pred_agg = dict(zip(features_numeric + features_orig, ['mean']*len(features_numeric + features_orig)))"
   ]
  },
  {
   "cell_type": "code",
   "execution_count": 17,
   "id": "41a129a2-ff79-41d9-b4d2-65b3906c3466",
   "metadata": {},
   "outputs": [],
   "source": [
    "naics_info_2 = sba_loans.groupby('NAICS_orig') \\\n",
    "    .agg(pred_agg) \\\n",
    "    .reset_index()"
   ]
  },
  {
   "cell_type": "code",
   "execution_count": 18,
   "id": "0371f919-4029-4523-86ff-7984abad0e0f",
   "metadata": {},
   "outputs": [],
   "source": [
    "naics_info_2.to_parquet(Path(setup.temp_path).joinpath('A10_DATA_naics_info_predictors.parquet'))"
   ]
  },
  {
   "cell_type": "markdown",
   "id": "6bda1025-191f-4aa2-ad10-590c5f122f8f",
   "metadata": {},
   "source": [
    "## Model Specs\n",
    "Get lists containing relevant info for selected models"
   ]
  },
  {
   "cell_type": "code",
   "execution_count": 19,
   "id": "4b6ed889-6bae-43f5-b293-2304446492f0",
   "metadata": {},
   "outputs": [],
   "source": [
    "# Lists of relevant info\n",
    "model_prefix = ['03', '11', '04', '12', 'A01', 'A02']\n",
    "model_path= [setup.parent_path]*4 + [setup.temp_path]*2\n",
    "model_hier = [False]*2 +  [True] * 4\n",
    "model_rand  = [False, True, False, True, True, False]\n",
    "model_layer_name = ['NAICS']*4 + ['embedding_int']*2\n",
    "num_models=len(model_prefix)"
   ]
  },
  {
   "cell_type": "code",
   "execution_count": 20,
   "id": "dc7a3a05-ff9d-4bb1-a5d8-1680b061e6ab",
   "metadata": {},
   "outputs": [],
   "source": [
    "model_full_paths = [Path(model_path[i]).joinpath(model_prefix[i] + '_DATA_model.keras') \n",
    "                    for i in range(num_models)]"
   ]
  },
  {
   "cell_type": "code",
   "execution_count": 21,
   "id": "cc43bcf3-2142-45f9-9d77-016c4818789d",
   "metadata": {},
   "outputs": [
    {
     "data": {
      "text/html": [
       "<div>\n",
       "<style scoped>\n",
       "    .dataframe tbody tr th:only-of-type {\n",
       "        vertical-align: middle;\n",
       "    }\n",
       "\n",
       "    .dataframe tbody tr th {\n",
       "        vertical-align: top;\n",
       "    }\n",
       "\n",
       "    .dataframe thead th {\n",
       "        text-align: right;\n",
       "    }\n",
       "</style>\n",
       "<table border=\"1\" class=\"dataframe\">\n",
       "  <thead>\n",
       "    <tr style=\"text-align: right;\">\n",
       "      <th></th>\n",
       "      <th>model</th>\n",
       "      <th>model_path</th>\n",
       "      <th>model_hier</th>\n",
       "      <th>model_rand</th>\n",
       "      <th>model_layer_name</th>\n",
       "    </tr>\n",
       "  </thead>\n",
       "  <tbody>\n",
       "    <tr>\n",
       "      <th>0</th>\n",
       "      <td>03</td>\n",
       "      <td>../data/2024_05_16/03_DATA_model.keras</td>\n",
       "      <td>False</td>\n",
       "      <td>False</td>\n",
       "      <td>NAICS</td>\n",
       "    </tr>\n",
       "    <tr>\n",
       "      <th>1</th>\n",
       "      <td>11</td>\n",
       "      <td>../data/2024_05_16/11_DATA_model.keras</td>\n",
       "      <td>False</td>\n",
       "      <td>True</td>\n",
       "      <td>NAICS</td>\n",
       "    </tr>\n",
       "    <tr>\n",
       "      <th>2</th>\n",
       "      <td>04</td>\n",
       "      <td>../data/2024_05_16/04_DATA_model.keras</td>\n",
       "      <td>True</td>\n",
       "      <td>False</td>\n",
       "      <td>NAICS</td>\n",
       "    </tr>\n",
       "    <tr>\n",
       "      <th>3</th>\n",
       "      <td>12</td>\n",
       "      <td>../data/2024_05_16/12_DATA_model.keras</td>\n",
       "      <td>True</td>\n",
       "      <td>True</td>\n",
       "      <td>NAICS</td>\n",
       "    </tr>\n",
       "    <tr>\n",
       "      <th>4</th>\n",
       "      <td>A01</td>\n",
       "      <td>../data/2024_06_04/A01_DATA_model.keras</td>\n",
       "      <td>True</td>\n",
       "      <td>True</td>\n",
       "      <td>embedding_int</td>\n",
       "    </tr>\n",
       "    <tr>\n",
       "      <th>5</th>\n",
       "      <td>A02</td>\n",
       "      <td>../data/2024_06_04/A02_DATA_model.keras</td>\n",
       "      <td>True</td>\n",
       "      <td>False</td>\n",
       "      <td>embedding_int</td>\n",
       "    </tr>\n",
       "  </tbody>\n",
       "</table>\n",
       "</div>"
      ],
      "text/plain": [
       "  model                               model_path  model_hier  model_rand  \\\n",
       "0    03   ../data/2024_05_16/03_DATA_model.keras       False       False   \n",
       "1    11   ../data/2024_05_16/11_DATA_model.keras       False        True   \n",
       "2    04   ../data/2024_05_16/04_DATA_model.keras        True       False   \n",
       "3    12   ../data/2024_05_16/12_DATA_model.keras        True        True   \n",
       "4   A01  ../data/2024_06_04/A01_DATA_model.keras        True        True   \n",
       "5   A02  ../data/2024_06_04/A02_DATA_model.keras        True       False   \n",
       "\n",
       "  model_layer_name  \n",
       "0            NAICS  \n",
       "1            NAICS  \n",
       "2            NAICS  \n",
       "3            NAICS  \n",
       "4    embedding_int  \n",
       "5    embedding_int  "
      ]
     },
     "execution_count": 21,
     "metadata": {},
     "output_type": "execute_result"
    }
   ],
   "source": [
    "# Dataframe of the above\n",
    "model_info_frame = pd.DataFrame({'model':model_prefix,\n",
    "                                'model_path':model_full_paths,\n",
    "                                 'model_hier':model_hier,\n",
    "                                 'model_rand':model_rand,\n",
    "                                 'model_layer_name':model_layer_name})\n",
    "model_info_frame.to_csv(Path(setup.temp_path).joinpath('A10_REPORT_model_info.csv'),\n",
    "                       index=False)\n",
    "model_info_frame"
   ]
  },
  {
   "cell_type": "code",
   "execution_count": 22,
   "id": "12e63e13-f248-495a-8941-a49279f9de43",
   "metadata": {},
   "outputs": [],
   "source": [
    "# NAICS input tables\n",
    "features_naics_base = ['NAICS']\n",
    "features_naics_hier = ['NAICS', 'NAICS_4', 'NAICS_3', 'NAICS_sector']\n",
    "model_naics_features = [features_naics_hier if model_hier[i] else\n",
    "                        features_naics_base for i in range(num_models)] "
   ]
  },
  {
   "cell_type": "markdown",
   "id": "d55f1df3-c656-4c6e-85fe-411a3590882d",
   "metadata": {},
   "source": [
    "## Function \n",
    "Get embeddings for a dataset from a model.  Optionally save the model diagram"
   ]
  },
  {
   "cell_type": "code",
   "execution_count": 23,
   "id": "af6d3684-086a-4edf-b572-bba1dd91907a",
   "metadata": {},
   "outputs": [],
   "source": [
    "def model_emb(full_path, data, \n",
    "              data_index = ['NAICS_orig'],\n",
    "              data_append = naics_info,\n",
    "              save_diagram=False,\n",
    "              out_path = Path(setup.temp_path),\n",
    "              out_prefix = 'XX', \n",
    "              layer_name = 'NAICS',\n",
    "              features_numeric = features_numeric,\n",
    "              features_naics = ['NAICS', 'NAICS_4', 'NAICS_3', 'NAICS_sector']):\n",
    "    \n",
    "    # Load this model, save diagram if applicable\n",
    "    model = keras.models.load_model(full_path)\n",
    "    if save_diagram:\n",
    "        plot_model(model, \n",
    "                   to_file=Path(out_path).joinpath(out_prefix +'_model_diag.png'),\n",
    "                   show_shapes=False)\n",
    "        \n",
    "    # Create a new model object to access the embeddings 1 layers above (normalized output)\n",
    "    emb_model = Model(inputs=model.input, outputs=model.get_layer(layer_name).output)\n",
    "    \n",
    "    # Get the data of interest\n",
    "    X = data[data_index + features_numeric +  features_naics].copy() \\\n",
    "        .set_index(data_index).sort_index()\n",
    "    \n",
    "    naics_emb = emb_model.predict([X[features_numeric]]+ [X[f] for f in features_naics])\n",
    "    \n",
    "    naics_emb_df = pd.DataFrame(naics_emb, index=X.index) \\\n",
    "        .set_axis([f'emb_{i:02}' for i in range(naics_emb.shape[1])], axis=1) \\\n",
    "        .reset_index() \\\n",
    "        .merge(data_append, on=data_index) \n",
    "    \n",
    "    return naics_emb_df"
   ]
  },
  {
   "cell_type": "code",
   "execution_count": 24,
   "id": "75af1fa6-e1f4-4638-9b3b-ee5bf6506659",
   "metadata": {},
   "outputs": [],
   "source": [
    "# Function to apply model_emb to the dataframe"
   ]
  },
  {
   "cell_type": "code",
   "execution_count": 25,
   "id": "ee4cc196-bacc-4719-afe2-5cd4f8d22adc",
   "metadata": {},
   "outputs": [],
   "source": [
    "def model_emb_apply(model_info_series, \n",
    "                    data = naics_unique,\n",
    "                    data_append = None,\n",
    "                    save_diagram = True,\n",
    "                    data_index = ['NAICS_orig'],\n",
    "                    prefix = 'A10_PLOT_model'):\n",
    "    \n",
    "    if save_diagram:\n",
    "        out_prefix = prefix + '_' + model_info_series['model'] \n",
    "    else:\n",
    "        out_prefix = None\n",
    "        \n",
    "    if model_info_series['model_hier']:\n",
    "        features_naics = features_naics_hier\n",
    "    else:\n",
    "        features_naics = features_naics_base\n",
    "        \n",
    "    if data_append is None:\n",
    "        data_append = naics_info[['dset_naics_holdout'] + features_naics_orig]\n",
    "        \n",
    "    out_data = model_emb(model_info_series['model_path'],\n",
    "                         data, \n",
    "                         data_append = data_append,\n",
    "                         save_diagram = save_diagram,\n",
    "                         data_index = data_index,\n",
    "                         out_prefix = out_prefix,\n",
    "                         layer_name = model_info_series['model_layer_name'],\n",
    "                         features_naics = features_naics)\n",
    "    out_data['model'] = model_info_series['model']\n",
    "    \n",
    "    return out_data           "
   ]
  },
  {
   "cell_type": "markdown",
   "id": "c01b482d-d3e0-4251-a867-095497c76525",
   "metadata": {},
   "source": [
    "## Embeddings for all models\n",
    "Get embeddings for all models, combine them into one dataframe and save."
   ]
  },
  {
   "cell_type": "code",
   "execution_count": 26,
   "id": "125f5bb0-1f26-4a7c-b714-5f5ed04b5bbf",
   "metadata": {},
   "outputs": [
    {
     "name": "stderr",
     "output_type": "stream",
     "text": [
      "2024-07-15 21:56:44.491153: I metal_plugin/src/device/metal_device.cc:1154] Metal device set to: Apple M1\n",
      "2024-07-15 21:56:44.491187: I metal_plugin/src/device/metal_device.cc:296] systemMemory: 16.00 GB\n",
      "2024-07-15 21:56:44.491200: I metal_plugin/src/device/metal_device.cc:313] maxCacheSize: 5.33 GB\n",
      "2024-07-15 21:56:44.491256: I tensorflow/core/common_runtime/pluggable_device/pluggable_device_factory.cc:303] Could not identify NUMA node of platform GPU ID 0, defaulting to 0. Your kernel may not have been built with NUMA support.\n",
      "2024-07-15 21:56:44.491278: I tensorflow/core/common_runtime/pluggable_device/pluggable_device_factory.cc:269] Created TensorFlow device (/job:localhost/replica:0/task:0/device:GPU:0 with 0 MB memory) -> physical PluggableDevice (device: 0, name: METAL, pci bus id: <undefined>)\n"
     ]
    },
    {
     "name": "stdout",
     "output_type": "stream",
     "text": [
      "41/41 [==============================] - 0s 1ms/step\n"
     ]
    },
    {
     "name": "stderr",
     "output_type": "stream",
     "text": [
      "2024-07-15 21:56:46.602792: I tensorflow/core/grappler/optimizers/custom_graph_optimizer_registry.cc:114] Plugin optimizer for device_type GPU is enabled.\n"
     ]
    },
    {
     "name": "stdout",
     "output_type": "stream",
     "text": [
      "41/41 [==============================] - 0s 1ms/step\n"
     ]
    },
    {
     "name": "stderr",
     "output_type": "stream",
     "text": [
      "2024-07-15 21:56:47.131668: I tensorflow/core/grappler/optimizers/custom_graph_optimizer_registry.cc:114] Plugin optimizer for device_type GPU is enabled.\n"
     ]
    },
    {
     "name": "stdout",
     "output_type": "stream",
     "text": [
      "41/41 [==============================] - 0s 2ms/step\n"
     ]
    },
    {
     "name": "stderr",
     "output_type": "stream",
     "text": [
      "2024-07-15 21:56:47.675044: I tensorflow/core/grappler/optimizers/custom_graph_optimizer_registry.cc:114] Plugin optimizer for device_type GPU is enabled.\n"
     ]
    },
    {
     "name": "stdout",
     "output_type": "stream",
     "text": [
      "41/41 [==============================] - 0s 1ms/step\n"
     ]
    },
    {
     "name": "stderr",
     "output_type": "stream",
     "text": [
      "2024-07-15 21:56:48.189849: I tensorflow/core/grappler/optimizers/custom_graph_optimizer_registry.cc:114] Plugin optimizer for device_type GPU is enabled.\n",
      "2024-07-15 21:56:48.743681: I tensorflow/core/grappler/optimizers/custom_graph_optimizer_registry.cc:114] Plugin optimizer for device_type GPU is enabled.\n"
     ]
    },
    {
     "name": "stdout",
     "output_type": "stream",
     "text": [
      "41/41 [==============================] - 1s 2ms/step\n",
      "41/41 [==============================] - 0s 2ms/step\n"
     ]
    },
    {
     "name": "stderr",
     "output_type": "stream",
     "text": [
      "2024-07-15 21:56:50.138429: I tensorflow/core/grappler/optimizers/custom_graph_optimizer_registry.cc:114] Plugin optimizer for device_type GPU is enabled.\n"
     ]
    }
   ],
   "source": [
    "emb_all = pd.concat(model_info_frame.apply(model_emb_apply, axis=1,\n",
    "                                result_type='reduce').to_list())"
   ]
  },
  {
   "cell_type": "code",
   "execution_count": 27,
   "id": "84258796-9488-4db5-b6eb-cf2f2bbc02eb",
   "metadata": {},
   "outputs": [
    {
     "data": {
      "text/plain": [
       "model\n",
       "03     1311\n",
       "11     1311\n",
       "04     1311\n",
       "12     1311\n",
       "A01    1311\n",
       "A02    1311\n",
       "Name: count, dtype: int64"
      ]
     },
     "execution_count": 27,
     "metadata": {},
     "output_type": "execute_result"
    }
   ],
   "source": [
    "emb_all['model'].value_counts()"
   ]
  },
  {
   "cell_type": "code",
   "execution_count": 28,
   "id": "1294f12d-ea96-4f19-bc79-b6889bff0d2f",
   "metadata": {},
   "outputs": [
    {
     "data": {
      "text/html": [
       "<div>\n",
       "<style scoped>\n",
       "    .dataframe tbody tr th:only-of-type {\n",
       "        vertical-align: middle;\n",
       "    }\n",
       "\n",
       "    .dataframe tbody tr th {\n",
       "        vertical-align: top;\n",
       "    }\n",
       "\n",
       "    .dataframe thead th {\n",
       "        text-align: right;\n",
       "    }\n",
       "</style>\n",
       "<table border=\"1\" class=\"dataframe\">\n",
       "  <thead>\n",
       "    <tr style=\"text-align: right;\">\n",
       "      <th></th>\n",
       "      <th>NAICS_orig</th>\n",
       "      <th>emb_00</th>\n",
       "      <th>emb_01</th>\n",
       "      <th>emb_02</th>\n",
       "      <th>emb_03</th>\n",
       "      <th>emb_04</th>\n",
       "      <th>emb_05</th>\n",
       "      <th>emb_06</th>\n",
       "      <th>emb_07</th>\n",
       "      <th>dset_naics_holdout</th>\n",
       "      <th>NAICS_4_orig</th>\n",
       "      <th>NAICS_3_orig</th>\n",
       "      <th>NAICS_sector_orig</th>\n",
       "      <th>model</th>\n",
       "    </tr>\n",
       "  </thead>\n",
       "  <tbody>\n",
       "    <tr>\n",
       "      <th>17</th>\n",
       "      <td>111419</td>\n",
       "      <td>-0.030238</td>\n",
       "      <td>-0.020883</td>\n",
       "      <td>-0.008131</td>\n",
       "      <td>0.023881</td>\n",
       "      <td>-0.044659</td>\n",
       "      <td>-0.017204</td>\n",
       "      <td>-0.017765</td>\n",
       "      <td>0.004579</td>\n",
       "      <td>1.0</td>\n",
       "      <td>1114</td>\n",
       "      <td>111</td>\n",
       "      <td>11</td>\n",
       "      <td>03</td>\n",
       "    </tr>\n",
       "    <tr>\n",
       "      <th>17</th>\n",
       "      <td>111419</td>\n",
       "      <td>-0.129860</td>\n",
       "      <td>-0.041437</td>\n",
       "      <td>0.234216</td>\n",
       "      <td>-0.379106</td>\n",
       "      <td>-0.060093</td>\n",
       "      <td>0.303469</td>\n",
       "      <td>-0.257404</td>\n",
       "      <td>0.366726</td>\n",
       "      <td>1.0</td>\n",
       "      <td>1114</td>\n",
       "      <td>111</td>\n",
       "      <td>11</td>\n",
       "      <td>11</td>\n",
       "    </tr>\n",
       "    <tr>\n",
       "      <th>17</th>\n",
       "      <td>111419</td>\n",
       "      <td>0.011556</td>\n",
       "      <td>-0.043910</td>\n",
       "      <td>-0.049571</td>\n",
       "      <td>-0.044651</td>\n",
       "      <td>-0.037497</td>\n",
       "      <td>0.029903</td>\n",
       "      <td>0.034559</td>\n",
       "      <td>-0.026072</td>\n",
       "      <td>1.0</td>\n",
       "      <td>1114</td>\n",
       "      <td>111</td>\n",
       "      <td>11</td>\n",
       "      <td>04</td>\n",
       "    </tr>\n",
       "    <tr>\n",
       "      <th>17</th>\n",
       "      <td>111419</td>\n",
       "      <td>0.126656</td>\n",
       "      <td>-0.013041</td>\n",
       "      <td>-0.201824</td>\n",
       "      <td>-0.345253</td>\n",
       "      <td>-0.232339</td>\n",
       "      <td>0.175296</td>\n",
       "      <td>0.138054</td>\n",
       "      <td>0.173340</td>\n",
       "      <td>1.0</td>\n",
       "      <td>1114</td>\n",
       "      <td>111</td>\n",
       "      <td>11</td>\n",
       "      <td>12</td>\n",
       "    </tr>\n",
       "    <tr>\n",
       "      <th>17</th>\n",
       "      <td>111419</td>\n",
       "      <td>-0.197121</td>\n",
       "      <td>-0.284792</td>\n",
       "      <td>0.144166</td>\n",
       "      <td>-0.371903</td>\n",
       "      <td>0.370247</td>\n",
       "      <td>0.285222</td>\n",
       "      <td>-0.334234</td>\n",
       "      <td>-0.104493</td>\n",
       "      <td>1.0</td>\n",
       "      <td>1114</td>\n",
       "      <td>111</td>\n",
       "      <td>11</td>\n",
       "      <td>A01</td>\n",
       "    </tr>\n",
       "    <tr>\n",
       "      <th>17</th>\n",
       "      <td>111419</td>\n",
       "      <td>0.224055</td>\n",
       "      <td>0.166809</td>\n",
       "      <td>0.132954</td>\n",
       "      <td>0.217611</td>\n",
       "      <td>0.361108</td>\n",
       "      <td>-0.037709</td>\n",
       "      <td>-0.250264</td>\n",
       "      <td>0.053568</td>\n",
       "      <td>1.0</td>\n",
       "      <td>1114</td>\n",
       "      <td>111</td>\n",
       "      <td>11</td>\n",
       "      <td>A02</td>\n",
       "    </tr>\n",
       "  </tbody>\n",
       "</table>\n",
       "</div>"
      ],
      "text/plain": [
       "   NAICS_orig    emb_00    emb_01    emb_02    emb_03    emb_04    emb_05  \\\n",
       "17     111419 -0.030238 -0.020883 -0.008131  0.023881 -0.044659 -0.017204   \n",
       "17     111419 -0.129860 -0.041437  0.234216 -0.379106 -0.060093  0.303469   \n",
       "17     111419  0.011556 -0.043910 -0.049571 -0.044651 -0.037497  0.029903   \n",
       "17     111419  0.126656 -0.013041 -0.201824 -0.345253 -0.232339  0.175296   \n",
       "17     111419 -0.197121 -0.284792  0.144166 -0.371903  0.370247  0.285222   \n",
       "17     111419  0.224055  0.166809  0.132954  0.217611  0.361108 -0.037709   \n",
       "\n",
       "      emb_06    emb_07  dset_naics_holdout NAICS_4_orig NAICS_3_orig  \\\n",
       "17 -0.017765  0.004579                 1.0         1114          111   \n",
       "17 -0.257404  0.366726                 1.0         1114          111   \n",
       "17  0.034559 -0.026072                 1.0         1114          111   \n",
       "17  0.138054  0.173340                 1.0         1114          111   \n",
       "17 -0.334234 -0.104493                 1.0         1114          111   \n",
       "17 -0.250264  0.053568                 1.0         1114          111   \n",
       "\n",
       "   NAICS_sector_orig model  \n",
       "17                11    03  \n",
       "17                11    11  \n",
       "17                11    04  \n",
       "17                11    12  \n",
       "17                11   A01  \n",
       "17                11   A02  "
      ]
     },
     "execution_count": 28,
     "metadata": {},
     "output_type": "execute_result"
    }
   ],
   "source": [
    "emb_all[emb_all['NAICS_orig'] == '111419']"
   ]
  },
  {
   "cell_type": "code",
   "execution_count": 29,
   "id": "1dcb56ef-1b34-4793-863e-54504715f890",
   "metadata": {},
   "outputs": [
    {
     "data": {
      "text/html": [
       "<div>\n",
       "<style scoped>\n",
       "    .dataframe tbody tr th:only-of-type {\n",
       "        vertical-align: middle;\n",
       "    }\n",
       "\n",
       "    .dataframe tbody tr th {\n",
       "        vertical-align: top;\n",
       "    }\n",
       "\n",
       "    .dataframe thead th {\n",
       "        text-align: right;\n",
       "    }\n",
       "</style>\n",
       "<table border=\"1\" class=\"dataframe\">\n",
       "  <thead>\n",
       "    <tr style=\"text-align: right;\">\n",
       "      <th></th>\n",
       "      <th>model</th>\n",
       "      <th>model_path</th>\n",
       "      <th>model_hier</th>\n",
       "      <th>model_rand</th>\n",
       "      <th>model_layer_name</th>\n",
       "    </tr>\n",
       "  </thead>\n",
       "  <tbody>\n",
       "    <tr>\n",
       "      <th>0</th>\n",
       "      <td>03</td>\n",
       "      <td>../data/2024_05_16/03_DATA_model.keras</td>\n",
       "      <td>False</td>\n",
       "      <td>False</td>\n",
       "      <td>NAICS</td>\n",
       "    </tr>\n",
       "    <tr>\n",
       "      <th>1</th>\n",
       "      <td>11</td>\n",
       "      <td>../data/2024_05_16/11_DATA_model.keras</td>\n",
       "      <td>False</td>\n",
       "      <td>True</td>\n",
       "      <td>NAICS</td>\n",
       "    </tr>\n",
       "    <tr>\n",
       "      <th>2</th>\n",
       "      <td>04</td>\n",
       "      <td>../data/2024_05_16/04_DATA_model.keras</td>\n",
       "      <td>True</td>\n",
       "      <td>False</td>\n",
       "      <td>NAICS</td>\n",
       "    </tr>\n",
       "    <tr>\n",
       "      <th>3</th>\n",
       "      <td>12</td>\n",
       "      <td>../data/2024_05_16/12_DATA_model.keras</td>\n",
       "      <td>True</td>\n",
       "      <td>True</td>\n",
       "      <td>NAICS</td>\n",
       "    </tr>\n",
       "    <tr>\n",
       "      <th>4</th>\n",
       "      <td>A01</td>\n",
       "      <td>../data/2024_06_04/A01_DATA_model.keras</td>\n",
       "      <td>True</td>\n",
       "      <td>True</td>\n",
       "      <td>embedding_int</td>\n",
       "    </tr>\n",
       "    <tr>\n",
       "      <th>5</th>\n",
       "      <td>A02</td>\n",
       "      <td>../data/2024_06_04/A02_DATA_model.keras</td>\n",
       "      <td>True</td>\n",
       "      <td>False</td>\n",
       "      <td>embedding_int</td>\n",
       "    </tr>\n",
       "  </tbody>\n",
       "</table>\n",
       "</div>"
      ],
      "text/plain": [
       "  model                               model_path  model_hier  model_rand  \\\n",
       "0    03   ../data/2024_05_16/03_DATA_model.keras       False       False   \n",
       "1    11   ../data/2024_05_16/11_DATA_model.keras       False        True   \n",
       "2    04   ../data/2024_05_16/04_DATA_model.keras        True       False   \n",
       "3    12   ../data/2024_05_16/12_DATA_model.keras        True        True   \n",
       "4   A01  ../data/2024_06_04/A01_DATA_model.keras        True        True   \n",
       "5   A02  ../data/2024_06_04/A02_DATA_model.keras        True       False   \n",
       "\n",
       "  model_layer_name  \n",
       "0            NAICS  \n",
       "1            NAICS  \n",
       "2            NAICS  \n",
       "3            NAICS  \n",
       "4    embedding_int  \n",
       "5    embedding_int  "
      ]
     },
     "execution_count": 29,
     "metadata": {},
     "output_type": "execute_result"
    }
   ],
   "source": [
    "model_info_frame"
   ]
  },
  {
   "cell_type": "code",
   "execution_count": 30,
   "id": "7df9359d-a660-4a33-a688-70aff087b9a4",
   "metadata": {},
   "outputs": [],
   "source": [
    "emb_all.to_csv(Path(setup.temp_path).joinpath('A10_DATA_embeddings.csv'), index=False)\n",
    "emb_all.to_parquet(Path(setup.temp_path).joinpath('A10_DATA_embeddings.parquet'))"
   ]
  },
  {
   "cell_type": "code",
   "execution_count": 31,
   "id": "0b545cee-1a37-4d65-a09b-9643eaac7689",
   "metadata": {},
   "outputs": [
    {
     "data": {
      "text/plain": [
       "['emb_00',\n",
       " 'emb_01',\n",
       " 'emb_02',\n",
       " 'emb_03',\n",
       " 'emb_04',\n",
       " 'emb_05',\n",
       " 'emb_06',\n",
       " 'emb_07']"
      ]
     },
     "execution_count": 31,
     "metadata": {},
     "output_type": "execute_result"
    }
   ],
   "source": [
    "emb_feat  = list(emb_all.filter(like='emb_').columns)\n",
    "emb_feat"
   ]
  },
  {
   "cell_type": "code",
   "execution_count": 32,
   "id": "f1bec54e-afe8-4696-a97e-f939cd62840b",
   "metadata": {},
   "outputs": [
    {
     "data": {
      "text/html": [
       "<div>\n",
       "<style scoped>\n",
       "    .dataframe tbody tr th:only-of-type {\n",
       "        vertical-align: middle;\n",
       "    }\n",
       "\n",
       "    .dataframe tbody tr th {\n",
       "        vertical-align: top;\n",
       "    }\n",
       "\n",
       "    .dataframe thead tr th {\n",
       "        text-align: left;\n",
       "    }\n",
       "\n",
       "    .dataframe thead tr:last-of-type th {\n",
       "        text-align: right;\n",
       "    }\n",
       "</style>\n",
       "<table border=\"1\" class=\"dataframe\">\n",
       "  <thead>\n",
       "    <tr>\n",
       "      <th></th>\n",
       "      <th></th>\n",
       "      <th>emb_00</th>\n",
       "      <th>emb_01</th>\n",
       "      <th>emb_02</th>\n",
       "      <th>emb_03</th>\n",
       "      <th>emb_04</th>\n",
       "      <th>emb_05</th>\n",
       "      <th>emb_06</th>\n",
       "      <th>emb_07</th>\n",
       "    </tr>\n",
       "    <tr>\n",
       "      <th></th>\n",
       "      <th></th>\n",
       "      <th>std</th>\n",
       "      <th>std</th>\n",
       "      <th>std</th>\n",
       "      <th>std</th>\n",
       "      <th>std</th>\n",
       "      <th>std</th>\n",
       "      <th>std</th>\n",
       "      <th>std</th>\n",
       "    </tr>\n",
       "    <tr>\n",
       "      <th>dset_naics_holdout</th>\n",
       "      <th>model</th>\n",
       "      <th></th>\n",
       "      <th></th>\n",
       "      <th></th>\n",
       "      <th></th>\n",
       "      <th></th>\n",
       "      <th></th>\n",
       "      <th></th>\n",
       "      <th></th>\n",
       "    </tr>\n",
       "  </thead>\n",
       "  <tbody>\n",
       "    <tr>\n",
       "      <th rowspan=\"6\" valign=\"top\">0.0</th>\n",
       "      <th>03</th>\n",
       "      <td>0.336414</td>\n",
       "      <td>0.258630</td>\n",
       "      <td>0.376186</td>\n",
       "      <td>0.332166</td>\n",
       "      <td>0.391243</td>\n",
       "      <td>0.281973</td>\n",
       "      <td>0.386383</td>\n",
       "      <td>0.343534</td>\n",
       "    </tr>\n",
       "    <tr>\n",
       "      <th>04</th>\n",
       "      <td>0.202458</td>\n",
       "      <td>0.306968</td>\n",
       "      <td>0.263039</td>\n",
       "      <td>0.364828</td>\n",
       "      <td>0.318304</td>\n",
       "      <td>0.347856</td>\n",
       "      <td>0.337176</td>\n",
       "      <td>0.326354</td>\n",
       "    </tr>\n",
       "    <tr>\n",
       "      <th>11</th>\n",
       "      <td>0.347715</td>\n",
       "      <td>0.267590</td>\n",
       "      <td>0.460955</td>\n",
       "      <td>0.357648</td>\n",
       "      <td>0.280502</td>\n",
       "      <td>0.452262</td>\n",
       "      <td>0.503583</td>\n",
       "      <td>0.378299</td>\n",
       "    </tr>\n",
       "    <tr>\n",
       "      <th>12</th>\n",
       "      <td>0.227926</td>\n",
       "      <td>0.199674</td>\n",
       "      <td>0.268447</td>\n",
       "      <td>0.319675</td>\n",
       "      <td>0.291202</td>\n",
       "      <td>0.309239</td>\n",
       "      <td>0.230302</td>\n",
       "      <td>0.311243</td>\n",
       "    </tr>\n",
       "    <tr>\n",
       "      <th>A01</th>\n",
       "      <td>0.304370</td>\n",
       "      <td>0.238561</td>\n",
       "      <td>0.294604</td>\n",
       "      <td>0.310306</td>\n",
       "      <td>0.308202</td>\n",
       "      <td>0.302769</td>\n",
       "      <td>0.328902</td>\n",
       "      <td>0.281968</td>\n",
       "    </tr>\n",
       "    <tr>\n",
       "      <th>A02</th>\n",
       "      <td>0.289704</td>\n",
       "      <td>0.281430</td>\n",
       "      <td>0.261905</td>\n",
       "      <td>0.274005</td>\n",
       "      <td>0.309345</td>\n",
       "      <td>0.262340</td>\n",
       "      <td>0.299625</td>\n",
       "      <td>0.317212</td>\n",
       "    </tr>\n",
       "    <tr>\n",
       "      <th rowspan=\"6\" valign=\"top\">1.0</th>\n",
       "      <th>03</th>\n",
       "      <td>0.000000</td>\n",
       "      <td>0.000000</td>\n",
       "      <td>0.000000</td>\n",
       "      <td>0.000000</td>\n",
       "      <td>0.000000</td>\n",
       "      <td>0.000000</td>\n",
       "      <td>0.000000</td>\n",
       "      <td>0.000000</td>\n",
       "    </tr>\n",
       "    <tr>\n",
       "      <th>04</th>\n",
       "      <td>0.000000</td>\n",
       "      <td>0.000000</td>\n",
       "      <td>0.000000</td>\n",
       "      <td>0.000000</td>\n",
       "      <td>0.000000</td>\n",
       "      <td>0.000000</td>\n",
       "      <td>0.000000</td>\n",
       "      <td>0.000000</td>\n",
       "    </tr>\n",
       "    <tr>\n",
       "      <th>11</th>\n",
       "      <td>0.000000</td>\n",
       "      <td>0.000000</td>\n",
       "      <td>0.000000</td>\n",
       "      <td>0.000000</td>\n",
       "      <td>0.000000</td>\n",
       "      <td>0.000000</td>\n",
       "      <td>0.000000</td>\n",
       "      <td>0.000000</td>\n",
       "    </tr>\n",
       "    <tr>\n",
       "      <th>12</th>\n",
       "      <td>0.000000</td>\n",
       "      <td>0.000000</td>\n",
       "      <td>0.000000</td>\n",
       "      <td>0.000000</td>\n",
       "      <td>0.000000</td>\n",
       "      <td>0.000000</td>\n",
       "      <td>0.000000</td>\n",
       "      <td>0.000000</td>\n",
       "    </tr>\n",
       "    <tr>\n",
       "      <th>A01</th>\n",
       "      <td>0.152689</td>\n",
       "      <td>0.127010</td>\n",
       "      <td>0.154475</td>\n",
       "      <td>0.195749</td>\n",
       "      <td>0.175592</td>\n",
       "      <td>0.190627</td>\n",
       "      <td>0.205947</td>\n",
       "      <td>0.131721</td>\n",
       "    </tr>\n",
       "    <tr>\n",
       "      <th>A02</th>\n",
       "      <td>0.082792</td>\n",
       "      <td>0.115452</td>\n",
       "      <td>0.098940</td>\n",
       "      <td>0.158880</td>\n",
       "      <td>0.155829</td>\n",
       "      <td>0.127106</td>\n",
       "      <td>0.172655</td>\n",
       "      <td>0.129909</td>\n",
       "    </tr>\n",
       "  </tbody>\n",
       "</table>\n",
       "</div>"
      ],
      "text/plain": [
       "                            emb_00    emb_01    emb_02    emb_03    emb_04  \\\n",
       "                               std       std       std       std       std   \n",
       "dset_naics_holdout model                                                     \n",
       "0.0                03     0.336414  0.258630  0.376186  0.332166  0.391243   \n",
       "                   04     0.202458  0.306968  0.263039  0.364828  0.318304   \n",
       "                   11     0.347715  0.267590  0.460955  0.357648  0.280502   \n",
       "                   12     0.227926  0.199674  0.268447  0.319675  0.291202   \n",
       "                   A01    0.304370  0.238561  0.294604  0.310306  0.308202   \n",
       "                   A02    0.289704  0.281430  0.261905  0.274005  0.309345   \n",
       "1.0                03     0.000000  0.000000  0.000000  0.000000  0.000000   \n",
       "                   04     0.000000  0.000000  0.000000  0.000000  0.000000   \n",
       "                   11     0.000000  0.000000  0.000000  0.000000  0.000000   \n",
       "                   12     0.000000  0.000000  0.000000  0.000000  0.000000   \n",
       "                   A01    0.152689  0.127010  0.154475  0.195749  0.175592   \n",
       "                   A02    0.082792  0.115452  0.098940  0.158880  0.155829   \n",
       "\n",
       "                            emb_05    emb_06    emb_07  \n",
       "                               std       std       std  \n",
       "dset_naics_holdout model                                \n",
       "0.0                03     0.281973  0.386383  0.343534  \n",
       "                   04     0.347856  0.337176  0.326354  \n",
       "                   11     0.452262  0.503583  0.378299  \n",
       "                   12     0.309239  0.230302  0.311243  \n",
       "                   A01    0.302769  0.328902  0.281968  \n",
       "                   A02    0.262340  0.299625  0.317212  \n",
       "1.0                03     0.000000  0.000000  0.000000  \n",
       "                   04     0.000000  0.000000  0.000000  \n",
       "                   11     0.000000  0.000000  0.000000  \n",
       "                   12     0.000000  0.000000  0.000000  \n",
       "                   A01    0.190627  0.205947  0.131721  \n",
       "                   A02    0.127106  0.172655  0.129909  "
      ]
     },
     "execution_count": 32,
     "metadata": {},
     "output_type": "execute_result"
    }
   ],
   "source": [
    "emb_all.groupby(['dset_naics_holdout', 'model' ])[emb_feat].agg(['std'])"
   ]
  },
  {
   "cell_type": "code",
   "execution_count": 33,
   "id": "093933fc-8325-4de5-9e09-abe0b64ac1c3",
   "metadata": {},
   "outputs": [
    {
     "data": {
      "text/html": [
       "<div>\n",
       "<style scoped>\n",
       "    .dataframe tbody tr th:only-of-type {\n",
       "        vertical-align: middle;\n",
       "    }\n",
       "\n",
       "    .dataframe tbody tr th {\n",
       "        vertical-align: top;\n",
       "    }\n",
       "\n",
       "    .dataframe thead tr th {\n",
       "        text-align: left;\n",
       "    }\n",
       "\n",
       "    .dataframe thead tr:last-of-type th {\n",
       "        text-align: right;\n",
       "    }\n",
       "</style>\n",
       "<table border=\"1\" class=\"dataframe\">\n",
       "  <thead>\n",
       "    <tr>\n",
       "      <th></th>\n",
       "      <th></th>\n",
       "      <th>emb_00</th>\n",
       "      <th>emb_01</th>\n",
       "      <th>emb_02</th>\n",
       "      <th>emb_03</th>\n",
       "      <th>emb_04</th>\n",
       "      <th>emb_05</th>\n",
       "      <th>emb_06</th>\n",
       "      <th>emb_07</th>\n",
       "    </tr>\n",
       "    <tr>\n",
       "      <th></th>\n",
       "      <th></th>\n",
       "      <th>mean</th>\n",
       "      <th>mean</th>\n",
       "      <th>mean</th>\n",
       "      <th>mean</th>\n",
       "      <th>mean</th>\n",
       "      <th>mean</th>\n",
       "      <th>mean</th>\n",
       "      <th>mean</th>\n",
       "    </tr>\n",
       "    <tr>\n",
       "      <th>dset_naics_holdout</th>\n",
       "      <th>model</th>\n",
       "      <th></th>\n",
       "      <th></th>\n",
       "      <th></th>\n",
       "      <th></th>\n",
       "      <th></th>\n",
       "      <th></th>\n",
       "      <th></th>\n",
       "      <th></th>\n",
       "    </tr>\n",
       "  </thead>\n",
       "  <tbody>\n",
       "    <tr>\n",
       "      <th rowspan=\"6\" valign=\"top\">0.0</th>\n",
       "      <th>03</th>\n",
       "      <td>-0.443369</td>\n",
       "      <td>-0.255221</td>\n",
       "      <td>0.406945</td>\n",
       "      <td>0.336117</td>\n",
       "      <td>0.475787</td>\n",
       "      <td>-0.357603</td>\n",
       "      <td>0.547174</td>\n",
       "      <td>0.339206</td>\n",
       "    </tr>\n",
       "    <tr>\n",
       "      <th>04</th>\n",
       "      <td>0.109499</td>\n",
       "      <td>-0.343665</td>\n",
       "      <td>0.291973</td>\n",
       "      <td>-0.437716</td>\n",
       "      <td>0.346902</td>\n",
       "      <td>-0.467570</td>\n",
       "      <td>-0.461331</td>\n",
       "      <td>0.409620</td>\n",
       "    </tr>\n",
       "    <tr>\n",
       "      <th>11</th>\n",
       "      <td>-0.343790</td>\n",
       "      <td>-0.064857</td>\n",
       "      <td>0.540493</td>\n",
       "      <td>-0.486862</td>\n",
       "      <td>-0.159478</td>\n",
       "      <td>0.529685</td>\n",
       "      <td>-0.604031</td>\n",
       "      <td>0.461721</td>\n",
       "    </tr>\n",
       "    <tr>\n",
       "      <th>12</th>\n",
       "      <td>0.241371</td>\n",
       "      <td>-0.022571</td>\n",
       "      <td>-0.338312</td>\n",
       "      <td>-0.397610</td>\n",
       "      <td>-0.350991</td>\n",
       "      <td>0.340720</td>\n",
       "      <td>0.198512</td>\n",
       "      <td>0.358720</td>\n",
       "    </tr>\n",
       "    <tr>\n",
       "      <th>A01</th>\n",
       "      <td>0.243338</td>\n",
       "      <td>-0.044152</td>\n",
       "      <td>-0.252525</td>\n",
       "      <td>-0.101927</td>\n",
       "      <td>0.190771</td>\n",
       "      <td>0.150443</td>\n",
       "      <td>-0.292385</td>\n",
       "      <td>0.238891</td>\n",
       "    </tr>\n",
       "    <tr>\n",
       "      <th>A02</th>\n",
       "      <td>-0.227313</td>\n",
       "      <td>-0.224117</td>\n",
       "      <td>-0.212152</td>\n",
       "      <td>0.060614</td>\n",
       "      <td>-0.045353</td>\n",
       "      <td>-0.200570</td>\n",
       "      <td>-0.099945</td>\n",
       "      <td>-0.288401</td>\n",
       "    </tr>\n",
       "    <tr>\n",
       "      <th rowspan=\"6\" valign=\"top\">1.0</th>\n",
       "      <th>03</th>\n",
       "      <td>-0.030238</td>\n",
       "      <td>-0.020883</td>\n",
       "      <td>-0.008131</td>\n",
       "      <td>0.023881</td>\n",
       "      <td>-0.044659</td>\n",
       "      <td>-0.017204</td>\n",
       "      <td>-0.017765</td>\n",
       "      <td>0.004579</td>\n",
       "    </tr>\n",
       "    <tr>\n",
       "      <th>04</th>\n",
       "      <td>0.011556</td>\n",
       "      <td>-0.043910</td>\n",
       "      <td>-0.049571</td>\n",
       "      <td>-0.044651</td>\n",
       "      <td>-0.037497</td>\n",
       "      <td>0.029903</td>\n",
       "      <td>0.034559</td>\n",
       "      <td>-0.026072</td>\n",
       "    </tr>\n",
       "    <tr>\n",
       "      <th>11</th>\n",
       "      <td>-0.129860</td>\n",
       "      <td>-0.041437</td>\n",
       "      <td>0.234216</td>\n",
       "      <td>-0.379106</td>\n",
       "      <td>-0.060093</td>\n",
       "      <td>0.303469</td>\n",
       "      <td>-0.257404</td>\n",
       "      <td>0.366726</td>\n",
       "    </tr>\n",
       "    <tr>\n",
       "      <th>12</th>\n",
       "      <td>0.126656</td>\n",
       "      <td>-0.013041</td>\n",
       "      <td>-0.201824</td>\n",
       "      <td>-0.345253</td>\n",
       "      <td>-0.232339</td>\n",
       "      <td>0.175296</td>\n",
       "      <td>0.138054</td>\n",
       "      <td>0.173340</td>\n",
       "    </tr>\n",
       "    <tr>\n",
       "      <th>A01</th>\n",
       "      <td>0.153916</td>\n",
       "      <td>-0.035259</td>\n",
       "      <td>-0.185161</td>\n",
       "      <td>-0.077555</td>\n",
       "      <td>0.135211</td>\n",
       "      <td>0.102910</td>\n",
       "      <td>-0.236174</td>\n",
       "      <td>0.149538</td>\n",
       "    </tr>\n",
       "    <tr>\n",
       "      <th>A02</th>\n",
       "      <td>0.189038</td>\n",
       "      <td>0.144393</td>\n",
       "      <td>0.139510</td>\n",
       "      <td>-0.001354</td>\n",
       "      <td>0.225174</td>\n",
       "      <td>0.030544</td>\n",
       "      <td>-0.076006</td>\n",
       "      <td>0.101221</td>\n",
       "    </tr>\n",
       "  </tbody>\n",
       "</table>\n",
       "</div>"
      ],
      "text/plain": [
       "                            emb_00    emb_01    emb_02    emb_03    emb_04  \\\n",
       "                              mean      mean      mean      mean      mean   \n",
       "dset_naics_holdout model                                                     \n",
       "0.0                03    -0.443369 -0.255221  0.406945  0.336117  0.475787   \n",
       "                   04     0.109499 -0.343665  0.291973 -0.437716  0.346902   \n",
       "                   11    -0.343790 -0.064857  0.540493 -0.486862 -0.159478   \n",
       "                   12     0.241371 -0.022571 -0.338312 -0.397610 -0.350991   \n",
       "                   A01    0.243338 -0.044152 -0.252525 -0.101927  0.190771   \n",
       "                   A02   -0.227313 -0.224117 -0.212152  0.060614 -0.045353   \n",
       "1.0                03    -0.030238 -0.020883 -0.008131  0.023881 -0.044659   \n",
       "                   04     0.011556 -0.043910 -0.049571 -0.044651 -0.037497   \n",
       "                   11    -0.129860 -0.041437  0.234216 -0.379106 -0.060093   \n",
       "                   12     0.126656 -0.013041 -0.201824 -0.345253 -0.232339   \n",
       "                   A01    0.153916 -0.035259 -0.185161 -0.077555  0.135211   \n",
       "                   A02    0.189038  0.144393  0.139510 -0.001354  0.225174   \n",
       "\n",
       "                            emb_05    emb_06    emb_07  \n",
       "                              mean      mean      mean  \n",
       "dset_naics_holdout model                                \n",
       "0.0                03    -0.357603  0.547174  0.339206  \n",
       "                   04    -0.467570 -0.461331  0.409620  \n",
       "                   11     0.529685 -0.604031  0.461721  \n",
       "                   12     0.340720  0.198512  0.358720  \n",
       "                   A01    0.150443 -0.292385  0.238891  \n",
       "                   A02   -0.200570 -0.099945 -0.288401  \n",
       "1.0                03    -0.017204 -0.017765  0.004579  \n",
       "                   04     0.029903  0.034559 -0.026072  \n",
       "                   11     0.303469 -0.257404  0.366726  \n",
       "                   12     0.175296  0.138054  0.173340  \n",
       "                   A01    0.102910 -0.236174  0.149538  \n",
       "                   A02    0.030544 -0.076006  0.101221  "
      ]
     },
     "execution_count": 33,
     "metadata": {},
     "output_type": "execute_result"
    }
   ],
   "source": [
    "emb_all.groupby(['dset_naics_holdout', 'model' ])[emb_feat].agg(['mean'])"
   ]
  },
  {
   "cell_type": "markdown",
   "id": "c6eadbc5-e1bc-41ce-9025-8b3c2e97ab19",
   "metadata": {},
   "source": [
    "## Data With Missingness\n",
    "I want to look at embeddings for training NAICS set to missing to the original embeddings (for hiearchical models with embeddings representing all NAICS levels).   This will be used for distance measures, to see how close the hiearchy gets to the \"actual\" embedding, and only for the hiearchical model (as the rest are all the same)"
   ]
  },
  {
   "cell_type": "code",
   "execution_count": 34,
   "id": "ace0ab87-2536-41fe-8107-d00e06bfdfec",
   "metadata": {},
   "outputs": [],
   "source": [
    "features_naics_len = len(features_naics)"
   ]
  },
  {
   "cell_type": "code",
   "execution_count": 35,
   "id": "47dc75a1-f9a5-4781-8aff-9bbf559cef51",
   "metadata": {},
   "outputs": [
    {
     "data": {
      "text/plain": [
       "['NAICS', 'NAICS_4', 'NAICS_3', 'NAICS_sector']"
      ]
     },
     "execution_count": 35,
     "metadata": {},
     "output_type": "execute_result"
    }
   ],
   "source": [
    "features_naics"
   ]
  },
  {
   "cell_type": "markdown",
   "id": "dabef880-5de0-48b2-9473-922a9ae0cea5",
   "metadata": {},
   "source": [
    "##### Lists for retrieval\n",
    "Get lists of NAICS features set to missing, data tables, and NAICS info for non-missing only"
   ]
  },
  {
   "cell_type": "code",
   "execution_count": 36,
   "id": "3d1c1854-57e7-4ebf-a2c1-edb449d9e1fa",
   "metadata": {},
   "outputs": [
    {
     "name": "stdout",
     "output_type": "stream",
     "text": [
      "1: set to missing: ['NAICS']\n",
      "1: data shape (352, 55), info shape (352, 3)\n",
      "2: set to missing: ['NAICS', 'NAICS_4']\n",
      "2: data shape (106, 55), info shape (106, 2)\n",
      "3: set to missing: ['NAICS', 'NAICS_4', 'NAICS_3']\n",
      "3: data shape (20, 55), info shape (20, 1)\n",
      "4: set to missing: ['NAICS', 'NAICS_4', 'NAICS_3', 'NAICS_sector']\n",
      "4: data shape (1, 55), info shape (1, 1)\n"
     ]
    }
   ],
   "source": [
    "naics_mod =[]\n",
    "naics_info_mod = []\n",
    "X_mod = []\n",
    "for i in range(1, features_naics_len + 1):\n",
    "    this_naics_list = features_naics[0:i]\n",
    "    print(f'{i}: set to missing: {this_naics_list}')\n",
    "    this_X = naics_unique.copy()\n",
    "    this_X[this_naics_list] = 1 # Set to missing for lower levels\n",
    "    this_X.drop_duplicates(features_naics, inplace=True)\n",
    "    \n",
    "    keep_naics = features_naics[i:]\n",
    "\n",
    "    this_info = this_X.copy() \\\n",
    "            [[c + '_orig' for c in features_naics if c not in this_naics_list]] \n",
    "    if len(keep_naics) < 1:\n",
    "        this_info['NAICS_orig'] = -999\n",
    "        this_X['NAICS_orig']= -999\n",
    "    print(f'{i}: data shape {this_X.shape}, info shape {this_info.shape}')\n",
    "    X_mod += [this_X]\n",
    "    naics_mod += [this_naics_list]\n",
    "    naics_info_mod += [this_info]"
   ]
  },
  {
   "cell_type": "code",
   "execution_count": 37,
   "id": "9a2919f5-8efb-4122-af13-793a1c3172c0",
   "metadata": {},
   "outputs": [
    {
     "data": {
      "text/plain": [
       "[['NAICS_orig'],\n",
       " ['NAICS_orig', 'NAICS_4_orig'],\n",
       " ['NAICS_orig', 'NAICS_4_orig', 'NAICS_3_orig'],\n",
       " ['NAICS_orig', 'NAICS_4_orig', 'NAICS_3_orig', 'NAICS_sector_orig']]"
      ]
     },
     "execution_count": 37,
     "metadata": {},
     "output_type": "execute_result"
    }
   ],
   "source": [
    "naics_mod_orig = [[c + '_orig' for c in k] for k in naics_mod]\n",
    "naics_mod_orig"
   ]
  },
  {
   "cell_type": "markdown",
   "id": "68466169-db5b-497f-9bb0-57b953d51c1d",
   "metadata": {},
   "source": [
    "## Embeddings with Missingness"
   ]
  },
  {
   "cell_type": "code",
   "execution_count": 38,
   "id": "886d16d4-1583-4e32-be89-b37f684a364a",
   "metadata": {},
   "outputs": [
    {
     "data": {
      "text/html": [
       "<div>\n",
       "<style scoped>\n",
       "    .dataframe tbody tr th:only-of-type {\n",
       "        vertical-align: middle;\n",
       "    }\n",
       "\n",
       "    .dataframe tbody tr th {\n",
       "        vertical-align: top;\n",
       "    }\n",
       "\n",
       "    .dataframe thead th {\n",
       "        text-align: right;\n",
       "    }\n",
       "</style>\n",
       "<table border=\"1\" class=\"dataframe\">\n",
       "  <thead>\n",
       "    <tr style=\"text-align: right;\">\n",
       "      <th></th>\n",
       "      <th>model</th>\n",
       "      <th>model_path</th>\n",
       "      <th>model_hier</th>\n",
       "      <th>model_rand</th>\n",
       "      <th>model_layer_name</th>\n",
       "    </tr>\n",
       "  </thead>\n",
       "  <tbody>\n",
       "    <tr>\n",
       "      <th>4</th>\n",
       "      <td>A01</td>\n",
       "      <td>../data/2024_06_04/A01_DATA_model.keras</td>\n",
       "      <td>True</td>\n",
       "      <td>True</td>\n",
       "      <td>embedding_int</td>\n",
       "    </tr>\n",
       "    <tr>\n",
       "      <th>5</th>\n",
       "      <td>A02</td>\n",
       "      <td>../data/2024_06_04/A02_DATA_model.keras</td>\n",
       "      <td>True</td>\n",
       "      <td>False</td>\n",
       "      <td>embedding_int</td>\n",
       "    </tr>\n",
       "  </tbody>\n",
       "</table>\n",
       "</div>"
      ],
      "text/plain": [
       "  model                               model_path  model_hier  model_rand  \\\n",
       "4   A01  ../data/2024_06_04/A01_DATA_model.keras        True        True   \n",
       "5   A02  ../data/2024_06_04/A02_DATA_model.keras        True       False   \n",
       "\n",
       "  model_layer_name  \n",
       "4    embedding_int  \n",
       "5    embedding_int  "
      ]
     },
     "execution_count": 38,
     "metadata": {},
     "output_type": "execute_result"
    }
   ],
   "source": [
    "model_info_frame_hier = model_info_frame[model_info_frame['model'].isin(['A02', 'A01'])]\n",
    "model_info_frame_hier"
   ]
  },
  {
   "cell_type": "code",
   "execution_count": 39,
   "id": "4b59a1cf-1ec0-4163-9e71-6b1af5ef3935",
   "metadata": {},
   "outputs": [],
   "source": [
    "def model_emb_apply_miss(model_info,\n",
    "                         data,\n",
    "                         data_append):\n",
    "    data_index = list(data_append.columns)\n",
    "    out_data = model_emb_apply(model_info, data, data_append,\n",
    "                               data_index = data_index) \\\n",
    "        .drop(columns='NAICS_orig', errors='ignore')\n",
    "    return out_data"
   ]
  },
  {
   "cell_type": "code",
   "execution_count": 40,
   "id": "e902d4a8-6a53-445c-b059-a773738044a0",
   "metadata": {},
   "outputs": [
    {
     "name": "stdout",
     "output_type": "stream",
     "text": [
      "11/11 [==============================] - 0s 2ms/step\n"
     ]
    },
    {
     "name": "stderr",
     "output_type": "stream",
     "text": [
      "2024-07-15 21:56:50.971993: I tensorflow/core/grappler/optimizers/custom_graph_optimizer_registry.cc:114] Plugin optimizer for device_type GPU is enabled.\n"
     ]
    },
    {
     "name": "stdout",
     "output_type": "stream",
     "text": [
      "11/11 [==============================] - 0s 2ms/step\n"
     ]
    },
    {
     "name": "stderr",
     "output_type": "stream",
     "text": [
      "2024-07-15 21:56:51.489323: I tensorflow/core/grappler/optimizers/custom_graph_optimizer_registry.cc:114] Plugin optimizer for device_type GPU is enabled.\n"
     ]
    },
    {
     "name": "stdout",
     "output_type": "stream",
     "text": [
      "4/4 [==============================] - 0s 12ms/step\n"
     ]
    },
    {
     "name": "stderr",
     "output_type": "stream",
     "text": [
      "2024-07-15 21:56:52.026100: I tensorflow/core/grappler/optimizers/custom_graph_optimizer_registry.cc:114] Plugin optimizer for device_type GPU is enabled.\n"
     ]
    },
    {
     "name": "stdout",
     "output_type": "stream",
     "text": [
      "4/4 [==============================] - 0s 11ms/step\n"
     ]
    },
    {
     "name": "stderr",
     "output_type": "stream",
     "text": [
      "2024-07-15 21:56:52.557340: I tensorflow/core/grappler/optimizers/custom_graph_optimizer_registry.cc:114] Plugin optimizer for device_type GPU is enabled.\n"
     ]
    },
    {
     "name": "stdout",
     "output_type": "stream",
     "text": [
      "1/1 [==============================] - 0s 82ms/step\n"
     ]
    },
    {
     "name": "stderr",
     "output_type": "stream",
     "text": [
      "2024-07-15 21:56:53.064052: I tensorflow/core/grappler/optimizers/custom_graph_optimizer_registry.cc:114] Plugin optimizer for device_type GPU is enabled.\n"
     ]
    },
    {
     "name": "stdout",
     "output_type": "stream",
     "text": [
      "WARNING:tensorflow:5 out of the last 21 calls to <function Model.make_predict_function.<locals>.predict_function at 0x36f1ec5e0> triggered tf.function retracing. Tracing is expensive and the excessive number of tracings could be due to (1) creating @tf.function repeatedly in a loop, (2) passing tensors with different shapes, (3) passing Python objects instead of tensors. For (1), please define your @tf.function outside of the loop. For (2), @tf.function has reduce_retracing=True option that can avoid unnecessary retracing. For (3), please refer to https://www.tensorflow.org/guide/function#controlling_retracing and https://www.tensorflow.org/api_docs/python/tf/function for  more details.\n",
      "1/1 [==============================] - 0s 80ms/step\n"
     ]
    },
    {
     "name": "stderr",
     "output_type": "stream",
     "text": [
      "2024-07-15 21:56:53.541970: I tensorflow/core/grappler/optimizers/custom_graph_optimizer_registry.cc:114] Plugin optimizer for device_type GPU is enabled.\n",
      "2024-07-15 21:56:54.023569: I tensorflow/core/grappler/optimizers/custom_graph_optimizer_registry.cc:114] Plugin optimizer for device_type GPU is enabled.\n"
     ]
    },
    {
     "name": "stdout",
     "output_type": "stream",
     "text": [
      "WARNING:tensorflow:5 out of the last 11 calls to <function Model.make_predict_function.<locals>.predict_function at 0x36f1eca60> triggered tf.function retracing. Tracing is expensive and the excessive number of tracings could be due to (1) creating @tf.function repeatedly in a loop, (2) passing tensors with different shapes, (3) passing Python objects instead of tensors. For (1), please define your @tf.function outside of the loop. For (2), @tf.function has reduce_retracing=True option that can avoid unnecessary retracing. For (3), please refer to https://www.tensorflow.org/guide/function#controlling_retracing and https://www.tensorflow.org/api_docs/python/tf/function for  more details.\n",
      "1/1 [==============================] - 1s 570ms/step\n",
      "1/1 [==============================] - 0s 82ms/step\n"
     ]
    },
    {
     "name": "stderr",
     "output_type": "stream",
     "text": [
      "2024-07-15 21:56:54.998911: I tensorflow/core/grappler/optimizers/custom_graph_optimizer_registry.cc:114] Plugin optimizer for device_type GPU is enabled.\n"
     ]
    }
   ],
   "source": [
    "emb_all_miss = pd.concat([pd.concat(model_info_frame_hier \\\n",
    "                                   .apply(lambda x: model_emb_apply_miss(x,\n",
    "                                                         data = X_mod[i],\n",
    "                                                         data_append = naics_info_mod[i]),\n",
    "                                          axis=1, result_type='reduce').to_list()) \n",
    "                     for i in range(len(X_mod))],\n",
    "                   keys = range(len(X_mod))) \\\n",
    "    .reset_index(level=0) \\\n",
    "    .rename(columns={'level_0':'miss_group'})"
   ]
  },
  {
   "cell_type": "code",
   "execution_count": 41,
   "id": "05a06028-647e-44c5-8619-0188bcfac329",
   "metadata": {},
   "outputs": [
    {
     "data": {
      "text/html": [
       "<div>\n",
       "<style scoped>\n",
       "    .dataframe tbody tr th:only-of-type {\n",
       "        vertical-align: middle;\n",
       "    }\n",
       "\n",
       "    .dataframe tbody tr th {\n",
       "        vertical-align: top;\n",
       "    }\n",
       "\n",
       "    .dataframe thead th {\n",
       "        text-align: right;\n",
       "    }\n",
       "</style>\n",
       "<table border=\"1\" class=\"dataframe\">\n",
       "  <thead>\n",
       "    <tr style=\"text-align: right;\">\n",
       "      <th></th>\n",
       "      <th>miss_group</th>\n",
       "      <th>NAICS_4_orig</th>\n",
       "      <th>NAICS_3_orig</th>\n",
       "      <th>NAICS_sector_orig</th>\n",
       "      <th>emb_00</th>\n",
       "      <th>emb_01</th>\n",
       "      <th>emb_02</th>\n",
       "      <th>emb_03</th>\n",
       "      <th>emb_04</th>\n",
       "      <th>emb_05</th>\n",
       "      <th>emb_06</th>\n",
       "      <th>emb_07</th>\n",
       "      <th>model</th>\n",
       "    </tr>\n",
       "  </thead>\n",
       "  <tbody>\n",
       "    <tr>\n",
       "      <th>0</th>\n",
       "      <td>0</td>\n",
       "      <td>1111</td>\n",
       "      <td>111</td>\n",
       "      <td>11</td>\n",
       "      <td>0.399143</td>\n",
       "      <td>-0.243259</td>\n",
       "      <td>-0.453278</td>\n",
       "      <td>-0.521713</td>\n",
       "      <td>0.526384</td>\n",
       "      <td>0.626523</td>\n",
       "      <td>-0.731203</td>\n",
       "      <td>0.410564</td>\n",
       "      <td>A01</td>\n",
       "    </tr>\n",
       "    <tr>\n",
       "      <th>1</th>\n",
       "      <td>0</td>\n",
       "      <td>1112</td>\n",
       "      <td>111</td>\n",
       "      <td>11</td>\n",
       "      <td>0.216578</td>\n",
       "      <td>-0.147997</td>\n",
       "      <td>-0.292293</td>\n",
       "      <td>-0.306259</td>\n",
       "      <td>0.386267</td>\n",
       "      <td>0.355314</td>\n",
       "      <td>-0.531091</td>\n",
       "      <td>0.266188</td>\n",
       "      <td>A01</td>\n",
       "    </tr>\n",
       "    <tr>\n",
       "      <th>2</th>\n",
       "      <td>0</td>\n",
       "      <td>1113</td>\n",
       "      <td>111</td>\n",
       "      <td>11</td>\n",
       "      <td>0.070700</td>\n",
       "      <td>-0.154308</td>\n",
       "      <td>-0.148617</td>\n",
       "      <td>-0.350522</td>\n",
       "      <td>0.363056</td>\n",
       "      <td>0.350788</td>\n",
       "      <td>-0.470460</td>\n",
       "      <td>0.150035</td>\n",
       "      <td>A01</td>\n",
       "    </tr>\n",
       "    <tr>\n",
       "      <th>3</th>\n",
       "      <td>0</td>\n",
       "      <td>1114</td>\n",
       "      <td>111</td>\n",
       "      <td>11</td>\n",
       "      <td>-0.197121</td>\n",
       "      <td>-0.284792</td>\n",
       "      <td>0.144166</td>\n",
       "      <td>-0.371903</td>\n",
       "      <td>0.370247</td>\n",
       "      <td>0.285222</td>\n",
       "      <td>-0.334234</td>\n",
       "      <td>-0.104493</td>\n",
       "      <td>A01</td>\n",
       "    </tr>\n",
       "    <tr>\n",
       "      <th>4</th>\n",
       "      <td>0</td>\n",
       "      <td>1119</td>\n",
       "      <td>111</td>\n",
       "      <td>11</td>\n",
       "      <td>0.286802</td>\n",
       "      <td>-0.319514</td>\n",
       "      <td>-0.344209</td>\n",
       "      <td>-0.600843</td>\n",
       "      <td>0.566535</td>\n",
       "      <td>0.668142</td>\n",
       "      <td>-0.728737</td>\n",
       "      <td>0.312444</td>\n",
       "      <td>A01</td>\n",
       "    </tr>\n",
       "  </tbody>\n",
       "</table>\n",
       "</div>"
      ],
      "text/plain": [
       "   miss_group NAICS_4_orig NAICS_3_orig NAICS_sector_orig    emb_00    emb_01  \\\n",
       "0           0         1111          111                11  0.399143 -0.243259   \n",
       "1           0         1112          111                11  0.216578 -0.147997   \n",
       "2           0         1113          111                11  0.070700 -0.154308   \n",
       "3           0         1114          111                11 -0.197121 -0.284792   \n",
       "4           0         1119          111                11  0.286802 -0.319514   \n",
       "\n",
       "     emb_02    emb_03    emb_04    emb_05    emb_06    emb_07 model  \n",
       "0 -0.453278 -0.521713  0.526384  0.626523 -0.731203  0.410564   A01  \n",
       "1 -0.292293 -0.306259  0.386267  0.355314 -0.531091  0.266188   A01  \n",
       "2 -0.148617 -0.350522  0.363056  0.350788 -0.470460  0.150035   A01  \n",
       "3  0.144166 -0.371903  0.370247  0.285222 -0.334234 -0.104493   A01  \n",
       "4 -0.344209 -0.600843  0.566535  0.668142 -0.728737  0.312444   A01  "
      ]
     },
     "execution_count": 41,
     "metadata": {},
     "output_type": "execute_result"
    }
   ],
   "source": [
    "emb_all_miss.head()"
   ]
  },
  {
   "cell_type": "code",
   "execution_count": 42,
   "id": "67e527a8-e72f-4ad2-88d5-bf99cce40ba6",
   "metadata": {},
   "outputs": [
    {
     "data": {
      "text/html": [
       "<div>\n",
       "<style scoped>\n",
       "    .dataframe tbody tr th:only-of-type {\n",
       "        vertical-align: middle;\n",
       "    }\n",
       "\n",
       "    .dataframe tbody tr th {\n",
       "        vertical-align: top;\n",
       "    }\n",
       "\n",
       "    .dataframe thead th {\n",
       "        text-align: right;\n",
       "    }\n",
       "</style>\n",
       "<table border=\"1\" class=\"dataframe\">\n",
       "  <thead>\n",
       "    <tr style=\"text-align: right;\">\n",
       "      <th></th>\n",
       "      <th>miss_group</th>\n",
       "      <th>NAICS_4_orig</th>\n",
       "      <th>NAICS_3_orig</th>\n",
       "      <th>NAICS_sector_orig</th>\n",
       "      <th>emb_00</th>\n",
       "      <th>emb_01</th>\n",
       "      <th>emb_02</th>\n",
       "      <th>emb_03</th>\n",
       "      <th>emb_04</th>\n",
       "      <th>emb_05</th>\n",
       "      <th>emb_06</th>\n",
       "      <th>emb_07</th>\n",
       "      <th>model</th>\n",
       "    </tr>\n",
       "  </thead>\n",
       "  <tbody>\n",
       "    <tr>\n",
       "      <th>17</th>\n",
       "      <td>2</td>\n",
       "      <td>NaN</td>\n",
       "      <td>NaN</td>\n",
       "      <td>72</td>\n",
       "      <td>0.185983</td>\n",
       "      <td>0.145803</td>\n",
       "      <td>0.132922</td>\n",
       "      <td>-0.026984</td>\n",
       "      <td>0.127725</td>\n",
       "      <td>0.052820</td>\n",
       "      <td>-0.034131</td>\n",
       "      <td>0.136050</td>\n",
       "      <td>A02</td>\n",
       "    </tr>\n",
       "    <tr>\n",
       "      <th>18</th>\n",
       "      <td>2</td>\n",
       "      <td>NaN</td>\n",
       "      <td>NaN</td>\n",
       "      <td>81</td>\n",
       "      <td>0.181248</td>\n",
       "      <td>0.141901</td>\n",
       "      <td>0.130869</td>\n",
       "      <td>-0.034045</td>\n",
       "      <td>0.119164</td>\n",
       "      <td>0.050529</td>\n",
       "      <td>-0.027457</td>\n",
       "      <td>0.135068</td>\n",
       "      <td>A02</td>\n",
       "    </tr>\n",
       "    <tr>\n",
       "      <th>19</th>\n",
       "      <td>2</td>\n",
       "      <td>NaN</td>\n",
       "      <td>NaN</td>\n",
       "      <td>92</td>\n",
       "      <td>0.202699</td>\n",
       "      <td>0.166374</td>\n",
       "      <td>0.152289</td>\n",
       "      <td>-0.031364</td>\n",
       "      <td>0.155457</td>\n",
       "      <td>0.055254</td>\n",
       "      <td>-0.032395</td>\n",
       "      <td>0.150308</td>\n",
       "      <td>A02</td>\n",
       "    </tr>\n",
       "    <tr>\n",
       "      <th>0</th>\n",
       "      <td>3</td>\n",
       "      <td>NaN</td>\n",
       "      <td>NaN</td>\n",
       "      <td>NaN</td>\n",
       "      <td>0.084273</td>\n",
       "      <td>-0.029651</td>\n",
       "      <td>-0.136195</td>\n",
       "      <td>-0.056131</td>\n",
       "      <td>0.111378</td>\n",
       "      <td>0.030732</td>\n",
       "      <td>-0.148570</td>\n",
       "      <td>0.104896</td>\n",
       "      <td>A01</td>\n",
       "    </tr>\n",
       "    <tr>\n",
       "      <th>0</th>\n",
       "      <td>3</td>\n",
       "      <td>NaN</td>\n",
       "      <td>NaN</td>\n",
       "      <td>NaN</td>\n",
       "      <td>0.196139</td>\n",
       "      <td>0.159282</td>\n",
       "      <td>0.146438</td>\n",
       "      <td>-0.033899</td>\n",
       "      <td>0.144220</td>\n",
       "      <td>0.053474</td>\n",
       "      <td>-0.029401</td>\n",
       "      <td>0.146268</td>\n",
       "      <td>A02</td>\n",
       "    </tr>\n",
       "  </tbody>\n",
       "</table>\n",
       "</div>"
      ],
      "text/plain": [
       "    miss_group NAICS_4_orig NAICS_3_orig NAICS_sector_orig    emb_00  \\\n",
       "17           2          NaN          NaN                72  0.185983   \n",
       "18           2          NaN          NaN                81  0.181248   \n",
       "19           2          NaN          NaN                92  0.202699   \n",
       "0            3          NaN          NaN               NaN  0.084273   \n",
       "0            3          NaN          NaN               NaN  0.196139   \n",
       "\n",
       "      emb_01    emb_02    emb_03    emb_04    emb_05    emb_06    emb_07 model  \n",
       "17  0.145803  0.132922 -0.026984  0.127725  0.052820 -0.034131  0.136050   A02  \n",
       "18  0.141901  0.130869 -0.034045  0.119164  0.050529 -0.027457  0.135068   A02  \n",
       "19  0.166374  0.152289 -0.031364  0.155457  0.055254 -0.032395  0.150308   A02  \n",
       "0  -0.029651 -0.136195 -0.056131  0.111378  0.030732 -0.148570  0.104896   A01  \n",
       "0   0.159282  0.146438 -0.033899  0.144220  0.053474 -0.029401  0.146268   A02  "
      ]
     },
     "execution_count": 42,
     "metadata": {},
     "output_type": "execute_result"
    }
   ],
   "source": [
    "emb_all_miss.tail()"
   ]
  },
  {
   "cell_type": "code",
   "execution_count": 43,
   "id": "71657e64-dac1-4170-a27f-556d21e55c6c",
   "metadata": {},
   "outputs": [],
   "source": [
    "emb_all_miss.to_csv(Path(setup.temp_path).joinpath('A10_DATA_embeddings_missing.csv'), index=False)\n",
    "emb_all_miss.to_parquet(Path(setup.temp_path).joinpath('A10_DATA_embeddings_missing.parquet'))"
   ]
  },
  {
   "cell_type": "code",
   "execution_count": null,
   "id": "c2b8df0b-6a26-4970-ba49-ab5ca16ddbf8",
   "metadata": {},
   "outputs": [],
   "source": []
  }
 ],
 "metadata": {
  "kernelspec": {
   "display_name": "tf_p39",
   "language": "python",
   "name": "tf_p39"
  },
  "language_info": {
   "codemirror_mode": {
    "name": "ipython",
    "version": 3
   },
   "file_extension": ".py",
   "mimetype": "text/x-python",
   "name": "python",
   "nbconvert_exporter": "python",
   "pygments_lexer": "ipython3",
   "version": "3.8.18"
  }
 },
 "nbformat": 4,
 "nbformat_minor": 5
}
