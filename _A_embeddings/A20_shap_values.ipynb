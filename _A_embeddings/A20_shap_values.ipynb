{
 "cells": [
  {
   "cell_type": "code",
   "execution_count": 1,
   "id": "f53125ae-e487-4713-9276-d06506e88bea",
   "metadata": {},
   "outputs": [],
   "source": [
    "# Modify the file A00_setup.  Note the working directory is changed\n",
    "import os\n",
    "os.chdir(os.getcwd().rsplit(os.path.sep + 'code')[0] + os.path.sep + 'code')\n",
    "from importlib.machinery import SourceFileLoader\n",
    "setup = SourceFileLoader(\"setup\", \"./_A_embeddings/A00_setup.py\").load_module()"
   ]
  },
  {
   "cell_type": "markdown",
   "id": "91657509-1473-47f8-b268-bd0c83344060",
   "metadata": {},
   "source": [
    "## SHAP Values\n",
    "Get SHAP values for the models, focusing on the k=3 cluster, and also NULLs.  Note that to do this I need to re-fit models with embeddings as features"
   ]
  },
  {
   "cell_type": "markdown",
   "id": "9fdcfc5d-6ea2-4b16-8996-c6dc785c1dc7",
   "metadata": {},
   "source": [
    "I run into an issue with using the embeddings with SHAP DeepExplainer: https://webapps.stackexchange.com/questions/103374/where-can-i-see-all-my-comments-on-issues-on-github"
   ]
  },
  {
   "cell_type": "markdown",
   "id": "b90758eb-2944-4b70-868d-cda439358fd4",
   "metadata": {},
   "source": [
    "To work around this, I will use the model starting from the concatenation of the numeric and entity embedding inputs.  "
   ]
  },
  {
   "cell_type": "markdown",
   "id": "a7ad8193-b366-4e39-a038-7042f6d4b6df",
   "metadata": {},
   "source": [
    "*This script takes about 10 minutes on my MacBook Air*"
   ]
  },
  {
   "cell_type": "code",
   "execution_count": 2,
   "id": "5a4880ce-c340-4887-b0d0-41c5226df9c2",
   "metadata": {},
   "outputs": [],
   "source": [
    "import numpy as np\n",
    "import pandas as pd\n",
    "import tensorflow as tf"
   ]
  },
  {
   "cell_type": "code",
   "execution_count": 3,
   "id": "d16c47d6-803f-40dd-90e2-b4c6d1656026",
   "metadata": {},
   "outputs": [],
   "source": [
    "from pathlib import Path\n",
    "import importlib, pickle"
   ]
  },
  {
   "cell_type": "code",
   "execution_count": 4,
   "id": "d52310f8-3e1e-4012-831c-dcebe83c4eba",
   "metadata": {},
   "outputs": [],
   "source": [
    "import os\n",
    "import re\n",
    "\n",
    "import keras\n",
    "from tensorflow.keras import layers, optimizers, losses, metrics, Model\n",
    "from sklearn import preprocessing, feature_extraction, model_selection\n",
    "from IPython.display import display, HTML\n",
    "import matplotlib.pyplot as plt\n",
    "from keras.utils import plot_model\n",
    "%matplotlib inline"
   ]
  },
  {
   "cell_type": "code",
   "execution_count": 5,
   "id": "599858d6-ec99-42c9-ae1d-e9197614bdb0",
   "metadata": {},
   "outputs": [],
   "source": [
    "import shap"
   ]
  },
  {
   "cell_type": "code",
   "execution_count": 6,
   "id": "8328ed75-226d-4346-8e37-e368f3fcdc61",
   "metadata": {},
   "outputs": [],
   "source": [
    "from sba_nn.sba_nn import sbnn_model"
   ]
  },
  {
   "cell_type": "markdown",
   "id": "b2a6b207-fdc7-4a98-bad0-14eaa24ec0d8",
   "metadata": {},
   "source": [
    "## Input Data"
   ]
  },
  {
   "cell_type": "markdown",
   "id": "86b477fb-7f0f-432b-95aa-afd25fdcf1a4",
   "metadata": {},
   "source": [
    "##### Base data "
   ]
  },
  {
   "cell_type": "code",
   "execution_count": 7,
   "id": "1da2e951-d1f0-45b2-9027-99629698f13b",
   "metadata": {
    "tags": []
   },
   "outputs": [],
   "source": [
    "sba_loans = pd.read_parquet(Path(setup.parent_path).joinpath('01_DATA_transformed_nomiss.parquet'))"
   ]
  },
  {
   "cell_type": "markdown",
   "id": "eaf4d273-8b88-40df-b778-2660c65d0443",
   "metadata": {},
   "source": [
    "##### Feature info"
   ]
  },
  {
   "cell_type": "code",
   "execution_count": 8,
   "id": "aff1f380-f209-4d20-a9b4-51720e9960d5",
   "metadata": {},
   "outputs": [],
   "source": [
    "with open(Path(setup.parent_path).joinpath('01_DATA_features.pkl'), 'rb') as fin:\n",
    "    imputer_features = pickle.load(fin)"
   ]
  },
  {
   "cell_type": "code",
   "execution_count": 9,
   "id": "fedf79d9-c359-40ba-ad02-4bb6349f617e",
   "metadata": {},
   "outputs": [
    {
     "name": "stdout",
     "output_type": "stream",
     "text": [
      "['NoEmp', 'CreateJob', 'LowDoc', 'DisbursementGross', 'new_business', 'urban_flag', 'franchise_flag', 'missingindicator_LowDoc', 'missingindicator_new_business', 'missingindicator_urban_flag']\n",
      "10\n"
     ]
    }
   ],
   "source": [
    "# List numeric features features\n",
    "features_numeric = [f for f in imputer_features if 'NAICS' not in f]\n",
    "features_numeric_len = len(features_numeric)\n",
    "print(features_numeric)\n",
    "print(len(features_numeric))"
   ]
  },
  {
   "cell_type": "code",
   "execution_count": 10,
   "id": "986bf089-c5bc-4817-80aa-d34e8071a962",
   "metadata": {},
   "outputs": [
    {
     "name": "stdout",
     "output_type": "stream",
     "text": [
      "['NoEmp_orig', 'CreateJob_orig', 'LowDoc_orig', 'DisbursementGross_orig', 'new_business_orig', 'urban_flag_orig', 'franchise_flag_orig']\n"
     ]
    }
   ],
   "source": [
    "features_orig = [c + '_orig' for c in features_numeric if c + '_orig' in sba_loans.columns]\n",
    "print(features_orig)"
   ]
  },
  {
   "cell_type": "markdown",
   "id": "4f98b348-1168-41a6-b4d1-db09546267ad",
   "metadata": {},
   "source": [
    "##### NAICS info - from A12\n",
    "Get the cluster information"
   ]
  },
  {
   "cell_type": "code",
   "execution_count": 11,
   "id": "79a7a1f0-85ab-4713-b65a-756c45ec67a0",
   "metadata": {},
   "outputs": [],
   "source": [
    "cluster_sum_df = pd.read_parquet(Path(setup.temp_path).joinpath('A12_DATA_tsne_info.parquet'))"
   ]
  },
  {
   "cell_type": "code",
   "execution_count": 12,
   "id": "7f3f0f06-6edc-46e6-8252-da293d3f9763",
   "metadata": {},
   "outputs": [],
   "source": [
    "# NAICS feature \n",
    "features_naics = ['NAICS', 'NAICS_4', 'NAICS_3', 'NAICS_sector']\n",
    "features_naics_orig = [c + '_orig' for c in features_naics]"
   ]
  },
  {
   "cell_type": "markdown",
   "id": "2152a307-a482-4f61-93c0-ce16dd4b0ec0",
   "metadata": {},
   "source": [
    "##### Model Specs\n",
    "Get dictionaries containing relevant info for selected models"
   ]
  },
  {
   "cell_type": "code",
   "execution_count": 13,
   "id": "c89df5a0-8231-46b5-bc8c-0751ce1ca7e2",
   "metadata": {},
   "outputs": [
    {
     "data": {
      "text/html": [
       "<div>\n",
       "<style scoped>\n",
       "    .dataframe tbody tr th:only-of-type {\n",
       "        vertical-align: middle;\n",
       "    }\n",
       "\n",
       "    .dataframe tbody tr th {\n",
       "        vertical-align: top;\n",
       "    }\n",
       "\n",
       "    .dataframe thead th {\n",
       "        text-align: right;\n",
       "    }\n",
       "</style>\n",
       "<table border=\"1\" class=\"dataframe\">\n",
       "  <thead>\n",
       "    <tr style=\"text-align: right;\">\n",
       "      <th></th>\n",
       "      <th>model</th>\n",
       "      <th>model_path</th>\n",
       "      <th>model_hier</th>\n",
       "      <th>model_rand</th>\n",
       "      <th>model_layer_name</th>\n",
       "    </tr>\n",
       "  </thead>\n",
       "  <tbody>\n",
       "    <tr>\n",
       "      <th>0</th>\n",
       "      <td>03</td>\n",
       "      <td>../data/2024_05_16/03_DATA_model.keras</td>\n",
       "      <td>False</td>\n",
       "      <td>False</td>\n",
       "      <td>NAICS</td>\n",
       "    </tr>\n",
       "    <tr>\n",
       "      <th>1</th>\n",
       "      <td>11</td>\n",
       "      <td>../data/2024_05_16/11_DATA_model.keras</td>\n",
       "      <td>False</td>\n",
       "      <td>True</td>\n",
       "      <td>NAICS</td>\n",
       "    </tr>\n",
       "    <tr>\n",
       "      <th>2</th>\n",
       "      <td>04</td>\n",
       "      <td>../data/2024_05_16/04_DATA_model.keras</td>\n",
       "      <td>True</td>\n",
       "      <td>False</td>\n",
       "      <td>NAICS</td>\n",
       "    </tr>\n",
       "    <tr>\n",
       "      <th>3</th>\n",
       "      <td>12</td>\n",
       "      <td>../data/2024_05_16/12_DATA_model.keras</td>\n",
       "      <td>True</td>\n",
       "      <td>True</td>\n",
       "      <td>NAICS</td>\n",
       "    </tr>\n",
       "    <tr>\n",
       "      <th>4</th>\n",
       "      <td>A01</td>\n",
       "      <td>../data/2024_06_04/A01_DATA_model.keras</td>\n",
       "      <td>True</td>\n",
       "      <td>True</td>\n",
       "      <td>embedding_int</td>\n",
       "    </tr>\n",
       "    <tr>\n",
       "      <th>5</th>\n",
       "      <td>A02</td>\n",
       "      <td>../data/2024_06_04/A02_DATA_model.keras</td>\n",
       "      <td>True</td>\n",
       "      <td>False</td>\n",
       "      <td>embedding_int</td>\n",
       "    </tr>\n",
       "  </tbody>\n",
       "</table>\n",
       "</div>"
      ],
      "text/plain": [
       "  model                               model_path  model_hier  model_rand  \\\n",
       "0    03   ../data/2024_05_16/03_DATA_model.keras       False       False   \n",
       "1    11   ../data/2024_05_16/11_DATA_model.keras       False        True   \n",
       "2    04   ../data/2024_05_16/04_DATA_model.keras        True       False   \n",
       "3    12   ../data/2024_05_16/12_DATA_model.keras        True        True   \n",
       "4   A01  ../data/2024_06_04/A01_DATA_model.keras        True        True   \n",
       "5   A02  ../data/2024_06_04/A02_DATA_model.keras        True       False   \n",
       "\n",
       "  model_layer_name  \n",
       "0            NAICS  \n",
       "1            NAICS  \n",
       "2            NAICS  \n",
       "3            NAICS  \n",
       "4    embedding_int  \n",
       "5    embedding_int  "
      ]
     },
     "execution_count": 13,
     "metadata": {},
     "output_type": "execute_result"
    }
   ],
   "source": [
    "model_info = pd.read_csv(Path(setup.temp_path).joinpath('A10_REPORT_model_info.csv'))\n",
    "model_info"
   ]
  },
  {
   "cell_type": "code",
   "execution_count": 14,
   "id": "f0804d48-8479-432c-9ca0-fe22552ebb76",
   "metadata": {},
   "outputs": [],
   "source": [
    "# Dictionary of model values\n",
    "model_path_dict = model_info[['model', 'model_path']].set_index('model') \\\n",
    "    ['model_path'].to_dict()"
   ]
  },
  {
   "cell_type": "code",
   "execution_count": 15,
   "id": "648fdd81-a18c-4f71-b665-3f5d6f9026b5",
   "metadata": {},
   "outputs": [],
   "source": [
    "# Hierarchical dict\n",
    "model_hier_dict = model_info[['model', 'model_hier']].set_index('model') \\\n",
    "    ['model_hier'].to_dict()"
   ]
  },
  {
   "cell_type": "code",
   "execution_count": 16,
   "id": "623856cd-4d8c-44f1-8a74-850a24522ea4",
   "metadata": {},
   "outputs": [
    {
     "data": {
      "text/plain": [
       "{'03': ['NAICS'],\n",
       " '11': ['NAICS'],\n",
       " '04': ['NAICS', 'NAICS_4', 'NAICS_3', 'NAICS_sector'],\n",
       " '12': ['NAICS', 'NAICS_4', 'NAICS_3', 'NAICS_sector'],\n",
       " 'A01': ['NAICS', 'NAICS_4', 'NAICS_3', 'NAICS_sector'],\n",
       " 'A02': ['NAICS', 'NAICS_4', 'NAICS_3', 'NAICS_sector']}"
      ]
     },
     "execution_count": 16,
     "metadata": {},
     "output_type": "execute_result"
    }
   ],
   "source": [
    "# Dictionary of NAICS features\n",
    "model_naics_feat_dict = {m:features_naics if model_hier_dict[m]\n",
    "                         else ['NAICS'] for m in model_info['model'].to_list()}\n",
    "model_naics_feat_dict"
   ]
  },
  {
   "cell_type": "markdown",
   "id": "3d6cdd7e-a07e-4ce4-811e-6b1a8d436534",
   "metadata": {},
   "source": [
    "## Data for SHAP"
   ]
  },
  {
   "cell_type": "markdown",
   "id": "1fc43133-e62e-45a5-b99f-4588d67f3362",
   "metadata": {},
   "source": [
    "##### Get data for creating the explainer\n",
    "Use a simple random sample, from the training"
   ]
  },
  {
   "cell_type": "code",
   "execution_count": 17,
   "id": "051192c2-0543-4bd0-be1d-8d10a6389750",
   "metadata": {},
   "outputs": [],
   "source": [
    "X_for_explainer = sba_loans[sba_loans['dset'] == 'train'] \\\n",
    "    .sample(n=1000, random_state = 24243)"
   ]
  },
  {
   "cell_type": "markdown",
   "id": "794dd910-8164-4fad-a3c4-53d766159210",
   "metadata": {},
   "source": [
    "##### Get data for explanations\n",
    "  * Random, stratify by NAICS (higher volume NAICS)\n",
    "  * Totally random \n",
    "  * Random with mullified NAICS (all set to 1)"
   ]
  },
  {
   "cell_type": "code",
   "execution_count": 18,
   "id": "342d4015-df6a-4b2b-974e-f6d53212c99a",
   "metadata": {},
   "outputs": [
    {
     "data": {
      "text/plain": [
       "(280, 3)"
      ]
     },
     "execution_count": 18,
     "metadata": {},
     "output_type": "execute_result"
    }
   ],
   "source": [
    "naics_count = sba_loans.groupby(['NAICS_orig', 'dset_naics_holdout']) \\\n",
    "    ['LoanNr_ChkDgt'].agg('count').rename('count').reset_index()\n",
    "naics_high = naics_count[naics_count['count'] >= setup.plot_thresh]\n",
    "naics_high.shape"
   ]
  },
  {
   "cell_type": "code",
   "execution_count": 19,
   "id": "13ebcc99-ca9f-4baa-a57e-f8f3574d6731",
   "metadata": {},
   "outputs": [],
   "source": [
    "X_to_explain = sba_loans \\\n",
    "    .merge(naics_high[['NAICS_orig']], on='NAICS_orig') \\\n",
    "    .groupby('NAICS_orig') \\\n",
    "    .sample(n=50, random_state = 2343) \\\n",
    "    .merge(cluster_sum_df[['NAICS_orig', 'cluster_003']], on='NAICS_orig') \\\n",
    "    .reset_index(drop=True) \\\n",
    "    .sort_index() "
   ]
  },
  {
   "cell_type": "code",
   "execution_count": 20,
   "id": "cd752219-cfb8-4620-9970-a97353c93578",
   "metadata": {},
   "outputs": [
    {
     "data": {
      "text/plain": [
       "(14000, 56)"
      ]
     },
     "execution_count": 20,
     "metadata": {},
     "output_type": "execute_result"
    }
   ],
   "source": [
    "X_to_explain.shape"
   ]
  },
  {
   "cell_type": "markdown",
   "id": "5d0a0fbc-00e8-47ec-99b3-4b80d60fc5e5",
   "metadata": {},
   "source": [
    "##### Full random"
   ]
  },
  {
   "cell_type": "code",
   "execution_count": 21,
   "id": "7661f32d-feeb-4812-968a-e6f0921ee4da",
   "metadata": {},
   "outputs": [
    {
     "data": {
      "text/plain": [
       "dset_naics_holdout\n",
       "0.0    3151\n",
       "1.0    1849\n",
       "Name: count, dtype: int64"
      ]
     },
     "execution_count": 21,
     "metadata": {},
     "output_type": "execute_result"
    }
   ],
   "source": [
    "X_to_explain_rand = sba_loans[sba_loans['dset'] == 'test'] \\\n",
    "    .sample(n=5000, random_state = 24243) \\\n",
    "    .reset_index(drop=True) \\\n",
    "    .sort_index() \n",
    "X_to_explain_rand['dset_naics_holdout'].value_counts(dropna=False)"
   ]
  },
  {
   "cell_type": "markdown",
   "id": "09150533-cb42-4859-b6ee-686fa69e371b",
   "metadata": {
    "tags": []
   },
   "source": [
    "##### Random wih null NAICS"
   ]
  },
  {
   "cell_type": "code",
   "execution_count": 22,
   "id": "66cadebb-1988-4303-a3da-0da876b368a0",
   "metadata": {},
   "outputs": [],
   "source": [
    "X_to_explain_null = X_to_explain_rand.copy()\n",
    "X_to_explain_null[features_naics] = 1"
   ]
  },
  {
   "cell_type": "markdown",
   "id": "01896f9a-36c1-4929-b5ef-c00cf7a9f34c",
   "metadata": {},
   "source": [
    "## Create subdirectory for SHAP value output"
   ]
  },
  {
   "cell_type": "code",
   "execution_count": 23,
   "id": "1dcace98-fcc9-4f43-bc6d-4c84007dab0b",
   "metadata": {},
   "outputs": [],
   "source": [
    "this_out = Path(setup.temp_path).joinpath('A20_SHAP_data')\n",
    "this_out.mkdir(parents=True, exist_ok=True)"
   ]
  },
  {
   "cell_type": "markdown",
   "id": "72c54b96-6d02-47a3-a61d-8123a89d59de",
   "metadata": {},
   "source": [
    "## Function to explain model\n",
    "See https://webapps.stackexchange.com/questions/103374/where-can-i-see-all-my-comments-on-issues-on-github for more information about why a workaround is needed for the explainer"
   ]
  },
  {
   "cell_type": "code",
   "execution_count": 24,
   "id": "ca862c80-6001-46f8-b201-1cc8e8ee2199",
   "metadata": {},
   "outputs": [],
   "source": [
    "def model_expl(full_path, data_for_explainer,\n",
    "               data_to_explain,\n",
    "               out_path = None,\n",
    "               out_prefix = 'XX', \n",
    "               layer_name = 'NAICS',\n",
    "               features_numeric = features_numeric,\n",
    "               features_naics = features_naics,\n",
    "               keep_cols = ['LoanNr_ChkDgt', 'cluster_003',\n",
    "                           'dset', 'dset_naics_holdout', 'NAICS_orig']):\n",
    "    \n",
    "    # Load this model, save diagram if applicable\n",
    "    model = keras.models.load_model(full_path)\n",
    "        \n",
    "    # Create a new model object to access the inputs after concatenation\n",
    "    # Note that for the model with a hidden layer for all the NAICS, we lose\n",
    "    # the ability to explain separate levels of the NAICS hierarchy\n",
    "    # See the GitHub link above\n",
    "    sub_imp_model = Model(inputs=model.input, outputs=model.get_layer('input_concat').output)\n",
    "    \n",
    "    # Get data inputs after concatenation using sub_imp_model\n",
    "    X_expl = data_for_explainer[features_numeric +  features_naics]\n",
    "    sub_data_for_explainer = sub_imp_model.predict([X_expl[features_numeric]]+ \n",
    "                                                   [X_expl[f] for f in features_naics])\n",
    "    \n",
    "    # Same for the cases to be explained\n",
    "    X = data_to_explain[features_numeric +  features_naics].copy() \\\n",
    "        .set_index(data_to_explain.index)\n",
    "    sub_data_to_explain = sub_imp_model.predict([X[features_numeric]]+ \n",
    "                                                [X[f] for f in features_naics])\n",
    "    \n",
    "    # Explain the model below the concatenated inputs\n",
    "    rem_model = Model(inputs=model.get_layer('input_concat').output, \n",
    "                      outputs=model.output)\n",
    "    \n",
    "    explainer = shap.DeepExplainer(rem_model, sub_data_for_explainer)\n",
    "    \n",
    "    shap_vals = explainer.shap_values(sub_data_to_explain)\n",
    "    \n",
    "    # Get Pandas version (wide format)\n",
    "    shap_df = pd.DataFrame(shap_vals[0], index=data_to_explain.index)\n",
    "    \n",
    "    # Name columns - NAICS at intermediate / embedding layer so generic names\n",
    "    num_len = len(features_numeric)\n",
    "    cat_len = len(shap_df.columns) - num_len\n",
    "    shap_df.columns = [f'NAICS_emb_{i:03d}' for i in range (0, cat_len)] + \\\n",
    "        features_numeric\n",
    "    \n",
    "    # Append some info columns\n",
    "    info_cols = [c for c in keep_cols if c in data_to_explain.columns]\n",
    "    shap_df = pd.concat([data_to_explain[info_cols],\n",
    "                        shap_df], axis=1)\n",
    "    \n",
    "    # Save raw SHAP and pandas data, if applicable\n",
    "    if out_path is not None:\n",
    "        with open(out_path.joinpath(out_prefix + '_shap_values.pkl'), 'wb') as fo:\n",
    "                  pickle.dump(shap_vals, fo)\n",
    "        shap_df.to_parquet(out_path.joinpath(out_prefix + '_shap_values.parquet'))\n",
    "\n",
    "    return"
   ]
  },
  {
   "cell_type": "markdown",
   "id": "63431954-fc70-4c7e-b624-679d6b6f8bf6",
   "metadata": {},
   "source": [
    "## Get SHAP Values for the Models"
   ]
  },
  {
   "cell_type": "markdown",
   "id": "e9335224-b5af-4f6f-a70b-2c58cf9fae8e",
   "metadata": {},
   "source": [
    "##### Full random cases"
   ]
  },
  {
   "cell_type": "code",
   "execution_count": 25,
   "id": "05ef98bc-a7b4-4461-9572-6a5e048ad209",
   "metadata": {},
   "outputs": [
    {
     "name": "stderr",
     "output_type": "stream",
     "text": [
      "2024-07-22 12:11:13.287992: I metal_plugin/src/device/metal_device.cc:1154] Metal device set to: Apple M1\n",
      "2024-07-22 12:11:13.288015: I metal_plugin/src/device/metal_device.cc:296] systemMemory: 16.00 GB\n",
      "2024-07-22 12:11:13.288018: I metal_plugin/src/device/metal_device.cc:313] maxCacheSize: 5.33 GB\n",
      "2024-07-22 12:11:13.288238: I tensorflow/core/common_runtime/pluggable_device/pluggable_device_factory.cc:303] Could not identify NUMA node of platform GPU ID 0, defaulting to 0. Your kernel may not have been built with NUMA support.\n",
      "2024-07-22 12:11:13.288617: I tensorflow/core/common_runtime/pluggable_device/pluggable_device_factory.cc:269] Created TensorFlow device (/job:localhost/replica:0/task:0/device:GPU:0 with 0 MB memory) -> physical PluggableDevice (device: 0, name: METAL, pci bus id: <undefined>)\n"
     ]
    },
    {
     "name": "stdout",
     "output_type": "stream",
     "text": [
      "32/32 [==============================] - 0s 1ms/step\n",
      " 66/157 [===========>..................] - ETA: 0s"
     ]
    },
    {
     "name": "stderr",
     "output_type": "stream",
     "text": [
      "2024-07-22 12:11:13.637355: I tensorflow/core/grappler/optimizers/custom_graph_optimizer_registry.cc:114] Plugin optimizer for device_type GPU is enabled.\n"
     ]
    },
    {
     "name": "stdout",
     "output_type": "stream",
     "text": [
      "157/157 [==============================] - 0s 782us/step\n"
     ]
    },
    {
     "name": "stderr",
     "output_type": "stream",
     "text": [
      "Your TensorFlow version is newer than 2.4.0 and so graph support has been removed in eager mode and some static graphs may not be supported. See PR #1483 for discussion.\n",
      "`tf.keras.backend.set_learning_phase` is deprecated and will be removed after 2020-10-11. To update it, simply pass a True/False value to the `training` argument of the `__call__` method of your layer or model.\n",
      "2024-07-22 12:11:14.191240: I tensorflow/core/grappler/optimizers/custom_graph_optimizer_registry.cc:114] Plugin optimizer for device_type GPU is enabled.\n"
     ]
    },
    {
     "name": "stdout",
     "output_type": "stream",
     "text": [
      "32/32 [==============================] - 0s 1ms/step\n",
      "157/157 [==============================] - 0s 755us/step\n"
     ]
    },
    {
     "name": "stderr",
     "output_type": "stream",
     "text": [
      "2024-07-22 12:11:31.475005: I tensorflow/core/grappler/optimizers/custom_graph_optimizer_registry.cc:114] Plugin optimizer for device_type GPU is enabled.\n",
      "Your TensorFlow version is newer than 2.4.0 and so graph support has been removed in eager mode and some static graphs may not be supported. See PR #1483 for discussion.\n",
      "`tf.keras.backend.set_learning_phase` is deprecated and will be removed after 2020-10-11. To update it, simply pass a True/False value to the `training` argument of the `__call__` method of your layer or model.\n",
      "2024-07-22 12:11:31.707218: I tensorflow/core/grappler/optimizers/custom_graph_optimizer_registry.cc:114] Plugin optimizer for device_type GPU is enabled.\n"
     ]
    },
    {
     "name": "stdout",
     "output_type": "stream",
     "text": [
      "32/32 [==============================] - 0s 2ms/step\n",
      " 44/157 [=======>......................] - ETA: 0s"
     ]
    },
    {
     "name": "stderr",
     "output_type": "stream",
     "text": [
      "2024-07-22 12:11:49.753404: I tensorflow/core/grappler/optimizers/custom_graph_optimizer_registry.cc:114] Plugin optimizer for device_type GPU is enabled.\n"
     ]
    },
    {
     "name": "stdout",
     "output_type": "stream",
     "text": [
      "157/157 [==============================] - 0s 1ms/step\n"
     ]
    },
    {
     "name": "stderr",
     "output_type": "stream",
     "text": [
      "Your TensorFlow version is newer than 2.4.0 and so graph support has been removed in eager mode and some static graphs may not be supported. See PR #1483 for discussion.\n",
      "`tf.keras.backend.set_learning_phase` is deprecated and will be removed after 2020-10-11. To update it, simply pass a True/False value to the `training` argument of the `__call__` method of your layer or model.\n",
      "2024-07-22 12:11:50.096074: I tensorflow/core/grappler/optimizers/custom_graph_optimizer_registry.cc:114] Plugin optimizer for device_type GPU is enabled.\n"
     ]
    },
    {
     "name": "stdout",
     "output_type": "stream",
     "text": [
      "32/32 [==============================] - 0s 2ms/step\n",
      " 47/157 [=======>......................] - ETA: 0s"
     ]
    },
    {
     "name": "stderr",
     "output_type": "stream",
     "text": [
      "2024-07-22 12:12:09.212253: I tensorflow/core/grappler/optimizers/custom_graph_optimizer_registry.cc:114] Plugin optimizer for device_type GPU is enabled.\n"
     ]
    },
    {
     "name": "stdout",
     "output_type": "stream",
     "text": [
      "157/157 [==============================] - 0s 1ms/step\n"
     ]
    },
    {
     "name": "stderr",
     "output_type": "stream",
     "text": [
      "Your TensorFlow version is newer than 2.4.0 and so graph support has been removed in eager mode and some static graphs may not be supported. See PR #1483 for discussion.\n",
      "`tf.keras.backend.set_learning_phase` is deprecated and will be removed after 2020-10-11. To update it, simply pass a True/False value to the `training` argument of the `__call__` method of your layer or model.\n",
      "2024-07-22 12:12:09.535380: I tensorflow/core/grappler/optimizers/custom_graph_optimizer_registry.cc:114] Plugin optimizer for device_type GPU is enabled.\n"
     ]
    },
    {
     "name": "stdout",
     "output_type": "stream",
     "text": [
      "32/32 [==============================] - 0s 2ms/step\n",
      " 43/157 [=======>......................] - ETA: 0s"
     ]
    },
    {
     "name": "stderr",
     "output_type": "stream",
     "text": [
      "2024-07-22 12:12:28.016650: I tensorflow/core/grappler/optimizers/custom_graph_optimizer_registry.cc:114] Plugin optimizer for device_type GPU is enabled.\n"
     ]
    },
    {
     "name": "stdout",
     "output_type": "stream",
     "text": [
      "157/157 [==============================] - 0s 1ms/step\n"
     ]
    },
    {
     "name": "stderr",
     "output_type": "stream",
     "text": [
      "Your TensorFlow version is newer than 2.4.0 and so graph support has been removed in eager mode and some static graphs may not be supported. See PR #1483 for discussion.\n",
      "`tf.keras.backend.set_learning_phase` is deprecated and will be removed after 2020-10-11. To update it, simply pass a True/False value to the `training` argument of the `__call__` method of your layer or model.\n",
      "2024-07-22 12:12:28.367707: I tensorflow/core/grappler/optimizers/custom_graph_optimizer_registry.cc:114] Plugin optimizer for device_type GPU is enabled.\n"
     ]
    },
    {
     "name": "stdout",
     "output_type": "stream",
     "text": [
      "32/32 [==============================] - 0s 2ms/step\n",
      " 43/157 [=======>......................] - ETA: 0s"
     ]
    },
    {
     "name": "stderr",
     "output_type": "stream",
     "text": [
      "2024-07-22 12:12:46.521335: I tensorflow/core/grappler/optimizers/custom_graph_optimizer_registry.cc:114] Plugin optimizer for device_type GPU is enabled.\n"
     ]
    },
    {
     "name": "stdout",
     "output_type": "stream",
     "text": [
      "157/157 [==============================] - 0s 1ms/step\n"
     ]
    },
    {
     "name": "stderr",
     "output_type": "stream",
     "text": [
      "Your TensorFlow version is newer than 2.4.0 and so graph support has been removed in eager mode and some static graphs may not be supported. See PR #1483 for discussion.\n",
      "`tf.keras.backend.set_learning_phase` is deprecated and will be removed after 2020-10-11. To update it, simply pass a True/False value to the `training` argument of the `__call__` method of your layer or model.\n",
      "2024-07-22 12:12:46.871769: I tensorflow/core/grappler/optimizers/custom_graph_optimizer_registry.cc:114] Plugin optimizer for device_type GPU is enabled.\n"
     ]
    },
    {
     "data": {
      "text/plain": [
       "[None, None, None, None, None, None]"
      ]
     },
     "execution_count": 25,
     "metadata": {},
     "output_type": "execute_result"
    }
   ],
   "source": [
    "[model_expl(model_path_dict[m], X_for_explainer, X_to_explain_rand,\n",
    "            features_naics = model_naics_feat_dict[m],\n",
    "            out_path = this_out,\n",
    "            out_prefix = m + '_DATA_random')\n",
    "    for m in model_info['model'].to_list()]"
   ]
  },
  {
   "cell_type": "markdown",
   "id": "8046565a-8106-4e06-ade6-964fd5791c7f",
   "metadata": {},
   "source": [
    "##### Nullified cases"
   ]
  },
  {
   "cell_type": "code",
   "execution_count": 26,
   "id": "aee9b4f6-83ef-4bec-bc66-dc844ff2cb6d",
   "metadata": {},
   "outputs": [
    {
     "name": "stdout",
     "output_type": "stream",
     "text": [
      "32/32 [==============================] - 0s 977us/step\n"
     ]
    },
    {
     "name": "stderr",
     "output_type": "stream",
     "text": [
      "2024-07-22 12:13:05.521353: I tensorflow/core/grappler/optimizers/custom_graph_optimizer_registry.cc:114] Plugin optimizer for device_type GPU is enabled.\n"
     ]
    },
    {
     "name": "stdout",
     "output_type": "stream",
     "text": [
      "157/157 [==============================] - 0s 820us/step\n"
     ]
    },
    {
     "name": "stderr",
     "output_type": "stream",
     "text": [
      "2024-07-22 12:13:05.784952: I tensorflow/core/grappler/optimizers/custom_graph_optimizer_registry.cc:114] Plugin optimizer for device_type GPU is enabled.\n",
      "Your TensorFlow version is newer than 2.4.0 and so graph support has been removed in eager mode and some static graphs may not be supported. See PR #1483 for discussion.\n",
      "`tf.keras.backend.set_learning_phase` is deprecated and will be removed after 2020-10-11. To update it, simply pass a True/False value to the `training` argument of the `__call__` method of your layer or model.\n",
      "2024-07-22 12:13:05.967093: I tensorflow/core/grappler/optimizers/custom_graph_optimizer_registry.cc:114] Plugin optimizer for device_type GPU is enabled.\n"
     ]
    },
    {
     "name": "stdout",
     "output_type": "stream",
     "text": [
      "32/32 [==============================] - 0s 988us/step\n",
      "128/157 [=======================>......] - ETA: 0s"
     ]
    },
    {
     "name": "stderr",
     "output_type": "stream",
     "text": [
      "2024-07-22 12:13:23.794733: I tensorflow/core/grappler/optimizers/custom_graph_optimizer_registry.cc:114] Plugin optimizer for device_type GPU is enabled.\n",
      "2024-07-22 12:13:23.867998: I tensorflow/core/grappler/optimizers/custom_graph_optimizer_registry.cc:114] Plugin optimizer for device_type GPU is enabled.\n"
     ]
    },
    {
     "name": "stdout",
     "output_type": "stream",
     "text": [
      "157/157 [==============================] - 0s 849us/step\n"
     ]
    },
    {
     "name": "stderr",
     "output_type": "stream",
     "text": [
      "Your TensorFlow version is newer than 2.4.0 and so graph support has been removed in eager mode and some static graphs may not be supported. See PR #1483 for discussion.\n",
      "`tf.keras.backend.set_learning_phase` is deprecated and will be removed after 2020-10-11. To update it, simply pass a True/False value to the `training` argument of the `__call__` method of your layer or model.\n",
      "2024-07-22 12:13:24.055502: I tensorflow/core/grappler/optimizers/custom_graph_optimizer_registry.cc:114] Plugin optimizer for device_type GPU is enabled.\n"
     ]
    },
    {
     "name": "stdout",
     "output_type": "stream",
     "text": [
      "32/32 [==============================] - 0s 2ms/step\n",
      " 41/157 [======>.......................] - ETA: 0s"
     ]
    },
    {
     "name": "stderr",
     "output_type": "stream",
     "text": [
      "2024-07-22 12:13:41.989031: I tensorflow/core/grappler/optimizers/custom_graph_optimizer_registry.cc:114] Plugin optimizer for device_type GPU is enabled.\n",
      "2024-07-22 12:13:42.107392: I tensorflow/core/grappler/optimizers/custom_graph_optimizer_registry.cc:114] Plugin optimizer for device_type GPU is enabled.\n"
     ]
    },
    {
     "name": "stdout",
     "output_type": "stream",
     "text": [
      "157/157 [==============================] - 0s 1ms/step\n"
     ]
    },
    {
     "name": "stderr",
     "output_type": "stream",
     "text": [
      "Your TensorFlow version is newer than 2.4.0 and so graph support has been removed in eager mode and some static graphs may not be supported. See PR #1483 for discussion.\n",
      "`tf.keras.backend.set_learning_phase` is deprecated and will be removed after 2020-10-11. To update it, simply pass a True/False value to the `training` argument of the `__call__` method of your layer or model.\n",
      "2024-07-22 12:13:42.392411: I tensorflow/core/grappler/optimizers/custom_graph_optimizer_registry.cc:114] Plugin optimizer for device_type GPU is enabled.\n"
     ]
    },
    {
     "name": "stdout",
     "output_type": "stream",
     "text": [
      "32/32 [==============================] - 0s 2ms/step\n",
      " 41/157 [======>.......................] - ETA: 0s"
     ]
    },
    {
     "name": "stderr",
     "output_type": "stream",
     "text": [
      "2024-07-22 12:14:00.990021: I tensorflow/core/grappler/optimizers/custom_graph_optimizer_registry.cc:114] Plugin optimizer for device_type GPU is enabled.\n",
      "2024-07-22 12:14:01.106715: I tensorflow/core/grappler/optimizers/custom_graph_optimizer_registry.cc:114] Plugin optimizer for device_type GPU is enabled.\n"
     ]
    },
    {
     "name": "stdout",
     "output_type": "stream",
     "text": [
      "157/157 [==============================] - 0s 1ms/step\n"
     ]
    },
    {
     "name": "stderr",
     "output_type": "stream",
     "text": [
      "Your TensorFlow version is newer than 2.4.0 and so graph support has been removed in eager mode and some static graphs may not be supported. See PR #1483 for discussion.\n",
      "`tf.keras.backend.set_learning_phase` is deprecated and will be removed after 2020-10-11. To update it, simply pass a True/False value to the `training` argument of the `__call__` method of your layer or model.\n",
      "2024-07-22 12:14:01.392127: I tensorflow/core/grappler/optimizers/custom_graph_optimizer_registry.cc:114] Plugin optimizer for device_type GPU is enabled.\n"
     ]
    },
    {
     "name": "stdout",
     "output_type": "stream",
     "text": [
      "32/32 [==============================] - 0s 2ms/step\n",
      "  1/157 [..............................] - ETA: 8s"
     ]
    },
    {
     "name": "stderr",
     "output_type": "stream",
     "text": [
      "2024-07-22 12:14:19.928358: I tensorflow/core/grappler/optimizers/custom_graph_optimizer_registry.cc:114] Plugin optimizer for device_type GPU is enabled.\n",
      "2024-07-22 12:14:20.056957: I tensorflow/core/grappler/optimizers/custom_graph_optimizer_registry.cc:114] Plugin optimizer for device_type GPU is enabled.\n"
     ]
    },
    {
     "name": "stdout",
     "output_type": "stream",
     "text": [
      "157/157 [==============================] - 0s 1ms/step\n"
     ]
    },
    {
     "name": "stderr",
     "output_type": "stream",
     "text": [
      "Your TensorFlow version is newer than 2.4.0 and so graph support has been removed in eager mode and some static graphs may not be supported. See PR #1483 for discussion.\n",
      "`tf.keras.backend.set_learning_phase` is deprecated and will be removed after 2020-10-11. To update it, simply pass a True/False value to the `training` argument of the `__call__` method of your layer or model.\n",
      "2024-07-22 12:14:20.357419: I tensorflow/core/grappler/optimizers/custom_graph_optimizer_registry.cc:114] Plugin optimizer for device_type GPU is enabled.\n"
     ]
    },
    {
     "name": "stdout",
     "output_type": "stream",
     "text": [
      "32/32 [==============================] - 0s 2ms/step\n",
      "  1/157 [..............................] - ETA: 8s"
     ]
    },
    {
     "name": "stderr",
     "output_type": "stream",
     "text": [
      "2024-07-22 12:14:38.988507: I tensorflow/core/grappler/optimizers/custom_graph_optimizer_registry.cc:114] Plugin optimizer for device_type GPU is enabled.\n",
      "2024-07-22 12:14:39.118452: I tensorflow/core/grappler/optimizers/custom_graph_optimizer_registry.cc:114] Plugin optimizer for device_type GPU is enabled.\n"
     ]
    },
    {
     "name": "stdout",
     "output_type": "stream",
     "text": [
      "157/157 [==============================] - 0s 1ms/step\n"
     ]
    },
    {
     "name": "stderr",
     "output_type": "stream",
     "text": [
      "Your TensorFlow version is newer than 2.4.0 and so graph support has been removed in eager mode and some static graphs may not be supported. See PR #1483 for discussion.\n",
      "`tf.keras.backend.set_learning_phase` is deprecated and will be removed after 2020-10-11. To update it, simply pass a True/False value to the `training` argument of the `__call__` method of your layer or model.\n",
      "2024-07-22 12:14:39.429003: I tensorflow/core/grappler/optimizers/custom_graph_optimizer_registry.cc:114] Plugin optimizer for device_type GPU is enabled.\n"
     ]
    },
    {
     "data": {
      "text/plain": [
       "[None, None, None, None, None, None]"
      ]
     },
     "execution_count": 26,
     "metadata": {},
     "output_type": "execute_result"
    }
   ],
   "source": [
    "[model_expl(model_path_dict[m], X_for_explainer, X_to_explain_null,\n",
    "            features_naics = model_naics_feat_dict[m],\n",
    "            out_path = this_out,\n",
    "            out_prefix = m + '_DATA_naics_null')\n",
    "    for m in model_info['model'].to_list()]"
   ]
  },
  {
   "cell_type": "markdown",
   "id": "ebc1d9f7-01da-4e80-b973-abd21a4bf3ed",
   "metadata": {},
   "source": [
    "##### Random NAICS"
   ]
  },
  {
   "cell_type": "code",
   "execution_count": 27,
   "id": "e099f105-c1e8-478f-8bb2-a4c343beb614",
   "metadata": {},
   "outputs": [
    {
     "name": "stdout",
     "output_type": "stream",
     "text": [
      "32/32 [==============================] - 0s 986us/step\n",
      "133/438 [========>.....................] - ETA: 0s"
     ]
    },
    {
     "name": "stderr",
     "output_type": "stream",
     "text": [
      "2024-07-22 12:14:57.521551: I tensorflow/core/grappler/optimizers/custom_graph_optimizer_registry.cc:114] Plugin optimizer for device_type GPU is enabled.\n"
     ]
    },
    {
     "name": "stdout",
     "output_type": "stream",
     "text": [
      "438/438 [==============================] - 0s 790us/step\n"
     ]
    },
    {
     "name": "stderr",
     "output_type": "stream",
     "text": [
      "Your TensorFlow version is newer than 2.4.0 and so graph support has been removed in eager mode and some static graphs may not be supported. See PR #1483 for discussion.\n",
      "`tf.keras.backend.set_learning_phase` is deprecated and will be removed after 2020-10-11. To update it, simply pass a True/False value to the `training` argument of the `__call__` method of your layer or model.\n",
      "2024-07-22 12:14:58.053129: I tensorflow/core/grappler/optimizers/custom_graph_optimizer_registry.cc:114] Plugin optimizer for device_type GPU is enabled.\n"
     ]
    },
    {
     "name": "stdout",
     "output_type": "stream",
     "text": [
      "32/32 [==============================] - 0s 992us/step\n",
      "133/438 [========>.....................] - ETA: 0s"
     ]
    },
    {
     "name": "stderr",
     "output_type": "stream",
     "text": [
      "2024-07-22 12:15:49.442294: I tensorflow/core/grappler/optimizers/custom_graph_optimizer_registry.cc:114] Plugin optimizer for device_type GPU is enabled.\n"
     ]
    },
    {
     "name": "stdout",
     "output_type": "stream",
     "text": [
      "438/438 [==============================] - 0s 776us/step\n"
     ]
    },
    {
     "name": "stderr",
     "output_type": "stream",
     "text": [
      "Your TensorFlow version is newer than 2.4.0 and so graph support has been removed in eager mode and some static graphs may not be supported. See PR #1483 for discussion.\n",
      "`tf.keras.backend.set_learning_phase` is deprecated and will be removed after 2020-10-11. To update it, simply pass a True/False value to the `training` argument of the `__call__` method of your layer or model.\n",
      "2024-07-22 12:15:49.922274: I tensorflow/core/grappler/optimizers/custom_graph_optimizer_registry.cc:114] Plugin optimizer for device_type GPU is enabled.\n"
     ]
    },
    {
     "name": "stdout",
     "output_type": "stream",
     "text": [
      "32/32 [==============================] - 0s 2ms/step\n",
      " 46/438 [==>...........................] - ETA: 0s"
     ]
    },
    {
     "name": "stderr",
     "output_type": "stream",
     "text": [
      "2024-07-22 12:16:42.829201: I tensorflow/core/grappler/optimizers/custom_graph_optimizer_registry.cc:114] Plugin optimizer for device_type GPU is enabled.\n"
     ]
    },
    {
     "name": "stdout",
     "output_type": "stream",
     "text": [
      "438/438 [==============================] - 1s 1ms/step\n"
     ]
    },
    {
     "name": "stderr",
     "output_type": "stream",
     "text": [
      "Your TensorFlow version is newer than 2.4.0 and so graph support has been removed in eager mode and some static graphs may not be supported. See PR #1483 for discussion.\n",
      "`tf.keras.backend.set_learning_phase` is deprecated and will be removed after 2020-10-11. To update it, simply pass a True/False value to the `training` argument of the `__call__` method of your layer or model.\n",
      "2024-07-22 12:16:43.532689: I tensorflow/core/grappler/optimizers/custom_graph_optimizer_registry.cc:114] Plugin optimizer for device_type GPU is enabled.\n"
     ]
    },
    {
     "name": "stdout",
     "output_type": "stream",
     "text": [
      "32/32 [==============================] - 0s 2ms/step\n",
      " 47/438 [==>...........................] - ETA: 0s"
     ]
    },
    {
     "name": "stderr",
     "output_type": "stream",
     "text": [
      "2024-07-22 12:17:35.369784: I tensorflow/core/grappler/optimizers/custom_graph_optimizer_registry.cc:114] Plugin optimizer for device_type GPU is enabled.\n"
     ]
    },
    {
     "name": "stdout",
     "output_type": "stream",
     "text": [
      "438/438 [==============================] - 1s 1ms/step\n"
     ]
    },
    {
     "name": "stderr",
     "output_type": "stream",
     "text": [
      "Your TensorFlow version is newer than 2.4.0 and so graph support has been removed in eager mode and some static graphs may not be supported. See PR #1483 for discussion.\n",
      "`tf.keras.backend.set_learning_phase` is deprecated and will be removed after 2020-10-11. To update it, simply pass a True/False value to the `training` argument of the `__call__` method of your layer or model.\n",
      "2024-07-22 12:17:36.060781: I tensorflow/core/grappler/optimizers/custom_graph_optimizer_registry.cc:114] Plugin optimizer for device_type GPU is enabled.\n"
     ]
    },
    {
     "name": "stdout",
     "output_type": "stream",
     "text": [
      "32/32 [==============================] - 0s 2ms/step\n",
      " 42/438 [=>............................] - ETA: 0s"
     ]
    },
    {
     "name": "stderr",
     "output_type": "stream",
     "text": [
      "2024-07-22 12:18:27.204183: I tensorflow/core/grappler/optimizers/custom_graph_optimizer_registry.cc:114] Plugin optimizer for device_type GPU is enabled.\n"
     ]
    },
    {
     "name": "stdout",
     "output_type": "stream",
     "text": [
      "438/438 [==============================] - 1s 1ms/step\n"
     ]
    },
    {
     "name": "stderr",
     "output_type": "stream",
     "text": [
      "Your TensorFlow version is newer than 2.4.0 and so graph support has been removed in eager mode and some static graphs may not be supported. See PR #1483 for discussion.\n",
      "`tf.keras.backend.set_learning_phase` is deprecated and will be removed after 2020-10-11. To update it, simply pass a True/False value to the `training` argument of the `__call__` method of your layer or model.\n",
      "2024-07-22 12:18:27.947903: I tensorflow/core/grappler/optimizers/custom_graph_optimizer_registry.cc:114] Plugin optimizer for device_type GPU is enabled.\n"
     ]
    },
    {
     "name": "stdout",
     "output_type": "stream",
     "text": [
      "32/32 [==============================] - 0s 2ms/step\n",
      " 43/438 [=>............................] - ETA: 0s"
     ]
    },
    {
     "name": "stderr",
     "output_type": "stream",
     "text": [
      "2024-07-22 12:19:19.954235: I tensorflow/core/grappler/optimizers/custom_graph_optimizer_registry.cc:114] Plugin optimizer for device_type GPU is enabled.\n"
     ]
    },
    {
     "name": "stdout",
     "output_type": "stream",
     "text": [
      "438/438 [==============================] - 1s 1ms/step\n"
     ]
    },
    {
     "name": "stderr",
     "output_type": "stream",
     "text": [
      "Your TensorFlow version is newer than 2.4.0 and so graph support has been removed in eager mode and some static graphs may not be supported. See PR #1483 for discussion.\n",
      "`tf.keras.backend.set_learning_phase` is deprecated and will be removed after 2020-10-11. To update it, simply pass a True/False value to the `training` argument of the `__call__` method of your layer or model.\n",
      "2024-07-22 12:19:20.695531: I tensorflow/core/grappler/optimizers/custom_graph_optimizer_registry.cc:114] Plugin optimizer for device_type GPU is enabled.\n"
     ]
    },
    {
     "data": {
      "text/plain": [
       "[None, None, None, None, None, None]"
      ]
     },
     "execution_count": 27,
     "metadata": {},
     "output_type": "execute_result"
    }
   ],
   "source": [
    "[model_expl(model_path_dict[m], X_for_explainer, X_to_explain,\n",
    "            features_naics = model_naics_feat_dict[m],\n",
    "            out_path = this_out,\n",
    "            out_prefix = m + '_DATA_naics_samp')\n",
    "    for m in model_info['model'].to_list()]"
   ]
  },
  {
   "cell_type": "code",
   "execution_count": null,
   "id": "fc0c583d-a656-4a23-b75b-7dd602532e6c",
   "metadata": {},
   "outputs": [],
   "source": []
  }
 ],
 "metadata": {
  "kernelspec": {
   "display_name": "tf_p39",
   "language": "python",
   "name": "tf_p39"
  },
  "language_info": {
   "codemirror_mode": {
    "name": "ipython",
    "version": 3
   },
   "file_extension": ".py",
   "mimetype": "text/x-python",
   "name": "python",
   "nbconvert_exporter": "python",
   "pygments_lexer": "ipython3",
   "version": "3.8.18"
  }
 },
 "nbformat": 4,
 "nbformat_minor": 5
}
