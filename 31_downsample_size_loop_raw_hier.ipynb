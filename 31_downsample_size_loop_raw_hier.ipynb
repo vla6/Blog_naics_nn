{
 "cells": [
  {
   "cell_type": "code",
   "execution_count": 1,
   "id": "8816b366-5be4-4748-b769-4dc6f7d1735f",
   "metadata": {},
   "outputs": [],
   "source": [
    "# Modify the file 00_setup.py to define input/output file paths on your system\n",
    "# The information in 00_setup.py will be used across notebooks\n",
    "from importlib.machinery import SourceFileLoader\n",
    "setup = SourceFileLoader(\"setup\", \"./00_setup.py\").load_module()"
   ]
  },
  {
   "cell_type": "markdown",
   "id": "a945de0c-f042-46b2-9d06-ab064af6c05b",
   "metadata": {},
   "source": [
    "## Loop downsample size - raw NAICS hierarchy\n",
    "Do the no-randomization models, downsampling training data.  Loop the downsample fraction. "
   ]
  },
  {
   "cell_type": "markdown",
   "id": "9e6fba8f-d564-466c-8e50-7773b095157f",
   "metadata": {},
   "source": [
    "NAICS+hierarchy, and data with no missing values"
   ]
  },
  {
   "cell_type": "markdown",
   "id": "d47a7ec9-7d7b-47df-a902-b2f1e54f1135",
   "metadata": {},
   "source": [
    "*This script takes about 4 hours on my MacBook Air*"
   ]
  },
  {
   "cell_type": "code",
   "execution_count": 2,
   "id": "fb42f9b4-99a8-4753-aacf-8722469be4c8",
   "metadata": {},
   "outputs": [],
   "source": [
    "import numpy as np\n",
    "import pandas as pd\n",
    "import tensorflow as tf"
   ]
  },
  {
   "cell_type": "code",
   "execution_count": 3,
   "id": "bf51170a-4487-4d10-b63d-c88f41b529f9",
   "metadata": {},
   "outputs": [],
   "source": [
    "from pathlib import Path\n",
    "import importlib, pickle\n",
    "from sklearn import model_selection"
   ]
  },
  {
   "cell_type": "code",
   "execution_count": 4,
   "id": "edd1164e-3ceb-4e3a-ad25-79bb9cf19a2f",
   "metadata": {},
   "outputs": [],
   "source": [
    "from sklearn.model_selection import train_test_split"
   ]
  },
  {
   "cell_type": "code",
   "execution_count": 5,
   "id": "09dd973b-60a0-434b-9193-8c5fcec27dd5",
   "metadata": {},
   "outputs": [],
   "source": [
    "import pandas as pd\n",
    "import os\n",
    "import re\n",
    "\n",
    "import keras\n",
    "from tensorflow.keras import layers, optimizers, losses, metrics, Model\n",
    "from sklearn import preprocessing, feature_extraction, model_selection\n",
    "from IPython.display import display, HTML\n",
    "import matplotlib.pyplot as plt\n",
    "%matplotlib inline"
   ]
  },
  {
   "cell_type": "code",
   "execution_count": 6,
   "id": "e9d62b12-8bbf-4f4f-90ca-9318dccadab4",
   "metadata": {},
   "outputs": [],
   "source": [
    "import matplotlib.ticker as ticker"
   ]
  },
  {
   "cell_type": "code",
   "execution_count": 7,
   "id": "5dedd82d-1901-4327-8b7f-f00026a84f18",
   "metadata": {},
   "outputs": [],
   "source": [
    "from keras.callbacks import EarlyStopping"
   ]
  },
  {
   "cell_type": "code",
   "execution_count": 8,
   "id": "9f1e4f2e-0e45-4e28-8e9c-212e0bb51199",
   "metadata": {},
   "outputs": [],
   "source": [
    "from sba_nn.sba_nn import sbnn_metrics, sbnn_model, sbnn_plot\n",
    "from sba_nn.sba_nn.sbnn_model import CatInjectGenerator"
   ]
  },
  {
   "cell_type": "code",
   "execution_count": 9,
   "id": "2a50c5c6-be2c-43a5-9795-d9eabb8a5f5c",
   "metadata": {},
   "outputs": [],
   "source": [
    "sbnn_plot.plot_defaults()"
   ]
  },
  {
   "cell_type": "markdown",
   "id": "3cbc00d2-bc83-42d9-83eb-65fcf306dccd",
   "metadata": {},
   "source": [
    "## Input Data"
   ]
  },
  {
   "cell_type": "code",
   "execution_count": 10,
   "id": "e014cd31-0f8d-42e3-82f9-b529eec8a3cc",
   "metadata": {
    "tags": []
   },
   "outputs": [],
   "source": [
    "sba_loans = pd.read_parquet(Path(setup.temp_path).joinpath('01_DATA_transformed_nomiss.parquet'))"
   ]
  },
  {
   "cell_type": "code",
   "execution_count": 11,
   "id": "8e65cb7c-792c-46ff-a530-0d5c64240d60",
   "metadata": {},
   "outputs": [],
   "source": [
    "with open(Path(setup.temp_path).joinpath('01_DATA_features.pkl'), 'rb') as fin:\n",
    "    imputer_features = pickle.load(fin)"
   ]
  },
  {
   "cell_type": "code",
   "execution_count": 12,
   "id": "6f0ce28e-a80c-415b-b068-5c4d49370da8",
   "metadata": {},
   "outputs": [],
   "source": [
    "with open(Path(setup.temp_path).joinpath('01_DATA_naics_max_encodings.pkl'), 'rb') as fin:\n",
    "    naics_max_levels= pickle.load(fin)"
   ]
  },
  {
   "cell_type": "markdown",
   "id": "4d4116da-d689-478a-9c5d-a330f231e615",
   "metadata": {},
   "source": [
    "##### Features"
   ]
  },
  {
   "cell_type": "code",
   "execution_count": 13,
   "id": "f98c6e41-38d0-4d5f-b821-e3837b8c2068",
   "metadata": {},
   "outputs": [
    {
     "name": "stdout",
     "output_type": "stream",
     "text": [
      "['NoEmp', 'CreateJob', 'LowDoc', 'DisbursementGross', 'new_business', 'urban_flag', 'franchise_flag', 'missingindicator_LowDoc', 'missingindicator_new_business', 'missingindicator_urban_flag']\n"
     ]
    }
   ],
   "source": [
    "# Numeric features\n",
    "features_numeric = [f for f in imputer_features if 'NAICS' not in f]\n",
    "features_numeric_len = len(features_numeric)\n",
    "print(features_numeric)"
   ]
  },
  {
   "cell_type": "code",
   "execution_count": 14,
   "id": "ba637a7a-6d62-4e7d-b869-b72be58fd37a",
   "metadata": {},
   "outputs": [],
   "source": [
    "###### NAICS feature\n",
    "features_naics = ['NAICS', 'NAICS_4', 'NAICS_3', 'NAICS_sector']\n",
    "features_naics_max_levels  = [naics_max_levels[n] for n in features_naics]\n",
    "features_naics_emb_dim = [setup.nn_naics_embed_size_dict[n] for n in features_naics]"
   ]
  },
  {
   "cell_type": "code",
   "execution_count": 15,
   "id": "867031ee-8b6e-424d-b497-8e19409ba1d9",
   "metadata": {},
   "outputs": [
    {
     "name": "stdout",
     "output_type": "stream",
     "text": [
      "[1170, 345, 107, 21]\n",
      "[8, 4, 4, 2]\n"
     ]
    }
   ],
   "source": [
    "print(features_naics_max_levels)\n",
    "print(features_naics_emb_dim)"
   ]
  },
  {
   "cell_type": "markdown",
   "id": "7e2b5f20-0cd1-405a-9c40-8bf45aa89159",
   "metadata": {},
   "source": [
    "##### Datasets for train, validation"
   ]
  },
  {
   "cell_type": "code",
   "execution_count": 16,
   "id": "0df27034-65fb-4d46-a013-eab2bcc96616",
   "metadata": {},
   "outputs": [],
   "source": [
    "X = sba_loans[['dset', 'LoanNr_ChkDgt'] + features_numeric].set_index('LoanNr_ChkDgt').sort_index()"
   ]
  },
  {
   "cell_type": "code",
   "execution_count": 17,
   "id": "c148e947-444d-4f2f-97c0-ae780485895c",
   "metadata": {},
   "outputs": [
    {
     "name": "stdout",
     "output_type": "stream",
     "text": [
      "training X: (446848, 10), y:(446848,)\n"
     ]
    }
   ],
   "source": [
    "X_train = X[X['dset'] == 'train'].drop(columns='dset')\n",
    "y_train = sba_loans[sba_loans['dset'] == 'train'].set_index('LoanNr_ChkDgt').sort_index()['target']\n",
    "print(f'training X: {X_train.shape}, y:{y_train.shape}')"
   ]
  },
  {
   "cell_type": "code",
   "execution_count": 18,
   "id": "2668f340-3d2f-4c46-8908-57c9cbfbf7c3",
   "metadata": {},
   "outputs": [
    {
     "name": "stdout",
     "output_type": "stream",
     "text": [
      "val X: (95604, 10), y:(95604,)\n"
     ]
    }
   ],
   "source": [
    "X_val = X[X['dset'] == 'val'].drop(columns='dset')\n",
    "y_val = sba_loans[sba_loans['dset'] == 'val'].set_index('LoanNr_ChkDgt').sort_index()['target']\n",
    "print(f'val X: {X_val.shape}, y:{y_val.shape}')"
   ]
  },
  {
   "cell_type": "code",
   "execution_count": 19,
   "id": "069063dd-d090-494d-8ebc-a048f6272128",
   "metadata": {},
   "outputs": [
    {
     "name": "stdout",
     "output_type": "stream",
     "text": [
      "0.20230592953308507\n"
     ]
    }
   ],
   "source": [
    "base_thresh = y_train.mean()\n",
    "print(base_thresh)"
   ]
  },
  {
   "cell_type": "code",
   "execution_count": 20,
   "id": "3ce4d67e-654a-4117-8381-3e97993cc653",
   "metadata": {},
   "outputs": [],
   "source": [
    "X_naics = [sba_loans[['dset', 'LoanNr_ChkDgt', n]].set_index('LoanNr_ChkDgt').sort_index() \\\n",
    "           for n in features_naics]"
   ]
  },
  {
   "cell_type": "code",
   "execution_count": 21,
   "id": "e0347be3-bfa0-4097-b7d5-e7d0e5a7e133",
   "metadata": {},
   "outputs": [],
   "source": [
    "X_naics_train = [Xn[Xn['dset'] == 'train'].drop(columns='dset') for Xn in X_naics]\n",
    "X_naics_val =  [Xn[Xn['dset'] == 'val'].drop(columns='dset') for Xn in X_naics]"
   ]
  },
  {
   "cell_type": "markdown",
   "id": "53be11f2-9c6d-47d7-b5b6-55ca8ed1a4fe",
   "metadata": {},
   "source": [
    "## Loop for different fits"
   ]
  },
  {
   "cell_type": "code",
   "execution_count": 22,
   "id": "2a9a48fe-9d07-4fec-af0f-3f08e691cff4",
   "metadata": {},
   "outputs": [],
   "source": [
    "def gen_fit_loop(rate = 0.1):\n",
    "    this_model = sbnn_model.create_emb_model(features_numeric_len,\n",
    "                                         features_naics_max_levels,\n",
    "                                         features_naics_emb_dim,\n",
    "                                         naics_embedding_names = features_naics,\n",
    "                                         hidden_size = setup.nn_layer_sizes,\n",
    "                                         activation='tanh',\n",
    "                                         lr=setup.nn_learning_rate,\n",
    "                                         opt_func = setup.nn_optimizer,\n",
    "                                         dropout = setup.nn_dropout)\n",
    "    \n",
    "    # Downsample\n",
    "    train_samp, _ = train_test_split(X_train.index,\n",
    "                                train_size=rate,\n",
    "                                random_state=343)\n",
    "    X_train_ds = X_train.loc[train_samp, :]\n",
    "    X_naics_train_ds = [xn.loc[train_samp, :] for xn in X_naics_train]\n",
    "    y_train_ds = y_train.loc[train_samp]\n",
    "    \n",
    "    callback = keras.callbacks.EarlyStopping(patience=3)\n",
    "    \n",
    "    # Fit\n",
    "    this_history = this_model.fit([X_train_ds] + X_naics_train_ds, y_train_ds,\n",
    "                              validation_data=([X_val] + X_naics_val, y_val),\n",
    "                              batch_size=setup.nn_batch_size,\n",
    "                              epochs=setup.nn_epochs,\n",
    "                              callbacks=[callback],\n",
    "                                 shuffle=True)\n",
    "    \n",
    "    this_history_df = sbnn_model.process_history(this_history)\n",
    "    this_history_df['rate'] = rate\n",
    "    \n",
    "    # Predictions then metrics\n",
    "    this_predict = this_model.predict([X.drop(columns='dset')] +\n",
    "                                     [Xn.drop(columns='dset') for Xn in X_naics])\n",
    "    this_predict_df = pd.DataFrame(this_predict, index=X.index) \\\n",
    "        .set_axis(['predict_prob'], axis=1) \\\n",
    "        .reset_index() \\\n",
    "        .merge(sba_loans[['target', 'LoanNr_ChkDgt', 'dset', 'dset_naics_holdout', 'NAICS']], \n",
    "               on='LoanNr_ChkDgt')\n",
    "    \n",
    "    # Threshold tune\n",
    "    this_pred_train = this_predict_df[this_predict_df['dset'] == 'train']\n",
    "    thresh_tune_data = sbnn_metrics.get_f1_frame(this_pred_train['target'], \n",
    "                                        this_pred_train['predict_prob'])\n",
    "    thresh_tune_data.sort_values('f1', ascending=False, inplace=True)\n",
    "    best_thresh = thresh_tune_data['thresh'].iloc[0]\n",
    "    this_predict_df['predict_bin'] = sbnn_metrics.get_binary_predictions(this_predict_df['predict_prob'], \n",
    "                                                                            best_thresh)\n",
    "    \n",
    "    this_metrics_dset = this_predict_df.groupby('dset') \\\n",
    "        .apply(lambda x: sbnn_metrics.dset_metrics(x.target, x.predict_bin, x.predict_prob)) \\\n",
    "        .reset_index()\n",
    "    this_metrics_test = this_predict_df[this_predict_df['dset'] == 'test'] \\\n",
    "        .groupby(['dset', 'dset_naics_holdout']) \\\n",
    "        .apply(lambda x: sbnn_metrics.dset_metrics(x.target, x.predict_bin, x.predict_prob)) \\\n",
    "        .reset_index()\n",
    "    this_metrics = pd.concat([this_metrics_dset, this_metrics_test])\n",
    "    this_metrics['rate'] = rate\n",
    "    this_metrics['thresh'] = best_thresh\n",
    "    \n",
    "    return this_history_df, this_metrics\n"
   ]
  },
  {
   "cell_type": "markdown",
   "id": "375ed31d-be98-458c-97ba-dc86cddacc18",
   "metadata": {},
   "source": [
    "## Run Loop"
   ]
  },
  {
   "cell_type": "code",
   "execution_count": 23,
   "id": "f2773b95-7041-41cc-ac49-4a5310138fe9",
   "metadata": {},
   "outputs": [],
   "source": [
    "sample_rate_vals = [0.01, 0.05, 0.1, 0.2, 0.4, 0.7, 0.9, 0.95, 0.99]"
   ]
  },
  {
   "cell_type": "code",
   "execution_count": 24,
   "id": "74f979e5-8aaa-4d0a-adea-70eac817d042",
   "metadata": {},
   "outputs": [],
   "source": [
    "history = pd.DataFrame()\n",
    "metrics = pd.DataFrame()"
   ]
  },
  {
   "cell_type": "code",
   "execution_count": null,
   "id": "9bdc1866-2381-4cde-a0ef-a1cd77133cba",
   "metadata": {},
   "outputs": [
    {
     "name": "stderr",
     "output_type": "stream",
     "text": [
      "2024-05-25 21:02:30.931111: I metal_plugin/src/device/metal_device.cc:1154] Metal device set to: Apple M1\n",
      "2024-05-25 21:02:30.931139: I metal_plugin/src/device/metal_device.cc:296] systemMemory: 16.00 GB\n",
      "2024-05-25 21:02:30.931147: I metal_plugin/src/device/metal_device.cc:313] maxCacheSize: 5.33 GB\n",
      "2024-05-25 21:02:30.931190: I tensorflow/core/common_runtime/pluggable_device/pluggable_device_factory.cc:303] Could not identify NUMA node of platform GPU ID 0, defaulting to 0. Your kernel may not have been built with NUMA support.\n",
      "2024-05-25 21:02:30.931207: I tensorflow/core/common_runtime/pluggable_device/pluggable_device_factory.cc:269] Created TensorFlow device (/job:localhost/replica:0/task:0/device:GPU:0 with 0 MB memory) -> physical PluggableDevice (device: 0, name: METAL, pci bus id: <undefined>)\n",
      "2024-05-25 21:02:32.046318: I tensorflow/core/grappler/optimizers/custom_graph_optimizer_registry.cc:114] Plugin optimizer for device_type GPU is enabled.\n",
      "2024-05-25 21:02:36.307196: I tensorflow/core/grappler/optimizers/custom_graph_optimizer_registry.cc:114] Plugin optimizer for device_type GPU is enabled.\n",
      "2024-05-25 21:06:55.694561: I tensorflow/core/grappler/optimizers/custom_graph_optimizer_registry.cc:114] Plugin optimizer for device_type GPU is enabled.\n",
      "2024-05-25 21:08:51.113766: I tensorflow/core/grappler/optimizers/custom_graph_optimizer_registry.cc:114] Plugin optimizer for device_type GPU is enabled.\n",
      "2024-05-25 21:09:09.648817: I tensorflow/core/grappler/optimizers/custom_graph_optimizer_registry.cc:114] Plugin optimizer for device_type GPU is enabled.\n",
      "2024-05-25 21:12:51.385112: I tensorflow/core/grappler/optimizers/custom_graph_optimizer_registry.cc:114] Plugin optimizer for device_type GPU is enabled.\n",
      "2024-05-25 21:14:27.546394: I tensorflow/core/grappler/optimizers/custom_graph_optimizer_registry.cc:114] Plugin optimizer for device_type GPU is enabled.\n",
      "2024-05-25 21:15:02.280157: I tensorflow/core/grappler/optimizers/custom_graph_optimizer_registry.cc:114] Plugin optimizer for device_type GPU is enabled.\n",
      "2024-05-25 21:22:05.919118: I tensorflow/core/grappler/optimizers/custom_graph_optimizer_registry.cc:114] Plugin optimizer for device_type GPU is enabled.\n",
      "2024-05-25 21:23:42.239112: I tensorflow/core/grappler/optimizers/custom_graph_optimizer_registry.cc:114] Plugin optimizer for device_type GPU is enabled.\n",
      "2024-05-25 21:24:50.169328: I tensorflow/core/grappler/optimizers/custom_graph_optimizer_registry.cc:114] Plugin optimizer for device_type GPU is enabled.\n"
     ]
    }
   ],
   "source": [
    "%%capture\n",
    "for r in sample_rate_vals:\n",
    "    this_hist, this_met = gen_fit_loop(r)\n",
    "    history = pd.concat([history, this_hist])\n",
    "    metrics = pd.concat([metrics, this_met])"
   ]
  },
  {
   "cell_type": "code",
   "execution_count": null,
   "id": "ad4783f2-8d0b-4850-a45a-3a4be8e63318",
   "metadata": {},
   "outputs": [],
   "source": [
    "history['epoch'] = history.groupby('rate').cumcount()\n",
    "history.to_csv(Path(setup.temp_path).joinpath('31_REPORT_loop_history.csv'))"
   ]
  },
  {
   "cell_type": "code",
   "execution_count": null,
   "id": "b1854de9-c6e9-41d4-813a-4c62d43b2bc3",
   "metadata": {},
   "outputs": [],
   "source": [
    "metrics.to_csv(Path(setup.temp_path).joinpath('31_REPORT_loop_metrics.csv'))"
   ]
  },
  {
   "cell_type": "code",
   "execution_count": null,
   "id": "d934b1b9-a617-4330-8f1e-f3b7c89b1e0f",
   "metadata": {},
   "outputs": [],
   "source": [
    "metrics[metrics['dset_naics_holdout'] == 0]"
   ]
  },
  {
   "cell_type": "code",
   "execution_count": null,
   "id": "73e89efd-75a9-4b27-81a8-13e12d5482be",
   "metadata": {},
   "outputs": [],
   "source": [
    "metrics[metrics['dset_naics_holdout'] == 1]"
   ]
  },
  {
   "cell_type": "markdown",
   "id": "d0dae1f5-a6e2-46c3-bba7-f0966f93d3ed",
   "metadata": {},
   "source": [
    "## Plots"
   ]
  },
  {
   "cell_type": "code",
   "execution_count": null,
   "id": "ae6c4e12-c72e-4f71-aaca-62f0704dca6d",
   "metadata": {},
   "outputs": [],
   "source": [
    "#metrics = pd.read_csv(Path(setup.temp_path).joinpath('31_REPORT_loop_metrics.csv'))\n",
    "#history = pd.read_csv(Path(setup.temp_path).joinpath('31_REPORT_loop_history.csv'))"
   ]
  },
  {
   "cell_type": "code",
   "execution_count": null,
   "id": "b14d8c25-2623-40be-a84c-43c752f60fa7",
   "metadata": {},
   "outputs": [],
   "source": [
    "importlib.reload(sbnn_plot)"
   ]
  },
  {
   "cell_type": "markdown",
   "id": "e7fba165-3d44-4a97-8227-03057298768b",
   "metadata": {},
   "source": [
    "##### Metrics"
   ]
  },
  {
   "cell_type": "code",
   "execution_count": null,
   "id": "5126ef4e-45a3-4a1c-9dba-37c59b8f75ef",
   "metadata": {},
   "outputs": [],
   "source": [
    "fig = sbnn_plot.plot_metric_dependence(metrics, xformatter = ticker.PercentFormatter(1),\n",
    "                                      ylabel='PR-AUC',\n",
    "                            xlabel='downsample rate')\n",
    "fig.savefig(Path(setup.temp_path).joinpath('31_PLOT_average_precision.png'),\n",
    "            bbox_inches='tight')"
   ]
  },
  {
   "cell_type": "markdown",
   "id": "26e38578-60a3-4986-bd7f-fd76b992f135",
   "metadata": {},
   "source": [
    "##### History"
   ]
  },
  {
   "cell_type": "code",
   "execution_count": null,
   "id": "ffc7e367-f428-4f76-a517-4faa77cf7095",
   "metadata": {},
   "outputs": [],
   "source": [
    "importlib.reload(sbnn_plot)"
   ]
  },
  {
   "cell_type": "code",
   "execution_count": null,
   "id": "2342a31f-4891-4834-851a-b90b8b729c3c",
   "metadata": {},
   "outputs": [],
   "source": [
    "fig = sbnn_plot.plot_history_group(history,\n",
    "                                  col_format_func = lambda x:f'{float(x):.1%}',\n",
    "                                  ylabel = 'PR-AUC (validation)',\n",
    "                                  leg_title='down rate')\n",
    "fig.savefig(Path(setup.temp_path).joinpath('31_PLOT_hostory_val_auc.png'),\n",
    "            bbox_inches='tight')"
   ]
  },
  {
   "cell_type": "code",
   "execution_count": null,
   "id": "9e92ea2f-378d-47a1-b067-2ec715935c9f",
   "metadata": {},
   "outputs": [],
   "source": [
    "fig = sbnn_plot.plot_history_group(history,'val_loss',\n",
    "                                  col_format_func = lambda x:f'{float(x):.1%}',\n",
    "                                  ylabel = 'Loss (validation)',\n",
    "                                  leg_title='down rate')\n",
    "fig.savefig(Path(setup.temp_path).joinpath('31_PLOT_hostory_val_loss.png'),\n",
    "            bbox_inches='tight')"
   ]
  },
  {
   "cell_type": "code",
   "execution_count": null,
   "id": "0c6acda4-3326-4ece-9ae9-8fc784e9475f",
   "metadata": {},
   "outputs": [],
   "source": [
    "fig = sbnn_plot.plot_epoch_agg(history,\n",
    "                               xformatter = ticker.PercentFormatter(1),\n",
    "                               ylabel='# Epochs',\n",
    "                               xlabel='downsample rate')\n",
    "fig.savefig(Path(setup.temp_path).joinpath('31_PLOT_hostory_epochs.png'),\n",
    "            bbox_inches='tight')"
   ]
  },
  {
   "cell_type": "code",
   "execution_count": null,
   "id": "b5334471-c99c-44c5-9e2b-4c1b6e602b4a",
   "metadata": {},
   "outputs": [],
   "source": []
  }
 ],
 "metadata": {
  "kernelspec": {
   "display_name": "tf_p39",
   "language": "python",
   "name": "tf_p39"
  },
  "language_info": {
   "codemirror_mode": {
    "name": "ipython",
    "version": 3
   },
   "file_extension": ".py",
   "mimetype": "text/x-python",
   "name": "python",
   "nbconvert_exporter": "python",
   "pygments_lexer": "ipython3",
   "version": "3.8.18"
  }
 },
 "nbformat": 4,
 "nbformat_minor": 5
}
