{
 "cells": [
  {
   "cell_type": "markdown",
   "id": "c487b3d1-9278-46b5-a29d-bf2e28295484",
   "metadata": {},
   "source": [
    "## NAICS table creation\n",
    "Import and standardize the tables in this folder.  Input files from https://www.census.gov/naics/?48967"
   ]
  },
  {
   "cell_type": "code",
   "execution_count": 1,
   "id": "b70bf357-4ae8-4b7d-b589-15902f8b1e42",
   "metadata": {},
   "outputs": [],
   "source": [
    "import pandas as pd\n",
    "import numpy as np"
   ]
  },
  {
   "cell_type": "markdown",
   "id": "b875d14d-4a3d-4753-8d76-782faf13a365",
   "metadata": {},
   "source": [
    "## 2002 Data"
   ]
  },
  {
   "cell_type": "code",
   "execution_count": 2,
   "id": "9837e7c1-5d75-47d4-80f8-f67765a44019",
   "metadata": {},
   "outputs": [],
   "source": [
    "naics_2002 = pd.pandas.read_fwf('./naics_2002_hier.txt')\n",
    "naics_2002 = naics_2002.iloc[2:,0:2]\n",
    "naics_2002.columns = ['NAICS', 'NAICS_desc']\n",
    "naics_2002['year'] = 2002"
   ]
  },
  {
   "cell_type": "code",
   "execution_count": 3,
   "id": "d4c4323a-9c8e-4dc8-a95c-73cf5aa16c7c",
   "metadata": {},
   "outputs": [
    {
     "data": {
      "text/html": [
       "<div>\n",
       "<style scoped>\n",
       "    .dataframe tbody tr th:only-of-type {\n",
       "        vertical-align: middle;\n",
       "    }\n",
       "\n",
       "    .dataframe tbody tr th {\n",
       "        vertical-align: top;\n",
       "    }\n",
       "\n",
       "    .dataframe thead th {\n",
       "        text-align: right;\n",
       "    }\n",
       "</style>\n",
       "<table border=\"1\" class=\"dataframe\">\n",
       "  <thead>\n",
       "    <tr style=\"text-align: right;\">\n",
       "      <th></th>\n",
       "      <th>NAICS</th>\n",
       "      <th>NAICS_desc</th>\n",
       "      <th>year</th>\n",
       "    </tr>\n",
       "  </thead>\n",
       "  <tbody>\n",
       "    <tr>\n",
       "      <th>2</th>\n",
       "      <td>11</td>\n",
       "      <td>Agriculture, Forestry, Fishing and Hunting</td>\n",
       "      <td>2002</td>\n",
       "    </tr>\n",
       "    <tr>\n",
       "      <th>3</th>\n",
       "      <td>111</td>\n",
       "      <td>Crop Production</td>\n",
       "      <td>2002</td>\n",
       "    </tr>\n",
       "    <tr>\n",
       "      <th>4</th>\n",
       "      <td>1111</td>\n",
       "      <td>Oilseed and Grain Farming</td>\n",
       "      <td>2002</td>\n",
       "    </tr>\n",
       "    <tr>\n",
       "      <th>5</th>\n",
       "      <td>11111</td>\n",
       "      <td>Soybean Farming</td>\n",
       "      <td>2002</td>\n",
       "    </tr>\n",
       "    <tr>\n",
       "      <th>6</th>\n",
       "      <td>111110</td>\n",
       "      <td>Soybean Farming</td>\n",
       "      <td>2002</td>\n",
       "    </tr>\n",
       "    <tr>\n",
       "      <th>...</th>\n",
       "      <td>...</td>\n",
       "      <td>...</td>\n",
       "      <td>...</td>\n",
       "    </tr>\n",
       "    <tr>\n",
       "      <th>2338</th>\n",
       "      <td>9281</td>\n",
       "      <td>National Security and International Affairs</td>\n",
       "      <td>2002</td>\n",
       "    </tr>\n",
       "    <tr>\n",
       "      <th>2339</th>\n",
       "      <td>92811</td>\n",
       "      <td>National Security</td>\n",
       "      <td>2002</td>\n",
       "    </tr>\n",
       "    <tr>\n",
       "      <th>2340</th>\n",
       "      <td>928110</td>\n",
       "      <td>National Security</td>\n",
       "      <td>2002</td>\n",
       "    </tr>\n",
       "    <tr>\n",
       "      <th>2341</th>\n",
       "      <td>92812</td>\n",
       "      <td>International Affairs</td>\n",
       "      <td>2002</td>\n",
       "    </tr>\n",
       "    <tr>\n",
       "      <th>2342</th>\n",
       "      <td>928120</td>\n",
       "      <td>International Affairs</td>\n",
       "      <td>2002</td>\n",
       "    </tr>\n",
       "  </tbody>\n",
       "</table>\n",
       "<p>2341 rows × 3 columns</p>\n",
       "</div>"
      ],
      "text/plain": [
       "       NAICS                                   NAICS_desc  year\n",
       "2         11   Agriculture, Forestry, Fishing and Hunting  2002\n",
       "3        111                              Crop Production  2002\n",
       "4       1111                    Oilseed and Grain Farming  2002\n",
       "5      11111                              Soybean Farming  2002\n",
       "6     111110                              Soybean Farming  2002\n",
       "...      ...                                          ...   ...\n",
       "2338    9281  National Security and International Affairs  2002\n",
       "2339   92811                            National Security  2002\n",
       "2340  928110                            National Security  2002\n",
       "2341   92812                        International Affairs  2002\n",
       "2342  928120                        International Affairs  2002\n",
       "\n",
       "[2341 rows x 3 columns]"
      ]
     },
     "execution_count": 3,
     "metadata": {},
     "output_type": "execute_result"
    }
   ],
   "source": [
    "naics_2002"
   ]
  },
  {
   "cell_type": "markdown",
   "id": "946d99f0-3970-4dd2-bab9-2de5c9055e5c",
   "metadata": {},
   "source": [
    "## 2007-2017 Data"
   ]
  },
  {
   "cell_type": "code",
   "execution_count": 4,
   "id": "1f09b7c1-777f-4aba-84fa-3313121fbcf2",
   "metadata": {},
   "outputs": [],
   "source": [
    "year_list = [2007, 2012, 2017]\n",
    "file_list = ['./naics_2007_hier.csv', 'naics_2012.csv', 'naics_2017.csv']\n",
    "file_dict = dict(zip(year_list, file_list))"
   ]
  },
  {
   "cell_type": "code",
   "execution_count": 5,
   "id": "92c5dab6-d3cf-4987-9421-701e078b5ea4",
   "metadata": {},
   "outputs": [],
   "source": [
    "def file_read(fn):\n",
    "    try:\n",
    "        data = pd.read_csv(fn, dtype='str') \n",
    "    except:\n",
    "        data = pd.read_csv(fn, encoding=\"latin-1\", dtype='str') \n",
    "\n",
    "    sel_cols = [d for d in data.columns if not('Seq' in d or 'Unnamed' in d)]\n",
    "    data = data[sel_cols]\n",
    "    data.columns = ['NAICS', 'NAICS_desc']\n",
    "    data.dropna(inplace=True)\n",
    "    return data"
   ]
  },
  {
   "cell_type": "code",
   "execution_count": 6,
   "id": "c5dd070e-62a8-4f68-98d4-419b768c502f",
   "metadata": {},
   "outputs": [],
   "source": [
    "naics_later = pd.concat([file_read(f) for f in file_list],\n",
    "                        keys=year_list) \\\n",
    "    .reset_index(level=0) \\\n",
    "    .rename(columns={'level_0':'year'})"
   ]
  },
  {
   "cell_type": "code",
   "execution_count": 7,
   "id": "f71fa208-f2d7-4761-881d-ec712dc56e88",
   "metadata": {},
   "outputs": [
    {
     "data": {
      "text/plain": [
       "year\n",
       "2002    2341\n",
       "2007    2328\n",
       "2012    2209\n",
       "2017    2196\n",
       "Name: count, dtype: int64"
      ]
     },
     "execution_count": 7,
     "metadata": {},
     "output_type": "execute_result"
    }
   ],
   "source": [
    "naics_all_long = pd.concat([naics_2002, naics_later])\n",
    "naics_all_long['year'].value_counts()"
   ]
  },
  {
   "cell_type": "code",
   "execution_count": 8,
   "id": "b5ead448-95a5-4b7a-8a19-93dd25677080",
   "metadata": {},
   "outputs": [],
   "source": [
    "naics_all_long['NAICS_level'] = naics_all_long['NAICS'].str.len()"
   ]
  },
  {
   "cell_type": "code",
   "execution_count": 9,
   "id": "f199d50f-824f-43d6-92a3-d2d54a5f45bd",
   "metadata": {},
   "outputs": [
    {
     "data": {
      "text/plain": [
       "NAICS_level\n",
       "6    4476\n",
       "5    2880\n",
       "4    1253\n",
       "3     397\n",
       "2      68\n",
       "Name: count, dtype: int64"
      ]
     },
     "execution_count": 9,
     "metadata": {},
     "output_type": "execute_result"
    }
   ],
   "source": [
    "naics_all_long['NAICS_level'].value_counts()"
   ]
  },
  {
   "cell_type": "code",
   "execution_count": 10,
   "id": "c3d902e5-d17d-4832-97c7-37a45334f9a9",
   "metadata": {},
   "outputs": [
    {
     "data": {
      "text/html": [
       "<div>\n",
       "<style scoped>\n",
       "    .dataframe tbody tr th:only-of-type {\n",
       "        vertical-align: middle;\n",
       "    }\n",
       "\n",
       "    .dataframe tbody tr th {\n",
       "        vertical-align: top;\n",
       "    }\n",
       "\n",
       "    .dataframe thead th {\n",
       "        text-align: right;\n",
       "    }\n",
       "</style>\n",
       "<table border=\"1\" class=\"dataframe\">\n",
       "  <thead>\n",
       "    <tr style=\"text-align: right;\">\n",
       "      <th>NAICS_level</th>\n",
       "      <th>2</th>\n",
       "      <th>3</th>\n",
       "      <th>4</th>\n",
       "      <th>5</th>\n",
       "      <th>6</th>\n",
       "    </tr>\n",
       "    <tr>\n",
       "      <th>year</th>\n",
       "      <th></th>\n",
       "      <th></th>\n",
       "      <th></th>\n",
       "      <th></th>\n",
       "      <th></th>\n",
       "    </tr>\n",
       "  </thead>\n",
       "  <tbody>\n",
       "    <tr>\n",
       "      <th>2002</th>\n",
       "      <td>17</td>\n",
       "      <td>100</td>\n",
       "      <td>317</td>\n",
       "      <td>728</td>\n",
       "      <td>1179</td>\n",
       "    </tr>\n",
       "    <tr>\n",
       "      <th>2007</th>\n",
       "      <td>17</td>\n",
       "      <td>99</td>\n",
       "      <td>313</td>\n",
       "      <td>724</td>\n",
       "      <td>1175</td>\n",
       "    </tr>\n",
       "    <tr>\n",
       "      <th>2012</th>\n",
       "      <td>17</td>\n",
       "      <td>99</td>\n",
       "      <td>312</td>\n",
       "      <td>716</td>\n",
       "      <td>1065</td>\n",
       "    </tr>\n",
       "    <tr>\n",
       "      <th>2017</th>\n",
       "      <td>17</td>\n",
       "      <td>99</td>\n",
       "      <td>311</td>\n",
       "      <td>712</td>\n",
       "      <td>1057</td>\n",
       "    </tr>\n",
       "  </tbody>\n",
       "</table>\n",
       "</div>"
      ],
      "text/plain": [
       "NAICS_level   2    3    4    5     6\n",
       "year                                \n",
       "2002         17  100  317  728  1179\n",
       "2007         17   99  313  724  1175\n",
       "2012         17   99  312  716  1065\n",
       "2017         17   99  311  712  1057"
      ]
     },
     "execution_count": 10,
     "metadata": {},
     "output_type": "execute_result"
    }
   ],
   "source": [
    "pd.crosstab(naics_all_long['year'], naics_all_long['NAICS_level'])"
   ]
  },
  {
   "cell_type": "markdown",
   "id": "5dd193a0-49b6-43bb-bf58-9a29261f4b6c",
   "metadata": {},
   "source": [
    "##### Identify sectors\n",
    "Make these level \"2\""
   ]
  },
  {
   "cell_type": "code",
   "execution_count": 11,
   "id": "1935608a-efca-47bd-bd13-b14cc1c63059",
   "metadata": {},
   "outputs": [],
   "source": [
    "naics_all_long['sector_flag'] = np.where((naics_all_long['NAICS_level']  == 2) |\n",
    "                                         naics_all_long['NAICS'].str.contains('-'),\n",
    "                                        1, 0)\n",
    "naics_all_long['NAICS_level'] = np.where((naics_all_long['sector_flag']  == 1), 2,\n",
    "                                       naics_all_long['NAICS_level'])"
   ]
  },
  {
   "cell_type": "code",
   "execution_count": 12,
   "id": "d18b05ca-9c69-4b0e-bf19-77dd72b22d99",
   "metadata": {},
   "outputs": [
    {
     "data": {
      "text/plain": [
       "sector_flag\n",
       "0    8994\n",
       "1      80\n",
       "Name: count, dtype: int64"
      ]
     },
     "execution_count": 12,
     "metadata": {},
     "output_type": "execute_result"
    }
   ],
   "source": [
    "naics_all_long['sector_flag'].value_counts()"
   ]
  },
  {
   "cell_type": "code",
   "execution_count": 13,
   "id": "24f3b0d7-f40d-4a7d-8f89-53bc3c1b7386",
   "metadata": {},
   "outputs": [],
   "source": [
    "sector_cases= naics_all_long[naics_all_long['sector_flag'] == 1].copy()\n",
    "sector_cases[['a', 'b']] = sector_cases[sector_cases['sector_flag'] == 1] \\\n",
    "    ['NAICS'].str.split('-', n=2, expand=True)\n",
    "sector_cases['b'] = sector_cases['b'].fillna(sector_cases['a'])"
   ]
  },
  {
   "cell_type": "code",
   "execution_count": 14,
   "id": "a00644b3-9cff-495d-ae44-9ee56968bca5",
   "metadata": {},
   "outputs": [],
   "source": [
    "#sector_cases_long = sector_cases.melt(id_vars=['year', 'NAICS'], value_vars=['a','b'])\n",
    "sector_cases['sector_range'] = sector_cases \\\n",
    "    .apply(lambda x: [i for i in range(int(x.a),int(x.b)+1)], axis=1) "
   ]
  },
  {
   "cell_type": "code",
   "execution_count": 15,
   "id": "f4d53ab0-fffe-481c-8e04-b5e55c3c6538",
   "metadata": {},
   "outputs": [],
   "source": [
    "sector_cases_long = sector_cases.explode('sector_range') \\\n",
    "    .rename(columns={'NAICS':'NAICS_sector_range',\n",
    "                    'sector_range':'NAICS'}) \\\n",
    "    .drop(columns=['a', 'b'])"
   ]
  },
  {
   "cell_type": "code",
   "execution_count": 16,
   "id": "a69be348-88a8-4285-ae2c-2edb4de3b795",
   "metadata": {},
   "outputs": [
    {
     "data": {
      "text/html": [
       "<div>\n",
       "<style scoped>\n",
       "    .dataframe tbody tr th:only-of-type {\n",
       "        vertical-align: middle;\n",
       "    }\n",
       "\n",
       "    .dataframe tbody tr th {\n",
       "        vertical-align: top;\n",
       "    }\n",
       "\n",
       "    .dataframe thead th {\n",
       "        text-align: right;\n",
       "    }\n",
       "</style>\n",
       "<table border=\"1\" class=\"dataframe\">\n",
       "  <thead>\n",
       "    <tr style=\"text-align: right;\">\n",
       "      <th></th>\n",
       "      <th>NAICS_sector_range</th>\n",
       "      <th>NAICS_desc</th>\n",
       "      <th>year</th>\n",
       "      <th>NAICS_level</th>\n",
       "      <th>sector_flag</th>\n",
       "      <th>NAICS</th>\n",
       "    </tr>\n",
       "  </thead>\n",
       "  <tbody>\n",
       "    <tr>\n",
       "      <th>1837</th>\n",
       "      <td>62</td>\n",
       "      <td>Health Care and Social Assistance</td>\n",
       "      <td>2017</td>\n",
       "      <td>2</td>\n",
       "      <td>1</td>\n",
       "      <td>62</td>\n",
       "    </tr>\n",
       "    <tr>\n",
       "      <th>1</th>\n",
       "      <td>11</td>\n",
       "      <td>Agriculture, Forestry, Fishing and Hunting</td>\n",
       "      <td>2017</td>\n",
       "      <td>2</td>\n",
       "      <td>1</td>\n",
       "      <td>11</td>\n",
       "    </tr>\n",
       "    <tr>\n",
       "      <th>1402</th>\n",
       "      <td>51</td>\n",
       "      <td>Information</td>\n",
       "      <td>2012</td>\n",
       "      <td>2</td>\n",
       "      <td>1</td>\n",
       "      <td>51</td>\n",
       "    </tr>\n",
       "    <tr>\n",
       "      <th>274</th>\n",
       "      <td>31-33</td>\n",
       "      <td>Manufacturing</td>\n",
       "      <td>2007</td>\n",
       "      <td>2</td>\n",
       "      <td>1</td>\n",
       "      <td>31</td>\n",
       "    </tr>\n",
       "  </tbody>\n",
       "</table>\n",
       "</div>"
      ],
      "text/plain": [
       "     NAICS_sector_range                                  NAICS_desc  year  \\\n",
       "1837                 62           Health Care and Social Assistance  2017   \n",
       "1                    11  Agriculture, Forestry, Fishing and Hunting  2017   \n",
       "1402                 51                                 Information  2012   \n",
       "274               31-33                               Manufacturing  2007   \n",
       "\n",
       "      NAICS_level  sector_flag NAICS  \n",
       "1837            2            1    62  \n",
       "1               2            1    11  \n",
       "1402            2            1    51  \n",
       "274             2            1    31  "
      ]
     },
     "execution_count": 16,
     "metadata": {},
     "output_type": "execute_result"
    }
   ],
   "source": [
    "sector_cases_long.sample(4)"
   ]
  },
  {
   "cell_type": "code",
   "execution_count": 17,
   "id": "a0076d7f-f964-4b31-8d7c-30d55aae0f27",
   "metadata": {},
   "outputs": [
    {
     "data": {
      "text/html": [
       "<div>\n",
       "<style scoped>\n",
       "    .dataframe tbody tr th:only-of-type {\n",
       "        vertical-align: middle;\n",
       "    }\n",
       "\n",
       "    .dataframe tbody tr th {\n",
       "        vertical-align: top;\n",
       "    }\n",
       "\n",
       "    .dataframe thead th {\n",
       "        text-align: right;\n",
       "    }\n",
       "</style>\n",
       "<table border=\"1\" class=\"dataframe\">\n",
       "  <thead>\n",
       "    <tr style=\"text-align: right;\">\n",
       "      <th></th>\n",
       "      <th>NAICS_sector_range</th>\n",
       "      <th>NAICS_desc</th>\n",
       "      <th>year</th>\n",
       "      <th>NAICS_level</th>\n",
       "      <th>sector_flag</th>\n",
       "      <th>NAICS</th>\n",
       "    </tr>\n",
       "  </thead>\n",
       "  <tbody>\n",
       "    <tr>\n",
       "      <th>278</th>\n",
       "      <td>31-33</td>\n",
       "      <td>Manufacturing</td>\n",
       "      <td>2012</td>\n",
       "      <td>2</td>\n",
       "      <td>1</td>\n",
       "      <td>32</td>\n",
       "    </tr>\n",
       "    <tr>\n",
       "      <th>274</th>\n",
       "      <td>31-33</td>\n",
       "      <td>Manufacturing</td>\n",
       "      <td>2007</td>\n",
       "      <td>2</td>\n",
       "      <td>1</td>\n",
       "      <td>31</td>\n",
       "    </tr>\n",
       "  </tbody>\n",
       "</table>\n",
       "</div>"
      ],
      "text/plain": [
       "    NAICS_sector_range     NAICS_desc  year  NAICS_level  sector_flag NAICS\n",
       "278              31-33  Manufacturing  2012            2            1    32\n",
       "274              31-33  Manufacturing  2007            2            1    31"
      ]
     },
     "execution_count": 17,
     "metadata": {},
     "output_type": "execute_result"
    }
   ],
   "source": [
    "sector_cases_long[sector_cases_long['NAICS_sector_range'] == '31-33'].sample(2)"
   ]
  },
  {
   "cell_type": "code",
   "execution_count": 18,
   "id": "de77b13b-6bbe-4233-9cee-851a258f8dae",
   "metadata": {},
   "outputs": [],
   "source": [
    "sector_cases_long['NAICS'] = sector_cases_long['NAICS'].astype('str')"
   ]
  },
  {
   "cell_type": "code",
   "execution_count": 19,
   "id": "7e0f39be-1df7-4e65-9e01-b7a89ee79b14",
   "metadata": {},
   "outputs": [],
   "source": [
    "naics_all_long = pd.concat([naics_all_long[naics_all_long['sector_flag'] == 0],\n",
    "                            sector_cases_long]) \\\n",
    "    .sort_values(['year', 'NAICS']) \\\n",
    "    .drop(columns='sector_flag')"
   ]
  },
  {
   "cell_type": "code",
   "execution_count": 20,
   "id": "2469d5e3-a04c-457c-9089-b652f2f7e3aa",
   "metadata": {},
   "outputs": [
    {
     "data": {
      "text/html": [
       "<div>\n",
       "<style scoped>\n",
       "    .dataframe tbody tr th:only-of-type {\n",
       "        vertical-align: middle;\n",
       "    }\n",
       "\n",
       "    .dataframe tbody tr th {\n",
       "        vertical-align: top;\n",
       "    }\n",
       "\n",
       "    .dataframe thead th {\n",
       "        text-align: right;\n",
       "    }\n",
       "</style>\n",
       "<table border=\"1\" class=\"dataframe\">\n",
       "  <thead>\n",
       "    <tr style=\"text-align: right;\">\n",
       "      <th></th>\n",
       "      <th>NAICS</th>\n",
       "      <th>NAICS_desc</th>\n",
       "      <th>year</th>\n",
       "      <th>NAICS_level</th>\n",
       "      <th>NAICS_sector_range</th>\n",
       "    </tr>\n",
       "  </thead>\n",
       "  <tbody>\n",
       "    <tr>\n",
       "      <th>2</th>\n",
       "      <td>11</td>\n",
       "      <td>Agriculture, Forestry, Fishing and Hunting</td>\n",
       "      <td>2002</td>\n",
       "      <td>2</td>\n",
       "      <td>11</td>\n",
       "    </tr>\n",
       "    <tr>\n",
       "      <th>3</th>\n",
       "      <td>111</td>\n",
       "      <td>Crop Production</td>\n",
       "      <td>2002</td>\n",
       "      <td>3</td>\n",
       "      <td>NaN</td>\n",
       "    </tr>\n",
       "    <tr>\n",
       "      <th>4</th>\n",
       "      <td>1111</td>\n",
       "      <td>Oilseed and Grain Farming</td>\n",
       "      <td>2002</td>\n",
       "      <td>4</td>\n",
       "      <td>NaN</td>\n",
       "    </tr>\n",
       "  </tbody>\n",
       "</table>\n",
       "</div>"
      ],
      "text/plain": [
       "  NAICS                                  NAICS_desc  year  NAICS_level  \\\n",
       "2    11  Agriculture, Forestry, Fishing and Hunting  2002            2   \n",
       "3   111                             Crop Production  2002            3   \n",
       "4  1111                   Oilseed and Grain Farming  2002            4   \n",
       "\n",
       "  NAICS_sector_range  \n",
       "2                 11  \n",
       "3                NaN  \n",
       "4                NaN  "
      ]
     },
     "execution_count": 20,
     "metadata": {},
     "output_type": "execute_result"
    }
   ],
   "source": [
    "naics_all_long.head(3)"
   ]
  },
  {
   "cell_type": "code",
   "execution_count": 21,
   "id": "7e7a986a-1658-4571-ae30-c9e8d37a9452",
   "metadata": {},
   "outputs": [],
   "source": [
    "naics_all_long.to_csv('./naics_desc_long.csv', index=False)\n",
    "naics_all_long.to_parquet('./naics_desc_long.parquet')"
   ]
  },
  {
   "cell_type": "markdown",
   "id": "2e76ce95-0dc2-4e84-8fce-f70a6df0180f",
   "metadata": {},
   "source": [
    "## Make wide format version"
   ]
  },
  {
   "cell_type": "markdown",
   "id": "e65ae712-c902-4f7e-b221-b2e80e31e555",
   "metadata": {},
   "source": [
    "##### Year of code usage"
   ]
  },
  {
   "cell_type": "code",
   "execution_count": 22,
   "id": "a92c2b25-eec6-4a5a-890b-8564c5aea035",
   "metadata": {},
   "outputs": [],
   "source": [
    "naics_yearsum = naics_all_long.groupby('NAICS') \\\n",
    "    ['year'] \\\n",
    "    .agg(['min', 'max']) \\\n",
    "    .set_axis(['year_min', 'year_max'], axis=1) \\\n",
    "    .reset_index()"
   ]
  },
  {
   "cell_type": "code",
   "execution_count": 23,
   "id": "c6683b39-91a5-40d6-bfb6-4b6c8c4644d1",
   "metadata": {},
   "outputs": [
    {
     "data": {
      "text/plain": [
       "year_min\n",
       "2002    2345\n",
       "2012      84\n",
       "2017      28\n",
       "2007       9\n",
       "Name: count, dtype: int64"
      ]
     },
     "execution_count": 23,
     "metadata": {},
     "output_type": "execute_result"
    }
   ],
   "source": [
    "naics_yearsum['year_min'].value_counts()"
   ]
  },
  {
   "cell_type": "code",
   "execution_count": 24,
   "id": "df07f1ff-6c43-4119-8aed-ba2bf2bfe87a",
   "metadata": {},
   "outputs": [
    {
     "data": {
      "text/plain": [
       "year_max\n",
       "2017    2200\n",
       "2007     203\n",
       "2012      43\n",
       "2002      20\n",
       "Name: count, dtype: int64"
      ]
     },
     "execution_count": 24,
     "metadata": {},
     "output_type": "execute_result"
    }
   ],
   "source": [
    "naics_yearsum['year_max'].value_counts()"
   ]
  },
  {
   "cell_type": "markdown",
   "id": "50c87157-28f0-49dd-b6c9-25770a529730",
   "metadata": {},
   "source": [
    "##### All descriptions"
   ]
  },
  {
   "cell_type": "code",
   "execution_count": 25,
   "id": "988cf39b-827d-4a50-a19d-a96d30b1e0d9",
   "metadata": {},
   "outputs": [],
   "source": [
    "naics_wide = naics_all_long.pivot(index=['NAICS', 'NAICS_level'], columns='year',\n",
    "                                  values='NAICS_desc')"
   ]
  },
  {
   "cell_type": "code",
   "execution_count": 26,
   "id": "3d9fec12-112f-4b13-b497-37d430b715e9",
   "metadata": {},
   "outputs": [],
   "source": [
    "naics_wide.columns = ['NAICS_desc_' + str(y) for y in naics_wide.columns]"
   ]
  },
  {
   "cell_type": "code",
   "execution_count": 27,
   "id": "22f30a47-7ba5-445e-b109-1fdf8daf643c",
   "metadata": {},
   "outputs": [],
   "source": [
    "naics_wide = naics_wide.reset_index().merge(naics_yearsum, on='NAICS')"
   ]
  },
  {
   "cell_type": "code",
   "execution_count": 28,
   "id": "73ee3a4b-713d-494b-9e98-6d4deebc5ed4",
   "metadata": {},
   "outputs": [
    {
     "data": {
      "text/html": [
       "<div>\n",
       "<style scoped>\n",
       "    .dataframe tbody tr th:only-of-type {\n",
       "        vertical-align: middle;\n",
       "    }\n",
       "\n",
       "    .dataframe tbody tr th {\n",
       "        vertical-align: top;\n",
       "    }\n",
       "\n",
       "    .dataframe thead th {\n",
       "        text-align: right;\n",
       "    }\n",
       "</style>\n",
       "<table border=\"1\" class=\"dataframe\">\n",
       "  <thead>\n",
       "    <tr style=\"text-align: right;\">\n",
       "      <th></th>\n",
       "      <th>NAICS</th>\n",
       "      <th>NAICS_level</th>\n",
       "      <th>NAICS_desc_2002</th>\n",
       "      <th>NAICS_desc_2007</th>\n",
       "      <th>NAICS_desc_2012</th>\n",
       "      <th>NAICS_desc_2017</th>\n",
       "      <th>year_min</th>\n",
       "      <th>year_max</th>\n",
       "    </tr>\n",
       "  </thead>\n",
       "  <tbody>\n",
       "    <tr>\n",
       "      <th>1095</th>\n",
       "      <td>339911</td>\n",
       "      <td>6</td>\n",
       "      <td>Jewelry (except Costume) Manufacturing</td>\n",
       "      <td>Jewelry (except Costume) Manufacturing</td>\n",
       "      <td>NaN</td>\n",
       "      <td>NaN</td>\n",
       "      <td>2002</td>\n",
       "      <td>2007</td>\n",
       "    </tr>\n",
       "    <tr>\n",
       "      <th>1318</th>\n",
       "      <td>443111</td>\n",
       "      <td>6</td>\n",
       "      <td>Household Appliance Stores</td>\n",
       "      <td>Household Appliance Stores</td>\n",
       "      <td>NaN</td>\n",
       "      <td>NaN</td>\n",
       "      <td>2002</td>\n",
       "      <td>2007</td>\n",
       "    </tr>\n",
       "    <tr>\n",
       "      <th>443</th>\n",
       "      <td>315191</td>\n",
       "      <td>6</td>\n",
       "      <td>Outerwear Knitting Mills</td>\n",
       "      <td>Outerwear Knitting Mills</td>\n",
       "      <td>NaN</td>\n",
       "      <td>NaN</td>\n",
       "      <td>2002</td>\n",
       "      <td>2007</td>\n",
       "    </tr>\n",
       "  </tbody>\n",
       "</table>\n",
       "</div>"
      ],
      "text/plain": [
       "       NAICS  NAICS_level                         NAICS_desc_2002  \\\n",
       "1095  339911            6  Jewelry (except Costume) Manufacturing   \n",
       "1318  443111            6              Household Appliance Stores   \n",
       "443   315191            6                Outerwear Knitting Mills   \n",
       "\n",
       "                             NAICS_desc_2007 NAICS_desc_2012 NAICS_desc_2017  \\\n",
       "1095  Jewelry (except Costume) Manufacturing             NaN             NaN   \n",
       "1318              Household Appliance Stores             NaN             NaN   \n",
       "443                 Outerwear Knitting Mills             NaN             NaN   \n",
       "\n",
       "      year_min  year_max  \n",
       "1095      2002      2007  \n",
       "1318      2002      2007  \n",
       "443       2002      2007  "
      ]
     },
     "execution_count": 28,
     "metadata": {},
     "output_type": "execute_result"
    }
   ],
   "source": [
    "naics_wide[naics_wide['year_max'] == 2007].sample(3)"
   ]
  },
  {
   "cell_type": "code",
   "execution_count": 29,
   "id": "65286009-868d-4384-84e2-d3d1b6a7814f",
   "metadata": {},
   "outputs": [
    {
     "data": {
      "text/html": [
       "<div>\n",
       "<style scoped>\n",
       "    .dataframe tbody tr th:only-of-type {\n",
       "        vertical-align: middle;\n",
       "    }\n",
       "\n",
       "    .dataframe tbody tr th {\n",
       "        vertical-align: top;\n",
       "    }\n",
       "\n",
       "    .dataframe thead th {\n",
       "        text-align: right;\n",
       "    }\n",
       "</style>\n",
       "<table border=\"1\" class=\"dataframe\">\n",
       "  <thead>\n",
       "    <tr style=\"text-align: right;\">\n",
       "      <th></th>\n",
       "      <th>NAICS</th>\n",
       "      <th>NAICS_level</th>\n",
       "      <th>NAICS_desc_2002</th>\n",
       "      <th>NAICS_desc_2007</th>\n",
       "      <th>NAICS_desc_2012</th>\n",
       "      <th>NAICS_desc_2017</th>\n",
       "      <th>year_min</th>\n",
       "      <th>year_max</th>\n",
       "    </tr>\n",
       "  </thead>\n",
       "  <tbody>\n",
       "    <tr>\n",
       "      <th>353</th>\n",
       "      <td>311824</td>\n",
       "      <td>6</td>\n",
       "      <td>NaN</td>\n",
       "      <td>NaN</td>\n",
       "      <td>Dry Pasta, Dough, and Flour Mixes Manufacturin...</td>\n",
       "      <td>Dry Pasta, Dough, and Flour Mixes Manufacturin...</td>\n",
       "      <td>2012</td>\n",
       "      <td>2017</td>\n",
       "    </tr>\n",
       "    <tr>\n",
       "      <th>451</th>\n",
       "      <td>315220</td>\n",
       "      <td>6</td>\n",
       "      <td>NaN</td>\n",
       "      <td>NaN</td>\n",
       "      <td>Men’s and Boys’ Cut and Sew Apparel Manufactur...</td>\n",
       "      <td>MenÕs and BoysÕ Cut and Sew Apparel Manufactur...</td>\n",
       "      <td>2012</td>\n",
       "      <td>2017</td>\n",
       "    </tr>\n",
       "    <tr>\n",
       "      <th>926</th>\n",
       "      <td>334118</td>\n",
       "      <td>6</td>\n",
       "      <td>NaN</td>\n",
       "      <td>NaN</td>\n",
       "      <td>Computer Terminal and Other Computer Periphera...</td>\n",
       "      <td>Computer Terminal and Other Computer Periphera...</td>\n",
       "      <td>2012</td>\n",
       "      <td>2017</td>\n",
       "    </tr>\n",
       "  </tbody>\n",
       "</table>\n",
       "</div>"
      ],
      "text/plain": [
       "      NAICS  NAICS_level NAICS_desc_2002 NAICS_desc_2007  \\\n",
       "353  311824            6             NaN             NaN   \n",
       "451  315220            6             NaN             NaN   \n",
       "926  334118            6             NaN             NaN   \n",
       "\n",
       "                                       NAICS_desc_2012  \\\n",
       "353  Dry Pasta, Dough, and Flour Mixes Manufacturin...   \n",
       "451  Men’s and Boys’ Cut and Sew Apparel Manufactur...   \n",
       "926  Computer Terminal and Other Computer Periphera...   \n",
       "\n",
       "                                       NAICS_desc_2017  year_min  year_max  \n",
       "353  Dry Pasta, Dough, and Flour Mixes Manufacturin...      2012      2017  \n",
       "451  MenÕs and BoysÕ Cut and Sew Apparel Manufactur...      2012      2017  \n",
       "926  Computer Terminal and Other Computer Periphera...      2012      2017  "
      ]
     },
     "execution_count": 29,
     "metadata": {},
     "output_type": "execute_result"
    }
   ],
   "source": [
    "naics_wide[naics_wide['year_min'] == 2012].sample(3)"
   ]
  },
  {
   "cell_type": "code",
   "execution_count": 30,
   "id": "88cca709-9d46-46d3-b096-96353f9ed28a",
   "metadata": {},
   "outputs": [],
   "source": [
    "# Select a description - use the 2007 if available, otherwise other\n",
    "cond = [~naics_wide['NAICS_desc_2007'].isna(),\n",
    "        ~naics_wide['NAICS_desc_2012'].isna(),\n",
    "         ~naics_wide['NAICS_desc_2017'].isna()]\n",
    "choice = [naics_wide['NAICS_desc_2007'], naics_wide['NAICS_desc_2012'],\n",
    "           naics_wide['NAICS_desc_2017']]\n",
    "naics_wide['NAICS_desc'] = np.select(cond, choice, naics_wide['NAICS_desc_2002'])"
   ]
  },
  {
   "cell_type": "code",
   "execution_count": 31,
   "id": "2c818f37-3325-47c1-8381-4d5eeba5a32e",
   "metadata": {},
   "outputs": [
    {
     "data": {
      "text/plain": [
       "NAICS_desc\n",
       "False    2466\n",
       "Name: count, dtype: int64"
      ]
     },
     "execution_count": 31,
     "metadata": {},
     "output_type": "execute_result"
    }
   ],
   "source": [
    "naics_wide['NAICS_desc'].isna().value_counts()"
   ]
  },
  {
   "cell_type": "code",
   "execution_count": 32,
   "id": "653ae121-55d0-4efa-a321-316f41b2e940",
   "metadata": {},
   "outputs": [],
   "source": [
    "naics_wide.to_csv('./naics_desc_wide.csv', index=False)\n",
    "naics_wide.to_parquet('./naics_desc_wide.parquet')"
   ]
  },
  {
   "cell_type": "markdown",
   "id": "c818cb30-8f34-4dd3-9353-5bab0810826a",
   "metadata": {},
   "source": [
    "# Create Simple Labeling File for 6 Digit NAICS"
   ]
  },
  {
   "cell_type": "markdown",
   "id": "9638f0b0-6d71-4c94-b29f-ed0e50cd95f4",
   "metadata": {},
   "source": [
    "#### Get best description\n",
    "Choose one year per code."
   ]
  },
  {
   "cell_type": "code",
   "execution_count": 33,
   "id": "6b76a6be-2349-4d79-a144-3d1811487877",
   "metadata": {},
   "outputs": [
    {
     "data": {
      "text/html": [
       "<div>\n",
       "<style scoped>\n",
       "    .dataframe tbody tr th:only-of-type {\n",
       "        vertical-align: middle;\n",
       "    }\n",
       "\n",
       "    .dataframe tbody tr th {\n",
       "        vertical-align: top;\n",
       "    }\n",
       "\n",
       "    .dataframe thead th {\n",
       "        text-align: right;\n",
       "    }\n",
       "</style>\n",
       "<table border=\"1\" class=\"dataframe\">\n",
       "  <thead>\n",
       "    <tr style=\"text-align: right;\">\n",
       "      <th></th>\n",
       "      <th>NAICS</th>\n",
       "      <th>NAICS_desc</th>\n",
       "      <th>year</th>\n",
       "      <th>NAICS_level</th>\n",
       "      <th>NAICS_sector_range</th>\n",
       "    </tr>\n",
       "  </thead>\n",
       "  <tbody>\n",
       "    <tr>\n",
       "      <th>1</th>\n",
       "      <td>11</td>\n",
       "      <td>Agriculture, Forestry, Fishing and Hunting</td>\n",
       "      <td>2017</td>\n",
       "      <td>2</td>\n",
       "      <td>11</td>\n",
       "    </tr>\n",
       "    <tr>\n",
       "      <th>2</th>\n",
       "      <td>111</td>\n",
       "      <td>Crop Production</td>\n",
       "      <td>2017</td>\n",
       "      <td>3</td>\n",
       "      <td>NaN</td>\n",
       "    </tr>\n",
       "    <tr>\n",
       "      <th>3</th>\n",
       "      <td>1111</td>\n",
       "      <td>Oilseed and Grain Farming</td>\n",
       "      <td>2017</td>\n",
       "      <td>4</td>\n",
       "      <td>NaN</td>\n",
       "    </tr>\n",
       "    <tr>\n",
       "      <th>4</th>\n",
       "      <td>11111</td>\n",
       "      <td>Soybean Farming</td>\n",
       "      <td>2017</td>\n",
       "      <td>5</td>\n",
       "      <td>NaN</td>\n",
       "    </tr>\n",
       "    <tr>\n",
       "      <th>5</th>\n",
       "      <td>111110</td>\n",
       "      <td>Soybean Farming</td>\n",
       "      <td>2017</td>\n",
       "      <td>6</td>\n",
       "      <td>NaN</td>\n",
       "    </tr>\n",
       "  </tbody>\n",
       "</table>\n",
       "</div>"
      ],
      "text/plain": [
       "    NAICS                                  NAICS_desc  year  NAICS_level  \\\n",
       "1      11  Agriculture, Forestry, Fishing and Hunting  2017            2   \n",
       "2     111                             Crop Production  2017            3   \n",
       "3    1111                   Oilseed and Grain Farming  2017            4   \n",
       "4   11111                             Soybean Farming  2017            5   \n",
       "5  111110                             Soybean Farming  2017            6   \n",
       "\n",
       "  NAICS_sector_range  \n",
       "1                 11  \n",
       "2                NaN  \n",
       "3                NaN  \n",
       "4                NaN  \n",
       "5                NaN  "
      ]
     },
     "execution_count": 33,
     "metadata": {},
     "output_type": "execute_result"
    }
   ],
   "source": [
    "# Get the best description (choose one year)\n",
    "naics_all_long['rank_yr'] = np.where(naics_all_long['year'] == 2007, 1, -naics_all_long['year'] )\n",
    "naics_long = naics_all_long.sort_values(['NAICS','rank_yr']) \\\n",
    "    .groupby('NAICS') \\\n",
    "    .head(1) \\\n",
    "    .drop(columns=['rank_yr'])\n",
    "naics_long.head()"
   ]
  },
  {
   "cell_type": "code",
   "execution_count": 34,
   "id": "dee0327f-60e3-4561-8f4f-ba1009c3120f",
   "metadata": {},
   "outputs": [],
   "source": [
    "naics_long.to_csv('./naics_desc_long.csv', index=False)\n",
    "naics_long.to_parquet('./naics_desc_long.parquet')"
   ]
  },
  {
   "cell_type": "code",
   "execution_count": 35,
   "id": "f9202927-24dc-4813-ba09-0f2ac973663a",
   "metadata": {},
   "outputs": [
    {
     "data": {
      "text/plain": [
       "(2466, 5)"
      ]
     },
     "execution_count": 35,
     "metadata": {},
     "output_type": "execute_result"
    }
   ],
   "source": [
    "naics_long.shape"
   ]
  },
  {
   "cell_type": "markdown",
   "id": "ab8bfb61-4e9e-4022-bb37-a2bd17054ab4",
   "metadata": {},
   "source": [
    "##### Get all level descriptions for 6 digit codes"
   ]
  },
  {
   "cell_type": "code",
   "execution_count": 36,
   "id": "53b44943-de3e-43f5-8764-5860bdcb610c",
   "metadata": {},
   "outputs": [],
   "source": [
    "def get_hier_label(naics_6, niacs_hier, level=None):\n",
    "    \n",
    "    if level is None:\n",
    "        level = len(niacs_hier['NAICS'].iloc[0])\n",
    "\n",
    "    if level == 2:\n",
    "        label = 'NAICS_sector' \n",
    "    else:\n",
    "        label = 'NAICS_' + str(level) \n",
    "    \n",
    "    naics_6 = naics_6.copy()\n",
    "    naics_6['other'] = naics_6['NAICS'].str[0:level]\n",
    "\n",
    "    merge = naics_6.merge(niacs_hier[['NAICS', 'NAICS_desc']] \\\n",
    "            .rename(columns={'NAICS': 'other',\n",
    "                             'NAICS_desc':label + '_desc'}),\n",
    "               on='other', how='left') \\\n",
    "        .drop(columns=['other', 'NAICS_level'], errors='ignore')\n",
    "    return merge"
   ]
  },
  {
   "cell_type": "code",
   "execution_count": 37,
   "id": "9538e462-88f6-4977-a9f0-3bbc80a3412c",
   "metadata": {},
   "outputs": [],
   "source": [
    "naics_6 = naics_long[naics_long['NAICS_level'] == 6] \\\n",
    "    .drop(columns=['year', 'NAICS_sector_range'], errors='ignore')\n",
    "naics_hier = naics_long[naics_long['NAICS_level'] != 6]"
   ]
  },
  {
   "cell_type": "code",
   "execution_count": 38,
   "id": "59f9886d-cddc-4c91-a089-9c66dca5ff8e",
   "metadata": {},
   "outputs": [
    {
     "data": {
      "text/plain": [
       "(1283, 3)"
      ]
     },
     "execution_count": 38,
     "metadata": {},
     "output_type": "execute_result"
    }
   ],
   "source": [
    "naics_6.shape"
   ]
  },
  {
   "cell_type": "code",
   "execution_count": 39,
   "id": "f7ed3c85-a08a-4154-88be-d12fb0d356bc",
   "metadata": {},
   "outputs": [
    {
     "data": {
      "text/html": [
       "<div>\n",
       "<style scoped>\n",
       "    .dataframe tbody tr th:only-of-type {\n",
       "        vertical-align: middle;\n",
       "    }\n",
       "\n",
       "    .dataframe tbody tr th {\n",
       "        vertical-align: top;\n",
       "    }\n",
       "\n",
       "    .dataframe thead th {\n",
       "        text-align: right;\n",
       "    }\n",
       "</style>\n",
       "<table border=\"1\" class=\"dataframe\">\n",
       "  <thead>\n",
       "    <tr style=\"text-align: right;\">\n",
       "      <th></th>\n",
       "      <th>NAICS</th>\n",
       "      <th>NAICS_desc</th>\n",
       "      <th>NAICS_sector_desc</th>\n",
       "      <th>NAICS_3_desc</th>\n",
       "      <th>NAICS_4_desc</th>\n",
       "      <th>NAICS_5_desc</th>\n",
       "    </tr>\n",
       "  </thead>\n",
       "  <tbody>\n",
       "    <tr>\n",
       "      <th>1223</th>\n",
       "      <td>811490</td>\n",
       "      <td>Other Personal and Household Goods Repair and ...</td>\n",
       "      <td>Other Services (except Public Administration)</td>\n",
       "      <td>Repair and Maintenance</td>\n",
       "      <td>Personal and Household Goods Repair and Mainte...</td>\n",
       "      <td>Other Personal and Household Goods Repair and ...</td>\n",
       "    </tr>\n",
       "    <tr>\n",
       "      <th>314</th>\n",
       "      <td>323112</td>\n",
       "      <td>Commercial Flexographic Printing</td>\n",
       "      <td>Manufacturing</td>\n",
       "      <td>Printing and Related Support Activities</td>\n",
       "      <td>Printing and Related Support Activities</td>\n",
       "      <td>Printing</td>\n",
       "    </tr>\n",
       "    <tr>\n",
       "      <th>1222</th>\n",
       "      <td>811430</td>\n",
       "      <td>Footwear and Leather Goods Repair</td>\n",
       "      <td>Other Services (except Public Administration)</td>\n",
       "      <td>Repair and Maintenance</td>\n",
       "      <td>Personal and Household Goods Repair and Mainte...</td>\n",
       "      <td>Footwear and Leather Goods Repair</td>\n",
       "    </tr>\n",
       "  </tbody>\n",
       "</table>\n",
       "</div>"
      ],
      "text/plain": [
       "       NAICS                                         NAICS_desc  \\\n",
       "1223  811490  Other Personal and Household Goods Repair and ...   \n",
       "314   323112                   Commercial Flexographic Printing   \n",
       "1222  811430                  Footwear and Leather Goods Repair   \n",
       "\n",
       "                                  NAICS_sector_desc  \\\n",
       "1223  Other Services (except Public Administration)   \n",
       "314                                   Manufacturing   \n",
       "1222  Other Services (except Public Administration)   \n",
       "\n",
       "                                 NAICS_3_desc  \\\n",
       "1223                   Repair and Maintenance   \n",
       "314   Printing and Related Support Activities   \n",
       "1222                   Repair and Maintenance   \n",
       "\n",
       "                                           NAICS_4_desc  \\\n",
       "1223  Personal and Household Goods Repair and Mainte...   \n",
       "314             Printing and Related Support Activities   \n",
       "1222  Personal and Household Goods Repair and Mainte...   \n",
       "\n",
       "                                           NAICS_5_desc  \n",
       "1223  Other Personal and Household Goods Repair and ...  \n",
       "314                                            Printing  \n",
       "1222                  Footwear and Leather Goods Repair  "
      ]
     },
     "execution_count": 39,
     "metadata": {},
     "output_type": "execute_result"
    }
   ],
   "source": [
    "naics_long_desc = naics_6.drop(columns=['year', 'rank_yr'], errors='ignore')\n",
    "for name, group in naics_hier.groupby('NAICS_level'):\n",
    "    naics_long_desc = get_hier_label(naics_long_desc, group,\n",
    "                                     name)\n",
    "naics_long_desc.sample(3)"
   ]
  },
  {
   "cell_type": "code",
   "execution_count": 40,
   "id": "fd426394-bc13-4a4f-b511-0d25bc6d452d",
   "metadata": {},
   "outputs": [
    {
     "data": {
      "text/plain": [
       "NAICS_sector_desc\n",
       "Manufacturing                                                               538\n",
       "Retail Trade                                                                 83\n",
       "Wholesale Trade                                                              71\n",
       "Agriculture, Forestry, Fishing and Hunting                                   64\n",
       "Transportation and Warehousing                                               57\n",
       "Professional, Scientific, and Technical Services                             52\n",
       "Other Services (except Public Administration)                                49\n",
       "Administrative and Support and Waste Management and Remediation Services     45\n",
       "Information                                                                  43\n",
       "Finance and Insurance                                                        42\n",
       "Health Care and Social Assistance                                            39\n",
       "Mining, Quarrying, and Oil and Gas Extraction                                32\n",
       "Construction                                                                 31\n",
       "Real Estate and Rental and Leasing                                           29\n",
       "Public Administration                                                        29\n",
       "Arts, Entertainment, and Recreation                                          25\n",
       "Accommodation and Food Services                                              19\n",
       "Educational Services                                                         17\n",
       "Utilities                                                                    15\n",
       "Management of Companies and Enterprises                                       3\n",
       "Name: count, dtype: int64"
      ]
     },
     "execution_count": 40,
     "metadata": {},
     "output_type": "execute_result"
    }
   ],
   "source": [
    "naics_long_desc['NAICS_sector_desc'].value_counts(dropna=False)"
   ]
  },
  {
   "cell_type": "code",
   "execution_count": 41,
   "id": "e96b1e89-7bd8-44a7-87a1-89adb789ef31",
   "metadata": {},
   "outputs": [],
   "source": [
    "naics_long_desc.to_csv('./naics_desc_long_all_labels.csv', index=False)\n",
    "naics_long_desc.to_parquet('./naics_desc_long_all_labels.parquet')"
   ]
  },
  {
   "cell_type": "code",
   "execution_count": 52,
   "id": "db1915e0-8ba1-4a6f-ac48-f00ca29d4f20",
   "metadata": {},
   "outputs": [
    {
     "data": {
      "text/plain": [
       "NAICS_sector_desc\n",
       "False    1283\n",
       "Name: count, dtype: int64"
      ]
     },
     "execution_count": 52,
     "metadata": {},
     "output_type": "execute_result"
    }
   ],
   "source": [
    "naics_long_desc['NAICS_sector_desc'].isna().value_counts()"
   ]
  },
  {
   "cell_type": "markdown",
   "id": "93e41a5f-bf95-4f15-9709-b2e1a3f5d150",
   "metadata": {},
   "source": [
    "##### Create 4-digit NAICS map"
   ]
  },
  {
   "cell_type": "code",
   "execution_count": 42,
   "id": "bc36c329-6fd5-4969-8dc5-6372f2c587e0",
   "metadata": {},
   "outputs": [],
   "source": [
    "naics_4 = naics_long[naics_long['NAICS_level'] == 4] \\\n",
    "    .drop(columns=['year', 'NAICS_sector_range'], errors='ignore')\n",
    "naics_hier_4 = naics_long[naics_long['NAICS_level'] < 4]"
   ]
  },
  {
   "cell_type": "code",
   "execution_count": 55,
   "id": "e8896a47-6f3d-4198-8a79-49440260848d",
   "metadata": {},
   "outputs": [
    {
     "data": {
      "text/html": [
       "<div>\n",
       "<style scoped>\n",
       "    .dataframe tbody tr th:only-of-type {\n",
       "        vertical-align: middle;\n",
       "    }\n",
       "\n",
       "    .dataframe tbody tr th {\n",
       "        vertical-align: top;\n",
       "    }\n",
       "\n",
       "    .dataframe thead th {\n",
       "        text-align: right;\n",
       "    }\n",
       "</style>\n",
       "<table border=\"1\" class=\"dataframe\">\n",
       "  <thead>\n",
       "    <tr style=\"text-align: right;\">\n",
       "      <th></th>\n",
       "      <th>NAICS_4</th>\n",
       "      <th>NAICS_4_desc</th>\n",
       "      <th>NAICS_sector_desc</th>\n",
       "      <th>NAICS_3_desc</th>\n",
       "    </tr>\n",
       "  </thead>\n",
       "  <tbody>\n",
       "    <tr>\n",
       "      <th>136</th>\n",
       "      <td>4245</td>\n",
       "      <td>Farm Product Raw Material Merchant Wholesalers</td>\n",
       "      <td>Wholesale Trade</td>\n",
       "      <td>Merchant Wholesalers, Nondurable Goods</td>\n",
       "    </tr>\n",
       "    <tr>\n",
       "      <th>61</th>\n",
       "      <td>3219</td>\n",
       "      <td>Other Wood Product Manufacturing</td>\n",
       "      <td>Manufacturing</td>\n",
       "      <td>Wood Product Manufacturing</td>\n",
       "    </tr>\n",
       "    <tr>\n",
       "      <th>81</th>\n",
       "      <td>3312</td>\n",
       "      <td>Steel Product Manufacturing from Purchased Steel</td>\n",
       "      <td>Manufacturing</td>\n",
       "      <td>Primary Metal Manufacturing</td>\n",
       "    </tr>\n",
       "  </tbody>\n",
       "</table>\n",
       "</div>"
      ],
      "text/plain": [
       "    NAICS_4                                      NAICS_4_desc  \\\n",
       "136    4245   Farm Product Raw Material Merchant Wholesalers    \n",
       "61     3219                  Other Wood Product Manufacturing   \n",
       "81     3312  Steel Product Manufacturing from Purchased Steel   \n",
       "\n",
       "    NAICS_sector_desc                             NAICS_3_desc  \n",
       "136   Wholesale Trade  Merchant Wholesalers, Nondurable Goods   \n",
       "61      Manufacturing               Wood Product Manufacturing  \n",
       "81      Manufacturing              Primary Metal Manufacturing  "
      ]
     },
     "execution_count": 55,
     "metadata": {},
     "output_type": "execute_result"
    }
   ],
   "source": [
    "naics_4_long_desc = naics_4.drop(columns=['year', 'rank_yr'], errors='ignore')\n",
    "for name, group in naics_hier_4.groupby('NAICS_level'):\n",
    "    naics_4_long_desc = get_hier_label(naics_4_long_desc, group,\n",
    "                                     name)\n",
    "naics_4_long_desc.rename(columns={'NAICS':'NAICS_4',\n",
    "                                 'NAICS_desc':'NAICS_4_desc'}, inplace=True)\n",
    "naics_4_long_desc.sample(3)"
   ]
  },
  {
   "cell_type": "code",
   "execution_count": 47,
   "id": "001c5eab-1dfc-46eb-bfb5-35c68f6a044c",
   "metadata": {},
   "outputs": [],
   "source": [
    "naics_4_long_desc.to_csv('./naics4_long_all_labels.csv', index=False)\n",
    "naics_4_long_desc.to_parquet('./naics4_long_all_labels.parquet')"
   ]
  },
  {
   "cell_type": "markdown",
   "id": "d6a23a33-9a91-49f0-8510-9b869af1888c",
   "metadata": {},
   "source": [
    "##### Create 3-digit NAICS map"
   ]
  },
  {
   "cell_type": "code",
   "execution_count": 56,
   "id": "936df3f7-0fec-4dfa-81c0-85bd8cba7e87",
   "metadata": {},
   "outputs": [
    {
     "data": {
      "text/html": [
       "<div>\n",
       "<style scoped>\n",
       "    .dataframe tbody tr th:only-of-type {\n",
       "        vertical-align: middle;\n",
       "    }\n",
       "\n",
       "    .dataframe tbody tr th {\n",
       "        vertical-align: top;\n",
       "    }\n",
       "\n",
       "    .dataframe thead th {\n",
       "        text-align: right;\n",
       "    }\n",
       "</style>\n",
       "<table border=\"1\" class=\"dataframe\">\n",
       "  <thead>\n",
       "    <tr style=\"text-align: right;\">\n",
       "      <th></th>\n",
       "      <th>NAICS_3</th>\n",
       "      <th>NAICS_3_desc</th>\n",
       "      <th>NAICS_sector_desc</th>\n",
       "    </tr>\n",
       "  </thead>\n",
       "  <tbody>\n",
       "    <tr>\n",
       "      <th>21</th>\n",
       "      <td>324</td>\n",
       "      <td>Petroleum and Coal Products Manufacturing</td>\n",
       "      <td>Manufacturing</td>\n",
       "    </tr>\n",
       "    <tr>\n",
       "      <th>54</th>\n",
       "      <td>487</td>\n",
       "      <td>Scenic and Sightseeing Transportation</td>\n",
       "      <td>Transportation and Warehousing</td>\n",
       "    </tr>\n",
       "    <tr>\n",
       "      <th>92</th>\n",
       "      <td>921</td>\n",
       "      <td>Executive, Legislative, and Other General Gove...</td>\n",
       "      <td>Public Administration</td>\n",
       "    </tr>\n",
       "  </tbody>\n",
       "</table>\n",
       "</div>"
      ],
      "text/plain": [
       "   NAICS_3                                       NAICS_3_desc  \\\n",
       "21     324          Petroleum and Coal Products Manufacturing   \n",
       "54     487              Scenic and Sightseeing Transportation   \n",
       "92     921  Executive, Legislative, and Other General Gove...   \n",
       "\n",
       "                 NAICS_sector_desc  \n",
       "21                   Manufacturing  \n",
       "54  Transportation and Warehousing  \n",
       "92           Public Administration  "
      ]
     },
     "execution_count": 56,
     "metadata": {},
     "output_type": "execute_result"
    }
   ],
   "source": [
    "naics_3 = naics_long[naics_long['NAICS_level'] == 3] \\\n",
    "    .drop(columns=['year', 'NAICS_sector_range'], errors='ignore')\n",
    "naics_hier_3 = naics_long[naics_long['NAICS_level'] < 3]\n",
    "naics_3_long_desc = naics_3.drop(columns=['year', 'rank_yr'], errors='ignore')\n",
    "for name, group in naics_hier_3.groupby('NAICS_level'):\n",
    "    naics_3_long_desc = get_hier_label(naics_3_long_desc, group,\n",
    "                                     name)\n",
    "naics_3_long_desc.rename(columns={'NAICS':'NAICS_3',\n",
    "                                 'NAICS_desc':'NAICS_3_desc'}, inplace=True)\n",
    "naics_3_long_desc.sample(3)"
   ]
  },
  {
   "cell_type": "code",
   "execution_count": 57,
   "id": "39179b09-512d-4f70-a673-2b0a2d85bd43",
   "metadata": {},
   "outputs": [],
   "source": [
    "naics_3_long_desc.to_csv('./naics3_long_all_labels.csv', index=False)\n",
    "naics_3_long_desc.to_parquet('./naics3_long_all_labels.parquet')"
   ]
  },
  {
   "cell_type": "markdown",
   "id": "f14ab46a-d1d6-4e87-b86c-6dbfffae9e75",
   "metadata": {},
   "source": [
    "##### Finally the 2 digit map"
   ]
  },
  {
   "cell_type": "code",
   "execution_count": 50,
   "id": "b80799c9-88cf-4088-a67b-b75b33945d28",
   "metadata": {},
   "outputs": [
    {
     "data": {
      "text/html": [
       "<div>\n",
       "<style scoped>\n",
       "    .dataframe tbody tr th:only-of-type {\n",
       "        vertical-align: middle;\n",
       "    }\n",
       "\n",
       "    .dataframe tbody tr th {\n",
       "        vertical-align: top;\n",
       "    }\n",
       "\n",
       "    .dataframe thead th {\n",
       "        text-align: right;\n",
       "    }\n",
       "</style>\n",
       "<table border=\"1\" class=\"dataframe\">\n",
       "  <thead>\n",
       "    <tr style=\"text-align: right;\">\n",
       "      <th></th>\n",
       "      <th>NAICS_2</th>\n",
       "      <th>NAICS_sector_desc</th>\n",
       "    </tr>\n",
       "  </thead>\n",
       "  <tbody>\n",
       "    <tr>\n",
       "      <th>1</th>\n",
       "      <td>11</td>\n",
       "      <td>Agriculture, Forestry, Fishing and Hunting</td>\n",
       "    </tr>\n",
       "    <tr>\n",
       "      <th>132</th>\n",
       "      <td>21</td>\n",
       "      <td>Mining, Quarrying, and Oil and Gas Extraction</td>\n",
       "    </tr>\n",
       "    <tr>\n",
       "      <th>180</th>\n",
       "      <td>22</td>\n",
       "      <td>Utilities</td>\n",
       "    </tr>\n",
       "    <tr>\n",
       "      <th>205</th>\n",
       "      <td>23</td>\n",
       "      <td>Construction</td>\n",
       "    </tr>\n",
       "    <tr>\n",
       "      <th>278</th>\n",
       "      <td>31</td>\n",
       "      <td>Manufacturing</td>\n",
       "    </tr>\n",
       "    <tr>\n",
       "      <th>278</th>\n",
       "      <td>32</td>\n",
       "      <td>Manufacturing</td>\n",
       "    </tr>\n",
       "    <tr>\n",
       "      <th>278</th>\n",
       "      <td>33</td>\n",
       "      <td>Manufacturing</td>\n",
       "    </tr>\n",
       "    <tr>\n",
       "      <th>926</th>\n",
       "      <td>42</td>\n",
       "      <td>Wholesale Trade</td>\n",
       "    </tr>\n",
       "    <tr>\n",
       "      <th>1091</th>\n",
       "      <td>44</td>\n",
       "      <td>Retail Trade</td>\n",
       "    </tr>\n",
       "    <tr>\n",
       "      <th>1091</th>\n",
       "      <td>45</td>\n",
       "      <td>Retail Trade</td>\n",
       "    </tr>\n",
       "    <tr>\n",
       "      <th>1254</th>\n",
       "      <td>48</td>\n",
       "      <td>Transportation and Warehousing</td>\n",
       "    </tr>\n",
       "    <tr>\n",
       "      <th>1254</th>\n",
       "      <td>49</td>\n",
       "      <td>Transportation and Warehousing</td>\n",
       "    </tr>\n",
       "    <tr>\n",
       "      <th>1394</th>\n",
       "      <td>51</td>\n",
       "      <td>Information</td>\n",
       "    </tr>\n",
       "    <tr>\n",
       "      <th>1468</th>\n",
       "      <td>52</td>\n",
       "      <td>Finance and Insurance</td>\n",
       "    </tr>\n",
       "    <tr>\n",
       "      <th>1557</th>\n",
       "      <td>53</td>\n",
       "      <td>Real Estate and Rental and Leasing</td>\n",
       "    </tr>\n",
       "    <tr>\n",
       "      <th>1610</th>\n",
       "      <td>54</td>\n",
       "      <td>Professional, Scientific, and Technical Services</td>\n",
       "    </tr>\n",
       "    <tr>\n",
       "      <th>1705</th>\n",
       "      <td>55</td>\n",
       "      <td>Management of Companies and Enterprises</td>\n",
       "    </tr>\n",
       "    <tr>\n",
       "      <th>1712</th>\n",
       "      <td>56</td>\n",
       "      <td>Administrative and Support and Waste Managemen...</td>\n",
       "    </tr>\n",
       "    <tr>\n",
       "      <th>1799</th>\n",
       "      <td>61</td>\n",
       "      <td>Educational Services</td>\n",
       "    </tr>\n",
       "    <tr>\n",
       "      <th>1837</th>\n",
       "      <td>62</td>\n",
       "      <td>Health Care and Social Assistance</td>\n",
       "    </tr>\n",
       "    <tr>\n",
       "      <th>1929</th>\n",
       "      <td>71</td>\n",
       "      <td>Arts, Entertainment, and Recreation</td>\n",
       "    </tr>\n",
       "    <tr>\n",
       "      <th>1990</th>\n",
       "      <td>72</td>\n",
       "      <td>Accommodation and Food Services</td>\n",
       "    </tr>\n",
       "    <tr>\n",
       "      <th>2024</th>\n",
       "      <td>81</td>\n",
       "      <td>Other Services (except Public Administration)</td>\n",
       "    </tr>\n",
       "    <tr>\n",
       "      <th>2122</th>\n",
       "      <td>92</td>\n",
       "      <td>Public Administration</td>\n",
       "    </tr>\n",
       "  </tbody>\n",
       "</table>\n",
       "</div>"
      ],
      "text/plain": [
       "     NAICS_2                                  NAICS_sector_desc\n",
       "1         11         Agriculture, Forestry, Fishing and Hunting\n",
       "132       21      Mining, Quarrying, and Oil and Gas Extraction\n",
       "180       22                                          Utilities\n",
       "205       23                                       Construction\n",
       "278       31                                      Manufacturing\n",
       "278       32                                      Manufacturing\n",
       "278       33                                      Manufacturing\n",
       "926       42                                    Wholesale Trade\n",
       "1091      44                                       Retail Trade\n",
       "1091      45                                       Retail Trade\n",
       "1254      48                     Transportation and Warehousing\n",
       "1254      49                     Transportation and Warehousing\n",
       "1394      51                                        Information\n",
       "1468      52                              Finance and Insurance\n",
       "1557      53                 Real Estate and Rental and Leasing\n",
       "1610      54   Professional, Scientific, and Technical Services\n",
       "1705      55            Management of Companies and Enterprises\n",
       "1712      56  Administrative and Support and Waste Managemen...\n",
       "1799      61                               Educational Services\n",
       "1837      62                  Health Care and Social Assistance\n",
       "1929      71                Arts, Entertainment, and Recreation\n",
       "1990      72                    Accommodation and Food Services\n",
       "2024      81      Other Services (except Public Administration)\n",
       "2122      92                              Public Administration"
      ]
     },
     "execution_count": 50,
     "metadata": {},
     "output_type": "execute_result"
    }
   ],
   "source": [
    "naics_2_long_desc = naics_long[naics_long['NAICS_level'] == 2] \\\n",
    "    .drop(columns=['NAICS_level', 'NAICS_sector_range', 'year']) \\\n",
    "    .rename(columns={'NAICS':'NAICS_2',\n",
    "                    'NAICS_desc':'NAICS_sector_desc'})\n",
    "naics_2_long_desc"
   ]
  },
  {
   "cell_type": "code",
   "execution_count": 51,
   "id": "78a9196a-3d46-4ceb-94d4-ef0903e92796",
   "metadata": {},
   "outputs": [],
   "source": [
    "naics_2_long_desc.to_csv('./naics2_long_all_labels.csv', index=False)\n",
    "naics_2_long_desc.to_parquet('./naics2_long_all_labels.parquet')"
   ]
  },
  {
   "cell_type": "code",
   "execution_count": null,
   "id": "b2c17e77-dfe4-4789-8a6a-42aade9fdc53",
   "metadata": {},
   "outputs": [],
   "source": []
  }
 ],
 "metadata": {
  "kernelspec": {
   "display_name": "tf_p39",
   "language": "python",
   "name": "tf_p39"
  },
  "language_info": {
   "codemirror_mode": {
    "name": "ipython",
    "version": 3
   },
   "file_extension": ".py",
   "mimetype": "text/x-python",
   "name": "python",
   "nbconvert_exporter": "python",
   "pygments_lexer": "ipython3",
   "version": "3.8.18"
  }
 },
 "nbformat": 4,
 "nbformat_minor": 5
}
