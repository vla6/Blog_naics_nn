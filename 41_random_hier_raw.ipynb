{
 "cells": [
  {
   "cell_type": "code",
   "execution_count": 1,
   "id": "8816b366-5be4-4748-b769-4dc6f7d1735f",
   "metadata": {},
   "outputs": [],
   "source": [
    "# Modify the file 00_setup.py to define input/output file paths on your system\n",
    "# The information in 00_setup.py will be used across notebooks\n",
    "from importlib.machinery import SourceFileLoader\n",
    "setup = SourceFileLoader(\"setup\", \"./00_setup.py\").load_module()"
   ]
  },
  {
   "cell_type": "markdown",
   "id": "a945de0c-f042-46b2-9d06-ab064af6c05b",
   "metadata": {},
   "source": [
    "## Random Hierarchy for NAICS (no data modifications)\n",
    "Neural Network With NAICS Embedding Layer + dummy hieararchy. Add NAICS embedding to model.  Add additional dummy levels to the hieararchy.   Do not do any data manipulation, so unseen codes get mapped to an input that is not in training"
   ]
  },
  {
   "cell_type": "markdown",
   "id": "e169c2e8-ba0f-488f-acf6-87d419bd4e99",
   "metadata": {},
   "source": [
    "Use the dataset with no missing values. "
   ]
  },
  {
   "cell_type": "markdown",
   "id": "d47a7ec9-7d7b-47df-a902-b2f1e54f1135",
   "metadata": {},
   "source": [
    "*This script takes about 2 hours on my MacBook Air*"
   ]
  },
  {
   "cell_type": "code",
   "execution_count": 2,
   "id": "fb42f9b4-99a8-4753-aacf-8722469be4c8",
   "metadata": {},
   "outputs": [],
   "source": [
    "import numpy as np\n",
    "import pandas as pd\n",
    "import tensorflow as tf"
   ]
  },
  {
   "cell_type": "code",
   "execution_count": 3,
   "id": "bf51170a-4487-4d10-b63d-c88f41b529f9",
   "metadata": {},
   "outputs": [],
   "source": [
    "from pathlib import Path\n",
    "import importlib, pickle\n",
    "from sklearn import model_selection"
   ]
  },
  {
   "cell_type": "code",
   "execution_count": 4,
   "id": "09dd973b-60a0-434b-9193-8c5fcec27dd5",
   "metadata": {},
   "outputs": [],
   "source": [
    "import pandas as pd\n",
    "import os\n",
    "import re\n",
    "\n",
    "import keras\n",
    "from tensorflow.keras import layers, optimizers, losses, metrics, Model\n",
    "from sklearn import preprocessing, feature_extraction, model_selection\n",
    "from IPython.display import display, HTML\n",
    "import matplotlib.pyplot as plt\n",
    "%matplotlib inline"
   ]
  },
  {
   "cell_type": "code",
   "execution_count": 5,
   "id": "22b466e7-a419-45aa-83f7-5dafc7a3998b",
   "metadata": {},
   "outputs": [],
   "source": [
    "from tensorflow.keras.layers import Dense, Dropout, Input, Embedding, \\\n",
    "    Concatenate, Reshape, concatenate, Flatten\n",
    "import tensorflow.keras.metrics as km"
   ]
  },
  {
   "cell_type": "code",
   "execution_count": 6,
   "id": "9f1e4f2e-0e45-4e28-8e9c-212e0bb51199",
   "metadata": {},
   "outputs": [],
   "source": [
    "from sba_nn.sba_nn import sbnn_metrics, sbnn_model "
   ]
  },
  {
   "cell_type": "code",
   "execution_count": 7,
   "id": "b6cc1a60-d316-4c1b-8f61-c4bd0ec67363",
   "metadata": {},
   "outputs": [],
   "source": [
    "# Imputer object for easy dataset conversion to NN friendly format\n",
    "from sba_nn.sba_nn import sbnn_imputer \n",
    "from sba_nn.sba_nn.sbnn_imputer import NNImputer"
   ]
  },
  {
   "cell_type": "markdown",
   "id": "3cbc00d2-bc83-42d9-83eb-65fcf306dccd",
   "metadata": {},
   "source": [
    "## Input Data"
   ]
  },
  {
   "cell_type": "code",
   "execution_count": 8,
   "id": "e014cd31-0f8d-42e3-82f9-b529eec8a3cc",
   "metadata": {
    "tags": []
   },
   "outputs": [],
   "source": [
    "sba_loans = pd.read_parquet(Path(setup.temp_path).joinpath('01_DATA_transformed_nomiss.parquet'))"
   ]
  },
  {
   "cell_type": "code",
   "execution_count": 9,
   "id": "8e65cb7c-792c-46ff-a530-0d5c64240d60",
   "metadata": {},
   "outputs": [],
   "source": [
    "with open(Path(setup.temp_path).joinpath('01_DATA_features.pkl'), 'rb') as fin:\n",
    "    imputer_features = pickle.load(fin)"
   ]
  },
  {
   "cell_type": "code",
   "execution_count": 10,
   "id": "6f0ce28e-a80c-415b-b068-5c4d49370da8",
   "metadata": {},
   "outputs": [
    {
     "data": {
      "text/plain": [
       "{'NAICS': 1170,\n",
       " 'NAICS_5': 764,\n",
       " 'NAICS_4': 345,\n",
       " 'NAICS_3': 107,\n",
       " 'NAICS_sector': 21}"
      ]
     },
     "execution_count": 10,
     "metadata": {},
     "output_type": "execute_result"
    }
   ],
   "source": [
    "with open(Path(setup.temp_path).joinpath('01_DATA_naics_max_encodings.pkl'), 'rb') as fin:\n",
    "    naics_max_levels= pickle.load(fin)\n",
    "naics_max_levels"
   ]
  },
  {
   "cell_type": "markdown",
   "id": "8dedec24-9c5f-4b53-b1d0-775119895ca1",
   "metadata": {},
   "source": [
    "## Modify Data\n"
   ]
  },
  {
   "cell_type": "code",
   "execution_count": 11,
   "id": "9594fc0c-8031-41f1-9ef2-f4e9b3581525",
   "metadata": {},
   "outputs": [
    {
     "data": {
      "text/plain": [
       "[345, 106, 20]"
      ]
     },
     "execution_count": 11,
     "metadata": {},
     "output_type": "execute_result"
    }
   ],
   "source": [
    "# Group counts\n",
    "features_naics_hier = ['NAICS_4', 'NAICS_3', 'NAICS_sector']\n",
    "naics_counts = [sba_loans.drop_duplicates(f)['LoanNr_ChkDgt'].count() for f in features_naics_hier]\n",
    "naics_counts"
   ]
  },
  {
   "cell_type": "code",
   "execution_count": 12,
   "id": "1c2a9d6a-02b8-4d67-aa1b-484a9040ac6f",
   "metadata": {
    "tags": []
   },
   "outputs": [],
   "source": [
    "naics_df = sba_loans[['NAICS_orig']].drop_duplicates() "
   ]
  },
  {
   "cell_type": "code",
   "execution_count": 13,
   "id": "23e95fd7-3776-46e3-baf8-03e2354408d1",
   "metadata": {},
   "outputs": [
    {
     "data": {
      "text/plain": [
       "NAICS_orig\n",
       "False         695500\n",
       "Name: count, dtype: int64"
      ]
     },
     "execution_count": 13,
     "metadata": {},
     "output_type": "execute_result"
    }
   ],
   "source": [
    "sba_loans[['NAICS_orig']].isna().value_counts()"
   ]
  },
  {
   "cell_type": "code",
   "execution_count": 14,
   "id": "f2297aa8-26ae-4245-ae46-9545d94ca214",
   "metadata": {},
   "outputs": [],
   "source": [
    "def make_grp(data, k, grp_name = 'rgrp', seed=34535):\n",
    "    np.random.seed(seed+k)\n",
    "    return pd.Series(np.random.randint(2,k+2,size=len(data)),\n",
    "                    name = grp_name, index=data.index)"
   ]
  },
  {
   "cell_type": "code",
   "execution_count": 15,
   "id": "7fd7d662-6680-47d3-bead-8586614ac8e4",
   "metadata": {},
   "outputs": [],
   "source": [
    "naics_k_assign = pd.concat([make_grp(naics_df, k, f'rgrp_{k:03d}') for k in naics_counts], axis=1)"
   ]
  },
  {
   "cell_type": "code",
   "execution_count": 16,
   "id": "c754e453-693b-4b4b-997c-69ad0b638f3a",
   "metadata": {},
   "outputs": [],
   "source": [
    "# Save the new columns\n",
    "naics_rand_map = pd.concat([naics_df, naics_k_assign], axis=1) \n",
    "naics_rand_map.to_parquet(Path(setup.temp_path).joinpath('41_DATA_naics_groups.parquet'))"
   ]
  },
  {
   "cell_type": "code",
   "execution_count": 17,
   "id": "d078d8c0-f378-4862-a5d3-caa5c6c0e571",
   "metadata": {},
   "outputs": [
    {
     "data": {
      "text/html": [
       "<div>\n",
       "<style scoped>\n",
       "    .dataframe tbody tr th:only-of-type {\n",
       "        vertical-align: middle;\n",
       "    }\n",
       "\n",
       "    .dataframe tbody tr th {\n",
       "        vertical-align: top;\n",
       "    }\n",
       "\n",
       "    .dataframe thead th {\n",
       "        text-align: right;\n",
       "    }\n",
       "</style>\n",
       "<table border=\"1\" class=\"dataframe\">\n",
       "  <thead>\n",
       "    <tr style=\"text-align: right;\">\n",
       "      <th></th>\n",
       "      <th>rgrp_345</th>\n",
       "      <th>rgrp_106</th>\n",
       "      <th>rgrp_020</th>\n",
       "    </tr>\n",
       "  </thead>\n",
       "  <tbody>\n",
       "    <tr>\n",
       "      <th>count</th>\n",
       "      <td>1311.000000</td>\n",
       "      <td>1311.000000</td>\n",
       "      <td>1311.000000</td>\n",
       "    </tr>\n",
       "    <tr>\n",
       "      <th>mean</th>\n",
       "      <td>179.608696</td>\n",
       "      <td>55.018307</td>\n",
       "      <td>11.488177</td>\n",
       "    </tr>\n",
       "    <tr>\n",
       "      <th>std</th>\n",
       "      <td>99.166789</td>\n",
       "      <td>30.679699</td>\n",
       "      <td>5.859394</td>\n",
       "    </tr>\n",
       "    <tr>\n",
       "      <th>min</th>\n",
       "      <td>2.000000</td>\n",
       "      <td>2.000000</td>\n",
       "      <td>2.000000</td>\n",
       "    </tr>\n",
       "    <tr>\n",
       "      <th>25%</th>\n",
       "      <td>97.500000</td>\n",
       "      <td>28.000000</td>\n",
       "      <td>6.500000</td>\n",
       "    </tr>\n",
       "    <tr>\n",
       "      <th>50%</th>\n",
       "      <td>185.000000</td>\n",
       "      <td>55.000000</td>\n",
       "      <td>11.000000</td>\n",
       "    </tr>\n",
       "    <tr>\n",
       "      <th>75%</th>\n",
       "      <td>267.500000</td>\n",
       "      <td>82.000000</td>\n",
       "      <td>17.000000</td>\n",
       "    </tr>\n",
       "    <tr>\n",
       "      <th>max</th>\n",
       "      <td>346.000000</td>\n",
       "      <td>107.000000</td>\n",
       "      <td>21.000000</td>\n",
       "    </tr>\n",
       "  </tbody>\n",
       "</table>\n",
       "</div>"
      ],
      "text/plain": [
       "          rgrp_345     rgrp_106     rgrp_020\n",
       "count  1311.000000  1311.000000  1311.000000\n",
       "mean    179.608696    55.018307    11.488177\n",
       "std      99.166789    30.679699     5.859394\n",
       "min       2.000000     2.000000     2.000000\n",
       "25%      97.500000    28.000000     6.500000\n",
       "50%     185.000000    55.000000    11.000000\n",
       "75%     267.500000    82.000000    17.000000\n",
       "max     346.000000   107.000000    21.000000"
      ]
     },
     "execution_count": 17,
     "metadata": {},
     "output_type": "execute_result"
    }
   ],
   "source": [
    "naics_rand_map.describe()"
   ]
  },
  {
   "cell_type": "code",
   "execution_count": 18,
   "id": "193597ff-df13-46c7-9a35-f8a413c7822e",
   "metadata": {},
   "outputs": [
    {
     "data": {
      "text/html": [
       "<div>\n",
       "<style scoped>\n",
       "    .dataframe tbody tr th:only-of-type {\n",
       "        vertical-align: middle;\n",
       "    }\n",
       "\n",
       "    .dataframe tbody tr th {\n",
       "        vertical-align: top;\n",
       "    }\n",
       "\n",
       "    .dataframe thead th {\n",
       "        text-align: right;\n",
       "    }\n",
       "</style>\n",
       "<table border=\"1\" class=\"dataframe\">\n",
       "  <thead>\n",
       "    <tr style=\"text-align: right;\">\n",
       "      <th></th>\n",
       "      <th>NAICS_orig</th>\n",
       "      <th>rgrp_345</th>\n",
       "      <th>rgrp_106</th>\n",
       "      <th>rgrp_020</th>\n",
       "    </tr>\n",
       "    <tr>\n",
       "      <th>index</th>\n",
       "      <th></th>\n",
       "      <th></th>\n",
       "      <th></th>\n",
       "      <th></th>\n",
       "    </tr>\n",
       "  </thead>\n",
       "  <tbody>\n",
       "    <tr>\n",
       "      <th>0</th>\n",
       "      <td>451120</td>\n",
       "      <td>181</td>\n",
       "      <td>89</td>\n",
       "      <td>11</td>\n",
       "    </tr>\n",
       "    <tr>\n",
       "      <th>1</th>\n",
       "      <td>722410</td>\n",
       "      <td>223</td>\n",
       "      <td>7</td>\n",
       "      <td>14</td>\n",
       "    </tr>\n",
       "  </tbody>\n",
       "</table>\n",
       "</div>"
      ],
      "text/plain": [
       "      NAICS_orig  rgrp_345  rgrp_106  rgrp_020\n",
       "index                                         \n",
       "0         451120       181        89        11\n",
       "1         722410       223         7        14"
      ]
     },
     "execution_count": 18,
     "metadata": {},
     "output_type": "execute_result"
    }
   ],
   "source": [
    "naics_rand_map.head(2)"
   ]
  },
  {
   "cell_type": "code",
   "execution_count": 19,
   "id": "34fbee65-ef03-4362-a52d-a0810237736c",
   "metadata": {},
   "outputs": [
    {
     "data": {
      "text/plain": [
       "['NAICS_orig', 'rgrp_345', 'rgrp_106', 'rgrp_020']"
      ]
     },
     "execution_count": 19,
     "metadata": {},
     "output_type": "execute_result"
    }
   ],
   "source": [
    "grp_features = list(naics_rand_map.columns)\n",
    "grp_features"
   ]
  },
  {
   "cell_type": "code",
   "execution_count": 20,
   "id": "e0b43b89-a1da-44ce-a014-8aa849e3f92e",
   "metadata": {},
   "outputs": [],
   "source": [
    "# Apply to SBA loans"
   ]
  },
  {
   "cell_type": "code",
   "execution_count": 21,
   "id": "72b5aa79-d1a4-43fb-a6c3-1df61b841ac9",
   "metadata": {},
   "outputs": [],
   "source": [
    "sba_loans = sba_loans.drop(columns=naics_k_assign.columns, errors='ignore') \\\n",
    "    .merge(naics_rand_map, how='left', on='NAICS_orig')"
   ]
  },
  {
   "cell_type": "code",
   "execution_count": 22,
   "id": "45b6b553-71f5-4dce-af02-061167dc3a6d",
   "metadata": {},
   "outputs": [
    {
     "data": {
      "text/plain": [
       "rgrp_345\n",
       "False    695500\n",
       "Name: count, dtype: int64"
      ]
     },
     "execution_count": 22,
     "metadata": {},
     "output_type": "execute_result"
    }
   ],
   "source": [
    "sba_loans['rgrp_345'].isna().value_counts()"
   ]
  },
  {
   "cell_type": "code",
   "execution_count": 23,
   "id": "ef1cb7c1-4b93-48a0-94cd-4fd82a0db1d3",
   "metadata": {},
   "outputs": [],
   "source": [
    "imputer = NNImputer(features = None, naics_features = grp_features)"
   ]
  },
  {
   "cell_type": "code",
   "execution_count": 24,
   "id": "071ce63d-e6f3-4ab0-a948-0e8dd97c53e8",
   "metadata": {},
   "outputs": [],
   "source": [
    "imputer.fit(sba_loans[sba_loans['dset'] == 'train'])"
   ]
  },
  {
   "cell_type": "code",
   "execution_count": 25,
   "id": "ac373dae-d34f-4c09-a4a3-287d03e68173",
   "metadata": {},
   "outputs": [],
   "source": [
    "naics_out = imputer.transform(sba_loans)[grp_features]"
   ]
  },
  {
   "cell_type": "code",
   "execution_count": 26,
   "id": "936a18c4-77d9-4d94-93a5-7f9b856d5567",
   "metadata": {},
   "outputs": [],
   "source": [
    "sba_loans = pd.concat([sba_loans[[c for c in sba_loans.columns if c not in grp_features]],\n",
    "                          naics_out], axis=1)"
   ]
  },
  {
   "cell_type": "code",
   "execution_count": 27,
   "id": "b221dbd1-601d-4cf7-9ed0-604384a10c0d",
   "metadata": {},
   "outputs": [
    {
     "data": {
      "text/plain": [
       "rgrp_345\n",
       "False    695500\n",
       "Name: count, dtype: int64"
      ]
     },
     "execution_count": 27,
     "metadata": {},
     "output_type": "execute_result"
    }
   ],
   "source": [
    "sba_loans['rgrp_345'].isna().value_counts()"
   ]
  },
  {
   "cell_type": "code",
   "execution_count": 28,
   "id": "ac4ca519-b360-4802-a48b-7604247a14e0",
   "metadata": {},
   "outputs": [
    {
     "name": "stdout",
     "output_type": "stream",
     "text": [
      "{'NAICS_orig': 1170, 'rgrp_345': 337, 'rgrp_106': 107, 'rgrp_020': 21}\n"
     ]
    }
   ],
   "source": [
    "len_dict = sba_loans[sba_loans['dset'] == 'test'] \\\n",
    "    [grp_features] \\\n",
    "    .apply('max').astype('int').to_dict()\n",
    "print(len_dict)"
   ]
  },
  {
   "cell_type": "code",
   "execution_count": 29,
   "id": "bb083391-c1c0-4d19-81e4-68bc4a8c7dd8",
   "metadata": {},
   "outputs": [
    {
     "data": {
      "text/plain": [
       "{'NAICS_orig': 1, 'rgrp_345': 1, 'rgrp_106': 2, 'rgrp_020': 2}"
      ]
     },
     "execution_count": 29,
     "metadata": {},
     "output_type": "execute_result"
    }
   ],
   "source": [
    "naics_out.apply('min').astype('int').to_dict()"
   ]
  },
  {
   "cell_type": "code",
   "execution_count": 30,
   "id": "63fe3d0e-6dfc-43f8-bbf9-84a4bb023a8b",
   "metadata": {},
   "outputs": [],
   "source": [
    "# Save data\n",
    "sba_loans[['LoanNr_ChkDgt', 'dset', 'dset_naics_holdout', 'NAICS'] + list(naics_rand_map.columns)] \\\n",
    "     .to_parquet(Path(setup.temp_path).joinpath('41_DATA_naics_groups_loans.parquet'))"
   ]
  },
  {
   "cell_type": "code",
   "execution_count": 31,
   "id": "babed9a5-b720-4012-9789-01410ecee616",
   "metadata": {},
   "outputs": [],
   "source": [
    "with open(Path(setup.temp_path).joinpath('41_DATA_naics_max_encodings.pkl'), 'wb') as fout:\n",
    "    pickle.dump(len_dict, fout)"
   ]
  },
  {
   "cell_type": "markdown",
   "id": "4d4116da-d689-478a-9c5d-a330f231e615",
   "metadata": {},
   "source": [
    "# Features"
   ]
  },
  {
   "cell_type": "code",
   "execution_count": 32,
   "id": "f98c6e41-38d0-4d5f-b821-e3837b8c2068",
   "metadata": {},
   "outputs": [
    {
     "name": "stdout",
     "output_type": "stream",
     "text": [
      "['NoEmp', 'CreateJob', 'LowDoc', 'DisbursementGross', 'new_business', 'urban_flag', 'franchise_flag', 'missingindicator_LowDoc', 'missingindicator_new_business', 'missingindicator_urban_flag']\n"
     ]
    }
   ],
   "source": [
    "# Numeric features\n",
    "features_numeric = [f for f in imputer_features if 'NAICS' not in f]\n",
    "features_numeric_len = len(features_numeric)\n",
    "print(features_numeric)"
   ]
  },
  {
   "cell_type": "code",
   "execution_count": 33,
   "id": "a74fa386-4011-45ee-bdb5-d671db9ffa91",
   "metadata": {},
   "outputs": [],
   "source": [
    "# Use analagous embedding dimensions\n",
    "features_grp_all = ['NAICS'] + features_naics_hier\n",
    "grp_emb_dim = [setup.nn_naics_embed_size_dict[n] for n in features_grp_all]"
   ]
  },
  {
   "cell_type": "code",
   "execution_count": 34,
   "id": "867031ee-8b6e-424d-b497-8e19409ba1d9",
   "metadata": {},
   "outputs": [
    {
     "name": "stdout",
     "output_type": "stream",
     "text": [
      "{'NAICS_orig': 1170, 'rgrp_345': 337, 'rgrp_106': 107, 'rgrp_020': 21}\n",
      "[8, 4, 4, 2]\n"
     ]
    }
   ],
   "source": [
    "print(len_dict)\n",
    "print(grp_emb_dim)"
   ]
  },
  {
   "cell_type": "markdown",
   "id": "b979396c-c822-4940-a292-6e07f1b54f58",
   "metadata": {},
   "source": [
    "##### Datasets for train, validation"
   ]
  },
  {
   "cell_type": "code",
   "execution_count": 35,
   "id": "43bca011-a59d-4496-9f03-87f4e350a253",
   "metadata": {},
   "outputs": [],
   "source": [
    "X = sba_loans[['dset', 'LoanNr_ChkDgt'] + features_numeric].set_index('LoanNr_ChkDgt').sort_index()"
   ]
  },
  {
   "cell_type": "code",
   "execution_count": 36,
   "id": "aa162d01-ed73-4ae3-832e-4aeea09b70f4",
   "metadata": {},
   "outputs": [
    {
     "name": "stdout",
     "output_type": "stream",
     "text": [
      "training X: (446848, 10), y:(446848,)\n"
     ]
    }
   ],
   "source": [
    "X_train = X[X['dset'] == 'train'].drop(columns='dset')\n",
    "y_train = sba_loans[sba_loans['dset'] == 'train'].set_index('LoanNr_ChkDgt').sort_index()['target']\n",
    "print(f'training X: {X_train.shape}, y:{y_train.shape}')"
   ]
  },
  {
   "cell_type": "code",
   "execution_count": 37,
   "id": "b32b5fd3-6f6e-4aec-8e20-0e2b71a4814c",
   "metadata": {},
   "outputs": [
    {
     "name": "stdout",
     "output_type": "stream",
     "text": [
      "val X: (95604, 10), y:(95604,)\n"
     ]
    }
   ],
   "source": [
    "X_val = X[X['dset'] == 'val'].drop(columns='dset')\n",
    "y_val = sba_loans[sba_loans['dset'] == 'val'].set_index('LoanNr_ChkDgt').sort_index()['target']\n",
    "print(f'val X: {X_val.shape}, y:{y_val.shape}')"
   ]
  },
  {
   "cell_type": "code",
   "execution_count": 38,
   "id": "01b8ff96-159b-4283-b5fb-c4b5dbd277d5",
   "metadata": {},
   "outputs": [
    {
     "name": "stdout",
     "output_type": "stream",
     "text": [
      "0.20230592953308507\n"
     ]
    }
   ],
   "source": [
    "base_thresh = y_train.mean()\n",
    "print(base_thresh)"
   ]
  },
  {
   "cell_type": "code",
   "execution_count": 39,
   "id": "1b8ce4c9-6907-4b70-982a-b92a52b3159d",
   "metadata": {},
   "outputs": [],
   "source": [
    "X_hier = [sba_loans[['dset', 'LoanNr_ChkDgt', n]].set_index('LoanNr_ChkDgt').sort_index() \\\n",
    "           for n in grp_features]"
   ]
  },
  {
   "cell_type": "code",
   "execution_count": 40,
   "id": "a6f129e0-a4d0-4d93-9886-153c9803d403",
   "metadata": {},
   "outputs": [],
   "source": [
    "X_hier_train = [Xn[Xn['dset'] == 'train'].drop(columns='dset') for Xn in X_hier]\n",
    "X_hier_val =  [Xn[Xn['dset'] == 'val'].drop(columns='dset') for Xn in X_hier]"
   ]
  },
  {
   "cell_type": "markdown",
   "id": "3db4ea1c-77b2-4721-b106-1e66fc502139",
   "metadata": {},
   "source": [
    "## Create, fit model"
   ]
  },
  {
   "cell_type": "code",
   "execution_count": 41,
   "id": "3a66a5d7-5416-4f31-bb0c-6ddd2945ec7d",
   "metadata": {},
   "outputs": [
    {
     "data": {
      "text/plain": [
       "[1170, 337, 107, 21]"
      ]
     },
     "execution_count": 41,
     "metadata": {},
     "output_type": "execute_result"
    }
   ],
   "source": [
    "list(len_dict.values())"
   ]
  },
  {
   "cell_type": "code",
   "execution_count": 42,
   "id": "4d48ddfa-580c-4321-9917-0bd176b67d87",
   "metadata": {},
   "outputs": [
    {
     "name": "stderr",
     "output_type": "stream",
     "text": [
      "2024-05-29 17:30:25.621421: I metal_plugin/src/device/metal_device.cc:1154] Metal device set to: Apple M1\n",
      "2024-05-29 17:30:25.621448: I metal_plugin/src/device/metal_device.cc:296] systemMemory: 16.00 GB\n",
      "2024-05-29 17:30:25.621456: I metal_plugin/src/device/metal_device.cc:313] maxCacheSize: 5.33 GB\n",
      "2024-05-29 17:30:25.621494: I tensorflow/core/common_runtime/pluggable_device/pluggable_device_factory.cc:303] Could not identify NUMA node of platform GPU ID 0, defaulting to 0. Your kernel may not have been built with NUMA support.\n",
      "2024-05-29 17:30:25.621512: I tensorflow/core/common_runtime/pluggable_device/pluggable_device_factory.cc:269] Created TensorFlow device (/job:localhost/replica:0/task:0/device:GPU:0 with 0 MB memory) -> physical PluggableDevice (device: 0, name: METAL, pci bus id: <undefined>)\n"
     ]
    }
   ],
   "source": [
    "this_model = sbnn_model.create_emb_model(features_numeric_len,\n",
    "                                         list(len_dict.values()),\n",
    "                                         grp_emb_dim,\n",
    "                                         naics_embedding_names = grp_features,\n",
    "                                         hidden_size = setup.nn_layer_sizes,\n",
    "                                         activation='tanh',\n",
    "                                         lr=setup.nn_learning_rate,\n",
    "                                         opt_func = setup.nn_optimizer,\n",
    "                                         dropout = setup.nn_dropout)"
   ]
  },
  {
   "cell_type": "code",
   "execution_count": 43,
   "id": "47036621-ef13-4957-997b-f8ef86016f7f",
   "metadata": {},
   "outputs": [
    {
     "name": "stdout",
     "output_type": "stream",
     "text": [
      "Model: \"model\"\n",
      "__________________________________________________________________________________________________\n",
      " Layer (type)                Output Shape                 Param #   Connected to                  \n",
      "==================================================================================================\n",
      " input_naics_00 (InputLayer  [(None, 1)]                  0         []                            \n",
      " )                                                                                                \n",
      "                                                                                                  \n",
      " input_naics_01 (InputLayer  [(None, 1)]                  0         []                            \n",
      " )                                                                                                \n",
      "                                                                                                  \n",
      " input_naics_02 (InputLayer  [(None, 1)]                  0         []                            \n",
      " )                                                                                                \n",
      "                                                                                                  \n",
      " input_naics_03 (InputLayer  [(None, 1)]                  0         []                            \n",
      " )                                                                                                \n",
      "                                                                                                  \n",
      " emb_naics_00 (Embedding)    (None, 1, 8)                 9360      ['input_naics_00[0][0]']      \n",
      "                                                                                                  \n",
      " emb_naics_01 (Embedding)    (None, 1, 4)                 1348      ['input_naics_01[0][0]']      \n",
      "                                                                                                  \n",
      " emb_naics_02 (Embedding)    (None, 1, 4)                 428       ['input_naics_02[0][0]']      \n",
      "                                                                                                  \n",
      " emb_naics_03 (Embedding)    (None, 1, 2)                 42        ['input_naics_03[0][0]']      \n",
      "                                                                                                  \n",
      " NAICS_orig (Flatten)        (None, 8)                    0         ['emb_naics_00[0][0]']        \n",
      "                                                                                                  \n",
      " rgrp_345 (Flatten)          (None, 4)                    0         ['emb_naics_01[0][0]']        \n",
      "                                                                                                  \n",
      " rgrp_106 (Flatten)          (None, 4)                    0         ['emb_naics_02[0][0]']        \n",
      "                                                                                                  \n",
      " rgrp_020 (Flatten)          (None, 2)                    0         ['emb_naics_03[0][0]']        \n",
      "                                                                                                  \n",
      " input_numeric (InputLayer)  [(None, 10)]                 0         []                            \n",
      "                                                                                                  \n",
      " input_concat (Concatenate)  (None, 28)                   0         ['NAICS_orig[0][0]',          \n",
      "                                                                     'rgrp_345[0][0]',            \n",
      "                                                                     'rgrp_106[0][0]',            \n",
      "                                                                     'rgrp_020[0][0]',            \n",
      "                                                                     'input_numeric[0][0]']       \n",
      "                                                                                                  \n",
      " layer_00 (Dense)            (None, 128)                  3712      ['input_concat[0][0]']        \n",
      "                                                                                                  \n",
      " dropout_00 (Dropout)        (None, 128)                  0         ['layer_00[0][0]']            \n",
      "                                                                                                  \n",
      " layer_01 (Dense)            (None, 64)                   8256      ['dropout_00[0][0]']          \n",
      "                                                                                                  \n",
      " dropout_01 (Dropout)        (None, 64)                   0         ['layer_01[0][0]']            \n",
      "                                                                                                  \n",
      " output (Dense)              (None, 1)                    65        ['dropout_01[0][0]']          \n",
      "                                                                                                  \n",
      "==================================================================================================\n",
      "Total params: 23211 (90.67 KB)\n",
      "Trainable params: 23211 (90.67 KB)\n",
      "Non-trainable params: 0 (0.00 Byte)\n",
      "__________________________________________________________________________________________________\n"
     ]
    }
   ],
   "source": [
    "this_model.summary()"
   ]
  },
  {
   "cell_type": "code",
   "execution_count": 44,
   "id": "cbb85f7c-127b-4a78-bcd0-bc00cc6bed14",
   "metadata": {},
   "outputs": [],
   "source": [
    "callback = keras.callbacks.EarlyStopping(patience=3)"
   ]
  },
  {
   "cell_type": "code",
   "execution_count": 45,
   "id": "31772016-3643-468b-8d65-c456168cad6e",
   "metadata": {},
   "outputs": [
    {
     "name": "stdout",
     "output_type": "stream",
     "text": [
      "Epoch 1/20\n"
     ]
    },
    {
     "name": "stderr",
     "output_type": "stream",
     "text": [
      "2024-05-29 17:30:26.658531: I tensorflow/core/grappler/optimizers/custom_graph_optimizer_registry.cc:114] Plugin optimizer for device_type GPU is enabled.\n"
     ]
    },
    {
     "name": "stdout",
     "output_type": "stream",
     "text": [
      "13964/13964 [==============================] - ETA: 0s - loss: 0.4625 - auc: 0.3365 - auc_1: 0.6996"
     ]
    },
    {
     "name": "stderr",
     "output_type": "stream",
     "text": [
      "2024-05-29 17:34:33.620933: I tensorflow/core/grappler/optimizers/custom_graph_optimizer_registry.cc:114] Plugin optimizer for device_type GPU is enabled.\n"
     ]
    },
    {
     "name": "stdout",
     "output_type": "stream",
     "text": [
      "13964/13964 [==============================] - 270s 19ms/step - loss: 0.4625 - auc: 0.3365 - auc_1: 0.6996 - val_loss: 0.4543 - val_auc: 0.3707 - val_auc_1: 0.7232\n",
      "Epoch 2/20\n",
      "13964/13964 [==============================] - 260s 19ms/step - loss: 0.4546 - auc: 0.3586 - auc_1: 0.7164 - val_loss: 0.4518 - val_auc: 0.3776 - val_auc_1: 0.7270\n",
      "Epoch 3/20\n",
      "13964/13964 [==============================] - 269s 19ms/step - loss: 0.4523 - auc: 0.3658 - auc_1: 0.7211 - val_loss: 0.4509 - val_auc: 0.3796 - val_auc_1: 0.7280\n",
      "Epoch 4/20\n",
      "13964/13964 [==============================] - 274s 20ms/step - loss: 0.4509 - auc: 0.3696 - auc_1: 0.7240 - val_loss: 0.4510 - val_auc: 0.3818 - val_auc_1: 0.7292\n",
      "Epoch 5/20\n",
      "13964/13964 [==============================] - 265s 19ms/step - loss: 0.4501 - auc: 0.3730 - auc_1: 0.7256 - val_loss: 0.4504 - val_auc: 0.3851 - val_auc_1: 0.7308\n",
      "Epoch 6/20\n",
      "13964/13964 [==============================] - 255s 18ms/step - loss: 0.4495 - auc: 0.3756 - auc_1: 0.7269 - val_loss: 0.4503 - val_auc: 0.3844 - val_auc_1: 0.7308\n",
      "Epoch 7/20\n",
      "13964/13964 [==============================] - 251s 18ms/step - loss: 0.4490 - auc: 0.3773 - auc_1: 0.7279 - val_loss: 0.4540 - val_auc: 0.3859 - val_auc_1: 0.7307\n",
      "Epoch 8/20\n",
      "13964/13964 [==============================] - 191s 14ms/step - loss: 0.4485 - auc: 0.3788 - auc_1: 0.7287 - val_loss: 0.4499 - val_auc: 0.3822 - val_auc_1: 0.7305\n",
      "Epoch 9/20\n",
      "13964/13964 [==============================] - 144s 10ms/step - loss: 0.4480 - auc: 0.3807 - auc_1: 0.7296 - val_loss: 0.4518 - val_auc: 0.3856 - val_auc_1: 0.7308\n",
      "Epoch 10/20\n",
      "13964/13964 [==============================] - 142s 10ms/step - loss: 0.4476 - auc: 0.3817 - auc_1: 0.7306 - val_loss: 0.4511 - val_auc: 0.3840 - val_auc_1: 0.7306\n",
      "Epoch 11/20\n",
      "13964/13964 [==============================] - 140s 10ms/step - loss: 0.4476 - auc: 0.3821 - auc_1: 0.7305 - val_loss: 0.4508 - val_auc: 0.3850 - val_auc_1: 0.7306\n"
     ]
    }
   ],
   "source": [
    "this_history = this_model.fit([X_train] + X_hier_train, y_train,\n",
    "                              validation_data=([X_val] + X_hier_val, y_val),\n",
    "                              batch_size=setup.nn_batch_size,\n",
    "                              epochs=setup.nn_epochs,\n",
    "                              callbacks=[callback])"
   ]
  },
  {
   "cell_type": "code",
   "execution_count": 46,
   "id": "460c4b43-c673-4ee1-b070-d2d596ac4561",
   "metadata": {},
   "outputs": [],
   "source": [
    "this_history_df = sbnn_model.process_history(this_history)"
   ]
  },
  {
   "cell_type": "code",
   "execution_count": 47,
   "id": "ad4783f2-8d0b-4850-a45a-3a4be8e63318",
   "metadata": {},
   "outputs": [],
   "source": [
    "this_history_df.to_csv(Path(setup.temp_path).joinpath('41_REPORT_fit_history.csv'))"
   ]
  },
  {
   "cell_type": "code",
   "execution_count": 48,
   "id": "73e89efd-75a9-4b27-81a8-13e12d5482be",
   "metadata": {},
   "outputs": [
    {
     "data": {
      "text/plain": [
       "<Axes: >"
      ]
     },
     "execution_count": 48,
     "metadata": {},
     "output_type": "execute_result"
    },
    {
     "data": {
      "image/png": "[encoded data removed]",
      "text/plain": [
       "<Figure size 640x480 with 1 Axes>"
      ]
     },
     "metadata": {},
     "output_type": "display_data"
    }
   ],
   "source": [
    "this_history_df[['loss', 'val_loss']].plot()"
   ]
  },
  {
   "cell_type": "code",
   "execution_count": 49,
   "id": "2342a31f-4891-4834-851a-b90b8b729c3c",
   "metadata": {},
   "outputs": [
    {
     "data": {
      "text/plain": [
       "<Axes: >"
      ]
     },
     "execution_count": 49,
     "metadata": {},
     "output_type": "execute_result"
    },
    {
     "data": {
      "image/png": "[encoded data removed]",
      "text/plain": [
       "<Figure size 640x480 with 1 Axes>"
      ]
     },
     "metadata": {},
     "output_type": "display_data"
    }
   ],
   "source": [
    "this_history_df[['auc', 'val_auc']].plot()"
   ]
  },
  {
   "cell_type": "code",
   "execution_count": 50,
   "id": "cee80637-cabf-4974-b476-08c5fba165ff",
   "metadata": {},
   "outputs": [
    {
     "data": {
      "text/plain": [
       "<Axes: >"
      ]
     },
     "execution_count": 50,
     "metadata": {},
     "output_type": "execute_result"
    },
    {
     "data": {
      "image/png": "[encoded data removed]",
      "text/plain": [
       "<Figure size 640x480 with 1 Axes>"
      ]
     },
     "metadata": {},
     "output_type": "display_data"
    }
   ],
   "source": [
    "this_history_df[['auc_roc', 'val_auc_roc']].plot()"
   ]
  },
  {
   "cell_type": "code",
   "execution_count": 51,
   "id": "e184b0ca-1d31-4798-88a0-4e590b67062e",
   "metadata": {},
   "outputs": [],
   "source": [
    "this_model.save(Path(setup.temp_path).joinpath('41_DATA_model.keras'),save_format='tf')"
   ]
  },
  {
   "cell_type": "markdown",
   "id": "d326c9ea-4759-4418-a64d-56c151049c25",
   "metadata": {},
   "source": [
    "## Predictions on all data"
   ]
  },
  {
   "cell_type": "code",
   "execution_count": 52,
   "id": "d5c39a5a-dc19-4606-b744-34865bc6c5c5",
   "metadata": {},
   "outputs": [],
   "source": [
    "X_hier = [sba_loans[['dset', 'LoanNr_ChkDgt', n]].set_index('LoanNr_ChkDgt').sort_index() \\\n",
    "           for n in grp_features]"
   ]
  },
  {
   "cell_type": "code",
   "execution_count": 53,
   "id": "cd6910ee-5ffe-4def-9aa8-7dba76446b08",
   "metadata": {},
   "outputs": [
    {
     "name": "stdout",
     "output_type": "stream",
     "text": [
      "   93/21735 [..............................] - ETA: 35s"
     ]
    },
    {
     "name": "stderr",
     "output_type": "stream",
     "text": [
      "2024-05-29 18:11:29.814323: I tensorflow/core/grappler/optimizers/custom_graph_optimizer_registry.cc:114] Plugin optimizer for device_type GPU is enabled.\n"
     ]
    },
    {
     "name": "stdout",
     "output_type": "stream",
     "text": [
      "21735/21735 [==============================] - 37s 2ms/step\n"
     ]
    }
   ],
   "source": [
    "all_predictions = this_model.predict([X.drop(columns='dset')] +\n",
    "                                     [Xn.drop(columns='dset') for Xn in X_hier])"
   ]
  },
  {
   "cell_type": "code",
   "execution_count": 54,
   "id": "98a2cce1-b7d3-4ebc-8869-80705297e145",
   "metadata": {},
   "outputs": [],
   "source": [
    "all_predictions_df = pd.DataFrame(all_predictions, index=X.index) \\\n",
    "    .set_axis(['predict_prob'], axis=1) \\\n",
    "    .reset_index() \\\n",
    "    .merge(sba_loans[['target', 'LoanNr_ChkDgt', 'dset', 'dset_naics_holdout', 'NAICS']], \n",
    "           on='LoanNr_ChkDgt')"
   ]
  },
  {
   "cell_type": "code",
   "execution_count": 55,
   "id": "3fc7da9c-6bd2-4d1b-b77f-b62679825d5d",
   "metadata": {},
   "outputs": [
    {
     "data": {
      "text/html": [
       "<div>\n",
       "<style scoped>\n",
       "    .dataframe tbody tr th:only-of-type {\n",
       "        vertical-align: middle;\n",
       "    }\n",
       "\n",
       "    .dataframe tbody tr th {\n",
       "        vertical-align: top;\n",
       "    }\n",
       "\n",
       "    .dataframe thead th {\n",
       "        text-align: right;\n",
       "    }\n",
       "</style>\n",
       "<table border=\"1\" class=\"dataframe\">\n",
       "  <thead>\n",
       "    <tr style=\"text-align: right;\">\n",
       "      <th></th>\n",
       "      <th>predict_prob</th>\n",
       "      <th>target</th>\n",
       "    </tr>\n",
       "  </thead>\n",
       "  <tbody>\n",
       "    <tr>\n",
       "      <th>predict_prob</th>\n",
       "      <td>1.00000</td>\n",
       "      <td>0.32166</td>\n",
       "    </tr>\n",
       "    <tr>\n",
       "      <th>target</th>\n",
       "      <td>0.32166</td>\n",
       "      <td>1.00000</td>\n",
       "    </tr>\n",
       "  </tbody>\n",
       "</table>\n",
       "</div>"
      ],
      "text/plain": [
       "              predict_prob   target\n",
       "predict_prob       1.00000  0.32166\n",
       "target             0.32166  1.00000"
      ]
     },
     "execution_count": 55,
     "metadata": {},
     "output_type": "execute_result"
    }
   ],
   "source": [
    "all_predictions_df[['predict_prob', 'target']].corr(method='spearman')"
   ]
  },
  {
   "cell_type": "markdown",
   "id": "e79afc4e-cb67-4064-9b19-dc52500baef2",
   "metadata": {},
   "source": [
    "##### Threshold Tune & Binary Predictions\n",
    "Using training probability predictions"
   ]
  },
  {
   "cell_type": "code",
   "execution_count": 56,
   "id": "ccd0bc23-fbc0-40d0-8d8b-f2302405a875",
   "metadata": {},
   "outputs": [],
   "source": [
    "all_pred_train = all_predictions_df[all_predictions_df['dset'] == 'train']"
   ]
  },
  {
   "cell_type": "code",
   "execution_count": 57,
   "id": "df36d9e9-f35e-46b3-a5be-08081f998319",
   "metadata": {},
   "outputs": [],
   "source": [
    "thresh_tune_data = sbnn_metrics.get_f1_frame(all_pred_train['target'], \n",
    "                                        all_pred_train['predict_prob'])"
   ]
  },
  {
   "cell_type": "code",
   "execution_count": 58,
   "id": "de634156-caf6-4a52-b5d7-44b8e986aa1d",
   "metadata": {},
   "outputs": [
    {
     "data": {
      "text/html": [
       "<div>\n",
       "<style scoped>\n",
       "    .dataframe tbody tr th:only-of-type {\n",
       "        vertical-align: middle;\n",
       "    }\n",
       "\n",
       "    .dataframe tbody tr th {\n",
       "        vertical-align: top;\n",
       "    }\n",
       "\n",
       "    .dataframe thead th {\n",
       "        text-align: right;\n",
       "    }\n",
       "</style>\n",
       "<table border=\"1\" class=\"dataframe\">\n",
       "  <thead>\n",
       "    <tr style=\"text-align: right;\">\n",
       "      <th></th>\n",
       "      <th>thresh</th>\n",
       "      <th>f1</th>\n",
       "    </tr>\n",
       "  </thead>\n",
       "  <tbody>\n",
       "    <tr>\n",
       "      <th>10</th>\n",
       "      <td>0.20</td>\n",
       "      <td>0.454450</td>\n",
       "    </tr>\n",
       "    <tr>\n",
       "      <th>11</th>\n",
       "      <td>0.22</td>\n",
       "      <td>0.452915</td>\n",
       "    </tr>\n",
       "    <tr>\n",
       "      <th>9</th>\n",
       "      <td>0.18</td>\n",
       "      <td>0.451817</td>\n",
       "    </tr>\n",
       "  </tbody>\n",
       "</table>\n",
       "</div>"
      ],
      "text/plain": [
       "    thresh        f1\n",
       "10    0.20  0.454450\n",
       "11    0.22  0.452915\n",
       "9     0.18  0.451817"
      ]
     },
     "execution_count": 58,
     "metadata": {},
     "output_type": "execute_result"
    }
   ],
   "source": [
    "thresh_tune_data.sort_values('f1', ascending=False, inplace=True)\n",
    "thresh_tune_data.head(3)"
   ]
  },
  {
   "cell_type": "code",
   "execution_count": 59,
   "id": "c746b880-d781-4bc1-9df2-89211127c22a",
   "metadata": {},
   "outputs": [
    {
     "data": {
      "text/plain": [
       "0.2"
      ]
     },
     "execution_count": 59,
     "metadata": {},
     "output_type": "execute_result"
    }
   ],
   "source": [
    "best_thresh = thresh_tune_data['thresh'].iloc[0]\n",
    "best_thresh"
   ]
  },
  {
   "cell_type": "markdown",
   "id": "3c0ac5e2-be0d-42f0-960d-1f81b4a5d4e2",
   "metadata": {},
   "source": [
    "##### Append binary predictions to probability predictions"
   ]
  },
  {
   "cell_type": "code",
   "execution_count": 60,
   "id": "641da72e-1bca-4fe7-96c4-6c029b521bd7",
   "metadata": {},
   "outputs": [],
   "source": [
    "all_predictions_df['predict_bin'] = sbnn_metrics.get_binary_predictions(all_predictions_df['predict_prob'], best_thresh)"
   ]
  },
  {
   "cell_type": "code",
   "execution_count": 61,
   "id": "9f6ecdf4-ac01-4c39-8315-e8583daa337e",
   "metadata": {},
   "outputs": [
    {
     "data": {
      "text/plain": [
       "predict_bin\n",
       "0    0.55606\n",
       "1    0.44394\n",
       "Name: proportion, dtype: float64"
      ]
     },
     "execution_count": 61,
     "metadata": {},
     "output_type": "execute_result"
    }
   ],
   "source": [
    "all_predictions_df['predict_bin'].value_counts(normalize=True, dropna=False)"
   ]
  },
  {
   "cell_type": "code",
   "execution_count": 62,
   "id": "cbfed830-7ff8-40f6-a691-6b894b26d6bc",
   "metadata": {},
   "outputs": [],
   "source": [
    "all_predictions_df.to_parquet(Path(setup.temp_path).joinpath('41_DATA_predictions.parquet'))"
   ]
  },
  {
   "cell_type": "markdown",
   "id": "eb0ecbd2-abff-46d8-8c70-f7bccd363b69",
   "metadata": {},
   "source": [
    "## Metrics"
   ]
  },
  {
   "cell_type": "code",
   "execution_count": 63,
   "id": "be4ceefe-c7a8-45bd-8573-2daefe99a1c2",
   "metadata": {},
   "outputs": [
    {
     "data": {
      "text/html": [
       "<div>\n",
       "<style scoped>\n",
       "    .dataframe tbody tr th:only-of-type {\n",
       "        vertical-align: middle;\n",
       "    }\n",
       "\n",
       "    .dataframe tbody tr th {\n",
       "        vertical-align: top;\n",
       "    }\n",
       "\n",
       "    .dataframe thead th {\n",
       "        text-align: right;\n",
       "    }\n",
       "</style>\n",
       "<table border=\"1\" class=\"dataframe\">\n",
       "  <thead>\n",
       "    <tr style=\"text-align: right;\">\n",
       "      <th></th>\n",
       "      <th>dset</th>\n",
       "      <th>accuracy_score</th>\n",
       "      <th>f1_score</th>\n",
       "      <th>precision_score</th>\n",
       "      <th>recall_score</th>\n",
       "      <th>average_precision_score</th>\n",
       "      <th>roc_auc_score</th>\n",
       "      <th>dset_naics_holdout</th>\n",
       "    </tr>\n",
       "  </thead>\n",
       "  <tbody>\n",
       "    <tr>\n",
       "      <th>0</th>\n",
       "      <td>test</td>\n",
       "      <td>0.608750</td>\n",
       "      <td>0.438147</td>\n",
       "      <td>0.308412</td>\n",
       "      <td>0.756284</td>\n",
       "      <td>0.360844</td>\n",
       "      <td>0.716696</td>\n",
       "      <td>NaN</td>\n",
       "    </tr>\n",
       "    <tr>\n",
       "      <th>1</th>\n",
       "      <td>train</td>\n",
       "      <td>0.655180</td>\n",
       "      <td>0.454450</td>\n",
       "      <td>0.334191</td>\n",
       "      <td>0.709912</td>\n",
       "      <td>0.393192</td>\n",
       "      <td>0.737005</td>\n",
       "      <td>NaN</td>\n",
       "    </tr>\n",
       "    <tr>\n",
       "      <th>2</th>\n",
       "      <td>val</td>\n",
       "      <td>0.652368</td>\n",
       "      <td>0.450743</td>\n",
       "      <td>0.332431</td>\n",
       "      <td>0.699800</td>\n",
       "      <td>0.385070</td>\n",
       "      <td>0.730608</td>\n",
       "      <td>NaN</td>\n",
       "    </tr>\n",
       "    <tr>\n",
       "      <th>0</th>\n",
       "      <td>test</td>\n",
       "      <td>0.651015</td>\n",
       "      <td>0.448045</td>\n",
       "      <td>0.330098</td>\n",
       "      <td>0.697141</td>\n",
       "      <td>0.381350</td>\n",
       "      <td>0.727226</td>\n",
       "      <td>0.0</td>\n",
       "    </tr>\n",
       "    <tr>\n",
       "      <th>1</th>\n",
       "      <td>test</td>\n",
       "      <td>0.538502</td>\n",
       "      <td>0.425192</td>\n",
       "      <td>0.282787</td>\n",
       "      <td>0.856507</td>\n",
       "      <td>0.342043</td>\n",
       "      <td>0.714865</td>\n",
       "      <td>1.0</td>\n",
       "    </tr>\n",
       "  </tbody>\n",
       "</table>\n",
       "</div>"
      ],
      "text/plain": [
       "    dset  accuracy_score  f1_score  precision_score  recall_score  \\\n",
       "0   test        0.608750  0.438147         0.308412      0.756284   \n",
       "1  train        0.655180  0.454450         0.334191      0.709912   \n",
       "2    val        0.652368  0.450743         0.332431      0.699800   \n",
       "0   test        0.651015  0.448045         0.330098      0.697141   \n",
       "1   test        0.538502  0.425192         0.282787      0.856507   \n",
       "\n",
       "   average_precision_score  roc_auc_score  dset_naics_holdout  \n",
       "0                 0.360844       0.716696                 NaN  \n",
       "1                 0.393192       0.737005                 NaN  \n",
       "2                 0.385070       0.730608                 NaN  \n",
       "0                 0.381350       0.727226                 0.0  \n",
       "1                 0.342043       0.714865                 1.0  "
      ]
     },
     "execution_count": 63,
     "metadata": {},
     "output_type": "execute_result"
    }
   ],
   "source": [
    "metrics_dset_df = all_predictions_df.groupby('dset') \\\n",
    "    .apply(lambda x: sbnn_metrics.dset_metrics(x.target, x.predict_bin, x.predict_prob)) \\\n",
    "    .reset_index()\n",
    "metrics_test_df = all_predictions_df[all_predictions_df['dset'] == 'test'] \\\n",
    "    .groupby(['dset', 'dset_naics_holdout']) \\\n",
    "    .apply(lambda x: sbnn_metrics.dset_metrics(x.target, x.predict_bin, x.predict_prob)) \\\n",
    "    .reset_index()\n",
    "metrics_df = pd.concat([metrics_dset_df, metrics_test_df])\n",
    "metrics_df.to_csv(Path(setup.temp_path).joinpath('41_REPORT_metrics.csv'), index=True)\n",
    "metrics_df"
   ]
  },
  {
   "cell_type": "code",
   "execution_count": null,
   "id": "52e382b5-e9dc-47a1-9bf4-6d0b6b4a0c61",
   "metadata": {},
   "outputs": [],
   "source": []
  },
  {
   "cell_type": "code",
   "execution_count": null,
   "id": "6f69cf93-02e2-413b-8f2b-fcdb908057d3",
   "metadata": {},
   "outputs": [],
   "source": []
  }
 ],
 "metadata": {
  "kernelspec": {
   "display_name": "tf_p39",
   "language": "python",
   "name": "tf_p39"
  },
  "language_info": {
   "codemirror_mode": {
    "name": "ipython",
    "version": 3
   },
   "file_extension": ".py",
   "mimetype": "text/x-python",
   "name": "python",
   "nbconvert_exporter": "python",
   "pygments_lexer": "ipython3",
   "version": "3.8.18"
  }
 },
 "nbformat": 4,
 "nbformat_minor": 5
}
