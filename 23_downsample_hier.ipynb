{
 "cells": [
  {
   "cell_type": "code",
   "execution_count": 1,
   "id": "8816b366-5be4-4748-b769-4dc6f7d1735f",
   "metadata": {},
   "outputs": [],
   "source": [
    "# Modify the file 00_setup.py to define input/output file paths on your system\n",
    "# The information in 00_setup.py will be used across notebooks\n",
    "from importlib.machinery import SourceFileLoader\n",
    "setup = SourceFileLoader(\"setup\", \"./00_setup.py\").load_module()"
   ]
  },
  {
   "cell_type": "markdown",
   "id": "a945de0c-f042-46b2-9d06-ab064af6c05b",
   "metadata": {},
   "source": [
    "## NN, Downsample train, NAICS only embedding\n",
    "Do the embedding model again but downsample training.  This is a baseline for comparing random vs. the custom data generator"
   ]
  },
  {
   "cell_type": "markdown",
   "id": "e169c2e8-ba0f-488f-acf6-87d419bd4e99",
   "metadata": {},
   "source": [
    "Use the dataset with no missing values. "
   ]
  },
  {
   "cell_type": "markdown",
   "id": "d47a7ec9-7d7b-47df-a902-b2f1e54f1135",
   "metadata": {},
   "source": [
    "*This script takes about 15 minutes on my MacBook Air*"
   ]
  },
  {
   "cell_type": "code",
   "execution_count": 2,
   "id": "fb42f9b4-99a8-4753-aacf-8722469be4c8",
   "metadata": {},
   "outputs": [],
   "source": [
    "import numpy as np\n",
    "import pandas as pd\n",
    "import tensorflow as tf"
   ]
  },
  {
   "cell_type": "code",
   "execution_count": 3,
   "id": "bf51170a-4487-4d10-b63d-c88f41b529f9",
   "metadata": {},
   "outputs": [],
   "source": [
    "from pathlib import Path\n",
    "import importlib, pickle\n",
    "from sklearn import model_selection\n",
    "from sklearn.model_selection import train_test_split"
   ]
  },
  {
   "cell_type": "code",
   "execution_count": 4,
   "id": "09dd973b-60a0-434b-9193-8c5fcec27dd5",
   "metadata": {},
   "outputs": [],
   "source": [
    "import pandas as pd\n",
    "import os\n",
    "import re\n",
    "\n",
    "import keras\n",
    "from tensorflow.keras import layers, optimizers, losses, metrics, Model\n",
    "from sklearn import preprocessing, feature_extraction, model_selection\n",
    "from IPython.display import display, HTML\n",
    "import matplotlib.pyplot as plt\n",
    "%matplotlib inline"
   ]
  },
  {
   "cell_type": "code",
   "execution_count": 5,
   "id": "9f1e4f2e-0e45-4e28-8e9c-212e0bb51199",
   "metadata": {},
   "outputs": [],
   "source": [
    "from sba_nn.sba_nn import sbnn_metrics, sbnn_model"
   ]
  },
  {
   "cell_type": "markdown",
   "id": "3cbc00d2-bc83-42d9-83eb-65fcf306dccd",
   "metadata": {},
   "source": [
    "## Input Data, Downsample Train"
   ]
  },
  {
   "cell_type": "code",
   "execution_count": 6,
   "id": "e014cd31-0f8d-42e3-82f9-b529eec8a3cc",
   "metadata": {
    "tags": []
   },
   "outputs": [],
   "source": [
    "sba_loans = pd.read_parquet(Path(setup.temp_path).joinpath('20_DATA_downsamp_train.parquet'))"
   ]
  },
  {
   "cell_type": "code",
   "execution_count": 7,
   "id": "45864963-90d7-43e7-89eb-03e947feec17",
   "metadata": {},
   "outputs": [
    {
     "data": {
      "text/plain": [
       "dset\n",
       "test     153048\n",
       "val       95604\n",
       "train     44684\n",
       "Name: count, dtype: int64"
      ]
     },
     "execution_count": 7,
     "metadata": {},
     "output_type": "execute_result"
    }
   ],
   "source": [
    "sba_loans['dset'].value_counts()"
   ]
  },
  {
   "cell_type": "code",
   "execution_count": 8,
   "id": "8e65cb7c-792c-46ff-a530-0d5c64240d60",
   "metadata": {},
   "outputs": [],
   "source": [
    "with open(Path(setup.temp_path).joinpath('01_DATA_features.pkl'), 'rb') as fin:\n",
    "    imputer_features = pickle.load(fin)"
   ]
  },
  {
   "cell_type": "code",
   "execution_count": 9,
   "id": "6f0ce28e-a80c-415b-b068-5c4d49370da8",
   "metadata": {},
   "outputs": [
    {
     "data": {
      "text/plain": [
       "{'NAICS': 1170,\n",
       " 'NAICS_5': 764,\n",
       " 'NAICS_4': 345,\n",
       " 'NAICS_3': 107,\n",
       " 'NAICS_sector': 21}"
      ]
     },
     "execution_count": 9,
     "metadata": {},
     "output_type": "execute_result"
    }
   ],
   "source": [
    "with open(Path(setup.temp_path).joinpath('01_DATA_naics_max_encodings.pkl'), 'rb') as fin:\n",
    "    naics_max_levels= pickle.load(fin)\n",
    "naics_max_levels"
   ]
  },
  {
   "cell_type": "markdown",
   "id": "4d4116da-d689-478a-9c5d-a330f231e615",
   "metadata": {},
   "source": [
    "##### Features"
   ]
  },
  {
   "cell_type": "code",
   "execution_count": 10,
   "id": "f98c6e41-38d0-4d5f-b821-e3837b8c2068",
   "metadata": {},
   "outputs": [
    {
     "name": "stdout",
     "output_type": "stream",
     "text": [
      "['NoEmp', 'CreateJob', 'LowDoc', 'DisbursementGross', 'new_business', 'urban_flag', 'franchise_flag', 'missingindicator_LowDoc', 'missingindicator_new_business', 'missingindicator_urban_flag']\n"
     ]
    }
   ],
   "source": [
    "# Numeric features\n",
    "features_numeric = [f for f in imputer_features if 'NAICS' not in f]\n",
    "features_numeric_len = len(features_numeric)\n",
    "print(features_numeric)"
   ]
  },
  {
   "cell_type": "code",
   "execution_count": 11,
   "id": "a74fa386-4011-45ee-bdb5-d671db9ffa91",
   "metadata": {},
   "outputs": [],
   "source": [
    "# NAICS feature \n",
    "features_naics = ['NAICS', 'NAICS_4', 'NAICS_3', 'NAICS_sector']\n",
    "features_naics_max_levels  = [naics_max_levels[n] for n in features_naics]\n",
    "features_naics_emb_dim = [setup.nn_naics_embed_size_dict[n] for n in features_naics]"
   ]
  },
  {
   "cell_type": "code",
   "execution_count": 12,
   "id": "867031ee-8b6e-424d-b497-8e19409ba1d9",
   "metadata": {},
   "outputs": [
    {
     "name": "stdout",
     "output_type": "stream",
     "text": [
      "[1170, 345, 107, 21]\n",
      "[8, 4, 4, 2]\n"
     ]
    }
   ],
   "source": [
    "print(features_naics_max_levels)\n",
    "print(features_naics_emb_dim)"
   ]
  },
  {
   "cell_type": "markdown",
   "id": "b979396c-c822-4940-a292-6e07f1b54f58",
   "metadata": {},
   "source": [
    "##### Datasets for train, validation"
   ]
  },
  {
   "cell_type": "code",
   "execution_count": 13,
   "id": "43bca011-a59d-4496-9f03-87f4e350a253",
   "metadata": {},
   "outputs": [],
   "source": [
    "X = sba_loans[['dset', 'LoanNr_ChkDgt'] + features_numeric].set_index('LoanNr_ChkDgt').sort_index()"
   ]
  },
  {
   "cell_type": "code",
   "execution_count": 14,
   "id": "aa162d01-ed73-4ae3-832e-4aeea09b70f4",
   "metadata": {},
   "outputs": [
    {
     "name": "stdout",
     "output_type": "stream",
     "text": [
      "training X: (44684, 10), y:(44684,)\n"
     ]
    }
   ],
   "source": [
    "X_train = X[X['dset'] == 'train'].drop(columns='dset')\n",
    "y_train = sba_loans[sba_loans['dset'] == 'train'].set_index('LoanNr_ChkDgt').sort_index()['target']\n",
    "print(f'training X: {X_train.shape}, y:{y_train.shape}')"
   ]
  },
  {
   "cell_type": "code",
   "execution_count": 15,
   "id": "b32b5fd3-6f6e-4aec-8e20-0e2b71a4814c",
   "metadata": {},
   "outputs": [
    {
     "name": "stdout",
     "output_type": "stream",
     "text": [
      "val X: (95604, 10), y:(95604,)\n"
     ]
    }
   ],
   "source": [
    "X_val = X[X['dset'] == 'val'].drop(columns='dset')\n",
    "y_val = sba_loans[sba_loans['dset'] == 'val'].set_index('LoanNr_ChkDgt').sort_index()['target']\n",
    "print(f'val X: {X_val.shape}, y:{y_val.shape}')"
   ]
  },
  {
   "cell_type": "code",
   "execution_count": 16,
   "id": "01b8ff96-159b-4283-b5fb-c4b5dbd277d5",
   "metadata": {},
   "outputs": [
    {
     "name": "stdout",
     "output_type": "stream",
     "text": [
      "0.20295855339718916\n"
     ]
    }
   ],
   "source": [
    "base_thresh = y_train.mean()\n",
    "print(base_thresh)"
   ]
  },
  {
   "cell_type": "code",
   "execution_count": 17,
   "id": "1b8ce4c9-6907-4b70-982a-b92a52b3159d",
   "metadata": {},
   "outputs": [],
   "source": [
    "X_naics = [sba_loans[['dset', 'LoanNr_ChkDgt', n]].set_index('LoanNr_ChkDgt').sort_index() \\\n",
    "           for n in features_naics]"
   ]
  },
  {
   "cell_type": "code",
   "execution_count": 18,
   "id": "a6f129e0-a4d0-4d93-9886-153c9803d403",
   "metadata": {},
   "outputs": [],
   "source": [
    "X_naics_train = [Xn[Xn['dset'] == 'train'].drop(columns='dset') for Xn in X_naics]\n",
    "X_naics_val =  [Xn[Xn['dset'] == 'val'].drop(columns='dset') for Xn in X_naics]"
   ]
  },
  {
   "cell_type": "markdown",
   "id": "3db4ea1c-77b2-4721-b106-1e66fc502139",
   "metadata": {},
   "source": [
    "## Create, fit model"
   ]
  },
  {
   "cell_type": "code",
   "execution_count": 19,
   "id": "4d48ddfa-580c-4321-9917-0bd176b67d87",
   "metadata": {},
   "outputs": [
    {
     "name": "stderr",
     "output_type": "stream",
     "text": [
      "2024-05-20 13:47:54.537691: I metal_plugin/src/device/metal_device.cc:1154] Metal device set to: Apple M1\n",
      "2024-05-20 13:47:54.537748: I metal_plugin/src/device/metal_device.cc:296] systemMemory: 16.00 GB\n",
      "2024-05-20 13:47:54.537763: I metal_plugin/src/device/metal_device.cc:313] maxCacheSize: 5.33 GB\n",
      "2024-05-20 13:47:54.537822: I tensorflow/core/common_runtime/pluggable_device/pluggable_device_factory.cc:303] Could not identify NUMA node of platform GPU ID 0, defaulting to 0. Your kernel may not have been built with NUMA support.\n",
      "2024-05-20 13:47:54.537842: I tensorflow/core/common_runtime/pluggable_device/pluggable_device_factory.cc:269] Created TensorFlow device (/job:localhost/replica:0/task:0/device:GPU:0 with 0 MB memory) -> physical PluggableDevice (device: 0, name: METAL, pci bus id: <undefined>)\n"
     ]
    }
   ],
   "source": [
    "this_model = sbnn_model.create_emb_model(features_numeric_len,\n",
    "                                         features_naics_max_levels,\n",
    "                                         features_naics_emb_dim,\n",
    "                                         naics_embedding_names = features_naics,\n",
    "                                         hidden_size = setup.nn_layer_sizes,\n",
    "                                         activation='tanh',\n",
    "                                         lr=setup.nn_learning_rate,\n",
    "                                         opt_func = setup.nn_optimizer,\n",
    "                                         dropout = setup.nn_dropout)"
   ]
  },
  {
   "cell_type": "code",
   "execution_count": 20,
   "id": "47036621-ef13-4957-997b-f8ef86016f7f",
   "metadata": {},
   "outputs": [
    {
     "name": "stdout",
     "output_type": "stream",
     "text": [
      "Model: \"model\"\n",
      "__________________________________________________________________________________________________\n",
      " Layer (type)                Output Shape                 Param #   Connected to                  \n",
      "==================================================================================================\n",
      " input_naics_00 (InputLayer  [(None, 1)]                  0         []                            \n",
      " )                                                                                                \n",
      "                                                                                                  \n",
      " input_naics_01 (InputLayer  [(None, 1)]                  0         []                            \n",
      " )                                                                                                \n",
      "                                                                                                  \n",
      " input_naics_02 (InputLayer  [(None, 1)]                  0         []                            \n",
      " )                                                                                                \n",
      "                                                                                                  \n",
      " input_naics_03 (InputLayer  [(None, 1)]                  0         []                            \n",
      " )                                                                                                \n",
      "                                                                                                  \n",
      " emb_naics_00 (Embedding)    (None, 1, 8)                 9360      ['input_naics_00[0][0]']      \n",
      "                                                                                                  \n",
      " emb_naics_01 (Embedding)    (None, 1, 4)                 1380      ['input_naics_01[0][0]']      \n",
      "                                                                                                  \n",
      " emb_naics_02 (Embedding)    (None, 1, 4)                 428       ['input_naics_02[0][0]']      \n",
      "                                                                                                  \n",
      " emb_naics_03 (Embedding)    (None, 1, 2)                 42        ['input_naics_03[0][0]']      \n",
      "                                                                                                  \n",
      " NAICS (Flatten)             (None, 8)                    0         ['emb_naics_00[0][0]']        \n",
      "                                                                                                  \n",
      " NAICS_4 (Flatten)           (None, 4)                    0         ['emb_naics_01[0][0]']        \n",
      "                                                                                                  \n",
      " NAICS_3 (Flatten)           (None, 4)                    0         ['emb_naics_02[0][0]']        \n",
      "                                                                                                  \n",
      " NAICS_sector (Flatten)      (None, 2)                    0         ['emb_naics_03[0][0]']        \n",
      "                                                                                                  \n",
      " input_numeric (InputLayer)  [(None, 10)]                 0         []                            \n",
      "                                                                                                  \n",
      " input_concat (Concatenate)  (None, 28)                   0         ['NAICS[0][0]',               \n",
      "                                                                     'NAICS_4[0][0]',             \n",
      "                                                                     'NAICS_3[0][0]',             \n",
      "                                                                     'NAICS_sector[0][0]',        \n",
      "                                                                     'input_numeric[0][0]']       \n",
      "                                                                                                  \n",
      " layer_00 (Dense)            (None, 128)                  3712      ['input_concat[0][0]']        \n",
      "                                                                                                  \n",
      " dropout_00 (Dropout)        (None, 128)                  0         ['layer_00[0][0]']            \n",
      "                                                                                                  \n",
      " layer_01 (Dense)            (None, 64)                   8256      ['dropout_00[0][0]']          \n",
      "                                                                                                  \n",
      " dropout_01 (Dropout)        (None, 64)                   0         ['layer_01[0][0]']            \n",
      "                                                                                                  \n",
      " output (Dense)              (None, 1)                    65        ['dropout_01[0][0]']          \n",
      "                                                                                                  \n",
      "==================================================================================================\n",
      "Total params: 23243 (90.79 KB)\n",
      "Trainable params: 23243 (90.79 KB)\n",
      "Non-trainable params: 0 (0.00 Byte)\n",
      "__________________________________________________________________________________________________\n"
     ]
    }
   ],
   "source": [
    "this_model.summary()"
   ]
  },
  {
   "cell_type": "code",
   "execution_count": 21,
   "id": "5b21b5ef-7f75-4708-b8d7-59825d38f601",
   "metadata": {},
   "outputs": [],
   "source": [
    "callback = keras.callbacks.EarlyStopping(patience=3)"
   ]
  },
  {
   "cell_type": "code",
   "execution_count": null,
   "id": "31772016-3643-468b-8d65-c456168cad6e",
   "metadata": {},
   "outputs": [
    {
     "name": "stdout",
     "output_type": "stream",
     "text": [
      "Epoch 1/20\n"
     ]
    },
    {
     "name": "stderr",
     "output_type": "stream",
     "text": [
      "2024-05-20 13:47:56.000263: I tensorflow/core/grappler/optimizers/custom_graph_optimizer_registry.cc:114] Plugin optimizer for device_type GPU is enabled.\n"
     ]
    },
    {
     "name": "stdout",
     "output_type": "stream",
     "text": [
      "1397/1397 [==============================] - ETA: 0s - loss: 0.4830 - auc: 0.2919 - auc_1: 0.6574"
     ]
    },
    {
     "name": "stderr",
     "output_type": "stream",
     "text": [
      "2024-05-20 13:48:40.483158: I tensorflow/core/grappler/optimizers/custom_graph_optimizer_registry.cc:114] Plugin optimizer for device_type GPU is enabled.\n"
     ]
    },
    {
     "name": "stdout",
     "output_type": "stream",
     "text": [
      "1397/1397 [==============================] - 80s 55ms/step - loss: 0.4830 - auc: 0.2919 - auc_1: 0.6574 - val_loss: 0.4628 - val_auc: 0.3412 - val_auc_1: 0.7048\n",
      "Epoch 2/20\n",
      "1397/1397 [==============================] - 78s 56ms/step - loss: 0.4646 - auc: 0.3353 - auc_1: 0.6990 - val_loss: 0.4607 - val_auc: 0.3491 - val_auc_1: 0.7081\n",
      "Epoch 3/20\n",
      "1397/1397 [==============================] - ETA: 0s - loss: 0.4591 - auc: 0.3481 - auc_1: 0.7104"
     ]
    }
   ],
   "source": [
    "this_history = this_model.fit([X_train] + X_naics_train, y_train,\n",
    "                              validation_data=([X_val] + X_naics_val, y_val),\n",
    "                              batch_size=setup.nn_batch_size,\n",
    "                              epochs=setup.nn_epochs,\n",
    "                              callbacks=[callback])"
   ]
  },
  {
   "cell_type": "code",
   "execution_count": null,
   "id": "460c4b43-c673-4ee1-b070-d2d596ac4561",
   "metadata": {},
   "outputs": [],
   "source": [
    "this_history_df = sbnn_model.process_history(this_history)"
   ]
  },
  {
   "cell_type": "code",
   "execution_count": null,
   "id": "ad4783f2-8d0b-4850-a45a-3a4be8e63318",
   "metadata": {},
   "outputs": [],
   "source": [
    "this_history_df.to_csv(Path(setup.temp_path).joinpath('23_REPORT_fit_history.csv'))"
   ]
  },
  {
   "cell_type": "code",
   "execution_count": null,
   "id": "73e89efd-75a9-4b27-81a8-13e12d5482be",
   "metadata": {},
   "outputs": [],
   "source": [
    "this_history_df[['loss', 'val_loss']].plot()"
   ]
  },
  {
   "cell_type": "code",
   "execution_count": null,
   "id": "2342a31f-4891-4834-851a-b90b8b729c3c",
   "metadata": {},
   "outputs": [],
   "source": [
    "this_history_df[['auc', 'val_auc']].plot()"
   ]
  },
  {
   "cell_type": "code",
   "execution_count": null,
   "id": "cee80637-cabf-4974-b476-08c5fba165ff",
   "metadata": {},
   "outputs": [],
   "source": [
    "this_history_df[['auc_roc', 'val_auc_roc']].plot()"
   ]
  },
  {
   "cell_type": "code",
   "execution_count": null,
   "id": "e184b0ca-1d31-4798-88a0-4e590b67062e",
   "metadata": {},
   "outputs": [],
   "source": [
    "this_model.save(Path(setup.temp_path).joinpath('23_DATA_model.keras'),save_format='tf')"
   ]
  },
  {
   "cell_type": "markdown",
   "id": "d326c9ea-4759-4418-a64d-56c151049c25",
   "metadata": {},
   "source": [
    "## Predictions on all data"
   ]
  },
  {
   "cell_type": "code",
   "execution_count": null,
   "id": "d5c39a5a-dc19-4606-b744-34865bc6c5c5",
   "metadata": {},
   "outputs": [],
   "source": [
    "X_naics = [sba_loans[['dset', 'LoanNr_ChkDgt', n]].set_index('LoanNr_ChkDgt').sort_index() \\\n",
    "           for n in features_naics]"
   ]
  },
  {
   "cell_type": "code",
   "execution_count": null,
   "id": "cd6910ee-5ffe-4def-9aa8-7dba76446b08",
   "metadata": {},
   "outputs": [],
   "source": [
    "all_predictions = this_model.predict([X.drop(columns='dset')] +\n",
    "                                     [Xn.drop(columns='dset') for Xn in X_naics])"
   ]
  },
  {
   "cell_type": "code",
   "execution_count": null,
   "id": "98a2cce1-b7d3-4ebc-8869-80705297e145",
   "metadata": {},
   "outputs": [],
   "source": [
    "all_predictions_df = pd.DataFrame(all_predictions, index=X.index) \\\n",
    "    .set_axis(['predict_prob'], axis=1) \\\n",
    "    .reset_index() \\\n",
    "    .merge(sba_loans[['target', 'LoanNr_ChkDgt', 'dset', 'dset_naics_holdout', 'NAICS']], \n",
    "           on='LoanNr_ChkDgt')"
   ]
  },
  {
   "cell_type": "code",
   "execution_count": null,
   "id": "3fc7da9c-6bd2-4d1b-b77f-b62679825d5d",
   "metadata": {},
   "outputs": [],
   "source": [
    "all_predictions_df[['predict_prob', 'target']].corr(method='spearman')"
   ]
  },
  {
   "cell_type": "markdown",
   "id": "e79afc4e-cb67-4064-9b19-dc52500baef2",
   "metadata": {},
   "source": [
    "##### Threshold Tune & Binary Predictions\n",
    "Using training probability predictions"
   ]
  },
  {
   "cell_type": "code",
   "execution_count": null,
   "id": "ccd0bc23-fbc0-40d0-8d8b-f2302405a875",
   "metadata": {},
   "outputs": [],
   "source": [
    "all_pred_train = all_predictions_df[all_predictions_df['dset'] == 'train']"
   ]
  },
  {
   "cell_type": "code",
   "execution_count": null,
   "id": "df36d9e9-f35e-46b3-a5be-08081f998319",
   "metadata": {},
   "outputs": [],
   "source": [
    "thresh_tune_data = sbnn_metrics.get_f1_frame(all_pred_train['target'], \n",
    "                                        all_pred_train['predict_prob'])"
   ]
  },
  {
   "cell_type": "code",
   "execution_count": null,
   "id": "de634156-caf6-4a52-b5d7-44b8e986aa1d",
   "metadata": {},
   "outputs": [],
   "source": [
    "thresh_tune_data.sort_values('f1', ascending=False, inplace=True)\n",
    "thresh_tune_data.head(3)"
   ]
  },
  {
   "cell_type": "code",
   "execution_count": null,
   "id": "c746b880-d781-4bc1-9df2-89211127c22a",
   "metadata": {},
   "outputs": [],
   "source": [
    "best_thresh = thresh_tune_data['thresh'].iloc[0]\n",
    "best_thresh"
   ]
  },
  {
   "cell_type": "markdown",
   "id": "3c0ac5e2-be0d-42f0-960d-1f81b4a5d4e2",
   "metadata": {},
   "source": [
    "##### Append binary predictions to probability predictions"
   ]
  },
  {
   "cell_type": "code",
   "execution_count": null,
   "id": "641da72e-1bca-4fe7-96c4-6c029b521bd7",
   "metadata": {},
   "outputs": [],
   "source": [
    "all_predictions_df['predict_bin'] = sbnn_metrics.get_binary_predictions(all_predictions_df['predict_prob'], best_thresh)"
   ]
  },
  {
   "cell_type": "code",
   "execution_count": null,
   "id": "9f6ecdf4-ac01-4c39-8315-e8583daa337e",
   "metadata": {},
   "outputs": [],
   "source": [
    "all_predictions_df['predict_bin'].value_counts(normalize=True, dropna=False)"
   ]
  },
  {
   "cell_type": "code",
   "execution_count": null,
   "id": "cbfed830-7ff8-40f6-a691-6b894b26d6bc",
   "metadata": {},
   "outputs": [],
   "source": [
    "all_predictions_df.to_parquet(Path(setup.temp_path).joinpath('23_DATA_predictions.parquet'))"
   ]
  },
  {
   "cell_type": "markdown",
   "id": "eb0ecbd2-abff-46d8-8c70-f7bccd363b69",
   "metadata": {},
   "source": [
    "## Metrics"
   ]
  },
  {
   "cell_type": "code",
   "execution_count": null,
   "id": "be4ceefe-c7a8-45bd-8573-2daefe99a1c2",
   "metadata": {},
   "outputs": [],
   "source": [
    "metrics_dset_df = all_predictions_df.groupby('dset') \\\n",
    "    .apply(lambda x: sbnn_metrics.dset_metrics(x.target, x.predict_bin, x.predict_prob)) \\\n",
    "    .reset_index()\n",
    "metrics_test_df = all_predictions_df[all_predictions_df['dset'] == 'test'] \\\n",
    "    .groupby(['dset', 'dset_naics_holdout']) \\\n",
    "    .apply(lambda x: sbnn_metrics.dset_metrics(x.target, x.predict_bin, x.predict_prob)) \\\n",
    "    .reset_index()\n",
    "metrics_df = pd.concat([metrics_dset_df, metrics_test_df])\n",
    "metrics_df.to_csv(Path(setup.temp_path).joinpath('23_REPORT_metrics.csv'), index=True)\n",
    "metrics_df"
   ]
  },
  {
   "cell_type": "code",
   "execution_count": null,
   "id": "52e382b5-e9dc-47a1-9bf4-6d0b6b4a0c61",
   "metadata": {},
   "outputs": [],
   "source": []
  }
 ],
 "metadata": {
  "kernelspec": {
   "display_name": "tf_p39",
   "language": "python",
   "name": "tf_p39"
  },
  "language_info": {
   "codemirror_mode": {
    "name": "ipython",
    "version": 3
   },
   "file_extension": ".py",
   "mimetype": "text/x-python",
   "name": "python",
   "nbconvert_exporter": "python",
   "pygments_lexer": "ipython3",
   "version": "3.8.18"
  }
 },
 "nbformat": 4,
 "nbformat_minor": 5
}
