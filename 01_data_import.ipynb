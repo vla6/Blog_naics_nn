{
 "cells": [
  {
   "cell_type": "code",
   "execution_count": 1,
   "id": "4c4452b4-2520-4748-bd6d-2ae484e70b16",
   "metadata": {},
   "outputs": [],
   "source": [
    "# Modify the file 00_setup.py to define input/output file paths on your system\n",
    "# The information in 00_setup.py will be used across notebooks\n",
    "from importlib.machinery import SourceFileLoader\n",
    "setup = SourceFileLoader(\"setup\", \"./00_setup.py\").load_module()"
   ]
  },
  {
   "cell_type": "markdown",
   "id": "a595d38b-794b-4317-b39f-58da027df783",
   "metadata": {},
   "source": [
    "# Data Import\n",
    " * Import data\n",
    " * Feature processing\n",
    " * Scaling/imputation for neural networks"
   ]
  },
  {
   "cell_type": "markdown",
   "id": "f5cfeb88-9b8e-44e6-91ba-61b54b6fca52",
   "metadata": {},
   "source": [
    "This uses the same dataset as [Exploring Hierarchical Blending in Target Encoding](https://medium.com/towards-data-science/exploring-hierarchical-blending-in-target-encoding-fea4c59b305b).  See the repository https://github.com/vla6/Blog_gnn_naics"
   ]
  },
  {
   "cell_type": "markdown",
   "id": "3a01a85e-5401-4703-a665-361934e75105",
   "metadata": {},
   "source": [
    "I will create two datasets - one with missing NAICS, and one without"
   ]
  },
  {
   "cell_type": "markdown",
   "id": "6e6da1d7-27bc-40dc-bf59-4062c143c508",
   "metadata": {},
   "source": [
    "*This script takes about 1 minute on my MacBook Air*"
   ]
  },
  {
   "cell_type": "code",
   "execution_count": 2,
   "id": "5f2f4da8-290e-4287-ba3c-eef1dfb093f8",
   "metadata": {},
   "outputs": [],
   "source": [
    "import pandas as pd\n",
    "import numpy as np\n",
    "import re, pickle, importlib\n",
    "import matplotlib.pyplot as plt"
   ]
  },
  {
   "cell_type": "code",
   "execution_count": 3,
   "id": "71df4185-bc4e-404b-a2df-6e58259b2381",
   "metadata": {},
   "outputs": [],
   "source": [
    "from pathlib import Path\n",
    "from sklearn.model_selection import train_test_split"
   ]
  },
  {
   "cell_type": "code",
   "execution_count": 4,
   "id": "b0e5e8fb-a643-46c9-875b-aa6dff9ae4a1",
   "metadata": {},
   "outputs": [],
   "source": [
    "# Imputer object for easy dataset conversion to NN friendly format\n",
    "from sba_nn.sba_nn import sbnn_imputer \n",
    "from sba_nn.sba_nn.sbnn_imputer import NNImputer"
   ]
  },
  {
   "cell_type": "markdown",
   "id": "55ec3482-660d-4f05-9f80-2086668d6768",
   "metadata": {},
   "source": [
    "## Import Data"
   ]
  },
  {
   "cell_type": "markdown",
   "id": "011691b5-499f-4028-9256-0983494975b7",
   "metadata": {},
   "source": [
    "##### Loans Data - See README.md"
   ]
  },
  {
   "cell_type": "code",
   "execution_count": 5,
   "id": "92bd280f-377e-4e47-8f83-331c8eca3768",
   "metadata": {},
   "outputs": [],
   "source": [
    "sba_loans = pd.read_csv(setup.input_path,  dtype=setup.input_dtypes, \n",
    "                        parse_dates = setup.input_dates, date_format='%d-%b-%y',\n",
    "                        converters = setup.input_converters)"
   ]
  },
  {
   "cell_type": "markdown",
   "id": "0a808c1c-a3ba-47ea-83d0-3a9effb6d632",
   "metadata": {},
   "source": [
    "##### NAICS map"
   ]
  },
  {
   "cell_type": "code",
   "execution_count": 6,
   "id": "64d438ee-0337-436d-9c24-7b6b384b2d3b",
   "metadata": {},
   "outputs": [],
   "source": [
    "naics_map = pd.read_csv('naics/naics_map.csv', dtype='str', encoding='latin1' ) \\\n",
    "    .rename(columns={'Sector': 'NAICS_sector',\n",
    "                     'Description': 'NAICS_sector_desc'})"
   ]
  },
  {
   "cell_type": "code",
   "execution_count": 7,
   "id": "e5bb4b30-0de5-4454-a189-295d0797970e",
   "metadata": {},
   "outputs": [],
   "source": [
    "naics_map[['NAICS_sector', 'NAICS_sector_desc']] = naics_map[['NAICS_sector', 'NAICS_sector_desc']] \\\n",
    "    .apply(lambda x: x.astype('category'))"
   ]
  },
  {
   "cell_type": "code",
   "execution_count": 8,
   "id": "263feb13-868a-4aeb-b0c1-9ce671681c77",
   "metadata": {},
   "outputs": [
    {
     "data": {
      "text/html": [
       "<div>\n",
       "<style scoped>\n",
       "    .dataframe tbody tr th:only-of-type {\n",
       "        vertical-align: middle;\n",
       "    }\n",
       "\n",
       "    .dataframe tbody tr th {\n",
       "        vertical-align: top;\n",
       "    }\n",
       "\n",
       "    .dataframe thead th {\n",
       "        text-align: right;\n",
       "    }\n",
       "</style>\n",
       "<table border=\"1\" class=\"dataframe\">\n",
       "  <thead>\n",
       "    <tr style=\"text-align: right;\">\n",
       "      <th></th>\n",
       "      <th>NAICS_sector</th>\n",
       "      <th>NAICS_2</th>\n",
       "      <th>NAICS_sector_desc</th>\n",
       "    </tr>\n",
       "  </thead>\n",
       "  <tbody>\n",
       "    <tr>\n",
       "      <th>0</th>\n",
       "      <td>11</td>\n",
       "      <td>11</td>\n",
       "      <td>Agriculture, Forestry, Fishing and Hunting</td>\n",
       "    </tr>\n",
       "    <tr>\n",
       "      <th>1</th>\n",
       "      <td>21</td>\n",
       "      <td>21</td>\n",
       "      <td>Mining, Quarrying, and Oil and Gas Extraction</td>\n",
       "    </tr>\n",
       "    <tr>\n",
       "      <th>2</th>\n",
       "      <td>22</td>\n",
       "      <td>22</td>\n",
       "      <td>Utilities</td>\n",
       "    </tr>\n",
       "    <tr>\n",
       "      <th>3</th>\n",
       "      <td>23</td>\n",
       "      <td>23</td>\n",
       "      <td>Construction</td>\n",
       "    </tr>\n",
       "    <tr>\n",
       "      <th>4</th>\n",
       "      <td>31-33</td>\n",
       "      <td>31</td>\n",
       "      <td>Manufacturing</td>\n",
       "    </tr>\n",
       "  </tbody>\n",
       "</table>\n",
       "</div>"
      ],
      "text/plain": [
       "  NAICS_sector NAICS_2                              NAICS_sector_desc\n",
       "0           11      11     Agriculture, Forestry, Fishing and Hunting\n",
       "1           21      21  Mining, Quarrying, and Oil and Gas Extraction\n",
       "2           22      22                                      Utilities\n",
       "3           23      23                                   Construction\n",
       "4        31-33      31                                  Manufacturing"
      ]
     },
     "execution_count": 8,
     "metadata": {},
     "output_type": "execute_result"
    }
   ],
   "source": [
    "naics_map.head(5)"
   ]
  },
  {
   "cell_type": "markdown",
   "id": "9e9ff1b1-14e8-4a29-8e49-0c1ea957a556",
   "metadata": {},
   "source": [
    "##### All NAICS Descriptions (2007)"
   ]
  },
  {
   "cell_type": "code",
   "execution_count": 9,
   "id": "8f59f87c-6504-4f80-8bfc-27b2b1ac6a2f",
   "metadata": {},
   "outputs": [],
   "source": [
    "naics_desc = pd.read_csv('naics/naics_2007.csv', dtype='str', encoding='latin1' ) \\\n",
    "    .rename(columns={'INDEX ITEM DESCRIPTION': 'NAICS07_desc'})"
   ]
  },
  {
   "cell_type": "code",
   "execution_count": 10,
   "id": "99e3ed44-ad92-4ca0-87bf-8035153c65a8",
   "metadata": {},
   "outputs": [
    {
     "data": {
      "text/html": [
       "<div>\n",
       "<style scoped>\n",
       "    .dataframe tbody tr th:only-of-type {\n",
       "        vertical-align: middle;\n",
       "    }\n",
       "\n",
       "    .dataframe tbody tr th {\n",
       "        vertical-align: top;\n",
       "    }\n",
       "\n",
       "    .dataframe thead th {\n",
       "        text-align: right;\n",
       "    }\n",
       "</style>\n",
       "<table border=\"1\" class=\"dataframe\">\n",
       "  <thead>\n",
       "    <tr style=\"text-align: right;\">\n",
       "      <th></th>\n",
       "      <th>NAICS07</th>\n",
       "      <th>NAICS07_desc</th>\n",
       "    </tr>\n",
       "  </thead>\n",
       "  <tbody>\n",
       "    <tr>\n",
       "      <th>3236</th>\n",
       "      <td>312140</td>\n",
       "      <td>Blending distilled beverages (except brandy)</td>\n",
       "    </tr>\n",
       "    <tr>\n",
       "      <th>3294</th>\n",
       "      <td>313112</td>\n",
       "      <td>Beaming yarn</td>\n",
       "    </tr>\n",
       "    <tr>\n",
       "      <th>4853</th>\n",
       "      <td>316991</td>\n",
       "      <td>Valises, all materials, manufacturing</td>\n",
       "    </tr>\n",
       "    <tr>\n",
       "      <th>10835</th>\n",
       "      <td>334513</td>\n",
       "      <td>Differential pressure instruments, industrial ...</td>\n",
       "    </tr>\n",
       "  </tbody>\n",
       "</table>\n",
       "</div>"
      ],
      "text/plain": [
       "      NAICS07                                       NAICS07_desc\n",
       "3236   312140       Blending distilled beverages (except brandy)\n",
       "3294   313112                                       Beaming yarn\n",
       "4853   316991              Valises, all materials, manufacturing\n",
       "10835  334513  Differential pressure instruments, industrial ..."
      ]
     },
     "execution_count": 10,
     "metadata": {},
     "output_type": "execute_result"
    }
   ],
   "source": [
    "naics_desc.sample(4)"
   ]
  },
  {
   "cell_type": "code",
   "execution_count": 11,
   "id": "d9a27425-5c8a-4b5a-bc63-442a1cacbc7a",
   "metadata": {},
   "outputs": [],
   "source": [
    "naics_desc.to_parquet(Path(setup.temp_path).joinpath('01_DATA_naics07_descriptions.parquet'))"
   ]
  },
  {
   "cell_type": "markdown",
   "id": "0d66da81-4a2a-4fb1-a7cc-21ee365fbe94",
   "metadata": {},
   "source": [
    "## Process Target"
   ]
  },
  {
   "cell_type": "markdown",
   "id": "148af406-beb1-41b9-91ef-4286d1ed0c97",
   "metadata": {},
   "source": [
    "##### Create the target feature (0/1) that indicates a default"
   ]
  },
  {
   "cell_type": "code",
   "execution_count": 12,
   "id": "9b90d38b-21f6-449d-8b05-bf529aada245",
   "metadata": {},
   "outputs": [],
   "source": [
    "# The loans with unknown MIS Status are a small count, most don't have charge-off dates but some do\n",
    "# Drop these rows as they are ambiguous and small volume\n",
    "sba_loans = sba_loans[~sba_loans['MIS_Status'].isna()]"
   ]
  },
  {
   "cell_type": "code",
   "execution_count": 13,
   "id": "bafa5a82-2ef2-4e89-9f64-2c5c3fe31e2c",
   "metadata": {},
   "outputs": [],
   "source": [
    "# Create a binary feature for the remaining loans\n",
    "sba_loans['target'] = np.where(sba_loans['MIS_Status'] == 'P I F', 0, 1)"
   ]
  },
  {
   "cell_type": "code",
   "execution_count": 14,
   "id": "42677d14-e9ae-45dc-82c8-6e3e0862fcce",
   "metadata": {},
   "outputs": [
    {
     "data": {
      "text/plain": [
       "target\n",
       "0    0.824383\n",
       "1    0.175617\n",
       "Name: proportion, dtype: float64"
      ]
     },
     "execution_count": 14,
     "metadata": {},
     "output_type": "execute_result"
    }
   ],
   "source": [
    "sba_loans['target'].value_counts(dropna=False, normalize=True)"
   ]
  },
  {
   "cell_type": "markdown",
   "id": "b18d6996-5869-4d1e-95f6-31296b844ba5",
   "metadata": {},
   "source": [
    "## Predictor Features - Basic Processing"
   ]
  },
  {
   "cell_type": "markdown",
   "id": "bcc718e2-dea0-45f1-909c-5b9c71dccd69",
   "metadata": {},
   "source": [
    "##### Convert approval year to a date"
   ]
  },
  {
   "cell_type": "code",
   "execution_count": 15,
   "id": "31e56ed8-1f26-4962-9153-e98d3aad1576",
   "metadata": {},
   "outputs": [
    {
     "data": {
      "text/plain": [
       "count    897167.000000\n",
       "mean       2001.139677\n",
       "std           5.912461\n",
       "min        1966.000000\n",
       "25%        1997.000000\n",
       "50%        2002.000000\n",
       "75%        2006.000000\n",
       "max        2014.000000\n",
       "Name: ApprovalFY, dtype: float64"
      ]
     },
     "execution_count": 15,
     "metadata": {},
     "output_type": "execute_result"
    }
   ],
   "source": [
    "sba_loans['ApprovalFY'] = sba_loans['ApprovalFY'].str[0:4].astype('int')\n",
    "sba_loans['ApprovalFY'].describe()"
   ]
  },
  {
   "cell_type": "markdown",
   "id": "7335c704-c6b5-4532-8bf1-a6e4095be493",
   "metadata": {},
   "source": [
    "##### Express SBA guaranteed amount as a fraction"
   ]
  },
  {
   "cell_type": "code",
   "execution_count": 16,
   "id": "dd41e8b8-ec3e-44be-bfc0-405e12a7079e",
   "metadata": {},
   "outputs": [],
   "source": [
    "sba_loans['guaranteed_fract'] = sba_loans['SBA_Appv']/sba_loans['GrAppv']"
   ]
  },
  {
   "cell_type": "markdown",
   "id": "52a5471d-3bf5-4a55-ae1e-23e7b2445dda",
   "metadata": {},
   "source": [
    "##### Convert Y/N binary columns"
   ]
  },
  {
   "cell_type": "code",
   "execution_count": 17,
   "id": "26147177-a6c4-4859-bf9f-604a454e2e55",
   "metadata": {},
   "outputs": [],
   "source": [
    "# Function to convert 'Y','N' columns\n",
    "def convert_yn(ser):\n",
    "    cond = [ser.isna(), ser.str.lower() == 'y', ser.str.lower() == 'n']\n",
    "    choice =[np.nan, 1, 0]\n",
    "    return np.select(cond, choice, np.nan)"
   ]
  },
  {
   "cell_type": "code",
   "execution_count": 18,
   "id": "9a48efb6-c62c-428c-805c-5c207526dd0d",
   "metadata": {},
   "outputs": [
    {
     "data": {
      "text/plain": [
       "RevLineCr\n",
       "0.0    419252\n",
       "NaN    277255\n",
       "1.0    200660\n",
       "Name: count, dtype: int64"
      ]
     },
     "execution_count": 18,
     "metadata": {},
     "output_type": "execute_result"
    }
   ],
   "source": [
    "sba_loans['RevLineCr'] = convert_yn(sba_loans['RevLineCr'])\n",
    "sba_loans['RevLineCr'].value_counts(dropna=False)"
   ]
  },
  {
   "cell_type": "code",
   "execution_count": 19,
   "id": "84533b48-e087-40c0-b6d6-d5e99db3a7ca",
   "metadata": {},
   "outputs": [
    {
     "data": {
      "text/plain": [
       "LowDoc\n",
       "0.0    780997\n",
       "1.0    110171\n",
       "NaN      5999\n",
       "Name: count, dtype: int64"
      ]
     },
     "execution_count": 19,
     "metadata": {},
     "output_type": "execute_result"
    }
   ],
   "source": [
    "sba_loans['LowDoc'] = convert_yn(sba_loans['LowDoc'])\n",
    "sba_loans['LowDoc'].value_counts(dropna=False)"
   ]
  },
  {
   "cell_type": "markdown",
   "id": "ea03e207-8ada-4a77-a1c6-5b3aec4f8d43",
   "metadata": {},
   "source": [
    "##### New/existing business"
   ]
  },
  {
   "cell_type": "code",
   "execution_count": 20,
   "id": "b2371a5d-5458-4271-8a0c-2f2f41314a42",
   "metadata": {},
   "outputs": [],
   "source": [
    "cond = [sba_loans['NewExist'].isna(), sba_loans['NewExist'] == '1', sba_loans['NewExist'] == '2']\n",
    "choice = [np.nan, 0, 1]\n",
    "sba_loans['new_business'] = np.select(cond, choice, np.nan)"
   ]
  },
  {
   "cell_type": "markdown",
   "id": "db6edd03-4ac5-4b1a-89a2-a4ffd80ff1bf",
   "metadata": {},
   "source": [
    "##### Urban/Rural"
   ]
  },
  {
   "cell_type": "code",
   "execution_count": 21,
   "id": "59595a8c-1cd0-4ec4-9b54-ea727a660cc0",
   "metadata": {},
   "outputs": [
    {
     "data": {
      "text/plain": [
       "UrbanRural\n",
       "1    469281\n",
       "0    322826\n",
       "2    105060\n",
       "Name: count, dtype: int64"
      ]
     },
     "execution_count": 21,
     "metadata": {},
     "output_type": "execute_result"
    }
   ],
   "source": [
    "sba_loans['UrbanRural'].value_counts(dropna=False)"
   ]
  },
  {
   "cell_type": "code",
   "execution_count": 22,
   "id": "b1cd1f53-0af7-490b-8ebb-6c46067c1f54",
   "metadata": {},
   "outputs": [],
   "source": [
    "cond = [sba_loans['UrbanRural'].isna(), sba_loans['UrbanRural'] == '1', sba_loans['UrbanRural'] == '2']\n",
    "choice = [np.nan, 1, 0]\n",
    "sba_loans['urban_flag'] = np.select(cond, choice, np.nan)"
   ]
  },
  {
   "cell_type": "markdown",
   "id": "e551258b-cb89-4b25-9f1d-2f479f3daf7a",
   "metadata": {},
   "source": [
    "##### Franchise flag"
   ]
  },
  {
   "cell_type": "code",
   "execution_count": 23,
   "id": "b1f98f05",
   "metadata": {},
   "outputs": [],
   "source": [
    "cond = [sba_loans['FranchiseCode'].isna(), sba_loans['FranchiseCode'].isin(['1', '0', '00000', '00001'])]\n",
    "choice = [np.nan, 0]\n",
    "sba_loans['franchise_flag'] = np.select(cond, choice, 1)"
   ]
  },
  {
   "cell_type": "markdown",
   "id": "cab99b14-ce12-4df8-b74c-2294eff2d7e8",
   "metadata": {},
   "source": [
    "## NAICS"
   ]
  },
  {
   "cell_type": "markdown",
   "id": "c05112e4-c517-4c5c-ad38-80f8dfb7502a",
   "metadata": {},
   "source": [
    "I use 2007 NAICS definitions as this data spans a range of timeframes, with median ~2009; however this one vintage may not perfectly reflect the data. See also https://www.census.gov/naics/?48967"
   ]
  },
  {
   "cell_type": "markdown",
   "id": "232fa961-261b-44a2-a817-e11f103f6159",
   "metadata": {},
   "source": [
    "##### Clean up"
   ]
  },
  {
   "cell_type": "code",
   "execution_count": 24,
   "id": "b6fe6c65-78d8-499d-bf08-a85e9f6efbc4",
   "metadata": {},
   "outputs": [
    {
     "data": {
      "text/plain": [
       "NAICS\n",
       "NaN       201667\n",
       "722110     27941\n",
       "722211     19435\n",
       "811111     14539\n",
       "621210     14034\n",
       "           ...  \n",
       "212231         1\n",
       "925120         1\n",
       "524192         1\n",
       "311351         1\n",
       "333241         1\n",
       "Name: count, Length: 1312, dtype: int64"
      ]
     },
     "execution_count": 24,
     "metadata": {},
     "output_type": "execute_result"
    }
   ],
   "source": [
    "# Make '0' NAICS NA\n",
    "sba_loans['NAICS'] = sba_loans['NAICS'].where(sba_loans['NAICS'] != '0', np.nan)\n",
    "sba_loans['NAICS'].value_counts(dropna=False)"
   ]
  },
  {
   "cell_type": "code",
   "execution_count": 25,
   "id": "8e625a1a-160b-462c-8b2c-16219a1794d0",
   "metadata": {},
   "outputs": [
    {
     "data": {
      "text/plain": [
       "NAICS\n",
       "6.0    695500\n",
       "Name: count, dtype: int64"
      ]
     },
     "execution_count": 25,
     "metadata": {},
     "output_type": "execute_result"
    }
   ],
   "source": [
    "# Length of remaining codes\n",
    "sba_loans['NAICS'].str.len().value_counts()\n",
    "# They all have the right number of digits!"
   ]
  },
  {
   "cell_type": "markdown",
   "id": "db697475-6dfb-453c-9d0b-2676181594cd",
   "metadata": {},
   "source": [
    "##### Add the NAICS hierarcy information"
   ]
  },
  {
   "cell_type": "code",
   "execution_count": 26,
   "id": "9b1ccddc-f1b1-473b-b961-5a0bcac1385d",
   "metadata": {},
   "outputs": [],
   "source": [
    "sba_loans['NAICS_2'] = sba_loans['NAICS'].str[0:2]\n",
    "sba_loans['NAICS_3'] = sba_loans['NAICS'].str[0:3]\n",
    "sba_loans['NAICS_4'] = sba_loans['NAICS'].str[0:4]\n",
    "sba_loans['NAICS_5'] = sba_loans['NAICS'].str[0:5]"
   ]
  },
  {
   "cell_type": "code",
   "execution_count": 27,
   "id": "aab7ec66-eea1-48ce-8dc0-7f4d0c9c8635",
   "metadata": {},
   "outputs": [],
   "source": [
    "sba_loans = sba_loans \\\n",
    "    .drop(columns=['NAICS_sector', 'NAICS_sector_desc'], errors='ignore') \\\n",
    "    .merge(naics_map, on='NAICS_2', how='left')"
   ]
  },
  {
   "cell_type": "markdown",
   "id": "4820a756-110f-4710-8f21-e4b12c95797a",
   "metadata": {
    "tags": []
   },
   "source": [
    "## Missingness\n",
    "Quick plot showing that missing NAICS are mostly older loans"
   ]
  },
  {
   "cell_type": "code",
   "execution_count": 28,
   "id": "5c08a978-10e4-4b60-b7f5-5e424b51ccd7",
   "metadata": {},
   "outputs": [],
   "source": [
    "sba_loans['missing_NAICS'] = np.where(sba_loans['NAICS'].isna(), 1, 0)"
   ]
  },
  {
   "cell_type": "code",
   "execution_count": 29,
   "id": "67a1bf93-2aaa-41df-ae69-9e73a20de19f",
   "metadata": {},
   "outputs": [
    {
     "data": {
      "text/html": [
       "<div>\n",
       "<style scoped>\n",
       "    .dataframe tbody tr th:only-of-type {\n",
       "        vertical-align: middle;\n",
       "    }\n",
       "\n",
       "    .dataframe tbody tr th {\n",
       "        vertical-align: top;\n",
       "    }\n",
       "\n",
       "    .dataframe thead th {\n",
       "        text-align: right;\n",
       "    }\n",
       "</style>\n",
       "<table border=\"1\" class=\"dataframe\">\n",
       "  <thead>\n",
       "    <tr style=\"text-align: right;\">\n",
       "      <th></th>\n",
       "      <th>median</th>\n",
       "      <th>mean</th>\n",
       "      <th>min</th>\n",
       "      <th>max</th>\n",
       "    </tr>\n",
       "    <tr>\n",
       "      <th>missing_NAICS</th>\n",
       "      <th></th>\n",
       "      <th></th>\n",
       "      <th></th>\n",
       "      <th></th>\n",
       "    </tr>\n",
       "  </thead>\n",
       "  <tbody>\n",
       "    <tr>\n",
       "      <th>0</th>\n",
       "      <td>2004.0</td>\n",
       "      <td>2003.018242</td>\n",
       "      <td>1984</td>\n",
       "      <td>2014</td>\n",
       "    </tr>\n",
       "    <tr>\n",
       "      <th>1</th>\n",
       "      <td>1995.0</td>\n",
       "      <td>1994.660971</td>\n",
       "      <td>1966</td>\n",
       "      <td>2010</td>\n",
       "    </tr>\n",
       "  </tbody>\n",
       "</table>\n",
       "</div>"
      ],
      "text/plain": [
       "               median         mean   min   max\n",
       "missing_NAICS                                 \n",
       "0              2004.0  2003.018242  1984  2014\n",
       "1              1995.0  1994.660971  1966  2010"
      ]
     },
     "execution_count": 29,
     "metadata": {},
     "output_type": "execute_result"
    }
   ],
   "source": [
    "sba_loans.groupby('missing_NAICS')['ApprovalFY'].agg(['median', 'mean', 'min', 'max'])"
   ]
  },
  {
   "cell_type": "code",
   "execution_count": 30,
   "id": "218d33c0-b720-4160-97ad-9bd292a0c31f",
   "metadata": {},
   "outputs": [
    {
     "data": {
      "image/png": "[encoded data removed]",
      "text/plain": [
       "<Figure size 500x300 with 1 Axes>"
      ]
     },
     "metadata": {},
     "output_type": "display_data"
    }
   ],
   "source": [
    "# Plot NAICS missingness\n",
    "fig, ax = plt.subplots(figsize = (5, 3))\n",
    "sba_loans.groupby('ApprovalFY')['missing_NAICS'].agg('mean').plot(ax = ax)\n",
    "ax.set_ylabel('% missing NAICS')\n",
    "plt.gcf().savefig(Path(setup.temp_path).joinpath('01_PLOT_loan_year_NAICS_missing.png'),bbox_inches='tight')"
   ]
  },
  {
   "cell_type": "code",
   "execution_count": 31,
   "id": "f137341b-3faa-437b-b10d-04b5eb4153db",
   "metadata": {},
   "outputs": [
    {
     "data": {
      "image/png": "[encoded data removed]",
      "text/plain": [
       "<Figure size 500x300 with 1 Axes>"
      ]
     },
     "metadata": {},
     "output_type": "display_data"
    }
   ],
   "source": [
    "# Plot target rate\n",
    "fig, ax = plt.subplots(figsize = (5, 3))\n",
    "sba_loans.groupby('ApprovalFY')['target'].agg('mean').plot(ax = ax)\n",
    "ax.set_ylabel('target rate')\n",
    "plt.gcf().savefig(Path(setup.temp_path).joinpath('01_PLOT_loan_year_target_rate.png'),bbox_inches='tight')"
   ]
  },
  {
   "cell_type": "code",
   "execution_count": 32,
   "id": "77cc6700-c4b9-4421-ba82-42f353064ffe",
   "metadata": {},
   "outputs": [
    {
     "data": {
      "image/png": "[encoded data removed]",
      "text/plain": [
       "<Figure size 500x300 with 1 Axes>"
      ]
     },
     "metadata": {},
     "output_type": "display_data"
    }
   ],
   "source": [
    "# Plot loan count\n",
    "# Plot NAICS missingness\n",
    "fig, ax = plt.subplots(figsize = (5, 3))\n",
    "sba_loans.groupby('ApprovalFY')['target'].agg('count').plot(ax = ax)\n",
    "ax.set_ylabel('loan count')\n",
    "plt.gcf().savefig(Path(setup.temp_path).joinpath('01_PLOT_loan_year_counts.png'),bbox_inches='tight')"
   ]
  },
  {
   "cell_type": "markdown",
   "id": "7cb97446-4b87-4d0d-a12b-4246c3d66de3",
   "metadata": {},
   "source": [
    "Loans prior to 1990 are rare and also have super high default rates, and often-null NAICS.  I think these loans are probably very different from more modern loans. "
   ]
  },
  {
   "cell_type": "markdown",
   "id": "d8a89ea6-e1f7-46c6-9425-83c263f8b648",
   "metadata": {},
   "source": [
    "##### Save dataset so far"
   ]
  },
  {
   "cell_type": "code",
   "execution_count": 33,
   "id": "678a7cde-1b80-4721-aae8-45399ea56fbc",
   "metadata": {},
   "outputs": [],
   "source": [
    "sba_loans.to_parquet(Path(setup.temp_path).joinpath('01_DATA_import_filtered.parquet'))"
   ]
  },
  {
   "cell_type": "markdown",
   "id": "cbdc33e5-3650-4818-bee7-7c7685e268e3",
   "metadata": {},
   "source": [
    "## Train/Test Split\n",
    "Split prior to encoding. I will do a 70/15/15 split.  "
   ]
  },
  {
   "cell_type": "markdown",
   "id": "0b81f32c-b5d3-4292-941b-35be7f02102d",
   "metadata": {},
   "source": [
    "I will put all cases for a few NAICS into the test data set, to test the effect of encodings on unseen codes."
   ]
  },
  {
   "cell_type": "code",
   "execution_count": 34,
   "id": "b3f224b5-f31b-4110-86da-038c4133476c",
   "metadata": {},
   "outputs": [
    {
     "data": {
      "text/plain": [
       "(131, 1)"
      ]
     },
     "execution_count": 34,
     "metadata": {},
     "output_type": "execute_result"
    }
   ],
   "source": [
    "holdout_naics = sba_loans[['NAICS']].drop_duplicates().sample(frac=0.10, random_state =2432)\n",
    "holdout_naics.to_csv(Path(setup.temp_path).joinpath('01_REPORT_holdout_naics.csv'))\n",
    "holdout_naics.shape"
   ]
  },
  {
   "cell_type": "code",
   "execution_count": 35,
   "id": "90e5df47-35ef-41ad-a1f8-8b300998d370",
   "metadata": {},
   "outputs": [],
   "source": [
    "sba_merge = sba_loans[['LoanNr_ChkDgt', 'NAICS']].reset_index() \\\n",
    "    .merge(holdout_naics, on='NAICS', how='left', indicator=True) \\\n",
    "    .set_index('index')\n",
    "sba_holdout_naics_index = sba_merge[sba_merge['_merge'] == 'both'].index\n",
    "sba_allow_naics_index = sba_merge[sba_merge['_merge'] == 'left_only'].index"
   ]
  },
  {
   "cell_type": "code",
   "execution_count": 36,
   "id": "93af0301-2865-475a-a50c-ada398719151",
   "metadata": {},
   "outputs": [],
   "source": [
    "[train_index, other_index] = train_test_split(sba_allow_naics_index, \n",
    "                                              train_size=0.70, random_state=2343)"
   ]
  },
  {
   "cell_type": "code",
   "execution_count": 37,
   "id": "77f3ec90-9c95-4cf8-90f5-0a5472b9995a",
   "metadata": {},
   "outputs": [],
   "source": [
    "[val_index, test_split_ind] = train_test_split(other_index, \n",
    "                                               train_size=0.50, random_state=2343)"
   ]
  },
  {
   "cell_type": "code",
   "execution_count": 38,
   "id": "78527c54-4f37-452d-974b-6bfaf512eebe",
   "metadata": {},
   "outputs": [],
   "source": [
    "test_index = test_split_ind.union(sba_holdout_naics_index)"
   ]
  },
  {
   "cell_type": "code",
   "execution_count": 39,
   "id": "843d709f-8077-4d02-b6c6-c64bd3e632ea",
   "metadata": {},
   "outputs": [
    {
     "name": "stdout",
     "output_type": "stream",
     "text": [
      "train index: (587773,), validation index: (125951,), test index: (183443,)\n",
      "test regular split: (125952,), NAICS holdout:(57491,)\n",
      "total: 897167\n"
     ]
    }
   ],
   "source": [
    "print(f'train index: {train_index.shape}, validation index: {val_index.shape}, test index: {test_index.shape}')\n",
    "print(f'test regular split: {test_split_ind.shape}, NAICS holdout:{sba_holdout_naics_index.shape}')\n",
    "print(f'total: {len(train_index) + len(val_index) + len(test_index)}')"
   ]
  },
  {
   "cell_type": "code",
   "execution_count": 40,
   "id": "054eaed4-7f3b-4065-885a-27e7a471f62c",
   "metadata": {},
   "outputs": [],
   "source": [
    "cond= [sba_loans.index.isin(train_index), sba_loans.index.isin(val_index)]\n",
    "choice=['train', 'val']\n",
    "sba_loans['dset'] = np.select(cond, choice, 'test')"
   ]
  },
  {
   "cell_type": "code",
   "execution_count": 41,
   "id": "9e343b01-1e6a-4e58-b156-431f17f1087b",
   "metadata": {},
   "outputs": [],
   "source": [
    "cond= [~sba_loans.index.isin(test_index), sba_loans.index.isin(sba_holdout_naics_index)]\n",
    "choice=[np.nan, 1]\n",
    "sba_loans['dset_naics_holdout'] = np.select(cond, choice, 0)"
   ]
  },
  {
   "cell_type": "code",
   "execution_count": 42,
   "id": "633fe387-2cc8-4960-add9-7792885c9977",
   "metadata": {},
   "outputs": [
    {
     "data": {
      "text/plain": [
       "dset\n",
       "train    587773\n",
       "test     183443\n",
       "val      125951\n",
       "Name: count, dtype: int64"
      ]
     },
     "execution_count": 42,
     "metadata": {},
     "output_type": "execute_result"
    }
   ],
   "source": [
    "sba_loans['dset'].value_counts()"
   ]
  },
  {
   "cell_type": "code",
   "execution_count": 43,
   "id": "0468db8c-80b5-43ec-8d42-471804b6b860",
   "metadata": {},
   "outputs": [
    {
     "data": {
      "text/plain": [
       "dset_naics_holdout\n",
       "NaN    713724\n",
       "0.0    125952\n",
       "1.0     57491\n",
       "Name: count, dtype: int64"
      ]
     },
     "execution_count": 43,
     "metadata": {},
     "output_type": "execute_result"
    }
   ],
   "source": [
    "sba_loans['dset_naics_holdout'].value_counts(dropna=False)"
   ]
  },
  {
   "cell_type": "code",
   "execution_count": 44,
   "id": "a45c12f8-f855-48e7-89d5-5dab17043aa5",
   "metadata": {},
   "outputs": [
    {
     "data": {
      "text/html": [
       "<div>\n",
       "<style scoped>\n",
       "    .dataframe tbody tr th:only-of-type {\n",
       "        vertical-align: middle;\n",
       "    }\n",
       "\n",
       "    .dataframe tbody tr th {\n",
       "        vertical-align: top;\n",
       "    }\n",
       "\n",
       "    .dataframe thead th {\n",
       "        text-align: right;\n",
       "    }\n",
       "</style>\n",
       "<table border=\"1\" class=\"dataframe\">\n",
       "  <thead>\n",
       "    <tr style=\"text-align: right;\">\n",
       "      <th>dset</th>\n",
       "      <th>test</th>\n",
       "      <th>train</th>\n",
       "      <th>val</th>\n",
       "    </tr>\n",
       "    <tr>\n",
       "      <th>dset_naics_holdout</th>\n",
       "      <th></th>\n",
       "      <th></th>\n",
       "      <th></th>\n",
       "    </tr>\n",
       "  </thead>\n",
       "  <tbody>\n",
       "    <tr>\n",
       "      <th>-1.0</th>\n",
       "      <td>0</td>\n",
       "      <td>587773</td>\n",
       "      <td>125951</td>\n",
       "    </tr>\n",
       "    <tr>\n",
       "      <th>0.0</th>\n",
       "      <td>125952</td>\n",
       "      <td>0</td>\n",
       "      <td>0</td>\n",
       "    </tr>\n",
       "    <tr>\n",
       "      <th>1.0</th>\n",
       "      <td>57491</td>\n",
       "      <td>0</td>\n",
       "      <td>0</td>\n",
       "    </tr>\n",
       "  </tbody>\n",
       "</table>\n",
       "</div>"
      ],
      "text/plain": [
       "dset                  test   train     val\n",
       "dset_naics_holdout                        \n",
       "-1.0                     0  587773  125951\n",
       " 0.0                125952       0       0\n",
       " 1.0                 57491       0       0"
      ]
     },
     "execution_count": 44,
     "metadata": {},
     "output_type": "execute_result"
    }
   ],
   "source": [
    "pd.crosstab(sba_loans['dset_naics_holdout'].fillna(-1), sba_loans['dset'], dropna=False)"
   ]
  },
  {
   "cell_type": "markdown",
   "id": "b8233624-b8a9-4e02-ad16-e8b9da8da37b",
   "metadata": {},
   "source": [
    "## Neural Network Imputing/Scaling/Encoding"
   ]
  },
  {
   "cell_type": "markdown",
   "id": "8af0801f-b7c6-4dfa-a4ec-99561ed63a05",
   "metadata": {},
   "source": [
    "For a neural network, I need to handle missings and also scale features.  For missing values, I will do a simple median fill for all, but add missing indicators.  "
   ]
  },
  {
   "cell_type": "markdown",
   "id": "213766ec-3716-4ba0-9078-06a8127fc255",
   "metadata": {},
   "source": [
    "To scale the data, I will do a quantile transform for features with > 5 levels.  This is to avoid scaling binary features.  Then I do a Min/Max scaling on all features, so they are in the [0,1] range"
   ]
  },
  {
   "cell_type": "markdown",
   "id": "97a23af4-2f19-485d-9d2f-40450fc64d02",
   "metadata": {},
   "source": [
    "I define a class to do this in sbnn_imputer.  This class wraps several scikit-learn imputers/scalers so that I can easily fit the objects and then transform the data.  "
   ]
  },
  {
   "cell_type": "markdown",
   "id": "cf6a6edc-828a-4505-926e-4070f3611ad6",
   "metadata": {},
   "source": [
    "For NAICS, I need to integer encode for input into entity embeddings later.  I will reserve values 0 and 1 for missing/unseen codes."
   ]
  },
  {
   "cell_type": "markdown",
   "id": "03625088-0e34-45df-88b6-5a7eee20e9ff",
   "metadata": {},
   "source": [
    "##### Create imputer to do the median fill and scaling\n",
    "This imputer fills missing values, adding missingness indicator features.  Then it quantile scales features with over 5 levels, and MinMax scales the rest."
   ]
  },
  {
   "cell_type": "code",
   "execution_count": 45,
   "id": "36cab121-be47-444d-bf83-2195fb8f05d7",
   "metadata": {},
   "outputs": [],
   "source": [
    "importlib.reload(sbnn_imputer)\n",
    "from sba_nn.sba_nn.sbnn_imputer import NNImputer"
   ]
  },
  {
   "cell_type": "code",
   "execution_count": 46,
   "id": "a5f6c362-c1ab-48d8-812b-2b970b06586b",
   "metadata": {},
   "outputs": [],
   "source": [
    "train_df = sba_loans[sba_loans['dset'] == 'train']"
   ]
  },
  {
   "cell_type": "code",
   "execution_count": 47,
   "id": "e89a8a33-9491-42be-b01d-a5fca91ff11c",
   "metadata": {},
   "outputs": [],
   "source": [
    "naics_features = ['NAICS', 'NAICS_5', 'NAICS_4', 'NAICS_3', 'NAICS_sector']\n",
    "imputer = NNImputer(features = setup.predictor_features, naics_features = naics_features)                               "
   ]
  },
  {
   "cell_type": "code",
   "execution_count": 48,
   "id": "b6462a08-fe49-4b5d-96d6-d80a1696b1ff",
   "metadata": {},
   "outputs": [],
   "source": [
    "train_out = imputer.fit_transform(train_df)"
   ]
  },
  {
   "cell_type": "code",
   "execution_count": 49,
   "id": "95a02134-c0fc-458a-8f00-b5a6662b7cc4",
   "metadata": {},
   "outputs": [
    {
     "data": {
      "text/html": [
       "<div>\n",
       "<style scoped>\n",
       "    .dataframe tbody tr th:only-of-type {\n",
       "        vertical-align: middle;\n",
       "    }\n",
       "\n",
       "    .dataframe tbody tr th {\n",
       "        vertical-align: top;\n",
       "    }\n",
       "\n",
       "    .dataframe thead th {\n",
       "        text-align: right;\n",
       "    }\n",
       "</style>\n",
       "<table border=\"1\" class=\"dataframe\">\n",
       "  <thead>\n",
       "    <tr style=\"text-align: right;\">\n",
       "      <th></th>\n",
       "      <th>NoEmp</th>\n",
       "      <th>CreateJob</th>\n",
       "      <th>LowDoc</th>\n",
       "      <th>DisbursementGross</th>\n",
       "      <th>new_business</th>\n",
       "      <th>urban_flag</th>\n",
       "      <th>franchise_flag</th>\n",
       "      <th>missingindicator_LowDoc</th>\n",
       "      <th>missingindicator_new_business</th>\n",
       "      <th>missingindicator_urban_flag</th>\n",
       "      <th>NAICS</th>\n",
       "      <th>NAICS_5</th>\n",
       "      <th>NAICS_4</th>\n",
       "      <th>NAICS_3</th>\n",
       "      <th>NAICS_sector</th>\n",
       "    </tr>\n",
       "  </thead>\n",
       "  <tbody>\n",
       "    <tr>\n",
       "      <th>count</th>\n",
       "      <td>587773.000000</td>\n",
       "      <td>587773.000000</td>\n",
       "      <td>587773.000000</td>\n",
       "      <td>587773.000000</td>\n",
       "      <td>587773.000000</td>\n",
       "      <td>587773.000000</td>\n",
       "      <td>587773.000000</td>\n",
       "      <td>587773.000000</td>\n",
       "      <td>587773.000000</td>\n",
       "      <td>587773.000000</td>\n",
       "      <td>587773.000000</td>\n",
       "      <td>587773.000000</td>\n",
       "      <td>587773.000000</td>\n",
       "      <td>587773.000000</td>\n",
       "      <td>587773.000000</td>\n",
       "    </tr>\n",
       "    <tr>\n",
       "      <th>mean</th>\n",
       "      <td>-0.006563</td>\n",
       "      <td>-0.491169</td>\n",
       "      <td>-0.749934</td>\n",
       "      <td>0.002386</td>\n",
       "      <td>-0.434094</td>\n",
       "      <td>0.773195</td>\n",
       "      <td>-0.882094</td>\n",
       "      <td>-0.986770</td>\n",
       "      <td>-0.997513</td>\n",
       "      <td>-0.267023</td>\n",
       "      <td>594.021537</td>\n",
       "      <td>369.835581</td>\n",
       "      <td>164.377913</td>\n",
       "      <td>48.219350</td>\n",
       "      <td>8.963826</td>\n",
       "    </tr>\n",
       "    <tr>\n",
       "      <th>std</th>\n",
       "      <td>0.573287</td>\n",
       "      <td>0.783879</td>\n",
       "      <td>0.661513</td>\n",
       "      <td>0.575398</td>\n",
       "      <td>0.900868</td>\n",
       "      <td>0.634169</td>\n",
       "      <td>0.471074</td>\n",
       "      <td>0.162124</td>\n",
       "      <td>0.070488</td>\n",
       "      <td>0.963691</td>\n",
       "      <td>433.815550</td>\n",
       "      <td>277.438459</td>\n",
       "      <td>123.022469</td>\n",
       "      <td>36.641454</td>\n",
       "      <td>6.875032</td>\n",
       "    </tr>\n",
       "    <tr>\n",
       "      <th>min</th>\n",
       "      <td>-1.000000</td>\n",
       "      <td>-1.000000</td>\n",
       "      <td>-1.000000</td>\n",
       "      <td>-1.000000</td>\n",
       "      <td>-1.000000</td>\n",
       "      <td>-1.000000</td>\n",
       "      <td>-1.000000</td>\n",
       "      <td>-1.000000</td>\n",
       "      <td>-1.000000</td>\n",
       "      <td>-1.000000</td>\n",
       "      <td>0.000000</td>\n",
       "      <td>0.000000</td>\n",
       "      <td>0.000000</td>\n",
       "      <td>0.000000</td>\n",
       "      <td>0.000000</td>\n",
       "    </tr>\n",
       "    <tr>\n",
       "      <th>25%</th>\n",
       "      <td>-0.499499</td>\n",
       "      <td>-1.000000</td>\n",
       "      <td>-1.000000</td>\n",
       "      <td>-0.493593</td>\n",
       "      <td>-1.000000</td>\n",
       "      <td>1.000000</td>\n",
       "      <td>-1.000000</td>\n",
       "      <td>-1.000000</td>\n",
       "      <td>-1.000000</td>\n",
       "      <td>-1.000000</td>\n",
       "      <td>87.000000</td>\n",
       "      <td>53.000000</td>\n",
       "      <td>29.000000</td>\n",
       "      <td>11.000000</td>\n",
       "      <td>5.000000</td>\n",
       "    </tr>\n",
       "    <tr>\n",
       "      <th>50%</th>\n",
       "      <td>-0.060060</td>\n",
       "      <td>-1.000000</td>\n",
       "      <td>-1.000000</td>\n",
       "      <td>0.021021</td>\n",
       "      <td>-1.000000</td>\n",
       "      <td>1.000000</td>\n",
       "      <td>-1.000000</td>\n",
       "      <td>-1.000000</td>\n",
       "      <td>-1.000000</td>\n",
       "      <td>-1.000000</td>\n",
       "      <td>720.000000</td>\n",
       "      <td>426.000000</td>\n",
       "      <td>181.000000</td>\n",
       "      <td>48.000000</td>\n",
       "      <td>8.000000</td>\n",
       "    </tr>\n",
       "    <tr>\n",
       "      <th>75%</th>\n",
       "      <td>0.464464</td>\n",
       "      <td>0.468468</td>\n",
       "      <td>-1.000000</td>\n",
       "      <td>0.498498</td>\n",
       "      <td>1.000000</td>\n",
       "      <td>1.000000</td>\n",
       "      <td>-1.000000</td>\n",
       "      <td>-1.000000</td>\n",
       "      <td>-1.000000</td>\n",
       "      <td>1.000000</td>\n",
       "      <td>1002.000000</td>\n",
       "      <td>639.000000</td>\n",
       "      <td>278.000000</td>\n",
       "      <td>84.000000</td>\n",
       "      <td>15.000000</td>\n",
       "    </tr>\n",
       "    <tr>\n",
       "      <th>max</th>\n",
       "      <td>1.000000</td>\n",
       "      <td>1.000000</td>\n",
       "      <td>1.000000</td>\n",
       "      <td>1.000000</td>\n",
       "      <td>1.000000</td>\n",
       "      <td>1.000000</td>\n",
       "      <td>1.000000</td>\n",
       "      <td>1.000000</td>\n",
       "      <td>1.000000</td>\n",
       "      <td>1.000000</td>\n",
       "      <td>1170.000000</td>\n",
       "      <td>764.000000</td>\n",
       "      <td>345.000000</td>\n",
       "      <td>107.000000</td>\n",
       "      <td>21.000000</td>\n",
       "    </tr>\n",
       "  </tbody>\n",
       "</table>\n",
       "</div>"
      ],
      "text/plain": [
       "               NoEmp      CreateJob         LowDoc  DisbursementGross  \\\n",
       "count  587773.000000  587773.000000  587773.000000      587773.000000   \n",
       "mean       -0.006563      -0.491169      -0.749934           0.002386   \n",
       "std         0.573287       0.783879       0.661513           0.575398   \n",
       "min        -1.000000      -1.000000      -1.000000          -1.000000   \n",
       "25%        -0.499499      -1.000000      -1.000000          -0.493593   \n",
       "50%        -0.060060      -1.000000      -1.000000           0.021021   \n",
       "75%         0.464464       0.468468      -1.000000           0.498498   \n",
       "max         1.000000       1.000000       1.000000           1.000000   \n",
       "\n",
       "        new_business     urban_flag  franchise_flag  missingindicator_LowDoc  \\\n",
       "count  587773.000000  587773.000000   587773.000000            587773.000000   \n",
       "mean       -0.434094       0.773195       -0.882094                -0.986770   \n",
       "std         0.900868       0.634169        0.471074                 0.162124   \n",
       "min        -1.000000      -1.000000       -1.000000                -1.000000   \n",
       "25%        -1.000000       1.000000       -1.000000                -1.000000   \n",
       "50%        -1.000000       1.000000       -1.000000                -1.000000   \n",
       "75%         1.000000       1.000000       -1.000000                -1.000000   \n",
       "max         1.000000       1.000000        1.000000                 1.000000   \n",
       "\n",
       "       missingindicator_new_business  missingindicator_urban_flag  \\\n",
       "count                  587773.000000                587773.000000   \n",
       "mean                       -0.997513                    -0.267023   \n",
       "std                         0.070488                     0.963691   \n",
       "min                        -1.000000                    -1.000000   \n",
       "25%                        -1.000000                    -1.000000   \n",
       "50%                        -1.000000                    -1.000000   \n",
       "75%                        -1.000000                     1.000000   \n",
       "max                         1.000000                     1.000000   \n",
       "\n",
       "               NAICS        NAICS_5        NAICS_4        NAICS_3  \\\n",
       "count  587773.000000  587773.000000  587773.000000  587773.000000   \n",
       "mean      594.021537     369.835581     164.377913      48.219350   \n",
       "std       433.815550     277.438459     123.022469      36.641454   \n",
       "min         0.000000       0.000000       0.000000       0.000000   \n",
       "25%        87.000000      53.000000      29.000000      11.000000   \n",
       "50%       720.000000     426.000000     181.000000      48.000000   \n",
       "75%      1002.000000     639.000000     278.000000      84.000000   \n",
       "max      1170.000000     764.000000     345.000000     107.000000   \n",
       "\n",
       "        NAICS_sector  \n",
       "count  587773.000000  \n",
       "mean        8.963826  \n",
       "std         6.875032  \n",
       "min         0.000000  \n",
       "25%         5.000000  \n",
       "50%         8.000000  \n",
       "75%        15.000000  \n",
       "max        21.000000  "
      ]
     },
     "execution_count": 49,
     "metadata": {},
     "output_type": "execute_result"
    }
   ],
   "source": [
    "nn_feat_desc = train_out.describe()\n",
    "nn_feat_desc"
   ]
  },
  {
   "cell_type": "code",
   "execution_count": 50,
   "id": "6369a1b8-06be-4997-9608-2c5fbbdf6b05",
   "metadata": {},
   "outputs": [],
   "source": [
    "with open(Path(setup.temp_path).joinpath('01_DATA_imputer.pkl'), 'wb') as fout:\n",
    "    pickle.dump(imputer, fout)"
   ]
  },
  {
   "cell_type": "code",
   "execution_count": 51,
   "id": "4f937099-9be8-4225-b9c3-c87744a27344",
   "metadata": {},
   "outputs": [],
   "source": [
    "with open(Path(setup.temp_path).joinpath('01_DATA_features.pkl'), 'wb') as fout:\n",
    "    pickle.dump(imputer.features_out, fout)"
   ]
  },
  {
   "cell_type": "code",
   "execution_count": 52,
   "id": "73be0dfd-f45a-47b8-85fc-6a00bdc36396",
   "metadata": {},
   "outputs": [],
   "source": [
    "nn_feat_desc.to_csv(Path(setup.temp_path).joinpath('01_DATA_descriptives'), index=True)"
   ]
  },
  {
   "cell_type": "markdown",
   "id": "00692b37-23fa-48e8-a328-a512821fdec3",
   "metadata": {},
   "source": [
    "##### Save the max encoding value for NAICS features\n",
    "This is crucial for creating entity embeddings, as I have to pass this value to the embedding layer constructor"
   ]
  },
  {
   "cell_type": "code",
   "execution_count": 53,
   "id": "ac4ca519-b360-4802-a48b-7604247a14e0",
   "metadata": {},
   "outputs": [
    {
     "name": "stdout",
     "output_type": "stream",
     "text": [
      "{'NAICS': 1170, 'NAICS_5': 764, 'NAICS_4': 345, 'NAICS_3': 107, 'NAICS_sector': 21}\n"
     ]
    }
   ],
   "source": [
    "len_dict = nn_feat_desc[nn_feat_desc.index == 'max'][naics_features] \\\n",
    "    .astype(int).to_dict(orient='index')['max']\n",
    "print(len_dict)"
   ]
  },
  {
   "cell_type": "code",
   "execution_count": 54,
   "id": "babed9a5-b720-4012-9789-01410ecee616",
   "metadata": {},
   "outputs": [],
   "source": [
    "with open(Path(setup.temp_path).joinpath('01_DATA_naics_max_encodings.pkl'), 'wb') as fout:\n",
    "    pickle.dump(len_dict, fout)"
   ]
  },
  {
   "cell_type": "markdown",
   "id": "0ef287df-cd7e-45a4-9974-65b25ba6b299",
   "metadata": {},
   "source": [
    "##### Transform Test, Validation Data"
   ]
  },
  {
   "cell_type": "code",
   "execution_count": 55,
   "id": "7f65e91f-eca0-40e3-8bd5-7614bafbb05e",
   "metadata": {},
   "outputs": [],
   "source": [
    "test_val_df = sba_loans[sba_loans['dset'] != 'train']"
   ]
  },
  {
   "cell_type": "code",
   "execution_count": 56,
   "id": "475c05c5-7a12-4e67-ab99-d0eab7730bf2",
   "metadata": {},
   "outputs": [],
   "source": [
    "test_val_out = imputer.transform(test_val_df)"
   ]
  },
  {
   "cell_type": "code",
   "execution_count": 57,
   "id": "0c0e36f1-be1a-4cc7-a317-04f7daa48a89",
   "metadata": {},
   "outputs": [
    {
     "data": {
      "text/html": [
       "<div>\n",
       "<style scoped>\n",
       "    .dataframe tbody tr th:only-of-type {\n",
       "        vertical-align: middle;\n",
       "    }\n",
       "\n",
       "    .dataframe tbody tr th {\n",
       "        vertical-align: top;\n",
       "    }\n",
       "\n",
       "    .dataframe thead th {\n",
       "        text-align: right;\n",
       "    }\n",
       "</style>\n",
       "<table border=\"1\" class=\"dataframe\">\n",
       "  <thead>\n",
       "    <tr style=\"text-align: right;\">\n",
       "      <th></th>\n",
       "      <th>NoEmp</th>\n",
       "      <th>CreateJob</th>\n",
       "      <th>LowDoc</th>\n",
       "      <th>DisbursementGross</th>\n",
       "      <th>new_business</th>\n",
       "      <th>urban_flag</th>\n",
       "      <th>franchise_flag</th>\n",
       "      <th>missingindicator_LowDoc</th>\n",
       "      <th>missingindicator_new_business</th>\n",
       "      <th>missingindicator_urban_flag</th>\n",
       "      <th>NAICS</th>\n",
       "      <th>NAICS_5</th>\n",
       "      <th>NAICS_4</th>\n",
       "      <th>NAICS_3</th>\n",
       "      <th>NAICS_sector</th>\n",
       "    </tr>\n",
       "  </thead>\n",
       "  <tbody>\n",
       "    <tr>\n",
       "      <th>count</th>\n",
       "      <td>309394.000000</td>\n",
       "      <td>309394.000000</td>\n",
       "      <td>309394.000000</td>\n",
       "      <td>309394.000000</td>\n",
       "      <td>309394.000000</td>\n",
       "      <td>309394.00000</td>\n",
       "      <td>309394.000000</td>\n",
       "      <td>309394.000000</td>\n",
       "      <td>309394.000000</td>\n",
       "      <td>309394.000000</td>\n",
       "      <td>309394.000000</td>\n",
       "      <td>309394.000000</td>\n",
       "      <td>309394.000000</td>\n",
       "      <td>309394.000000</td>\n",
       "      <td>309394.000000</td>\n",
       "    </tr>\n",
       "    <tr>\n",
       "      <th>mean</th>\n",
       "      <td>-0.018301</td>\n",
       "      <td>-0.487542</td>\n",
       "      <td>-0.762891</td>\n",
       "      <td>-0.000757</td>\n",
       "      <td>-0.442478</td>\n",
       "      <td>0.75174</td>\n",
       "      <td>-0.889584</td>\n",
       "      <td>-0.986354</td>\n",
       "      <td>-0.997214</td>\n",
       "      <td>-0.305649</td>\n",
       "      <td>482.273308</td>\n",
       "      <td>326.270600</td>\n",
       "      <td>164.112216</td>\n",
       "      <td>48.884144</td>\n",
       "      <td>9.215680</td>\n",
       "    </tr>\n",
       "    <tr>\n",
       "      <th>std</th>\n",
       "      <td>0.573235</td>\n",
       "      <td>0.784196</td>\n",
       "      <td>0.646528</td>\n",
       "      <td>0.576450</td>\n",
       "      <td>0.896781</td>\n",
       "      <td>0.65946</td>\n",
       "      <td>0.456772</td>\n",
       "      <td>0.164639</td>\n",
       "      <td>0.074595</td>\n",
       "      <td>0.952146</td>\n",
       "      <td>454.441552</td>\n",
       "      <td>286.319541</td>\n",
       "      <td>122.801496</td>\n",
       "      <td>35.937895</td>\n",
       "      <td>6.744213</td>\n",
       "    </tr>\n",
       "    <tr>\n",
       "      <th>min</th>\n",
       "      <td>-1.000000</td>\n",
       "      <td>-1.000000</td>\n",
       "      <td>-1.000000</td>\n",
       "      <td>-1.000000</td>\n",
       "      <td>-1.000000</td>\n",
       "      <td>-1.00000</td>\n",
       "      <td>-1.000000</td>\n",
       "      <td>-1.000000</td>\n",
       "      <td>-1.000000</td>\n",
       "      <td>-1.000000</td>\n",
       "      <td>0.000000</td>\n",
       "      <td>0.000000</td>\n",
       "      <td>0.000000</td>\n",
       "      <td>0.000000</td>\n",
       "      <td>0.000000</td>\n",
       "    </tr>\n",
       "    <tr>\n",
       "      <th>25%</th>\n",
       "      <td>-0.499499</td>\n",
       "      <td>-1.000000</td>\n",
       "      <td>-1.000000</td>\n",
       "      <td>-0.498498</td>\n",
       "      <td>-1.000000</td>\n",
       "      <td>1.00000</td>\n",
       "      <td>-1.000000</td>\n",
       "      <td>-1.000000</td>\n",
       "      <td>-1.000000</td>\n",
       "      <td>-1.000000</td>\n",
       "      <td>1.000000</td>\n",
       "      <td>1.000000</td>\n",
       "      <td>35.000000</td>\n",
       "      <td>14.000000</td>\n",
       "      <td>5.000000</td>\n",
       "    </tr>\n",
       "    <tr>\n",
       "      <th>50%</th>\n",
       "      <td>-0.060060</td>\n",
       "      <td>-1.000000</td>\n",
       "      <td>-1.000000</td>\n",
       "      <td>0.021021</td>\n",
       "      <td>-1.000000</td>\n",
       "      <td>1.00000</td>\n",
       "      <td>-1.000000</td>\n",
       "      <td>-1.000000</td>\n",
       "      <td>-1.000000</td>\n",
       "      <td>-1.000000</td>\n",
       "      <td>554.000000</td>\n",
       "      <td>357.000000</td>\n",
       "      <td>179.000000</td>\n",
       "      <td>47.000000</td>\n",
       "      <td>8.000000</td>\n",
       "    </tr>\n",
       "    <tr>\n",
       "      <th>75%</th>\n",
       "      <td>0.464464</td>\n",
       "      <td>0.468468</td>\n",
       "      <td>-1.000000</td>\n",
       "      <td>0.497998</td>\n",
       "      <td>1.000000</td>\n",
       "      <td>1.00000</td>\n",
       "      <td>-1.000000</td>\n",
       "      <td>-1.000000</td>\n",
       "      <td>-1.000000</td>\n",
       "      <td>1.000000</td>\n",
       "      <td>947.000000</td>\n",
       "      <td>620.000000</td>\n",
       "      <td>286.000000</td>\n",
       "      <td>86.000000</td>\n",
       "      <td>16.000000</td>\n",
       "    </tr>\n",
       "    <tr>\n",
       "      <th>max</th>\n",
       "      <td>1.000000</td>\n",
       "      <td>1.000000</td>\n",
       "      <td>1.000000</td>\n",
       "      <td>1.000000</td>\n",
       "      <td>1.000000</td>\n",
       "      <td>1.00000</td>\n",
       "      <td>1.000000</td>\n",
       "      <td>1.000000</td>\n",
       "      <td>1.000000</td>\n",
       "      <td>1.000000</td>\n",
       "      <td>1170.000000</td>\n",
       "      <td>764.000000</td>\n",
       "      <td>345.000000</td>\n",
       "      <td>107.000000</td>\n",
       "      <td>21.000000</td>\n",
       "    </tr>\n",
       "  </tbody>\n",
       "</table>\n",
       "</div>"
      ],
      "text/plain": [
       "               NoEmp      CreateJob         LowDoc  DisbursementGross  \\\n",
       "count  309394.000000  309394.000000  309394.000000      309394.000000   \n",
       "mean       -0.018301      -0.487542      -0.762891          -0.000757   \n",
       "std         0.573235       0.784196       0.646528           0.576450   \n",
       "min        -1.000000      -1.000000      -1.000000          -1.000000   \n",
       "25%        -0.499499      -1.000000      -1.000000          -0.498498   \n",
       "50%        -0.060060      -1.000000      -1.000000           0.021021   \n",
       "75%         0.464464       0.468468      -1.000000           0.497998   \n",
       "max         1.000000       1.000000       1.000000           1.000000   \n",
       "\n",
       "        new_business    urban_flag  franchise_flag  missingindicator_LowDoc  \\\n",
       "count  309394.000000  309394.00000   309394.000000            309394.000000   \n",
       "mean       -0.442478       0.75174       -0.889584                -0.986354   \n",
       "std         0.896781       0.65946        0.456772                 0.164639   \n",
       "min        -1.000000      -1.00000       -1.000000                -1.000000   \n",
       "25%        -1.000000       1.00000       -1.000000                -1.000000   \n",
       "50%        -1.000000       1.00000       -1.000000                -1.000000   \n",
       "75%         1.000000       1.00000       -1.000000                -1.000000   \n",
       "max         1.000000       1.00000        1.000000                 1.000000   \n",
       "\n",
       "       missingindicator_new_business  missingindicator_urban_flag  \\\n",
       "count                  309394.000000                309394.000000   \n",
       "mean                       -0.997214                    -0.305649   \n",
       "std                         0.074595                     0.952146   \n",
       "min                        -1.000000                    -1.000000   \n",
       "25%                        -1.000000                    -1.000000   \n",
       "50%                        -1.000000                    -1.000000   \n",
       "75%                        -1.000000                     1.000000   \n",
       "max                         1.000000                     1.000000   \n",
       "\n",
       "               NAICS        NAICS_5        NAICS_4        NAICS_3  \\\n",
       "count  309394.000000  309394.000000  309394.000000  309394.000000   \n",
       "mean      482.273308     326.270600     164.112216      48.884144   \n",
       "std       454.441552     286.319541     122.801496      35.937895   \n",
       "min         0.000000       0.000000       0.000000       0.000000   \n",
       "25%         1.000000       1.000000      35.000000      14.000000   \n",
       "50%       554.000000     357.000000     179.000000      47.000000   \n",
       "75%       947.000000     620.000000     286.000000      86.000000   \n",
       "max      1170.000000     764.000000     345.000000     107.000000   \n",
       "\n",
       "        NAICS_sector  \n",
       "count  309394.000000  \n",
       "mean        9.215680  \n",
       "std         6.744213  \n",
       "min         0.000000  \n",
       "25%         5.000000  \n",
       "50%         8.000000  \n",
       "75%        16.000000  \n",
       "max        21.000000  "
      ]
     },
     "execution_count": 57,
     "metadata": {},
     "output_type": "execute_result"
    }
   ],
   "source": [
    "test_val_out.describe()"
   ]
  },
  {
   "cell_type": "code",
   "execution_count": 58,
   "id": "6b14444f-6559-47d3-b803-365115ed7e95",
   "metadata": {},
   "outputs": [],
   "source": [
    "nn_enc_df = pd.concat([train_out, test_val_out], axis=0).sort_index()"
   ]
  },
  {
   "cell_type": "markdown",
   "id": "c930ac21-8d0c-47c9-afbe-cf88f7ee490c",
   "metadata": {},
   "source": [
    "## Combine data\n",
    "Append the information to the loans dataset.  Rename the original features"
   ]
  },
  {
   "cell_type": "code",
   "execution_count": 59,
   "id": "fe9c8957-f7ed-4dcb-b947-d8804ef29e89",
   "metadata": {},
   "outputs": [
    {
     "data": {
      "text/plain": [
       "{'NoEmp': 'NoEmp_orig',\n",
       " 'CreateJob': 'CreateJob_orig',\n",
       " 'LowDoc': 'LowDoc_orig',\n",
       " 'DisbursementGross': 'DisbursementGross_orig',\n",
       " 'new_business': 'new_business_orig',\n",
       " 'urban_flag': 'urban_flag_orig',\n",
       " 'franchise_flag': 'franchise_flag_orig',\n",
       " 'missingindicator_LowDoc': 'missingindicator_LowDoc_orig',\n",
       " 'missingindicator_new_business': 'missingindicator_new_business_orig',\n",
       " 'missingindicator_urban_flag': 'missingindicator_urban_flag_orig',\n",
       " 'NAICS': 'NAICS_orig',\n",
       " 'NAICS_5': 'NAICS_5_orig',\n",
       " 'NAICS_4': 'NAICS_4_orig',\n",
       " 'NAICS_3': 'NAICS_3_orig',\n",
       " 'NAICS_sector': 'NAICS_sector_orig'}"
      ]
     },
     "execution_count": 59,
     "metadata": {},
     "output_type": "execute_result"
    }
   ],
   "source": [
    "orig_dict = dict(zip(imputer.features_out,\n",
    "                     [c + '_orig' for c in imputer.features_out]))\n",
    "orig_dict"
   ]
  },
  {
   "cell_type": "code",
   "execution_count": 60,
   "id": "7dcea2a7-b483-4531-a61f-efa5aac6bee5",
   "metadata": {},
   "outputs": [],
   "source": [
    "sba_loans_out = pd.concat([sba_loans.rename(columns=orig_dict, errors='ignore') \\\n",
    "                           .sort_index(),\n",
    "                           nn_enc_df], axis=1)"
   ]
  },
  {
   "cell_type": "code",
   "execution_count": 70,
   "id": "96a980c6-1ba1-4f96-a5b6-2209904f3a66",
   "metadata": {},
   "outputs": [
    {
     "data": {
      "text/html": [
       "<div>\n",
       "<style scoped>\n",
       "    .dataframe tbody tr th:only-of-type {\n",
       "        vertical-align: middle;\n",
       "    }\n",
       "\n",
       "    .dataframe tbody tr th {\n",
       "        vertical-align: top;\n",
       "    }\n",
       "\n",
       "    .dataframe thead th {\n",
       "        text-align: right;\n",
       "    }\n",
       "</style>\n",
       "<table border=\"1\" class=\"dataframe\">\n",
       "  <thead>\n",
       "    <tr style=\"text-align: right;\">\n",
       "      <th>NAICS</th>\n",
       "      <th>False</th>\n",
       "      <th>True</th>\n",
       "    </tr>\n",
       "    <tr>\n",
       "      <th>dset</th>\n",
       "      <th></th>\n",
       "      <th></th>\n",
       "    </tr>\n",
       "  </thead>\n",
       "  <tbody>\n",
       "    <tr>\n",
       "      <th>test</th>\n",
       "      <td>125947</td>\n",
       "      <td>57496</td>\n",
       "    </tr>\n",
       "    <tr>\n",
       "      <th>train</th>\n",
       "      <td>587773</td>\n",
       "      <td>0</td>\n",
       "    </tr>\n",
       "    <tr>\n",
       "      <th>val</th>\n",
       "      <td>125940</td>\n",
       "      <td>11</td>\n",
       "    </tr>\n",
       "  </tbody>\n",
       "</table>\n",
       "</div>"
      ],
      "text/plain": [
       "NAICS   False  True \n",
       "dset                \n",
       "test   125947  57496\n",
       "train  587773      0\n",
       "val    125940     11"
      ]
     },
     "execution_count": 70,
     "metadata": {},
     "output_type": "execute_result"
    }
   ],
   "source": [
    "# Show unseen counts - should be none in train\n",
    "pd.crosstab(sba_loans_out['dset'], sba_loans_out['NAICS'] == 1)"
   ]
  },
  {
   "cell_type": "code",
   "execution_count": 71,
   "id": "7972fba2-43c9-4a7a-991d-f04c31a95629",
   "metadata": {},
   "outputs": [
    {
     "data": {
      "text/html": [
       "<div>\n",
       "<style scoped>\n",
       "    .dataframe tbody tr th:only-of-type {\n",
       "        vertical-align: middle;\n",
       "    }\n",
       "\n",
       "    .dataframe tbody tr th {\n",
       "        vertical-align: top;\n",
       "    }\n",
       "\n",
       "    .dataframe thead th {\n",
       "        text-align: right;\n",
       "    }\n",
       "</style>\n",
       "<table border=\"1\" class=\"dataframe\">\n",
       "  <thead>\n",
       "    <tr style=\"text-align: right;\">\n",
       "      <th>NAICS</th>\n",
       "      <th>False</th>\n",
       "      <th>True</th>\n",
       "    </tr>\n",
       "    <tr>\n",
       "      <th>dset_naics_holdout</th>\n",
       "      <th></th>\n",
       "      <th></th>\n",
       "    </tr>\n",
       "  </thead>\n",
       "  <tbody>\n",
       "    <tr>\n",
       "      <th>-1.0</th>\n",
       "      <td>713713</td>\n",
       "      <td>11</td>\n",
       "    </tr>\n",
       "    <tr>\n",
       "      <th>0.0</th>\n",
       "      <td>125947</td>\n",
       "      <td>5</td>\n",
       "    </tr>\n",
       "    <tr>\n",
       "      <th>1.0</th>\n",
       "      <td>0</td>\n",
       "      <td>57491</td>\n",
       "    </tr>\n",
       "  </tbody>\n",
       "</table>\n",
       "</div>"
      ],
      "text/plain": [
       "NAICS                False  True \n",
       "dset_naics_holdout               \n",
       "-1.0                713713     11\n",
       " 0.0                125947      5\n",
       " 1.0                     0  57491"
      ]
     },
     "execution_count": 71,
     "metadata": {},
     "output_type": "execute_result"
    }
   ],
   "source": [
    "# Show unseen counts - all holdout are unseen\n",
    "pd.crosstab(sba_loans_out['dset_naics_holdout'].fillna(-1), sba_loans_out['NAICS'] == 1)"
   ]
  },
  {
   "cell_type": "code",
   "execution_count": 72,
   "id": "f53651ab-0af3-4e59-a383-1d91c713901f",
   "metadata": {},
   "outputs": [
    {
     "data": {
      "text/html": [
       "<div>\n",
       "<style scoped>\n",
       "    .dataframe tbody tr th:only-of-type {\n",
       "        vertical-align: middle;\n",
       "    }\n",
       "\n",
       "    .dataframe tbody tr th {\n",
       "        vertical-align: top;\n",
       "    }\n",
       "\n",
       "    .dataframe thead th {\n",
       "        text-align: right;\n",
       "    }\n",
       "</style>\n",
       "<table border=\"1\" class=\"dataframe\">\n",
       "  <thead>\n",
       "    <tr style=\"text-align: right;\">\n",
       "      <th>NAICS</th>\n",
       "      <th>False</th>\n",
       "      <th>True</th>\n",
       "    </tr>\n",
       "    <tr>\n",
       "      <th>dset</th>\n",
       "      <th></th>\n",
       "      <th></th>\n",
       "    </tr>\n",
       "  </thead>\n",
       "  <tbody>\n",
       "    <tr>\n",
       "      <th>test</th>\n",
       "      <td>153048</td>\n",
       "      <td>30395</td>\n",
       "    </tr>\n",
       "    <tr>\n",
       "      <th>train</th>\n",
       "      <td>446848</td>\n",
       "      <td>140925</td>\n",
       "    </tr>\n",
       "    <tr>\n",
       "      <th>val</th>\n",
       "      <td>95604</td>\n",
       "      <td>30347</td>\n",
       "    </tr>\n",
       "  </tbody>\n",
       "</table>\n",
       "</div>"
      ],
      "text/plain": [
       "NAICS   False   True \n",
       "dset                 \n",
       "test   153048   30395\n",
       "train  446848  140925\n",
       "val     95604   30347"
      ]
     },
     "execution_count": 72,
     "metadata": {},
     "output_type": "execute_result"
    }
   ],
   "source": [
    "# Show  missing count\n",
    "pd.crosstab(sba_loans_out['dset'], sba_loans_out['NAICS'] == 0)"
   ]
  },
  {
   "cell_type": "markdown",
   "id": "ad14245a-ab3d-46fd-ae6c-3a404a3da2fa",
   "metadata": {},
   "source": [
    "## Save Transformed Data"
   ]
  },
  {
   "cell_type": "markdown",
   "id": "2d5966c5-38c8-4003-b4b8-5191df0d1232",
   "metadata": {},
   "source": [
    "##### All rows (include missing NAICS)"
   ]
  },
  {
   "cell_type": "code",
   "execution_count": 64,
   "id": "55a50dfe-0f60-46ad-8b76-fac3801207ee",
   "metadata": {},
   "outputs": [],
   "source": [
    "sba_loans_out.to_parquet(Path(setup.temp_path).joinpath('01_DATA_transformed_all.parquet'))"
   ]
  },
  {
   "cell_type": "code",
   "execution_count": 65,
   "id": "2e77c1e0-7501-4817-859b-04550f074466",
   "metadata": {},
   "outputs": [
    {
     "name": "stdout",
     "output_type": "stream",
     "text": [
      "full dataset shape: (897167, 56), unique indices: (897167, 56)\n"
     ]
    }
   ],
   "source": [
    "print(f\"full dataset shape: {sba_loans_out.shape}, unique indices: {sba_loans_out.drop_duplicates('LoanNr_ChkDgt').shape}\")"
   ]
  },
  {
   "cell_type": "markdown",
   "id": "865a845f-06f0-4fc7-a806-f991716ad733",
   "metadata": {},
   "source": [
    "##### Non-missing only"
   ]
  },
  {
   "cell_type": "code",
   "execution_count": 66,
   "id": "114ad365-2ecb-4aed-a331-81a19ed2ecf1",
   "metadata": {},
   "outputs": [],
   "source": [
    "#dataset shape: (688081, 58), unique indices: (688081, 58)"
   ]
  },
  {
   "cell_type": "code",
   "execution_count": 67,
   "id": "6d84346d-24b8-43fe-a51c-064e386e4abe",
   "metadata": {},
   "outputs": [],
   "source": [
    "sba_loans_nomiss = sba_loans_out[sba_loans_out['missing_NAICS'] == 0] \\\n",
    "    .drop(columns = 'missing_NAICS')\n",
    "sba_loans_nomiss.to_parquet(Path(setup.temp_path).joinpath('01_DATA_transformed_nomiss.parquet'))"
   ]
  },
  {
   "cell_type": "code",
   "execution_count": 68,
   "id": "0dca3c82-843f-46d1-b854-893c6afa5ef2",
   "metadata": {},
   "outputs": [
    {
     "name": "stdout",
     "output_type": "stream",
     "text": [
      "Non-missing shape: (695500, 55), unique indices: (695500, 55)\n"
     ]
    }
   ],
   "source": [
    "print(f\"Non-missing shape: {sba_loans_nomiss.shape}, unique indices: {sba_loans_nomiss.drop_duplicates('LoanNr_ChkDgt').shape}\")"
   ]
  },
  {
   "cell_type": "code",
   "execution_count": null,
   "id": "6fa4d377-0d5f-4aaf-a6ad-41657de221f5",
   "metadata": {},
   "outputs": [],
   "source": []
  }
 ],
 "metadata": {
  "kernelspec": {
   "display_name": "tf_p39",
   "language": "python",
   "name": "tf_p39"
  },
  "language_info": {
   "codemirror_mode": {
    "name": "ipython",
    "version": 3
   },
   "file_extension": ".py",
   "mimetype": "text/x-python",
   "name": "python",
   "nbconvert_exporter": "python",
   "pygments_lexer": "ipython3",
   "version": "3.8.18"
  }
 },
 "nbformat": 4,
 "nbformat_minor": 5
}
